{
 "cells": [
  {
   "cell_type": "markdown",
   "metadata": {},
   "source": [
    "## DAB200 -- Lab 2 - Group 10\n",
    "\n"
   ]
  },
  {
   "cell_type": "markdown",
   "metadata": {},
   "source": [
    "### Part 0\n",
    "\n",
    "Please provide the following information:\n",
    " - Group Number  - 10\n",
    " - Group Members\n",
    "     1. Keshav Yadav \n",
    "     2. Sai Sankeerth Koduru\n",
    "     3. Gurpinder Kaur\n",
    " \n",
    "     "
   ]
  },
  {
   "cell_type": "markdown",
   "metadata": {},
   "source": [
    "### Part 1 - Create and evaluate an initial model\n",
    "\n",
    "#### Code (15 marks)"
   ]
  },
  {
   "cell_type": "code",
   "execution_count": 77,
   "metadata": {},
   "outputs": [],
   "source": [
    "#Code added by Keshav[10-03-2021] - Importing the pandas package\n",
    "import pandas as pd\n"
   ]
  },
  {
   "cell_type": "code",
   "execution_count": 78,
   "metadata": {},
   "outputs": [
    {
     "data": {
      "text/html": [
       "<div>\n",
       "<style scoped>\n",
       "    .dataframe tbody tr th:only-of-type {\n",
       "        vertical-align: middle;\n",
       "    }\n",
       "\n",
       "    .dataframe tbody tr th {\n",
       "        vertical-align: top;\n",
       "    }\n",
       "\n",
       "    .dataframe thead th {\n",
       "        text-align: right;\n",
       "    }\n",
       "</style>\n",
       "<table border=\"1\" class=\"dataframe\">\n",
       "  <thead>\n",
       "    <tr style=\"text-align: right;\">\n",
       "      <th></th>\n",
       "      <th>0</th>\n",
       "      <th>1</th>\n",
       "      <th>2</th>\n",
       "      <th>3</th>\n",
       "      <th>4</th>\n",
       "    </tr>\n",
       "  </thead>\n",
       "  <tbody>\n",
       "    <tr>\n",
       "      <th>Unnamed: 0</th>\n",
       "      <td>0</td>\n",
       "      <td>1</td>\n",
       "      <td>2</td>\n",
       "      <td>3</td>\n",
       "      <td>4</td>\n",
       "    </tr>\n",
       "    <tr>\n",
       "      <th>bathrooms</th>\n",
       "      <td>1.0</td>\n",
       "      <td>1.0</td>\n",
       "      <td>2.0</td>\n",
       "      <td>1.0</td>\n",
       "      <td>1.0</td>\n",
       "    </tr>\n",
       "    <tr>\n",
       "      <th>bedrooms</th>\n",
       "      <td>2</td>\n",
       "      <td>0</td>\n",
       "      <td>3</td>\n",
       "      <td>3</td>\n",
       "      <td>2</td>\n",
       "    </tr>\n",
       "    <tr>\n",
       "      <th>building_id</th>\n",
       "      <td>0</td>\n",
       "      <td>cbbc47cf64b2ee7c5504589d7b4cf68b</td>\n",
       "      <td>03c36303e8adcc78b395f6c02cdff497</td>\n",
       "      <td>6b3fbd289f786a2fdac1bf8aed04060e</td>\n",
       "      <td>c9cd15ab68d016f0588ae77bd060d3ed</td>\n",
       "    </tr>\n",
       "    <tr>\n",
       "      <th>created</th>\n",
       "      <td>2016-05-07 01:32:32</td>\n",
       "      <td>2016-05-12 06:16:18</td>\n",
       "      <td>2016-04-21 01:01:41</td>\n",
       "      <td>2016-06-22 04:31:24</td>\n",
       "      <td>2016-04-28 05:28:53</td>\n",
       "    </tr>\n",
       "    <tr>\n",
       "      <th>description</th>\n",
       "      <td>NEW TO MARKET! XL Gorgeously Gut Renovated Two...</td>\n",
       "      <td>This Bright And Spacious 2BED Apartment Featur...</td>\n",
       "      <td>Come view this nice 3 bedroom in Prime Bushwic...</td>\n",
       "      <td>Amazing 3 bedroom apartment in Midtown East. P...</td>\n",
       "      <td>BEAUTIFUL FLEX 2 BEDROOM APARTMENT LOCATED IN ...</td>\n",
       "    </tr>\n",
       "    <tr>\n",
       "      <th>display_address</th>\n",
       "      <td>East 11th Street</td>\n",
       "      <td>W 51 Street</td>\n",
       "      <td>Bushwick Avenue</td>\n",
       "      <td>E 52 Street</td>\n",
       "      <td>201 East 37th</td>\n",
       "    </tr>\n",
       "    <tr>\n",
       "      <th>features</th>\n",
       "      <td>['Pre-War', 'Dogs Allowed', 'Cats Allowed']</td>\n",
       "      <td>['Roof Deck', 'Elevator', 'Garden/Patio', 'Lau...</td>\n",
       "      <td>['gym', 'Lounge', 'Laundry In Building', 'Virt...</td>\n",
       "      <td>['Elevator', 'Laundry in Building']</td>\n",
       "      <td>['Roof Deck', 'Dining Room', 'Balcony', 'Doorm...</td>\n",
       "    </tr>\n",
       "    <tr>\n",
       "      <th>latitude</th>\n",
       "      <td>40.7269</td>\n",
       "      <td>40.7644</td>\n",
       "      <td>40.6933</td>\n",
       "      <td>40.7555</td>\n",
       "      <td>40.7476</td>\n",
       "    </tr>\n",
       "    <tr>\n",
       "      <th>longitude</th>\n",
       "      <td>-73.9787</td>\n",
       "      <td>-73.9891</td>\n",
       "      <td>-73.9255</td>\n",
       "      <td>-73.9666</td>\n",
       "      <td>-73.9764</td>\n",
       "    </tr>\n",
       "    <tr>\n",
       "      <th>manager_id</th>\n",
       "      <td>35dc123b6f5f9ea6d7b755f21b9c3585</td>\n",
       "      <td>2637547481b1d0b116843dcd4cf94211</td>\n",
       "      <td>66f8f5a9fff474db421459fd2bfb3032</td>\n",
       "      <td>bceb99a75e07af14a0d30676c4f85573</td>\n",
       "      <td>eb5a6c4c2eb6f3e2a085c477afd5a815</td>\n",
       "    </tr>\n",
       "    <tr>\n",
       "      <th>photos</th>\n",
       "      <td>['https://photos.renthop.com/2/6977294_198d4cf...</td>\n",
       "      <td>['https://photos.renthop.com/2/7002794_1c1acfa...</td>\n",
       "      <td>['https://photos.renthop.com/2/6903256_633f000...</td>\n",
       "      <td>['https://photos.renthop.com/2/7199415_dbd49a2...</td>\n",
       "      <td>['https://photos.renthop.com/2/6937749_d72b305...</td>\n",
       "    </tr>\n",
       "    <tr>\n",
       "      <th>price</th>\n",
       "      <td>2400</td>\n",
       "      <td>2500</td>\n",
       "      <td>3184</td>\n",
       "      <td>5200</td>\n",
       "      <td>2995</td>\n",
       "    </tr>\n",
       "    <tr>\n",
       "      <th>street_address</th>\n",
       "      <td>620 East 11th Street</td>\n",
       "      <td>407 W 51 Street</td>\n",
       "      <td>894 Bushwick Avenue</td>\n",
       "      <td>324 E 52 Street</td>\n",
       "      <td>201 East 37th</td>\n",
       "    </tr>\n",
       "    <tr>\n",
       "      <th>interest_level</th>\n",
       "      <td>low</td>\n",
       "      <td>low</td>\n",
       "      <td>low</td>\n",
       "      <td>low</td>\n",
       "      <td>low</td>\n",
       "    </tr>\n",
       "    <tr>\n",
       "      <th>mgr_apt_count</th>\n",
       "      <td>21</td>\n",
       "      <td>24</td>\n",
       "      <td>7</td>\n",
       "      <td>8</td>\n",
       "      <td>77</td>\n",
       "    </tr>\n",
       "  </tbody>\n",
       "</table>\n",
       "</div>"
      ],
      "text/plain": [
       "                                                                 0  \\\n",
       "Unnamed: 0                                                       0   \n",
       "bathrooms                                                      1.0   \n",
       "bedrooms                                                         2   \n",
       "building_id                                                      0   \n",
       "created                                        2016-05-07 01:32:32   \n",
       "description      NEW TO MARKET! XL Gorgeously Gut Renovated Two...   \n",
       "display_address                                   East 11th Street   \n",
       "features               ['Pre-War', 'Dogs Allowed', 'Cats Allowed']   \n",
       "latitude                                                   40.7269   \n",
       "longitude                                                 -73.9787   \n",
       "manager_id                        35dc123b6f5f9ea6d7b755f21b9c3585   \n",
       "photos           ['https://photos.renthop.com/2/6977294_198d4cf...   \n",
       "price                                                         2400   \n",
       "street_address                                620 East 11th Street   \n",
       "interest_level                                                 low   \n",
       "mgr_apt_count                                                   21   \n",
       "\n",
       "                                                                 1  \\\n",
       "Unnamed: 0                                                       1   \n",
       "bathrooms                                                      1.0   \n",
       "bedrooms                                                         0   \n",
       "building_id                       cbbc47cf64b2ee7c5504589d7b4cf68b   \n",
       "created                                        2016-05-12 06:16:18   \n",
       "description      This Bright And Spacious 2BED Apartment Featur...   \n",
       "display_address                                        W 51 Street   \n",
       "features         ['Roof Deck', 'Elevator', 'Garden/Patio', 'Lau...   \n",
       "latitude                                                   40.7644   \n",
       "longitude                                                 -73.9891   \n",
       "manager_id                        2637547481b1d0b116843dcd4cf94211   \n",
       "photos           ['https://photos.renthop.com/2/7002794_1c1acfa...   \n",
       "price                                                         2500   \n",
       "street_address                                     407 W 51 Street   \n",
       "interest_level                                                 low   \n",
       "mgr_apt_count                                                   24   \n",
       "\n",
       "                                                                 2  \\\n",
       "Unnamed: 0                                                       2   \n",
       "bathrooms                                                      2.0   \n",
       "bedrooms                                                         3   \n",
       "building_id                       03c36303e8adcc78b395f6c02cdff497   \n",
       "created                                        2016-04-21 01:01:41   \n",
       "description      Come view this nice 3 bedroom in Prime Bushwic...   \n",
       "display_address                                    Bushwick Avenue   \n",
       "features         ['gym', 'Lounge', 'Laundry In Building', 'Virt...   \n",
       "latitude                                                   40.6933   \n",
       "longitude                                                 -73.9255   \n",
       "manager_id                        66f8f5a9fff474db421459fd2bfb3032   \n",
       "photos           ['https://photos.renthop.com/2/6903256_633f000...   \n",
       "price                                                         3184   \n",
       "street_address                                 894 Bushwick Avenue   \n",
       "interest_level                                                 low   \n",
       "mgr_apt_count                                                    7   \n",
       "\n",
       "                                                                 3  \\\n",
       "Unnamed: 0                                                       3   \n",
       "bathrooms                                                      1.0   \n",
       "bedrooms                                                         3   \n",
       "building_id                       6b3fbd289f786a2fdac1bf8aed04060e   \n",
       "created                                        2016-06-22 04:31:24   \n",
       "description      Amazing 3 bedroom apartment in Midtown East. P...   \n",
       "display_address                                        E 52 Street   \n",
       "features                       ['Elevator', 'Laundry in Building']   \n",
       "latitude                                                   40.7555   \n",
       "longitude                                                 -73.9666   \n",
       "manager_id                        bceb99a75e07af14a0d30676c4f85573   \n",
       "photos           ['https://photos.renthop.com/2/7199415_dbd49a2...   \n",
       "price                                                         5200   \n",
       "street_address                                     324 E 52 Street   \n",
       "interest_level                                                 low   \n",
       "mgr_apt_count                                                    8   \n",
       "\n",
       "                                                                 4  \n",
       "Unnamed: 0                                                       4  \n",
       "bathrooms                                                      1.0  \n",
       "bedrooms                                                         2  \n",
       "building_id                       c9cd15ab68d016f0588ae77bd060d3ed  \n",
       "created                                        2016-04-28 05:28:53  \n",
       "description      BEAUTIFUL FLEX 2 BEDROOM APARTMENT LOCATED IN ...  \n",
       "display_address                                      201 East 37th  \n",
       "features         ['Roof Deck', 'Dining Room', 'Balcony', 'Doorm...  \n",
       "latitude                                                   40.7476  \n",
       "longitude                                                 -73.9764  \n",
       "manager_id                        eb5a6c4c2eb6f3e2a085c477afd5a815  \n",
       "photos           ['https://photos.renthop.com/2/6937749_d72b305...  \n",
       "price                                                         2995  \n",
       "street_address                                       201 East 37th  \n",
       "interest_level                                                 low  \n",
       "mgr_apt_count                                                   77  "
      ]
     },
     "execution_count": 78,
     "metadata": {},
     "output_type": "execute_result"
    }
   ],
   "source": [
    "#Code added by Keshav[10-03-2021] - Importing our file to create a dataframe house_rent\n",
    "house_rent = pd.read_csv('rent_2.csv')\n",
    "#Code added by Keshav[10-03-2021] - Displaying the transpose of the house_rent head to check the number of columns\n",
    "house_rent.head(5).T"
   ]
  },
  {
   "cell_type": "code",
   "execution_count": 79,
   "metadata": {},
   "outputs": [
    {
     "name": "stdout",
     "output_type": "stream",
     "text": [
      "<class 'pandas.core.frame.DataFrame'>\n",
      "RangeIndex: 20000 entries, 0 to 19999\n",
      "Data columns (total 16 columns):\n",
      " #   Column           Non-Null Count  Dtype  \n",
      "---  ------           --------------  -----  \n",
      " 0   Unnamed: 0       20000 non-null  int64  \n",
      " 1   bathrooms        20000 non-null  float64\n",
      " 2   bedrooms         20000 non-null  int64  \n",
      " 3   building_id      20000 non-null  object \n",
      " 4   created          20000 non-null  object \n",
      " 5   description      19423 non-null  object \n",
      " 6   display_address  19947 non-null  object \n",
      " 7   features         20000 non-null  object \n",
      " 8   latitude         20000 non-null  float64\n",
      " 9   longitude        20000 non-null  float64\n",
      " 10  manager_id       20000 non-null  object \n",
      " 11  photos           20000 non-null  object \n",
      " 12  price            20000 non-null  int64  \n",
      " 13  street_address   19994 non-null  object \n",
      " 14  interest_level   20000 non-null  object \n",
      " 15  mgr_apt_count    20000 non-null  int64  \n",
      "dtypes: float64(3), int64(4), object(9)\n",
      "memory usage: 2.4+ MB\n"
     ]
    }
   ],
   "source": [
    "#Code added by Keshav[10-03-2021] - Check the information about the data frame and like column name, data type and non-null count\n",
    "house_rent.info()"
   ]
  },
  {
   "cell_type": "code",
   "execution_count": 80,
   "metadata": {},
   "outputs": [
    {
     "data": {
      "text/html": [
       "<div>\n",
       "<style scoped>\n",
       "    .dataframe tbody tr th:only-of-type {\n",
       "        vertical-align: middle;\n",
       "    }\n",
       "\n",
       "    .dataframe tbody tr th {\n",
       "        vertical-align: top;\n",
       "    }\n",
       "\n",
       "    .dataframe thead th {\n",
       "        text-align: right;\n",
       "    }\n",
       "</style>\n",
       "<table border=\"1\" class=\"dataframe\">\n",
       "  <thead>\n",
       "    <tr style=\"text-align: right;\">\n",
       "      <th></th>\n",
       "      <th>bathrooms</th>\n",
       "      <th>bedrooms</th>\n",
       "      <th>longitude</th>\n",
       "      <th>latitude</th>\n",
       "      <th>price</th>\n",
       "    </tr>\n",
       "  </thead>\n",
       "  <tbody>\n",
       "    <tr>\n",
       "      <th>0</th>\n",
       "      <td>1.0</td>\n",
       "      <td>2</td>\n",
       "      <td>-73.9787</td>\n",
       "      <td>40.7269</td>\n",
       "      <td>2400</td>\n",
       "    </tr>\n",
       "    <tr>\n",
       "      <th>1</th>\n",
       "      <td>1.0</td>\n",
       "      <td>0</td>\n",
       "      <td>-73.9891</td>\n",
       "      <td>40.7644</td>\n",
       "      <td>2500</td>\n",
       "    </tr>\n",
       "    <tr>\n",
       "      <th>2</th>\n",
       "      <td>2.0</td>\n",
       "      <td>3</td>\n",
       "      <td>-73.9255</td>\n",
       "      <td>40.6933</td>\n",
       "      <td>3184</td>\n",
       "    </tr>\n",
       "  </tbody>\n",
       "</table>\n",
       "</div>"
      ],
      "text/plain": [
       "   bathrooms  bedrooms  longitude  latitude  price\n",
       "0        1.0         2   -73.9787   40.7269   2400\n",
       "1        1.0         0   -73.9891   40.7644   2500\n",
       "2        2.0         3   -73.9255   40.6933   3184"
      ]
     },
     "execution_count": 80,
     "metadata": {},
     "output_type": "execute_result"
    }
   ],
   "source": [
    "#Code added by Keshav[10-03-2021] - Creating the new dataframe of having only numeric feature\n",
    "house_rent_num = house_rent[['bathrooms', 'bedrooms', 'longitude', 'latitude', 'price']]\n",
    "\n",
    "house_rent_num.head(3)"
   ]
  },
  {
   "cell_type": "code",
   "execution_count": 81,
   "metadata": {},
   "outputs": [
    {
     "data": {
      "text/plain": [
       "bathrooms    False\n",
       "bedrooms     False\n",
       "longitude    False\n",
       "latitude     False\n",
       "price        False\n",
       "dtype: bool"
      ]
     },
     "execution_count": 81,
     "metadata": {},
     "output_type": "execute_result"
    }
   ],
   "source": [
    "#Code added by Keshav[10-03-2021] - Checking that is there any null values in the numeric dataframe\n",
    "house_rent_num.isnull().any()"
   ]
  },
  {
   "cell_type": "code",
   "execution_count": 82,
   "metadata": {},
   "outputs": [],
   "source": [
    "#Code added by Keshav[10-03-2021] - Creating feature vector and Target vector\n",
    "X = house_rent_num.drop('price', axis=1)\n",
    "y = house_rent_num['price']"
   ]
  },
  {
   "cell_type": "code",
   "execution_count": 83,
   "metadata": {},
   "outputs": [],
   "source": [
    "#Code added by Keshav[10-03-2021] - Importing all the necessary packages\n",
    "from sklearn.model_selection import train_test_split\n",
    "from sklearn.ensemble import RandomForestRegressor\n",
    "from sklearn.metrics import mean_absolute_error, r2_score\n",
    "import numpy as np\n",
    "import random"
   ]
  },
  {
   "cell_type": "code",
   "execution_count": 84,
   "metadata": {},
   "outputs": [
    {
     "data": {
      "text/plain": [
       "0.8560887268298699"
      ]
     },
     "execution_count": 84,
     "metadata": {},
     "output_type": "execute_result"
    }
   ],
   "source": [
    "#Code added by Keshav[10-03-2021] - Spliting our datasets into training dataset and testing[validation] datasets\n",
    "X_Train, X_Test, y_Train, y_Test = train_test_split(X, y, test_size=0.2)  \n",
    "#Code added by Keshav[10-03-2021] - Creating a random forest regressor\n",
    "rf = RandomForestRegressor(n_estimators=100, n_jobs=-1, oob_score=True) \n",
    "#Code added by Keshav[10-03-2021] - Fitting our model using training dataset \n",
    "rf.fit(X_Train, y_Train) \n",
    "\n",
    "rf.score(X_Train, y_Train)"
   ]
  },
  {
   "cell_type": "code",
   "execution_count": 85,
   "metadata": {},
   "outputs": [
    {
     "data": {
      "text/plain": [
       "0.0038250463664277756"
      ]
     },
     "execution_count": 85,
     "metadata": {},
     "output_type": "execute_result"
    }
   ],
   "source": [
    "#Code added by Keshav[10-03-2021] - calculating the out-of-bag score\n",
    "rf.oob_score_"
   ]
  },
  {
   "cell_type": "code",
   "execution_count": 86,
   "metadata": {},
   "outputs": [
    {
     "data": {
      "text/plain": [
       "0.8064587156174415"
      ]
     },
     "execution_count": 86,
     "metadata": {},
     "output_type": "execute_result"
    }
   ],
   "source": [
    "rf.score(X_Test, y_Test)"
   ]
  },
  {
   "cell_type": "code",
   "execution_count": 87,
   "metadata": {},
   "outputs": [
    {
     "name": "stdout",
     "output_type": "stream",
     "text": [
      "3945.2443125\n"
     ]
    },
    {
     "data": {
      "text/plain": [
       "-0.036297147215820225"
      ]
     },
     "execution_count": 87,
     "metadata": {},
     "output_type": "execute_result"
    }
   ],
   "source": [
    "#Code added by Keshav[10-03-2021] - Calculating the average price for the training uncleaed data and R-Squared score\n",
    "avg_preds = [np.mean(y_Train)] * len(y_Test)\n",
    "\n",
    "print(np.mean(y_Train))\n",
    "\n",
    "r2_score(y_Test, avg_preds) "
   ]
  },
  {
   "cell_type": "code",
   "execution_count": 91,
   "metadata": {},
   "outputs": [],
   "source": [
    "#Code added by Keshav[10-03-2021] - Creating Empty lists for storing the values for testing and training fields respectivelly\n",
    "Train_r2 = []\n",
    "Train_mae = []\n",
    "Test_r2 = []\n",
    "Test_mae = []\n",
    "oob_scores = []\n",
    "#Code added by Keshav[10-03-2021] - Creating a for loop to calculate the values of R-Squared, MAE for test and train and Out-of-bag score for 10 runs for uncleaned data\n",
    "for i in range(10):\n",
    "    X_Train, X_Test, y_Train, y_Test = train_test_split(X, y, test_size=0.2)\n",
    "    rf = RandomForestRegressor(n_estimators=100, n_jobs=-1, oob_score=True) \n",
    "    rf.fit(X_Train, y_Train)\n",
    "    train_preds = rf.predict(X_Train)\n",
    "    val_preds = rf.predict(X_Test)\n",
    "    Train_r2.append(round(r2_score(y_Train, train_preds), 2))\n",
    "    Test_r2.append(round(r2_score(y_Test, val_preds), 2))\n",
    "    Train_mae.append(round(mean_absolute_error(y_Train, train_preds), 0))\n",
    "    Test_mae.append(round(mean_absolute_error(y_Test, val_preds), 0))\n",
    "    oob_scores.append(rf.oob_score_)"
   ]
  },
  {
   "cell_type": "code",
   "execution_count": 92,
   "metadata": {},
   "outputs": [
    {
     "name": "stdout",
     "output_type": "stream",
     "text": [
      "Train r2 scores: \n",
      " [0.95, 0.91, 0.84, 0.9, 0.94, 0.95, 0.95, 0.95, 0.87, 0.86]\n",
      "\n",
      "Test r2 scores: \n",
      " [0.0, 0.23, 0.61, 0.81, 0.0, 0.0, 0.0, 0.65, 0.76, 0.74]\n",
      "\n",
      "Train MAE scores: \n",
      " [236.0, 335.0, 369.0, 327.0, 233.0, 235.0, 232.0, 291.0, 338.0, 339.0]\n",
      "\n",
      "Test MAE scores: \n",
      " [1581.0, 506.0, 458.0, 442.0, 1611.0, 1585.0, 1578.0, 487.0, 433.0, 470.0]\n",
      "\n",
      "Out-of-bag scores: \n",
      " [0.7437992930069671, -0.0001029987046081704, -0.0017979206012916915, 0.0032770430590084443, 0.7017705288471077, 0.7580066555398066, 0.7584123361828632, 0.003442637051243702, 0.0035047349287193885, 0.0029123540422850702]\n"
     ]
    }
   ],
   "source": [
    "#Code added by Keshav[10-03-2021] - Printing all the values for R-Squared and MAE for test and train and out-of-bag score\n",
    "print(\"Train r2 scores: \\n\", Train_r2)\n",
    "print(\"\")\n",
    "print(\"Test r2 scores: \\n\", Test_r2)\n",
    "print(\"\")\n",
    "print(\"Train MAE scores: \\n\", Train_mae)\n",
    "print(\"\")\n",
    "print(\"Test MAE scores: \\n\", Test_mae)\n",
    "print(\"\")\n",
    "print(\"Out-of-bag scores: \\n\", oob_scores)"
   ]
  },
  {
   "cell_type": "code",
   "execution_count": 94,
   "metadata": {},
   "outputs": [
    {
     "name": "stdout",
     "output_type": "stream",
     "text": [
      "Mean train r2:  0.9119999999999999\n",
      "Mean Test r2:  0.38\n",
      "Mean train MAE:  293.5\n",
      "Mean Test MAE:  915.1\n",
      "Mean oob score:  0.2973224663352101\n"
     ]
    }
   ],
   "source": [
    "#Code added by Keshav[10-03-2021]  - Calculating the mean of R-Squared, MAE and out-of-bag score for uncleaned data\n",
    "print(\"Mean train r2: \", np.mean(Train_r2))\n",
    "print(\"Mean Test r2: \", np.mean(Test_r2))\n",
    "print(\"Mean train MAE: \", np.mean(Train_mae))\n",
    "print(\"Mean Test MAE: \", np.mean(Test_mae))\n",
    "print(\"Mean oob score: \", np.mean(oob_scores))"
   ]
  },
  {
   "cell_type": "markdown",
   "metadata": {},
   "source": [
    "#### Explanation of the code added in the Part 1 [Explaination by Keshav]\n",
    "\n",
    "In the part 1 - Create and evaluate an initial model we are creating a random forest model and evaluating it on the noisy dataset and checking the MAE and R-Squared score for the training and testing data. to achive this first of all we have a quick look into our dataset using the code \"house_rent.info()\" and letter on only aquiring the numeric feature or column fromm the dataset for a numeric dataframe because as we are going to use a random forest regressor which uses numeric data to train and test the model. below mentioned steps\n",
    "are covered in the part 1\n",
    "1. Loading the pandas package\n",
    "2. importing the data from the csv file and have a look to the column using the transpose function.\n",
    "3. Checking the column name, datatype and not-null values using the info function \n",
    "4. Extracting only numeric features from the dataset and checking the null values using the \".isnull.any()\" function\n",
    "5. Dividing our dataset into feature vector and Target Vector which is price in this case\n",
    "6. Importing all the necessary packages for spliting the dataset and for random forest regressor and MAE and R-Squared error\n",
    "7. Spliting out data into Training and testing[validation] dataset, Creating Random forest regressor and fitting our training dataset\n",
    "8. Checking the performance of our model using the testing dataset and predicting different errors"
   ]
  },
  {
   "cell_type": "markdown",
   "metadata": {},
   "source": [
    "### Part 2 - Denoise the data\n",
    "\n",
    "This section should only include the code necessary to **denoise** the data, NOT the code necessary to identify inconsistencies, problems, errors, etc. in the data. \n",
    "\n",
    "#### Code (25 marks)"
   ]
  },
  {
   "cell_type": "code",
   "execution_count": 95,
   "metadata": {},
   "outputs": [
    {
     "data": {
      "text/html": [
       "<div>\n",
       "<style scoped>\n",
       "    .dataframe tbody tr th:only-of-type {\n",
       "        vertical-align: middle;\n",
       "    }\n",
       "\n",
       "    .dataframe tbody tr th {\n",
       "        vertical-align: top;\n",
       "    }\n",
       "\n",
       "    .dataframe thead th {\n",
       "        text-align: right;\n",
       "    }\n",
       "</style>\n",
       "<table border=\"1\" class=\"dataframe\">\n",
       "  <thead>\n",
       "    <tr style=\"text-align: right;\">\n",
       "      <th></th>\n",
       "      <th>bathrooms</th>\n",
       "      <th>bedrooms</th>\n",
       "      <th>longitude</th>\n",
       "      <th>latitude</th>\n",
       "      <th>price</th>\n",
       "    </tr>\n",
       "  </thead>\n",
       "  <tbody>\n",
       "    <tr>\n",
       "      <th>count</th>\n",
       "      <td>19261.000000</td>\n",
       "      <td>19261.000000</td>\n",
       "      <td>19261.000000</td>\n",
       "      <td>19261.000000</td>\n",
       "      <td>19261.000000</td>\n",
       "    </tr>\n",
       "    <tr>\n",
       "      <th>mean</th>\n",
       "      <td>1.190489</td>\n",
       "      <td>1.523908</td>\n",
       "      <td>-73.972983</td>\n",
       "      <td>40.752129</td>\n",
       "      <td>3534.683609</td>\n",
       "    </tr>\n",
       "    <tr>\n",
       "      <th>std</th>\n",
       "      <td>0.448842</td>\n",
       "      <td>1.088652</td>\n",
       "      <td>0.028220</td>\n",
       "      <td>0.035603</td>\n",
       "      <td>1548.269538</td>\n",
       "    </tr>\n",
       "    <tr>\n",
       "      <th>min</th>\n",
       "      <td>0.000000</td>\n",
       "      <td>0.000000</td>\n",
       "      <td>-74.048200</td>\n",
       "      <td>40.650300</td>\n",
       "      <td>1500.000000</td>\n",
       "    </tr>\n",
       "    <tr>\n",
       "      <th>25%</th>\n",
       "      <td>1.000000</td>\n",
       "      <td>1.000000</td>\n",
       "      <td>-73.991800</td>\n",
       "      <td>40.729600</td>\n",
       "      <td>2500.000000</td>\n",
       "    </tr>\n",
       "    <tr>\n",
       "      <th>50%</th>\n",
       "      <td>1.000000</td>\n",
       "      <td>1.000000</td>\n",
       "      <td>-73.978100</td>\n",
       "      <td>40.752100</td>\n",
       "      <td>3150.000000</td>\n",
       "    </tr>\n",
       "    <tr>\n",
       "      <th>75%</th>\n",
       "      <td>1.000000</td>\n",
       "      <td>2.000000</td>\n",
       "      <td>-73.955400</td>\n",
       "      <td>40.773800</td>\n",
       "      <td>4065.000000</td>\n",
       "    </tr>\n",
       "    <tr>\n",
       "      <th>max</th>\n",
       "      <td>4.000000</td>\n",
       "      <td>5.000000</td>\n",
       "      <td>-73.700100</td>\n",
       "      <td>40.909400</td>\n",
       "      <td>12500.000000</td>\n",
       "    </tr>\n",
       "  </tbody>\n",
       "</table>\n",
       "</div>"
      ],
      "text/plain": [
       "          bathrooms      bedrooms     longitude      latitude         price\n",
       "count  19261.000000  19261.000000  19261.000000  19261.000000  19261.000000\n",
       "mean       1.190489      1.523908    -73.972983     40.752129   3534.683609\n",
       "std        0.448842      1.088652      0.028220      0.035603   1548.269538\n",
       "min        0.000000      0.000000    -74.048200     40.650300   1500.000000\n",
       "25%        1.000000      1.000000    -73.991800     40.729600   2500.000000\n",
       "50%        1.000000      1.000000    -73.978100     40.752100   3150.000000\n",
       "75%        1.000000      2.000000    -73.955400     40.773800   4065.000000\n",
       "max        4.000000      5.000000    -73.700100     40.909400  12500.000000"
      ]
     },
     "execution_count": 95,
     "metadata": {},
     "output_type": "execute_result"
    }
   ],
   "source": [
    "\n",
    "#Code added by Sankeerth[10-03-2021] - Cleaning the data by removing all unnecessary columns.\n",
    "Column\n",
    "_clean = house_rent[['bathrooms', 'bedrooms', 'longitude', 'latitude', 'price']]\n",
    "\n",
    "#Code added by Sankeerth[10-03-2021] - Cleaning the location data(Using New York Citys longitude range as between 40.65 and 40.95 and the longitude range being between -73.65 and -74.10)\n",
    "Location_clean = Column_clean[(Column_clean['latitude']<40.95) &\n",
    "                              (Column_clean['latitude']>40.65) &\n",
    "                              (Column_clean['longitude']<-73.65) &\n",
    "                              (Column_clean['longitude']>-74.10)]\n",
    "\n",
    "#Code added by Sankeerth[10-03-2021] - Cleaning the bedroom data(Considering normal homes in New York City to have 0-5 berooms)\n",
    "Bedroom_clean = Location_clean[(Location_clean['bedrooms'] <= 5)]\n",
    "\n",
    "#Code added by Sankeerth[10-03-2021] - Cleaning the bathroom data(Considering normal homes in New York City to have 0-6 bathrooms)\n",
    "Bathroom_clean = Bedroom_clean[(Bedroom_clean['bathrooms'] <= 6)]\n",
    "\n",
    "#Code added by Sankeerth[10-03-2021] - Cleaning the Price data(Considering normal homes in New York City to have a price between 1500$ and 12500$)\n",
    "Clean_Rent_Data = Bathroom_clean[(Bathroom_clean['price'] >= 1500)&\n",
    "                                 (Bathroom_clean['price'] <= 12500)]\n",
    "\n",
    "#Code added by Sankeerth[10-03-2021] - Viewing the new dataframe\n",
    "Clean_Rent_Data.head(10)\n",
    "\n",
    "#Code added by Sankeerth[10-03-2021] - Viewing the discription of the new dataframe\n",
    "Clean_Rent_Data.describe()"
   ]
  },
  {
   "cell_type": "code",
   "execution_count": 96,
   "metadata": {},
   "outputs": [
    {
     "data": {
      "text/plain": [
       "(20000, 5)"
      ]
     },
     "execution_count": 96,
     "metadata": {},
     "output_type": "execute_result"
    }
   ],
   "source": [
    "house_rent_num.shape"
   ]
  },
  {
   "cell_type": "code",
   "execution_count": 97,
   "metadata": {},
   "outputs": [
    {
     "data": {
      "text/plain": [
       "(19261, 5)"
      ]
     },
     "execution_count": 97,
     "metadata": {},
     "output_type": "execute_result"
    }
   ],
   "source": [
    "Clean_Rent_Data.shape"
   ]
  },
  {
   "cell_type": "markdown",
   "metadata": {},
   "source": [
    "### Part 3 - Create and evaluate a final model\n",
    "\n",
    "#### Code (15 marks)"
   ]
  },
  {
   "cell_type": "code",
   "execution_count": 98,
   "metadata": {},
   "outputs": [],
   "source": [
    "#Code added by Gurpinder Kaur[11-03-2021] - Creating feature vector and Target vector from cleaned data \n",
    "X_Clean = Clean_Rent_Data.drop('price', axis=1)\n",
    "y_Clean = Clean_Rent_Data['price']"
   ]
  },
  {
   "cell_type": "code",
   "execution_count": 99,
   "metadata": {},
   "outputs": [
    {
     "data": {
      "text/plain": [
       "0.9509686727319452"
      ]
     },
     "execution_count": 99,
     "metadata": {},
     "output_type": "execute_result"
    }
   ],
   "source": [
    "#Code added by Gurpinder Kaur[11-03-2021] - Spliting our cleaned datasets into training dataset and testing[validation] datasets\n",
    "X_Train_Clean, X_Test_Clean, y_Train_Clean, y_Test_Clean = train_test_split(X_Clean, y_Clean, test_size=0.2,random_state =1500)  \n",
    "#Code added by Gurpinder Kaur[11-03-2021] - Creating a random forest regressor for cleaned data\n",
    "rf_Clean = RandomForestRegressor(n_estimators=100, n_jobs=-1, oob_score=True, random_state=1500)\n",
    "#Code added by Gurpinder Kaur[11-03-2021] - Fitting our model using training dataset \n",
    "rf_Clean.fit(X_Train_Clean, y_Train_Clean) \n",
    "rf_Clean.score(X_Train_Clean, y_Train_Clean)"
   ]
  },
  {
   "cell_type": "code",
   "execution_count": 100,
   "metadata": {},
   "outputs": [
    {
     "data": {
      "text/plain": [
       "0.8086998507797551"
      ]
     },
     "execution_count": 100,
     "metadata": {},
     "output_type": "execute_result"
    }
   ],
   "source": [
    "#Code added by Gurpinder Kaur[11-03-2021] - calculating the out-of-bag score for cleaned data\n",
    "rf_Clean.oob_score_"
   ]
  },
  {
   "cell_type": "code",
   "execution_count": 101,
   "metadata": {},
   "outputs": [
    {
     "data": {
      "text/plain": [
       "0.7898505688702626"
      ]
     },
     "execution_count": 101,
     "metadata": {},
     "output_type": "execute_result"
    }
   ],
   "source": [
    "#Code added by Gurpinder Kaur[11-03-2021] - Calculating the model score for cleaned data\n",
    "rf_Clean.score(X_Test_Clean, y_Test_Clean)"
   ]
  },
  {
   "cell_type": "code",
   "execution_count": 102,
   "metadata": {},
   "outputs": [
    {
     "name": "stdout",
     "output_type": "stream",
     "text": [
      "3528.254802699896\n"
     ]
    },
    {
     "data": {
      "text/plain": [
       "-0.0004289195519942002"
      ]
     },
     "execution_count": 102,
     "metadata": {},
     "output_type": "execute_result"
    }
   ],
   "source": [
    "#Code added by Gurpinder Kaur[11-03-2021] - Calculating the average price for the training cleaed data and R-Squared score\n",
    "avg_preds = [np.mean(y_Train_Clean)] * len(y_Test_Clean)\n",
    "\n",
    "print(np.mean(y_Train_Clean))\n",
    "\n",
    "r2_score(y_Test_Clean, avg_preds)"
   ]
  },
  {
   "cell_type": "code",
   "execution_count": 103,
   "metadata": {},
   "outputs": [],
   "source": [
    "#Code added by Gurpinder Kaur[11-03-2021] - Creating Empty lists for storing the values for testing and training fields respectivelly for cleaned data\n",
    "Clean_Train_r2 = []\n",
    "Clean_Train_mae = []\n",
    "Clean_Test_r2 = []\n",
    "Clean_Test_mae = []\n",
    "Clean_oob_scores = []\n",
    "#Code added by Gurpinder Kaur[11-03-2021] - Creating a for loop to calculate the values of R-Squared, MAE for test and train and Out-of-bag score for 10 runs for cleaned data\n",
    "for i in range(10):\n",
    "        X_Train_Clean, X_Test_Clean, y_Train_Clean, y_Test_Clean = train_test_split(X_Clean, y_Clean, test_size=0.2, random_state=1500)  \n",
    "        rf_Clean = RandomForestRegressor(n_estimators=100, n_jobs=-1, oob_score=True, random_state = 1500)\n",
    "        rf_Clean.fit(X_Train_Clean, y_Train_Clean) \n",
    "        Clean_train_preds = rf_Clean.predict(X_Train_Clean)\n",
    "        Clean_Test_preds = rf_Clean.predict(X_Test_Clean)\n",
    "        Clean_Train_r2.append(round(r2_score(y_Train_Clean, Clean_train_preds), 2))\n",
    "        Clean_Test_r2.append(round(r2_score(y_Test_Clean, Clean_Test_preds), 2))\n",
    "        Clean_Train_mae.append(round(mean_absolute_error(y_Train_Clean, Clean_train_preds), 0))\n",
    "        Clean_Test_mae.append(round(mean_absolute_error(y_Test_Clean, Clean_Test_preds), 0))\n",
    "        Clean_oob_scores.append(rf_Clean.oob_score_)"
   ]
  },
  {
   "cell_type": "code",
   "execution_count": 104,
   "metadata": {},
   "outputs": [
    {
     "name": "stdout",
     "output_type": "stream",
     "text": [
      "Train r2 scores: \n",
      " [0.95, 0.95, 0.95, 0.95, 0.95, 0.95, 0.95, 0.95, 0.95, 0.95]\n",
      "\n",
      "Test r2 scores: \n",
      " [0.79, 0.79, 0.79, 0.79, 0.79, 0.79, 0.79, 0.79, 0.79, 0.79]\n",
      "\n",
      "Train MAE scores: \n",
      " [199.0, 199.0, 199.0, 199.0, 199.0, 199.0, 199.0, 199.0, 199.0, 199.0]\n",
      "\n",
      "Test MAE scores: \n",
      " [385.0, 385.0, 385.0, 385.0, 385.0, 385.0, 385.0, 385.0, 385.0, 385.0]\n",
      "\n",
      "Out-of-bag scores: \n",
      " [0.8086998507797551, 0.8086998507797551, 0.8086998507797551, 0.8086998507797551, 0.8086998507797551, 0.8086998507797551, 0.8086998507797551, 0.8086998507797551, 0.8086998507797551, 0.8086998507797551]\n"
     ]
    }
   ],
   "source": [
    "#Code added by Gurpinder Kaur[11-03-2021] - Printing all the values for R-Squared and MAE for test and train and out-of-bag score\n",
    "print(\"Train r2 scores: \\n\", Clean_Train_r2)\n",
    "print(\"\")\n",
    "print(\"Test r2 scores: \\n\", Clean_Test_r2)\n",
    "print(\"\")\n",
    "print(\"Train MAE scores: \\n\", Clean_Train_mae)\n",
    "print(\"\")\n",
    "print(\"Test MAE scores: \\n\", Clean_Test_mae)\n",
    "print(\"\")\n",
    "print(\"Out-of-bag scores: \\n\", Clean_oob_scores)"
   ]
  },
  {
   "cell_type": "code",
   "execution_count": 105,
   "metadata": {},
   "outputs": [
    {
     "name": "stdout",
     "output_type": "stream",
     "text": [
      "Mean train r2:  0.9499999999999998\n",
      "Mean Test r2:  0.79\n",
      "Mean train MAE:  199.0\n",
      "Mean Test MAE:  385.0\n",
      "Mean oob score:  0.8086998507797551\n"
     ]
    }
   ],
   "source": [
    "print(\"Mean train r2: \", np.mean(Clean_Train_r2))\n",
    "print(\"Mean Test r2: \", np.mean(Clean_Test_r2))\n",
    "print(\"Mean train MAE: \", np.mean(Clean_Train_mae))\n",
    "print(\"Mean Test MAE: \", np.mean(Clean_Test_mae))\n",
    "print(\"Mean oob score: \", np.mean(Clean_oob_scores))"
   ]
  },
  {
   "cell_type": "code",
   "execution_count": null,
   "metadata": {},
   "outputs": [],
   "source": []
  },
  {
   "cell_type": "markdown",
   "metadata": {},
   "source": [
    "### Explaination of the Code for Part 3 [By Gurpinder Kaur] ###\n",
    "\n",
    "The code in the part 3 is almost same as in the part 1 of creating and training a random forest model. The diffirence is in the part 1 we have used the noisy and uncleaned data and in part 3 we have used the cleaned data to see the difference in the results. the \"mean out of bag score\" using the uncleaned data was 0.297 which shows that the performance of model is no better than just calculating the average price but when we used the cleaned data the \"mean out of bag\" score is increaded to 0.808 closer to 1 which shows that this model predicts the house prices better than the model in part 1"
   ]
  },
  {
   "cell_type": "markdown",
   "metadata": {},
   "source": [
    "### Part 4 - Document the problems (35 marks)\n",
    "\n",
    "In this part, please use the table below to document your understanding of all the data issues you discovered. Note that **no code** should be included, as that should be covered in **Part 2**. Also, note that even if one line of code fixed a few problems, you should list each problem separately in the table below, so be sure you have investigated the data properly. For example, if the list `[-6, 5, 0, 50]` represents heights of adults, the -6, 0, and 50 would represent three data issues to be included in the table below, even though one line of code may be able to address all of them. \n",
    "\n",
    "| Data issue discovered | Why is this a problem? | How did you fix it? | Why is this fix appropriate? |\n",
    "| :- | :- | :- | :- | \n",
    "|  example problem 1  | example explanation    | example fix  | example explanation about why this fix is appropriate   |\n",
    "|  example problem 2  | example explanation    | example fix  | example explanation about why this fix is appropriate   |\n",
    "\n",
    "\n",
    "\n",
    "\n",
    "\n",
    "\n",
    "\n",
    "\n",
    "\n",
    "\n",
    "\n",
    "\n",
    "\n",
    "\n",
    "\n",
    "\n",
    "\n",
    "\n"
   ]
  },
  {
   "cell_type": "code",
   "execution_count": null,
   "metadata": {},
   "outputs": [],
   "source": []
  },
  {
   "cell_type": "code",
   "execution_count": 111,
   "metadata": {},
   "outputs": [
    {
     "data": {
      "text/html": [
       "<div>\n",
       "<style scoped>\n",
       "    .dataframe tbody tr th:only-of-type {\n",
       "        vertical-align: middle;\n",
       "    }\n",
       "\n",
       "    .dataframe tbody tr th {\n",
       "        vertical-align: top;\n",
       "    }\n",
       "\n",
       "    .dataframe thead th {\n",
       "        text-align: right;\n",
       "    }\n",
       "</style>\n",
       "<table border=\"1\" class=\"dataframe\">\n",
       "  <thead>\n",
       "    <tr style=\"text-align: right;\">\n",
       "      <th></th>\n",
       "      <th>Data issue discovered</th>\n",
       "      <th>Why is this a problem?</th>\n",
       "      <th>How did you fix it?</th>\n",
       "      <th>Why is this fix appropriate?</th>\n",
       "    </tr>\n",
       "  </thead>\n",
       "  <tbody>\n",
       "    <tr>\n",
       "      <th>0</th>\n",
       "      <td>Unnamed: 0 column</td>\n",
       "      <td>This column is not pertinent to the business Q...</td>\n",
       "      <td>Removing Column</td>\n",
       "      <td>As Unnamed: 0 column just contains the serial ...</td>\n",
       "    </tr>\n",
       "    <tr>\n",
       "      <th>1</th>\n",
       "      <td>number of bathrooms</td>\n",
       "      <td>There are outliers in this data column</td>\n",
       "      <td>Settring an upper limit the the number of bedr...</td>\n",
       "      <td>As buildings with more than 5 bedrooms are rar...</td>\n",
       "    </tr>\n",
       "    <tr>\n",
       "      <th>2</th>\n",
       "      <td>number of bedrooms</td>\n",
       "      <td>There are outliers in this data column</td>\n",
       "      <td>Settring an upper limit the the number of bath...</td>\n",
       "      <td>As buildings with more than 6 bathrooms are ra...</td>\n",
       "    </tr>\n",
       "    <tr>\n",
       "      <th>3</th>\n",
       "      <td>building_id column</td>\n",
       "      <td>This column is not pertinent to the business Q...</td>\n",
       "      <td>Removing Column</td>\n",
       "      <td>As building_id is a refernece for the database...</td>\n",
       "    </tr>\n",
       "    <tr>\n",
       "      <th>4</th>\n",
       "      <td>created column</td>\n",
       "      <td>This is the date of creation in the database a...</td>\n",
       "      <td>Removing Column</td>\n",
       "      <td>This is the date of creation in the database. ...</td>\n",
       "    </tr>\n",
       "    <tr>\n",
       "      <th>5</th>\n",
       "      <td>description column</td>\n",
       "      <td>This is a non-numerical data</td>\n",
       "      <td>Removing Column</td>\n",
       "      <td>As the data is non-numerical(i.e. discription ...</td>\n",
       "    </tr>\n",
       "    <tr>\n",
       "      <th>6</th>\n",
       "      <td>display_address column</td>\n",
       "      <td>This is a non-numerical data</td>\n",
       "      <td>Removing Column</td>\n",
       "      <td>As the data is non-numerical the column can no...</td>\n",
       "    </tr>\n",
       "    <tr>\n",
       "      <th>7</th>\n",
       "      <td>features column</td>\n",
       "      <td>This is a list and non-numerical data</td>\n",
       "      <td>Removing Column</td>\n",
       "      <td>As the data is a list of non_numerical data th...</td>\n",
       "    </tr>\n",
       "    <tr>\n",
       "      <th>8</th>\n",
       "      <td>upper limit of the latitude</td>\n",
       "      <td>There seem to be latitudes from ouside New Yor...</td>\n",
       "      <td>Setting an upper limit for the latitudes</td>\n",
       "      <td>The upper limit of the latitude is set at 40.9...</td>\n",
       "    </tr>\n",
       "    <tr>\n",
       "      <th>9</th>\n",
       "      <td>lower limit of the latitude</td>\n",
       "      <td>There seem to be latitudes from ouside New Yor...</td>\n",
       "      <td>Setting an lower limit for the latitudes</td>\n",
       "      <td>The lower limit of the latitude is set at 40.6...</td>\n",
       "    </tr>\n",
       "    <tr>\n",
       "      <th>10</th>\n",
       "      <td>upper limit of the longitude</td>\n",
       "      <td>There seem to be longitudes from ouside New Yo...</td>\n",
       "      <td>Setting an upper limit for the longitudes</td>\n",
       "      <td>The upper limit of the latitude is set at -73....</td>\n",
       "    </tr>\n",
       "    <tr>\n",
       "      <th>11</th>\n",
       "      <td>lower limit of the longitude</td>\n",
       "      <td>There seem to be longitudes from ouside New Yo...</td>\n",
       "      <td>Setting an lower limit for the longitudes</td>\n",
       "      <td>The lower limit of the latitude is set at -74....</td>\n",
       "    </tr>\n",
       "    <tr>\n",
       "      <th>12</th>\n",
       "      <td>manager_id column</td>\n",
       "      <td>This column is not pertinent to the business Q...</td>\n",
       "      <td>Removing Column</td>\n",
       "      <td>As manager_id is a refernece(i.e. for the mana...</td>\n",
       "    </tr>\n",
       "    <tr>\n",
       "      <th>13</th>\n",
       "      <td>photos column</td>\n",
       "      <td>This is a non-numerical data</td>\n",
       "      <td>Removing Column</td>\n",
       "      <td>As the data is non-numerical(i.e image link) t...</td>\n",
       "    </tr>\n",
       "    <tr>\n",
       "      <th>14</th>\n",
       "      <td>lower limit of the price</td>\n",
       "      <td>Existance of outliers</td>\n",
       "      <td>Settring an lower limit for the rent price in ...</td>\n",
       "      <td>As any building with a rent less than 1000$ in...</td>\n",
       "    </tr>\n",
       "    <tr>\n",
       "      <th>15</th>\n",
       "      <td>upper limit of the price</td>\n",
       "      <td>Existance of outliers</td>\n",
       "      <td>Settring an upper limit for the rent price in ...</td>\n",
       "      <td>As any building with a price over 12500$ in Ne...</td>\n",
       "    </tr>\n",
       "    <tr>\n",
       "      <th>16</th>\n",
       "      <td>street_address column</td>\n",
       "      <td>This is a non-numerical data</td>\n",
       "      <td>Removing Column</td>\n",
       "      <td>As the data is non-numerical the column can no...</td>\n",
       "    </tr>\n",
       "    <tr>\n",
       "      <th>17</th>\n",
       "      <td>interest_level column</td>\n",
       "      <td>This is a non-numerical data</td>\n",
       "      <td>Removing Column</td>\n",
       "      <td>As the data is non-numerical(i.e interest leve...</td>\n",
       "    </tr>\n",
       "    <tr>\n",
       "      <th>18</th>\n",
       "      <td>mgr_apt_count column</td>\n",
       "      <td>This column is not pertinent to the business Q...</td>\n",
       "      <td>Removing Column</td>\n",
       "      <td>As this colums talks about the management rath...</td>\n",
       "    </tr>\n",
       "  </tbody>\n",
       "</table>\n",
       "</div>"
      ],
      "text/plain": [
       "           Data issue discovered  \\\n",
       "0              Unnamed: 0 column   \n",
       "1            number of bathrooms   \n",
       "2             number of bedrooms   \n",
       "3             building_id column   \n",
       "4                 created column   \n",
       "5             description column   \n",
       "6         display_address column   \n",
       "7                features column   \n",
       "8    upper limit of the latitude   \n",
       "9    lower limit of the latitude   \n",
       "10  upper limit of the longitude   \n",
       "11  lower limit of the longitude   \n",
       "12             manager_id column   \n",
       "13                 photos column   \n",
       "14      lower limit of the price   \n",
       "15      upper limit of the price   \n",
       "16         street_address column   \n",
       "17         interest_level column   \n",
       "18          mgr_apt_count column   \n",
       "\n",
       "                               Why is this a problem?  \\\n",
       "0   This column is not pertinent to the business Q...   \n",
       "1              There are outliers in this data column   \n",
       "2              There are outliers in this data column   \n",
       "3   This column is not pertinent to the business Q...   \n",
       "4   This is the date of creation in the database a...   \n",
       "5                        This is a non-numerical data   \n",
       "6                        This is a non-numerical data   \n",
       "7               This is a list and non-numerical data   \n",
       "8   There seem to be latitudes from ouside New Yor...   \n",
       "9   There seem to be latitudes from ouside New Yor...   \n",
       "10  There seem to be longitudes from ouside New Yo...   \n",
       "11  There seem to be longitudes from ouside New Yo...   \n",
       "12  This column is not pertinent to the business Q...   \n",
       "13                       This is a non-numerical data   \n",
       "14                              Existance of outliers   \n",
       "15                              Existance of outliers   \n",
       "16                       This is a non-numerical data   \n",
       "17                       This is a non-numerical data   \n",
       "18  This column is not pertinent to the business Q...   \n",
       "\n",
       "                                  How did you fix it?  \\\n",
       "0                                     Removing Column   \n",
       "1   Settring an upper limit the the number of bedr...   \n",
       "2   Settring an upper limit the the number of bath...   \n",
       "3                                     Removing Column   \n",
       "4                                     Removing Column   \n",
       "5                                     Removing Column   \n",
       "6                                     Removing Column   \n",
       "7                                     Removing Column   \n",
       "8            Setting an upper limit for the latitudes   \n",
       "9            Setting an lower limit for the latitudes   \n",
       "10          Setting an upper limit for the longitudes   \n",
       "11          Setting an lower limit for the longitudes   \n",
       "12                                    Removing Column   \n",
       "13                                    Removing Column   \n",
       "14  Settring an lower limit for the rent price in ...   \n",
       "15  Settring an upper limit for the rent price in ...   \n",
       "16                                    Removing Column   \n",
       "17                                    Removing Column   \n",
       "18                                    Removing Column   \n",
       "\n",
       "                         Why is this fix appropriate?  \n",
       "0   As Unnamed: 0 column just contains the serial ...  \n",
       "1   As buildings with more than 5 bedrooms are rar...  \n",
       "2   As buildings with more than 6 bathrooms are ra...  \n",
       "3   As building_id is a refernece for the database...  \n",
       "4   This is the date of creation in the database. ...  \n",
       "5   As the data is non-numerical(i.e. discription ...  \n",
       "6   As the data is non-numerical the column can no...  \n",
       "7   As the data is a list of non_numerical data th...  \n",
       "8   The upper limit of the latitude is set at 40.9...  \n",
       "9   The lower limit of the latitude is set at 40.6...  \n",
       "10  The upper limit of the latitude is set at -73....  \n",
       "11  The lower limit of the latitude is set at -74....  \n",
       "12  As manager_id is a refernece(i.e. for the mana...  \n",
       "13  As the data is non-numerical(i.e image link) t...  \n",
       "14  As any building with a rent less than 1000$ in...  \n",
       "15  As any building with a price over 12500$ in Ne...  \n",
       "16  As the data is non-numerical the column can no...  \n",
       "17  As the data is non-numerical(i.e interest leve...  \n",
       "18  As this colums talks about the management rath...  "
      ]
     },
     "execution_count": 111,
     "metadata": {},
     "output_type": "execute_result"
    }
   ],
   "source": [
    "#Code added on 10-03-2021 - Creating a list for the data issues.\n",
    "Data_Issue = ('Unnamed: 0 column', \n",
    "              'number of bathrooms',\n",
    "              'number of bedrooms',\n",
    "              'building_id column',\n",
    "              'created column',\n",
    "              'description column',\n",
    "              'display_address column',\n",
    "              'features column',\n",
    "              'upper limit of the latitude',\n",
    "              'lower limit of the latitude',\n",
    "              'upper limit of the longitude',\n",
    "              'lower limit of the longitude',\n",
    "              'manager_id column',\n",
    "              'photos column',\n",
    "              'lower limit of the price',\n",
    "              'upper limit of the price',\n",
    "              'street_address column',\n",
    "              'interest_level column',\n",
    "              'mgr_apt_count column')  \n",
    "#Code added on 10-03-2021 - Creating a list for why the data issue is a problem.\n",
    "Problem = ('This column is not pertinent to the business Question',\n",
    "           'There are outliers in this data column',\n",
    "           'There are outliers in this data column',\n",
    "           'This column is not pertinent to the business Question and is non-numerical data',\n",
    "           'This is the date of creation in the database and does not help us answer the business question',\n",
    "           'This is a non-numerical data',\n",
    "           'This is a non-numerical data',\n",
    "           'This is a list and non-numerical data',\n",
    "           'There seem to be latitudes from ouside New York City',\n",
    "           'There seem to be latitudes from ouside New York Cit',\n",
    "           'There seem to be longitudes from ouside New York Cit',\n",
    "           'There seem to be longitudes from ouside New York Cit',\n",
    "           'This column is not pertinent to the business Question and is non-numerical data',\n",
    "           'This is a non-numerical data',\n",
    "           'Existance of outliers',\n",
    "           'Existance of outliers',\n",
    "           'This is a non-numerical data',\n",
    "           'This is a non-numerical data',\n",
    "           'This column is not pertinent to the business Question')\n",
    "#Code added on 10-03-2021 - Creating a list for how the problem was solved.\n",
    "Fix = ('Removing Column',\n",
    "       'Settring an upper limit the the number of bedrooms in a house',\n",
    "       'Settring an upper limit the the number of bathrooms in a house',\n",
    "       'Removing Column',\n",
    "       'Removing Column',\n",
    "       'Removing Column',\n",
    "       'Removing Column',\n",
    "       'Removing Column',\n",
    "       'Setting an upper limit for the latitudes',\n",
    "       'Setting an lower limit for the latitudes',\n",
    "       'Setting an upper limit for the longitudes',\n",
    "       'Setting an lower limit for the longitudes',\n",
    "       'Removing Column',\n",
    "       'Removing Column',\n",
    "       'Settring an lower limit for the rent price in New York city',\n",
    "       'Settring an upper limit for the rent price in New York city',\n",
    "       'Removing Column',\n",
    "       'Removing Column',\n",
    "       'Removing Column')\n",
    "#Code added on 10-03-2021 - Creating a list for why the solution was appropriate.\n",
    "Why_Fix = ('As Unnamed: 0 column just contains the serial numbers for the rows it did not help dermine the rent price for the building so the column was removed.',\n",
    "           'As buildings with more than 5 bedrooms are rare in New York city and are outliers to the data we decided to remove all buildings with more than 5 bedrooms.',\n",
    "           'As buildings with more than 6 bathrooms are rare in New York city and are outliers to the data we decided to remove all buildings with more than 6 bathrooms.',\n",
    "           'As building_id is a refernece for the databases creators and is non-numerical. This feature does not help determine the rent price for the building so the column was removed.',\n",
    "           'This is the date of creation in the database. As this does not effect the rent price for the building so the column was removed.',\n",
    "           'As the data is non-numerical(i.e. discription of the building) the column can not be read by the model. Thus, the column was removed',\n",
    "           'As the data is non-numerical the column can not be read by the model.Furthermore as Longitude and Latitude is used for to identify the location this colums was not needed and was removed',\n",
    "           'As the data is a list of non_numerical data the column can not be read by the model. Thus, the column was removed',\n",
    "           'The upper limit of the latitude is set at 40.95(aprox latitude of the northern tip of New York City) so that we dont get any data from building to the north of New York City',\n",
    "           'The lower limit of the latitude is set at 40.65(aprox latitude of the southern tip of New York City) so that we dont get any data from building to the south of New York City',\n",
    "           'The upper limit of the latitude is set at -73.65(aprox longitude of the eastern tip of New York City) so that we dont get any data from building to the east of New York City',\n",
    "           'The lower limit of the latitude is set at -74.10(aprox longitude of the western tip of New York City) so that we dont get any data from building to the west of New York City',\n",
    "           'As manager_id is a refernece(i.e. for the manager of the building) for the databases creators and is non-numerical. This feature does not help determine the rent price for the building so it was removed',\n",
    "           'As the data is non-numerical(i.e image link) the column can not be read by the model. Thus, the column was removed',\n",
    "           'As any building with a rent less than 1000$ in New York may not be a house that most people would want to live in. So we decided to remove all houses witha price less tham 1000$',\n",
    "           'As any building with a price over 12500$ in New York city only caters to a veru niche segment and can be considered as an outlier to our data. So we decided to remove all houses witha price higher tham 12500$',\n",
    "           'As the data is non-numerical the column can not be read by the model.Furthermore as Longitude and Latitude is used for to identify the location this colums was not needed and was removed',\n",
    "           'As the data is non-numerical(i.e interest levels in the buildings) the column can not be read by the model. Thus, the column was removed',\n",
    "           'As this colums talks about the management rather than the building so it does not help ermine the rent price for the building. Thus, this column was removed')\n",
    "#Code added on 10-03-2021 - Creating a dataframe.\n",
    "Part4 = pd.DataFrame({'Data issue discovered' : Data_Issue,\n",
    "                      'Why is this a problem?' : Problem,\n",
    "                      'How did you fix it?' : Fix,\n",
    "                      'Why is this fix appropriate?' : Why_Fix},\n",
    "                      columns = ['Data issue discovered','Why is this a problem?','How did you fix it?','Why is this fix appropriate?'])\n",
    "#Code added on 10-03-2021 - Printing out the dataframe.\n",
    "Part4\n",
    "\n"
   ]
  },
  {
   "cell_type": "code",
   "execution_count": null,
   "metadata": {},
   "outputs": [],
   "source": []
  }
 ],
 "metadata": {
  "kernelspec": {
   "display_name": "Python 3",
   "language": "python",
   "name": "python3"
  },
  "language_info": {
   "codemirror_mode": {
    "name": "ipython",
    "version": 3
   },
   "file_extension": ".py",
   "mimetype": "text/x-python",
   "name": "python",
   "nbconvert_exporter": "python",
   "pygments_lexer": "ipython3",
   "version": "3.8.5"
  }
 },
 "nbformat": 4,
 "nbformat_minor": 4
}
