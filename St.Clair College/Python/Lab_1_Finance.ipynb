{
  "nbformat": 4,
  "nbformat_minor": 0,
  "metadata": {
    "colab": {
      "name": "Lab_1_Finance.ipynb",
      "provenance": [],
      "collapsed_sections": []
    },
    "kernelspec": {
      "name": "python3",
      "display_name": "Python 3"
    },
    "language_info": {
      "name": "python"
    }
  },
  "cells": [
    {
      "cell_type": "code",
      "execution_count": 3,
      "metadata": {
        "colab": {
          "base_uri": "https://localhost:8080/"
        },
        "id": "nJjhMx6DKJq5",
        "outputId": "c6439a63-d6b1-41ba-c368-1db80be1b7ad"
      },
      "outputs": [
        {
          "output_type": "stream",
          "name": "stdout",
          "text": [
            "Collecting numpy_financial\n",
            "  Downloading numpy_financial-1.0.0-py3-none-any.whl (14 kB)\n",
            "Requirement already satisfied: numpy>=1.15 in /usr/local/lib/python3.7/dist-packages (from numpy_financial) (1.19.5)\n",
            "Installing collected packages: numpy-financial\n",
            "Successfully installed numpy-financial-1.0.0\n"
          ]
        }
      ],
      "source": [
        "import numpy as np\n",
        "!pip install numpy_financial\n",
        "import numpy_financial as npf"
      ]
    },
    {
      "cell_type": "markdown",
      "source": [
        "#### Question 6"
      ],
      "metadata": {
        "id": "p8ilPMH9KQmP"
      }
    },
    {
      "cell_type": "code",
      "source": [
        "PV = 12096\n",
        "Period = 8\n",
        "Intrest = 0.04"
      ],
      "metadata": {
        "id": "RMA2_FczKVag"
      },
      "execution_count": 97,
      "outputs": []
    },
    {
      "cell_type": "code",
      "source": [
        "FV_Calculated = npf.fv(Intrest,Period,0,PV)"
      ],
      "metadata": {
        "id": "5m4Zet71KbnN"
      },
      "execution_count": 98,
      "outputs": []
    },
    {
      "cell_type": "code",
      "source": [
        "-FV_Calculated"
      ],
      "metadata": {
        "colab": {
          "base_uri": "https://localhost:8080/"
        },
        "id": "aHLPR7e8LVUS",
        "outputId": "31f86976-aa4d-4f59-cbbf-f8d85360b7da"
      },
      "execution_count": 99,
      "outputs": [
        {
          "output_type": "execute_result",
          "data": {
            "text/plain": [
              "16554.211233702194"
            ]
          },
          "metadata": {},
          "execution_count": 99
        }
      ]
    },
    {
      "cell_type": "markdown",
      "source": [
        "#### Question 7"
      ],
      "metadata": {
        "id": "Rjc67RAhLZPC"
      }
    },
    {
      "cell_type": "code",
      "source": [
        "FV = 23036\n",
        "Period1 = 8\n",
        "Intrest1 = 0.09"
      ],
      "metadata": {
        "id": "ja4j6PrwLbCL"
      },
      "execution_count": 100,
      "outputs": []
    },
    {
      "cell_type": "code",
      "source": [
        "PV_Calculated = npf.pv(Intrest1,Period1,0,FV)"
      ],
      "metadata": {
        "id": "r7lD1bM6LfC7"
      },
      "execution_count": 101,
      "outputs": []
    },
    {
      "cell_type": "code",
      "source": [
        "-PV_Calculated"
      ],
      "metadata": {
        "colab": {
          "base_uri": "https://localhost:8080/"
        },
        "id": "VNSyTgwBLv32",
        "outputId": "7db8d26e-7f19-4af0-b152-7edebd242544"
      },
      "execution_count": 102,
      "outputs": [
        {
          "output_type": "execute_result",
          "data": {
            "text/plain": [
              "11560.991618541884"
            ]
          },
          "metadata": {},
          "execution_count": 102
        }
      ]
    },
    {
      "cell_type": "markdown",
      "source": [
        "#### Question 8"
      ],
      "metadata": {
        "id": "DYkMbDEMLzoq"
      }
    },
    {
      "cell_type": "code",
      "source": [
        "Cash_flows = np.array([-120000,50000,35000,90000,20000])\n",
        "Discount_Rate = 0.12"
      ],
      "metadata": {
        "id": "r4SuF7SwL2fO"
      },
      "execution_count": 103,
      "outputs": []
    },
    {
      "cell_type": "code",
      "source": [
        "NPV_Calculated = npf.npv(Discount_Rate,Cash_flows)"
      ],
      "metadata": {
        "id": "Mmo-8a10MSe3"
      },
      "execution_count": 104,
      "outputs": []
    },
    {
      "cell_type": "code",
      "source": [
        "NPV_Calculated"
      ],
      "metadata": {
        "colab": {
          "base_uri": "https://localhost:8080/"
        },
        "id": "eewj6D4PMqgy",
        "outputId": "791a4cf9-1d50-4439-d2a3-c3836a8550a0"
      },
      "execution_count": 105,
      "outputs": [
        {
          "output_type": "execute_result",
          "data": {
            "text/plain": [
              "29315.226728446443"
            ]
          },
          "metadata": {},
          "execution_count": 105
        }
      ]
    },
    {
      "cell_type": "markdown",
      "source": [
        "#### Question 9"
      ],
      "metadata": {
        "id": "Q2C0V-ZKM1ET"
      }
    },
    {
      "cell_type": "code",
      "source": [
        "Cash_flows1 = np.array([-50000,20000,30000,40000])"
      ],
      "metadata": {
        "id": "uB4RQ1w4M-Et"
      },
      "execution_count": 106,
      "outputs": []
    },
    {
      "cell_type": "code",
      "source": [
        "IRR_Calculated = npf.irr(Cash_flows1)"
      ],
      "metadata": {
        "id": "NFfu1R9ONjMR"
      },
      "execution_count": 107,
      "outputs": []
    },
    {
      "cell_type": "code",
      "source": [
        "IRR_Calculated"
      ],
      "metadata": {
        "colab": {
          "base_uri": "https://localhost:8080/"
        },
        "id": "Se3rIc0xNqFl",
        "outputId": "d6866d23-c913-4946-cf2f-012ba635d672"
      },
      "execution_count": 108,
      "outputs": [
        {
          "output_type": "execute_result",
          "data": {
            "text/plain": [
              "0.31690804077216095"
            ]
          },
          "metadata": {},
          "execution_count": 108
        }
      ]
    },
    {
      "cell_type": "markdown",
      "source": [
        "#### Question 10"
      ],
      "metadata": {
        "id": "T3VgkCN6NiWd"
      }
    },
    {
      "cell_type": "code",
      "source": [
        "Project1_Cash_flows = np.array([-20000,10000,10000,10000])\n",
        "Project2_Cash_flows = np.array([-3000,2500,2500,2500])\n",
        "Project_Discount_Rate = 0.09"
      ],
      "metadata": {
        "id": "41jdiwQYNta2"
      },
      "execution_count": 111,
      "outputs": []
    },
    {
      "cell_type": "code",
      "source": [
        "Project1_NPV_Calculated = npf.npv(Project_Discount_Rate,Project1_Cash_flows)\n",
        "Project1_NPV_Calculated"
      ],
      "metadata": {
        "colab": {
          "base_uri": "https://localhost:8080/"
        },
        "id": "07SOile2OMKl",
        "outputId": "25d1add9-b662-4555-c4e5-ef9689bf975f"
      },
      "execution_count": 112,
      "outputs": [
        {
          "output_type": "execute_result",
          "data": {
            "text/plain": [
              "5312.946659881744"
            ]
          },
          "metadata": {},
          "execution_count": 112
        }
      ]
    },
    {
      "cell_type": "code",
      "source": [
        "Project2_NPV_Calculated = npf.npv(Project_Discount_Rate,Project2_Cash_flows)\n",
        "Project2_NPV_Calculated"
      ],
      "metadata": {
        "colab": {
          "base_uri": "https://localhost:8080/"
        },
        "id": "6AOQ-3S3OlLS",
        "outputId": "a21999d1-6f10-4866-e89f-423d049b167f"
      },
      "execution_count": 95,
      "outputs": [
        {
          "output_type": "execute_result",
          "data": {
            "text/plain": [
              "3328.2366649704363"
            ]
          },
          "metadata": {},
          "execution_count": 95
        }
      ]
    },
    {
      "cell_type": "code",
      "source": [
        "Diffrence = Project1_NPV_Calculated-Project2_NPV_Calculated\n",
        "Diffrence"
      ],
      "metadata": {
        "colab": {
          "base_uri": "https://localhost:8080/"
        },
        "id": "RDM17cGKPC3t",
        "outputId": "9567ef8f-1911-466e-8018-10e87f9194b7"
      },
      "execution_count": 96,
      "outputs": [
        {
          "output_type": "execute_result",
          "data": {
            "text/plain": [
              "1984.709994911308"
            ]
          },
          "metadata": {},
          "execution_count": 96
        }
      ]
    }
  ]
}