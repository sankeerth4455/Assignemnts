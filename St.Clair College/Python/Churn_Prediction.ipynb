{
 "cells": [
  {
   "cell_type": "markdown",
   "metadata": {
    "id": "_OwyRiOyLLk-"
   },
   "source": [
    "# Churn Prediction Analysis Part 2"
   ]
  },
  {
   "cell_type": "code",
   "execution_count": 118,
   "metadata": {
    "id": "ztkEBHf7LLJj"
   },
   "outputs": [],
   "source": [
    "# Import all the libraries\n",
    "import numpy as np # linear algebra\n",
    "import pandas as pd # data processing, CSV file I/O (e.g. pd.read_csv)\n",
    "import matplotlib.pyplot as plt#visualization\n",
    "from PIL import  Image\n",
    "%matplotlib inline\n",
    "import seaborn as sns#visualization\n",
    "import itertools\n",
    "import warnings\n",
    "warnings.filterwarnings(\"ignore\")\n",
    "import plotly.graph_objs as go#visualization\n",
    "import plotly.offline as py#visualization"
   ]
  },
  {
   "cell_type": "code",
   "execution_count": 119,
   "metadata": {
    "id": "Pnb4lkqYLBGf"
   },
   "outputs": [],
   "source": [
    "telcom = pd.read_csv(\"clean_df.csv\")\n",
    "pd.set_option(\"display.max_columns\", None)"
   ]
  },
  {
   "cell_type": "code",
   "execution_count": 120,
   "metadata": {
    "colab": {
     "base_uri": "https://localhost:8080/",
     "height": 330
    },
    "id": "eIprp8PpLVqt",
    "outputId": "192f2a11-b280-4b07-c795-62f4d4720fc1"
   },
   "outputs": [
    {
     "data": {
      "text/html": [
       "<div>\n",
       "<style scoped>\n",
       "    .dataframe tbody tr th:only-of-type {\n",
       "        vertical-align: middle;\n",
       "    }\n",
       "\n",
       "    .dataframe tbody tr th {\n",
       "        vertical-align: top;\n",
       "    }\n",
       "\n",
       "    .dataframe thead th {\n",
       "        text-align: right;\n",
       "    }\n",
       "</style>\n",
       "<table border=\"1\" class=\"dataframe\">\n",
       "  <thead>\n",
       "    <tr style=\"text-align: right;\">\n",
       "      <th></th>\n",
       "      <th>Unnamed: 0</th>\n",
       "      <th>customerID</th>\n",
       "      <th>gender</th>\n",
       "      <th>SeniorCitizen</th>\n",
       "      <th>Partner</th>\n",
       "      <th>Dependents</th>\n",
       "      <th>tenure</th>\n",
       "      <th>PhoneService</th>\n",
       "      <th>MultipleLines</th>\n",
       "      <th>InternetService</th>\n",
       "      <th>OnlineSecurity</th>\n",
       "      <th>OnlineBackup</th>\n",
       "      <th>DeviceProtection</th>\n",
       "      <th>TechSupport</th>\n",
       "      <th>StreamingTV</th>\n",
       "      <th>StreamingMovies</th>\n",
       "      <th>Contract</th>\n",
       "      <th>PaperlessBilling</th>\n",
       "      <th>PaymentMethod</th>\n",
       "      <th>MonthlyCharges</th>\n",
       "      <th>TotalCharges</th>\n",
       "      <th>Churn</th>\n",
       "      <th>tenure_group</th>\n",
       "    </tr>\n",
       "  </thead>\n",
       "  <tbody>\n",
       "    <tr>\n",
       "      <th>0</th>\n",
       "      <td>0</td>\n",
       "      <td>7590-VHVEG</td>\n",
       "      <td>Female</td>\n",
       "      <td>No</td>\n",
       "      <td>Yes</td>\n",
       "      <td>No</td>\n",
       "      <td>1</td>\n",
       "      <td>No</td>\n",
       "      <td>No phone service</td>\n",
       "      <td>DSL</td>\n",
       "      <td>No</td>\n",
       "      <td>Yes</td>\n",
       "      <td>No</td>\n",
       "      <td>No</td>\n",
       "      <td>No</td>\n",
       "      <td>No</td>\n",
       "      <td>Month-to-month</td>\n",
       "      <td>Yes</td>\n",
       "      <td>Electronic check</td>\n",
       "      <td>29.85</td>\n",
       "      <td>29.85</td>\n",
       "      <td>No</td>\n",
       "      <td>Tenure_0-12</td>\n",
       "    </tr>\n",
       "    <tr>\n",
       "      <th>1</th>\n",
       "      <td>1</td>\n",
       "      <td>5575-GNVDE</td>\n",
       "      <td>Male</td>\n",
       "      <td>No</td>\n",
       "      <td>No</td>\n",
       "      <td>No</td>\n",
       "      <td>34</td>\n",
       "      <td>Yes</td>\n",
       "      <td>No</td>\n",
       "      <td>DSL</td>\n",
       "      <td>Yes</td>\n",
       "      <td>No</td>\n",
       "      <td>Yes</td>\n",
       "      <td>No</td>\n",
       "      <td>No</td>\n",
       "      <td>No</td>\n",
       "      <td>One year</td>\n",
       "      <td>No</td>\n",
       "      <td>Mailed check</td>\n",
       "      <td>56.95</td>\n",
       "      <td>1889.50</td>\n",
       "      <td>No</td>\n",
       "      <td>Tenure_24-48</td>\n",
       "    </tr>\n",
       "    <tr>\n",
       "      <th>2</th>\n",
       "      <td>2</td>\n",
       "      <td>3668-QPYBK</td>\n",
       "      <td>Male</td>\n",
       "      <td>No</td>\n",
       "      <td>No</td>\n",
       "      <td>No</td>\n",
       "      <td>2</td>\n",
       "      <td>Yes</td>\n",
       "      <td>No</td>\n",
       "      <td>DSL</td>\n",
       "      <td>Yes</td>\n",
       "      <td>Yes</td>\n",
       "      <td>No</td>\n",
       "      <td>No</td>\n",
       "      <td>No</td>\n",
       "      <td>No</td>\n",
       "      <td>Month-to-month</td>\n",
       "      <td>Yes</td>\n",
       "      <td>Mailed check</td>\n",
       "      <td>53.85</td>\n",
       "      <td>108.15</td>\n",
       "      <td>Yes</td>\n",
       "      <td>Tenure_0-12</td>\n",
       "    </tr>\n",
       "    <tr>\n",
       "      <th>3</th>\n",
       "      <td>3</td>\n",
       "      <td>7795-CFOCW</td>\n",
       "      <td>Male</td>\n",
       "      <td>No</td>\n",
       "      <td>No</td>\n",
       "      <td>No</td>\n",
       "      <td>45</td>\n",
       "      <td>No</td>\n",
       "      <td>No phone service</td>\n",
       "      <td>DSL</td>\n",
       "      <td>Yes</td>\n",
       "      <td>No</td>\n",
       "      <td>Yes</td>\n",
       "      <td>Yes</td>\n",
       "      <td>No</td>\n",
       "      <td>No</td>\n",
       "      <td>One year</td>\n",
       "      <td>No</td>\n",
       "      <td>Bank transfer (automatic)</td>\n",
       "      <td>42.30</td>\n",
       "      <td>1840.75</td>\n",
       "      <td>No</td>\n",
       "      <td>Tenure_24-48</td>\n",
       "    </tr>\n",
       "    <tr>\n",
       "      <th>4</th>\n",
       "      <td>4</td>\n",
       "      <td>9237-HQITU</td>\n",
       "      <td>Female</td>\n",
       "      <td>No</td>\n",
       "      <td>No</td>\n",
       "      <td>No</td>\n",
       "      <td>2</td>\n",
       "      <td>Yes</td>\n",
       "      <td>No</td>\n",
       "      <td>Fiber optic</td>\n",
       "      <td>No</td>\n",
       "      <td>No</td>\n",
       "      <td>No</td>\n",
       "      <td>No</td>\n",
       "      <td>No</td>\n",
       "      <td>No</td>\n",
       "      <td>Month-to-month</td>\n",
       "      <td>Yes</td>\n",
       "      <td>Electronic check</td>\n",
       "      <td>70.70</td>\n",
       "      <td>151.65</td>\n",
       "      <td>Yes</td>\n",
       "      <td>Tenure_0-12</td>\n",
       "    </tr>\n",
       "  </tbody>\n",
       "</table>\n",
       "</div>"
      ],
      "text/plain": [
       "   Unnamed: 0  customerID  gender SeniorCitizen Partner Dependents  tenure  \\\n",
       "0           0  7590-VHVEG  Female            No     Yes         No       1   \n",
       "1           1  5575-GNVDE    Male            No      No         No      34   \n",
       "2           2  3668-QPYBK    Male            No      No         No       2   \n",
       "3           3  7795-CFOCW    Male            No      No         No      45   \n",
       "4           4  9237-HQITU  Female            No      No         No       2   \n",
       "\n",
       "  PhoneService     MultipleLines InternetService OnlineSecurity OnlineBackup  \\\n",
       "0           No  No phone service             DSL             No          Yes   \n",
       "1          Yes                No             DSL            Yes           No   \n",
       "2          Yes                No             DSL            Yes          Yes   \n",
       "3           No  No phone service             DSL            Yes           No   \n",
       "4          Yes                No     Fiber optic             No           No   \n",
       "\n",
       "  DeviceProtection TechSupport StreamingTV StreamingMovies        Contract  \\\n",
       "0               No          No          No              No  Month-to-month   \n",
       "1              Yes          No          No              No        One year   \n",
       "2               No          No          No              No  Month-to-month   \n",
       "3              Yes         Yes          No              No        One year   \n",
       "4               No          No          No              No  Month-to-month   \n",
       "\n",
       "  PaperlessBilling              PaymentMethod  MonthlyCharges  TotalCharges  \\\n",
       "0              Yes           Electronic check           29.85         29.85   \n",
       "1               No               Mailed check           56.95       1889.50   \n",
       "2              Yes               Mailed check           53.85        108.15   \n",
       "3               No  Bank transfer (automatic)           42.30       1840.75   \n",
       "4              Yes           Electronic check           70.70        151.65   \n",
       "\n",
       "  Churn  tenure_group  \n",
       "0    No   Tenure_0-12  \n",
       "1    No  Tenure_24-48  \n",
       "2   Yes   Tenure_0-12  \n",
       "3    No  Tenure_24-48  \n",
       "4   Yes   Tenure_0-12  "
      ]
     },
     "execution_count": 120,
     "metadata": {},
     "output_type": "execute_result"
    }
   ],
   "source": [
    "telcom.head()"
   ]
  },
  {
   "cell_type": "code",
   "execution_count": 121,
   "metadata": {
    "id": "IFgMVYJALXRJ"
   },
   "outputs": [],
   "source": [
    "telcom = telcom.drop('Unnamed: 0', axis = 1)"
   ]
  },
  {
   "cell_type": "code",
   "execution_count": 122,
   "metadata": {
    "colab": {
     "base_uri": "https://localhost:8080/",
     "height": 313
    },
    "id": "FoUTojfbLY4c",
    "outputId": "6dcb69aa-8296-4df2-9fa5-c7eb5489c5cc"
   },
   "outputs": [
    {
     "data": {
      "text/html": [
       "<div>\n",
       "<style scoped>\n",
       "    .dataframe tbody tr th:only-of-type {\n",
       "        vertical-align: middle;\n",
       "    }\n",
       "\n",
       "    .dataframe tbody tr th {\n",
       "        vertical-align: top;\n",
       "    }\n",
       "\n",
       "    .dataframe thead th {\n",
       "        text-align: right;\n",
       "    }\n",
       "</style>\n",
       "<table border=\"1\" class=\"dataframe\">\n",
       "  <thead>\n",
       "    <tr style=\"text-align: right;\">\n",
       "      <th></th>\n",
       "      <th>customerID</th>\n",
       "      <th>gender</th>\n",
       "      <th>SeniorCitizen</th>\n",
       "      <th>Partner</th>\n",
       "      <th>Dependents</th>\n",
       "      <th>tenure</th>\n",
       "      <th>PhoneService</th>\n",
       "      <th>MultipleLines</th>\n",
       "      <th>InternetService</th>\n",
       "      <th>OnlineSecurity</th>\n",
       "      <th>OnlineBackup</th>\n",
       "      <th>DeviceProtection</th>\n",
       "      <th>TechSupport</th>\n",
       "      <th>StreamingTV</th>\n",
       "      <th>StreamingMovies</th>\n",
       "      <th>Contract</th>\n",
       "      <th>PaperlessBilling</th>\n",
       "      <th>PaymentMethod</th>\n",
       "      <th>MonthlyCharges</th>\n",
       "      <th>TotalCharges</th>\n",
       "      <th>Churn</th>\n",
       "      <th>tenure_group</th>\n",
       "    </tr>\n",
       "  </thead>\n",
       "  <tbody>\n",
       "    <tr>\n",
       "      <th>0</th>\n",
       "      <td>7590-VHVEG</td>\n",
       "      <td>Female</td>\n",
       "      <td>No</td>\n",
       "      <td>Yes</td>\n",
       "      <td>No</td>\n",
       "      <td>1</td>\n",
       "      <td>No</td>\n",
       "      <td>No phone service</td>\n",
       "      <td>DSL</td>\n",
       "      <td>No</td>\n",
       "      <td>Yes</td>\n",
       "      <td>No</td>\n",
       "      <td>No</td>\n",
       "      <td>No</td>\n",
       "      <td>No</td>\n",
       "      <td>Month-to-month</td>\n",
       "      <td>Yes</td>\n",
       "      <td>Electronic check</td>\n",
       "      <td>29.85</td>\n",
       "      <td>29.85</td>\n",
       "      <td>No</td>\n",
       "      <td>Tenure_0-12</td>\n",
       "    </tr>\n",
       "    <tr>\n",
       "      <th>1</th>\n",
       "      <td>5575-GNVDE</td>\n",
       "      <td>Male</td>\n",
       "      <td>No</td>\n",
       "      <td>No</td>\n",
       "      <td>No</td>\n",
       "      <td>34</td>\n",
       "      <td>Yes</td>\n",
       "      <td>No</td>\n",
       "      <td>DSL</td>\n",
       "      <td>Yes</td>\n",
       "      <td>No</td>\n",
       "      <td>Yes</td>\n",
       "      <td>No</td>\n",
       "      <td>No</td>\n",
       "      <td>No</td>\n",
       "      <td>One year</td>\n",
       "      <td>No</td>\n",
       "      <td>Mailed check</td>\n",
       "      <td>56.95</td>\n",
       "      <td>1889.50</td>\n",
       "      <td>No</td>\n",
       "      <td>Tenure_24-48</td>\n",
       "    </tr>\n",
       "    <tr>\n",
       "      <th>2</th>\n",
       "      <td>3668-QPYBK</td>\n",
       "      <td>Male</td>\n",
       "      <td>No</td>\n",
       "      <td>No</td>\n",
       "      <td>No</td>\n",
       "      <td>2</td>\n",
       "      <td>Yes</td>\n",
       "      <td>No</td>\n",
       "      <td>DSL</td>\n",
       "      <td>Yes</td>\n",
       "      <td>Yes</td>\n",
       "      <td>No</td>\n",
       "      <td>No</td>\n",
       "      <td>No</td>\n",
       "      <td>No</td>\n",
       "      <td>Month-to-month</td>\n",
       "      <td>Yes</td>\n",
       "      <td>Mailed check</td>\n",
       "      <td>53.85</td>\n",
       "      <td>108.15</td>\n",
       "      <td>Yes</td>\n",
       "      <td>Tenure_0-12</td>\n",
       "    </tr>\n",
       "    <tr>\n",
       "      <th>3</th>\n",
       "      <td>7795-CFOCW</td>\n",
       "      <td>Male</td>\n",
       "      <td>No</td>\n",
       "      <td>No</td>\n",
       "      <td>No</td>\n",
       "      <td>45</td>\n",
       "      <td>No</td>\n",
       "      <td>No phone service</td>\n",
       "      <td>DSL</td>\n",
       "      <td>Yes</td>\n",
       "      <td>No</td>\n",
       "      <td>Yes</td>\n",
       "      <td>Yes</td>\n",
       "      <td>No</td>\n",
       "      <td>No</td>\n",
       "      <td>One year</td>\n",
       "      <td>No</td>\n",
       "      <td>Bank transfer (automatic)</td>\n",
       "      <td>42.30</td>\n",
       "      <td>1840.75</td>\n",
       "      <td>No</td>\n",
       "      <td>Tenure_24-48</td>\n",
       "    </tr>\n",
       "    <tr>\n",
       "      <th>4</th>\n",
       "      <td>9237-HQITU</td>\n",
       "      <td>Female</td>\n",
       "      <td>No</td>\n",
       "      <td>No</td>\n",
       "      <td>No</td>\n",
       "      <td>2</td>\n",
       "      <td>Yes</td>\n",
       "      <td>No</td>\n",
       "      <td>Fiber optic</td>\n",
       "      <td>No</td>\n",
       "      <td>No</td>\n",
       "      <td>No</td>\n",
       "      <td>No</td>\n",
       "      <td>No</td>\n",
       "      <td>No</td>\n",
       "      <td>Month-to-month</td>\n",
       "      <td>Yes</td>\n",
       "      <td>Electronic check</td>\n",
       "      <td>70.70</td>\n",
       "      <td>151.65</td>\n",
       "      <td>Yes</td>\n",
       "      <td>Tenure_0-12</td>\n",
       "    </tr>\n",
       "  </tbody>\n",
       "</table>\n",
       "</div>"
      ],
      "text/plain": [
       "   customerID  gender SeniorCitizen Partner Dependents  tenure PhoneService  \\\n",
       "0  7590-VHVEG  Female            No     Yes         No       1           No   \n",
       "1  5575-GNVDE    Male            No      No         No      34          Yes   \n",
       "2  3668-QPYBK    Male            No      No         No       2          Yes   \n",
       "3  7795-CFOCW    Male            No      No         No      45           No   \n",
       "4  9237-HQITU  Female            No      No         No       2          Yes   \n",
       "\n",
       "      MultipleLines InternetService OnlineSecurity OnlineBackup  \\\n",
       "0  No phone service             DSL             No          Yes   \n",
       "1                No             DSL            Yes           No   \n",
       "2                No             DSL            Yes          Yes   \n",
       "3  No phone service             DSL            Yes           No   \n",
       "4                No     Fiber optic             No           No   \n",
       "\n",
       "  DeviceProtection TechSupport StreamingTV StreamingMovies        Contract  \\\n",
       "0               No          No          No              No  Month-to-month   \n",
       "1              Yes          No          No              No        One year   \n",
       "2               No          No          No              No  Month-to-month   \n",
       "3              Yes         Yes          No              No        One year   \n",
       "4               No          No          No              No  Month-to-month   \n",
       "\n",
       "  PaperlessBilling              PaymentMethod  MonthlyCharges  TotalCharges  \\\n",
       "0              Yes           Electronic check           29.85         29.85   \n",
       "1               No               Mailed check           56.95       1889.50   \n",
       "2              Yes               Mailed check           53.85        108.15   \n",
       "3               No  Bank transfer (automatic)           42.30       1840.75   \n",
       "4              Yes           Electronic check           70.70        151.65   \n",
       "\n",
       "  Churn  tenure_group  \n",
       "0    No   Tenure_0-12  \n",
       "1    No  Tenure_24-48  \n",
       "2   Yes   Tenure_0-12  \n",
       "3    No  Tenure_24-48  \n",
       "4   Yes   Tenure_0-12  "
      ]
     },
     "execution_count": 122,
     "metadata": {},
     "output_type": "execute_result"
    }
   ],
   "source": [
    "telcom.head()"
   ]
  },
  {
   "cell_type": "code",
   "execution_count": 123,
   "metadata": {
    "id": "3JREM1ZuLaEG"
   },
   "outputs": [],
   "source": [
    "from sklearn.preprocessing import LabelEncoder\n",
    "from sklearn.preprocessing import StandardScaler\n",
    "\n",
    "\n",
    "#customer id col\n",
    "Id_col     = ['customerID']\n",
    "#Target columns\n",
    "target_col = [\"Churn\"]\n",
    "#categorical columns\n",
    "cat_cols   = telcom.nunique()[telcom.nunique() < 6].keys().tolist()\n",
    "cat_cols   = [x for x in cat_cols if x not in target_col]\n",
    "#numerical columns\n",
    "num_cols   = [x for x in telcom.columns if x not in cat_cols + target_col + Id_col]\n",
    "\n",
    "#Binary columns with 2 values\n",
    "bin_cols   = telcom.nunique()[telcom.nunique() == 2].keys().tolist()\n",
    "#Columns more than 2 values\n",
    "multi_cols = [i for i in cat_cols if i not in bin_cols]"
   ]
  },
  {
   "cell_type": "code",
   "execution_count": 124,
   "metadata": {
    "colab": {
     "base_uri": "https://localhost:8080/"
    },
    "id": "I5aZLjy1LcTB",
    "outputId": "fe4892b5-ef74-43d0-ef6f-51ac1ca00224"
   },
   "outputs": [
    {
     "data": {
      "text/plain": [
       "['MultipleLines',\n",
       " 'InternetService',\n",
       " 'Contract',\n",
       " 'PaymentMethod',\n",
       " 'tenure_group']"
      ]
     },
     "execution_count": 124,
     "metadata": {},
     "output_type": "execute_result"
    }
   ],
   "source": [
    "multi_cols"
   ]
  },
  {
   "cell_type": "code",
   "execution_count": 125,
   "metadata": {
    "id": "uTIb6UAuLgZb"
   },
   "outputs": [],
   "source": [
    "le = LabelEncoder()\n",
    "for i in bin_cols :\n",
    "    telcom[i] = le.fit_transform(telcom[i])\n",
    "    \n",
    "#Duplicating columns for multi value columns\n",
    "telcom = pd.get_dummies(data = telcom,columns = multi_cols)"
   ]
  },
  {
   "cell_type": "code",
   "execution_count": 126,
   "metadata": {
    "colab": {
     "base_uri": "https://localhost:8080/",
     "height": 634
    },
    "id": "2TAx-ayVLiSm",
    "outputId": "c278480e-1050-4c01-93dc-6751a4844fe9"
   },
   "outputs": [
    {
     "data": {
      "text/html": [
       "<div>\n",
       "<style scoped>\n",
       "    .dataframe tbody tr th:only-of-type {\n",
       "        vertical-align: middle;\n",
       "    }\n",
       "\n",
       "    .dataframe tbody tr th {\n",
       "        vertical-align: top;\n",
       "    }\n",
       "\n",
       "    .dataframe thead th {\n",
       "        text-align: right;\n",
       "    }\n",
       "</style>\n",
       "<table border=\"1\" class=\"dataframe\">\n",
       "  <thead>\n",
       "    <tr style=\"text-align: right;\">\n",
       "      <th></th>\n",
       "      <th>customerID</th>\n",
       "      <th>gender</th>\n",
       "      <th>SeniorCitizen</th>\n",
       "      <th>Partner</th>\n",
       "      <th>Dependents</th>\n",
       "      <th>tenure</th>\n",
       "      <th>PhoneService</th>\n",
       "      <th>OnlineSecurity</th>\n",
       "      <th>OnlineBackup</th>\n",
       "      <th>DeviceProtection</th>\n",
       "      <th>TechSupport</th>\n",
       "      <th>StreamingTV</th>\n",
       "      <th>StreamingMovies</th>\n",
       "      <th>PaperlessBilling</th>\n",
       "      <th>MonthlyCharges</th>\n",
       "      <th>TotalCharges</th>\n",
       "      <th>Churn</th>\n",
       "      <th>MultipleLines_No</th>\n",
       "      <th>MultipleLines_No phone service</th>\n",
       "      <th>MultipleLines_Yes</th>\n",
       "      <th>InternetService_DSL</th>\n",
       "      <th>InternetService_Fiber optic</th>\n",
       "      <th>InternetService_No</th>\n",
       "      <th>Contract_Month-to-month</th>\n",
       "      <th>Contract_One year</th>\n",
       "      <th>Contract_Two year</th>\n",
       "      <th>PaymentMethod_Bank transfer (automatic)</th>\n",
       "      <th>PaymentMethod_Credit card (automatic)</th>\n",
       "      <th>PaymentMethod_Electronic check</th>\n",
       "      <th>PaymentMethod_Mailed check</th>\n",
       "      <th>tenure_group_Tenure_0-12</th>\n",
       "      <th>tenure_group_Tenure_12-24</th>\n",
       "      <th>tenure_group_Tenure_24-48</th>\n",
       "      <th>tenure_group_Tenure_48-60</th>\n",
       "      <th>tenure_group_Tenure_gt_60</th>\n",
       "    </tr>\n",
       "  </thead>\n",
       "  <tbody>\n",
       "    <tr>\n",
       "      <th>0</th>\n",
       "      <td>7590-VHVEG</td>\n",
       "      <td>0</td>\n",
       "      <td>0</td>\n",
       "      <td>1</td>\n",
       "      <td>0</td>\n",
       "      <td>1</td>\n",
       "      <td>0</td>\n",
       "      <td>0</td>\n",
       "      <td>1</td>\n",
       "      <td>0</td>\n",
       "      <td>0</td>\n",
       "      <td>0</td>\n",
       "      <td>0</td>\n",
       "      <td>1</td>\n",
       "      <td>29.85</td>\n",
       "      <td>29.85</td>\n",
       "      <td>0</td>\n",
       "      <td>0</td>\n",
       "      <td>1</td>\n",
       "      <td>0</td>\n",
       "      <td>1</td>\n",
       "      <td>0</td>\n",
       "      <td>0</td>\n",
       "      <td>1</td>\n",
       "      <td>0</td>\n",
       "      <td>0</td>\n",
       "      <td>0</td>\n",
       "      <td>0</td>\n",
       "      <td>1</td>\n",
       "      <td>0</td>\n",
       "      <td>1</td>\n",
       "      <td>0</td>\n",
       "      <td>0</td>\n",
       "      <td>0</td>\n",
       "      <td>0</td>\n",
       "    </tr>\n",
       "    <tr>\n",
       "      <th>1</th>\n",
       "      <td>5575-GNVDE</td>\n",
       "      <td>1</td>\n",
       "      <td>0</td>\n",
       "      <td>0</td>\n",
       "      <td>0</td>\n",
       "      <td>34</td>\n",
       "      <td>1</td>\n",
       "      <td>1</td>\n",
       "      <td>0</td>\n",
       "      <td>1</td>\n",
       "      <td>0</td>\n",
       "      <td>0</td>\n",
       "      <td>0</td>\n",
       "      <td>0</td>\n",
       "      <td>56.95</td>\n",
       "      <td>1889.50</td>\n",
       "      <td>0</td>\n",
       "      <td>1</td>\n",
       "      <td>0</td>\n",
       "      <td>0</td>\n",
       "      <td>1</td>\n",
       "      <td>0</td>\n",
       "      <td>0</td>\n",
       "      <td>0</td>\n",
       "      <td>1</td>\n",
       "      <td>0</td>\n",
       "      <td>0</td>\n",
       "      <td>0</td>\n",
       "      <td>0</td>\n",
       "      <td>1</td>\n",
       "      <td>0</td>\n",
       "      <td>0</td>\n",
       "      <td>1</td>\n",
       "      <td>0</td>\n",
       "      <td>0</td>\n",
       "    </tr>\n",
       "    <tr>\n",
       "      <th>2</th>\n",
       "      <td>3668-QPYBK</td>\n",
       "      <td>1</td>\n",
       "      <td>0</td>\n",
       "      <td>0</td>\n",
       "      <td>0</td>\n",
       "      <td>2</td>\n",
       "      <td>1</td>\n",
       "      <td>1</td>\n",
       "      <td>1</td>\n",
       "      <td>0</td>\n",
       "      <td>0</td>\n",
       "      <td>0</td>\n",
       "      <td>0</td>\n",
       "      <td>1</td>\n",
       "      <td>53.85</td>\n",
       "      <td>108.15</td>\n",
       "      <td>1</td>\n",
       "      <td>1</td>\n",
       "      <td>0</td>\n",
       "      <td>0</td>\n",
       "      <td>1</td>\n",
       "      <td>0</td>\n",
       "      <td>0</td>\n",
       "      <td>1</td>\n",
       "      <td>0</td>\n",
       "      <td>0</td>\n",
       "      <td>0</td>\n",
       "      <td>0</td>\n",
       "      <td>0</td>\n",
       "      <td>1</td>\n",
       "      <td>1</td>\n",
       "      <td>0</td>\n",
       "      <td>0</td>\n",
       "      <td>0</td>\n",
       "      <td>0</td>\n",
       "    </tr>\n",
       "    <tr>\n",
       "      <th>3</th>\n",
       "      <td>7795-CFOCW</td>\n",
       "      <td>1</td>\n",
       "      <td>0</td>\n",
       "      <td>0</td>\n",
       "      <td>0</td>\n",
       "      <td>45</td>\n",
       "      <td>0</td>\n",
       "      <td>1</td>\n",
       "      <td>0</td>\n",
       "      <td>1</td>\n",
       "      <td>1</td>\n",
       "      <td>0</td>\n",
       "      <td>0</td>\n",
       "      <td>0</td>\n",
       "      <td>42.30</td>\n",
       "      <td>1840.75</td>\n",
       "      <td>0</td>\n",
       "      <td>0</td>\n",
       "      <td>1</td>\n",
       "      <td>0</td>\n",
       "      <td>1</td>\n",
       "      <td>0</td>\n",
       "      <td>0</td>\n",
       "      <td>0</td>\n",
       "      <td>1</td>\n",
       "      <td>0</td>\n",
       "      <td>1</td>\n",
       "      <td>0</td>\n",
       "      <td>0</td>\n",
       "      <td>0</td>\n",
       "      <td>0</td>\n",
       "      <td>0</td>\n",
       "      <td>1</td>\n",
       "      <td>0</td>\n",
       "      <td>0</td>\n",
       "    </tr>\n",
       "    <tr>\n",
       "      <th>4</th>\n",
       "      <td>9237-HQITU</td>\n",
       "      <td>0</td>\n",
       "      <td>0</td>\n",
       "      <td>0</td>\n",
       "      <td>0</td>\n",
       "      <td>2</td>\n",
       "      <td>1</td>\n",
       "      <td>0</td>\n",
       "      <td>0</td>\n",
       "      <td>0</td>\n",
       "      <td>0</td>\n",
       "      <td>0</td>\n",
       "      <td>0</td>\n",
       "      <td>1</td>\n",
       "      <td>70.70</td>\n",
       "      <td>151.65</td>\n",
       "      <td>1</td>\n",
       "      <td>1</td>\n",
       "      <td>0</td>\n",
       "      <td>0</td>\n",
       "      <td>0</td>\n",
       "      <td>1</td>\n",
       "      <td>0</td>\n",
       "      <td>1</td>\n",
       "      <td>0</td>\n",
       "      <td>0</td>\n",
       "      <td>0</td>\n",
       "      <td>0</td>\n",
       "      <td>1</td>\n",
       "      <td>0</td>\n",
       "      <td>1</td>\n",
       "      <td>0</td>\n",
       "      <td>0</td>\n",
       "      <td>0</td>\n",
       "      <td>0</td>\n",
       "    </tr>\n",
       "    <tr>\n",
       "      <th>...</th>\n",
       "      <td>...</td>\n",
       "      <td>...</td>\n",
       "      <td>...</td>\n",
       "      <td>...</td>\n",
       "      <td>...</td>\n",
       "      <td>...</td>\n",
       "      <td>...</td>\n",
       "      <td>...</td>\n",
       "      <td>...</td>\n",
       "      <td>...</td>\n",
       "      <td>...</td>\n",
       "      <td>...</td>\n",
       "      <td>...</td>\n",
       "      <td>...</td>\n",
       "      <td>...</td>\n",
       "      <td>...</td>\n",
       "      <td>...</td>\n",
       "      <td>...</td>\n",
       "      <td>...</td>\n",
       "      <td>...</td>\n",
       "      <td>...</td>\n",
       "      <td>...</td>\n",
       "      <td>...</td>\n",
       "      <td>...</td>\n",
       "      <td>...</td>\n",
       "      <td>...</td>\n",
       "      <td>...</td>\n",
       "      <td>...</td>\n",
       "      <td>...</td>\n",
       "      <td>...</td>\n",
       "      <td>...</td>\n",
       "      <td>...</td>\n",
       "      <td>...</td>\n",
       "      <td>...</td>\n",
       "      <td>...</td>\n",
       "    </tr>\n",
       "    <tr>\n",
       "      <th>7027</th>\n",
       "      <td>6840-RESVB</td>\n",
       "      <td>1</td>\n",
       "      <td>0</td>\n",
       "      <td>1</td>\n",
       "      <td>1</td>\n",
       "      <td>24</td>\n",
       "      <td>1</td>\n",
       "      <td>1</td>\n",
       "      <td>0</td>\n",
       "      <td>1</td>\n",
       "      <td>1</td>\n",
       "      <td>1</td>\n",
       "      <td>1</td>\n",
       "      <td>1</td>\n",
       "      <td>84.80</td>\n",
       "      <td>1990.50</td>\n",
       "      <td>0</td>\n",
       "      <td>0</td>\n",
       "      <td>0</td>\n",
       "      <td>1</td>\n",
       "      <td>1</td>\n",
       "      <td>0</td>\n",
       "      <td>0</td>\n",
       "      <td>0</td>\n",
       "      <td>1</td>\n",
       "      <td>0</td>\n",
       "      <td>0</td>\n",
       "      <td>0</td>\n",
       "      <td>0</td>\n",
       "      <td>1</td>\n",
       "      <td>0</td>\n",
       "      <td>1</td>\n",
       "      <td>0</td>\n",
       "      <td>0</td>\n",
       "      <td>0</td>\n",
       "    </tr>\n",
       "    <tr>\n",
       "      <th>7028</th>\n",
       "      <td>2234-XADUH</td>\n",
       "      <td>0</td>\n",
       "      <td>0</td>\n",
       "      <td>1</td>\n",
       "      <td>1</td>\n",
       "      <td>72</td>\n",
       "      <td>1</td>\n",
       "      <td>0</td>\n",
       "      <td>1</td>\n",
       "      <td>1</td>\n",
       "      <td>0</td>\n",
       "      <td>1</td>\n",
       "      <td>1</td>\n",
       "      <td>1</td>\n",
       "      <td>103.20</td>\n",
       "      <td>7362.90</td>\n",
       "      <td>0</td>\n",
       "      <td>0</td>\n",
       "      <td>0</td>\n",
       "      <td>1</td>\n",
       "      <td>0</td>\n",
       "      <td>1</td>\n",
       "      <td>0</td>\n",
       "      <td>0</td>\n",
       "      <td>1</td>\n",
       "      <td>0</td>\n",
       "      <td>0</td>\n",
       "      <td>1</td>\n",
       "      <td>0</td>\n",
       "      <td>0</td>\n",
       "      <td>0</td>\n",
       "      <td>0</td>\n",
       "      <td>0</td>\n",
       "      <td>0</td>\n",
       "      <td>1</td>\n",
       "    </tr>\n",
       "    <tr>\n",
       "      <th>7029</th>\n",
       "      <td>4801-JZAZL</td>\n",
       "      <td>0</td>\n",
       "      <td>0</td>\n",
       "      <td>1</td>\n",
       "      <td>1</td>\n",
       "      <td>11</td>\n",
       "      <td>0</td>\n",
       "      <td>1</td>\n",
       "      <td>0</td>\n",
       "      <td>0</td>\n",
       "      <td>0</td>\n",
       "      <td>0</td>\n",
       "      <td>0</td>\n",
       "      <td>1</td>\n",
       "      <td>29.60</td>\n",
       "      <td>346.45</td>\n",
       "      <td>0</td>\n",
       "      <td>0</td>\n",
       "      <td>1</td>\n",
       "      <td>0</td>\n",
       "      <td>1</td>\n",
       "      <td>0</td>\n",
       "      <td>0</td>\n",
       "      <td>1</td>\n",
       "      <td>0</td>\n",
       "      <td>0</td>\n",
       "      <td>0</td>\n",
       "      <td>0</td>\n",
       "      <td>1</td>\n",
       "      <td>0</td>\n",
       "      <td>1</td>\n",
       "      <td>0</td>\n",
       "      <td>0</td>\n",
       "      <td>0</td>\n",
       "      <td>0</td>\n",
       "    </tr>\n",
       "    <tr>\n",
       "      <th>7030</th>\n",
       "      <td>8361-LTMKD</td>\n",
       "      <td>1</td>\n",
       "      <td>1</td>\n",
       "      <td>1</td>\n",
       "      <td>0</td>\n",
       "      <td>4</td>\n",
       "      <td>1</td>\n",
       "      <td>0</td>\n",
       "      <td>0</td>\n",
       "      <td>0</td>\n",
       "      <td>0</td>\n",
       "      <td>0</td>\n",
       "      <td>0</td>\n",
       "      <td>1</td>\n",
       "      <td>74.40</td>\n",
       "      <td>306.60</td>\n",
       "      <td>1</td>\n",
       "      <td>0</td>\n",
       "      <td>0</td>\n",
       "      <td>1</td>\n",
       "      <td>0</td>\n",
       "      <td>1</td>\n",
       "      <td>0</td>\n",
       "      <td>1</td>\n",
       "      <td>0</td>\n",
       "      <td>0</td>\n",
       "      <td>0</td>\n",
       "      <td>0</td>\n",
       "      <td>0</td>\n",
       "      <td>1</td>\n",
       "      <td>1</td>\n",
       "      <td>0</td>\n",
       "      <td>0</td>\n",
       "      <td>0</td>\n",
       "      <td>0</td>\n",
       "    </tr>\n",
       "    <tr>\n",
       "      <th>7031</th>\n",
       "      <td>3186-AJIEK</td>\n",
       "      <td>1</td>\n",
       "      <td>0</td>\n",
       "      <td>0</td>\n",
       "      <td>0</td>\n",
       "      <td>66</td>\n",
       "      <td>1</td>\n",
       "      <td>1</td>\n",
       "      <td>0</td>\n",
       "      <td>1</td>\n",
       "      <td>1</td>\n",
       "      <td>1</td>\n",
       "      <td>1</td>\n",
       "      <td>1</td>\n",
       "      <td>105.65</td>\n",
       "      <td>6844.50</td>\n",
       "      <td>0</td>\n",
       "      <td>1</td>\n",
       "      <td>0</td>\n",
       "      <td>0</td>\n",
       "      <td>0</td>\n",
       "      <td>1</td>\n",
       "      <td>0</td>\n",
       "      <td>0</td>\n",
       "      <td>0</td>\n",
       "      <td>1</td>\n",
       "      <td>1</td>\n",
       "      <td>0</td>\n",
       "      <td>0</td>\n",
       "      <td>0</td>\n",
       "      <td>0</td>\n",
       "      <td>0</td>\n",
       "      <td>0</td>\n",
       "      <td>0</td>\n",
       "      <td>1</td>\n",
       "    </tr>\n",
       "  </tbody>\n",
       "</table>\n",
       "<p>7032 rows × 35 columns</p>\n",
       "</div>"
      ],
      "text/plain": [
       "      customerID  gender  SeniorCitizen  Partner  Dependents  tenure  \\\n",
       "0     7590-VHVEG       0              0        1           0       1   \n",
       "1     5575-GNVDE       1              0        0           0      34   \n",
       "2     3668-QPYBK       1              0        0           0       2   \n",
       "3     7795-CFOCW       1              0        0           0      45   \n",
       "4     9237-HQITU       0              0        0           0       2   \n",
       "...          ...     ...            ...      ...         ...     ...   \n",
       "7027  6840-RESVB       1              0        1           1      24   \n",
       "7028  2234-XADUH       0              0        1           1      72   \n",
       "7029  4801-JZAZL       0              0        1           1      11   \n",
       "7030  8361-LTMKD       1              1        1           0       4   \n",
       "7031  3186-AJIEK       1              0        0           0      66   \n",
       "\n",
       "      PhoneService  OnlineSecurity  OnlineBackup  DeviceProtection  \\\n",
       "0                0               0             1                 0   \n",
       "1                1               1             0                 1   \n",
       "2                1               1             1                 0   \n",
       "3                0               1             0                 1   \n",
       "4                1               0             0                 0   \n",
       "...            ...             ...           ...               ...   \n",
       "7027             1               1             0                 1   \n",
       "7028             1               0             1                 1   \n",
       "7029             0               1             0                 0   \n",
       "7030             1               0             0                 0   \n",
       "7031             1               1             0                 1   \n",
       "\n",
       "      TechSupport  StreamingTV  StreamingMovies  PaperlessBilling  \\\n",
       "0               0            0                0                 1   \n",
       "1               0            0                0                 0   \n",
       "2               0            0                0                 1   \n",
       "3               1            0                0                 0   \n",
       "4               0            0                0                 1   \n",
       "...           ...          ...              ...               ...   \n",
       "7027            1            1                1                 1   \n",
       "7028            0            1                1                 1   \n",
       "7029            0            0                0                 1   \n",
       "7030            0            0                0                 1   \n",
       "7031            1            1                1                 1   \n",
       "\n",
       "      MonthlyCharges  TotalCharges  Churn  MultipleLines_No  \\\n",
       "0              29.85         29.85      0                 0   \n",
       "1              56.95       1889.50      0                 1   \n",
       "2              53.85        108.15      1                 1   \n",
       "3              42.30       1840.75      0                 0   \n",
       "4              70.70        151.65      1                 1   \n",
       "...              ...           ...    ...               ...   \n",
       "7027           84.80       1990.50      0                 0   \n",
       "7028          103.20       7362.90      0                 0   \n",
       "7029           29.60        346.45      0                 0   \n",
       "7030           74.40        306.60      1                 0   \n",
       "7031          105.65       6844.50      0                 1   \n",
       "\n",
       "      MultipleLines_No phone service  MultipleLines_Yes  InternetService_DSL  \\\n",
       "0                                  1                  0                    1   \n",
       "1                                  0                  0                    1   \n",
       "2                                  0                  0                    1   \n",
       "3                                  1                  0                    1   \n",
       "4                                  0                  0                    0   \n",
       "...                              ...                ...                  ...   \n",
       "7027                               0                  1                    1   \n",
       "7028                               0                  1                    0   \n",
       "7029                               1                  0                    1   \n",
       "7030                               0                  1                    0   \n",
       "7031                               0                  0                    0   \n",
       "\n",
       "      InternetService_Fiber optic  InternetService_No  \\\n",
       "0                               0                   0   \n",
       "1                               0                   0   \n",
       "2                               0                   0   \n",
       "3                               0                   0   \n",
       "4                               1                   0   \n",
       "...                           ...                 ...   \n",
       "7027                            0                   0   \n",
       "7028                            1                   0   \n",
       "7029                            0                   0   \n",
       "7030                            1                   0   \n",
       "7031                            1                   0   \n",
       "\n",
       "      Contract_Month-to-month  Contract_One year  Contract_Two year  \\\n",
       "0                           1                  0                  0   \n",
       "1                           0                  1                  0   \n",
       "2                           1                  0                  0   \n",
       "3                           0                  1                  0   \n",
       "4                           1                  0                  0   \n",
       "...                       ...                ...                ...   \n",
       "7027                        0                  1                  0   \n",
       "7028                        0                  1                  0   \n",
       "7029                        1                  0                  0   \n",
       "7030                        1                  0                  0   \n",
       "7031                        0                  0                  1   \n",
       "\n",
       "      PaymentMethod_Bank transfer (automatic)  \\\n",
       "0                                           0   \n",
       "1                                           0   \n",
       "2                                           0   \n",
       "3                                           1   \n",
       "4                                           0   \n",
       "...                                       ...   \n",
       "7027                                        0   \n",
       "7028                                        0   \n",
       "7029                                        0   \n",
       "7030                                        0   \n",
       "7031                                        1   \n",
       "\n",
       "      PaymentMethod_Credit card (automatic)  PaymentMethod_Electronic check  \\\n",
       "0                                         0                               1   \n",
       "1                                         0                               0   \n",
       "2                                         0                               0   \n",
       "3                                         0                               0   \n",
       "4                                         0                               1   \n",
       "...                                     ...                             ...   \n",
       "7027                                      0                               0   \n",
       "7028                                      1                               0   \n",
       "7029                                      0                               1   \n",
       "7030                                      0                               0   \n",
       "7031                                      0                               0   \n",
       "\n",
       "      PaymentMethod_Mailed check  tenure_group_Tenure_0-12  \\\n",
       "0                              0                         1   \n",
       "1                              1                         0   \n",
       "2                              1                         1   \n",
       "3                              0                         0   \n",
       "4                              0                         1   \n",
       "...                          ...                       ...   \n",
       "7027                           1                         0   \n",
       "7028                           0                         0   \n",
       "7029                           0                         1   \n",
       "7030                           1                         1   \n",
       "7031                           0                         0   \n",
       "\n",
       "      tenure_group_Tenure_12-24  tenure_group_Tenure_24-48  \\\n",
       "0                             0                          0   \n",
       "1                             0                          1   \n",
       "2                             0                          0   \n",
       "3                             0                          1   \n",
       "4                             0                          0   \n",
       "...                         ...                        ...   \n",
       "7027                          1                          0   \n",
       "7028                          0                          0   \n",
       "7029                          0                          0   \n",
       "7030                          0                          0   \n",
       "7031                          0                          0   \n",
       "\n",
       "      tenure_group_Tenure_48-60  tenure_group_Tenure_gt_60  \n",
       "0                             0                          0  \n",
       "1                             0                          0  \n",
       "2                             0                          0  \n",
       "3                             0                          0  \n",
       "4                             0                          0  \n",
       "...                         ...                        ...  \n",
       "7027                          0                          0  \n",
       "7028                          0                          1  \n",
       "7029                          0                          0  \n",
       "7030                          0                          0  \n",
       "7031                          0                          1  \n",
       "\n",
       "[7032 rows x 35 columns]"
      ]
     },
     "execution_count": 126,
     "metadata": {},
     "output_type": "execute_result"
    }
   ],
   "source": [
    "telcom"
   ]
  },
  {
   "cell_type": "code",
   "execution_count": 127,
   "metadata": {
    "id": "LWo20awXLj6H"
   },
   "outputs": [],
   "source": [
    "#Scaling Numerical columns\n",
    "std = StandardScaler()\n",
    "scaled = std.fit_transform(telcom[num_cols])\n",
    "scaled = pd.DataFrame(scaled,columns=num_cols)"
   ]
  },
  {
   "cell_type": "code",
   "execution_count": 128,
   "metadata": {
    "colab": {
     "base_uri": "https://localhost:8080/",
     "height": 423
    },
    "id": "3Bdx6w9DLl_-",
    "outputId": "4107c3a1-f37d-4e02-ef55-061861e2a5b4"
   },
   "outputs": [
    {
     "data": {
      "text/html": [
       "<div>\n",
       "<style scoped>\n",
       "    .dataframe tbody tr th:only-of-type {\n",
       "        vertical-align: middle;\n",
       "    }\n",
       "\n",
       "    .dataframe tbody tr th {\n",
       "        vertical-align: top;\n",
       "    }\n",
       "\n",
       "    .dataframe thead th {\n",
       "        text-align: right;\n",
       "    }\n",
       "</style>\n",
       "<table border=\"1\" class=\"dataframe\">\n",
       "  <thead>\n",
       "    <tr style=\"text-align: right;\">\n",
       "      <th></th>\n",
       "      <th>tenure</th>\n",
       "      <th>MonthlyCharges</th>\n",
       "      <th>TotalCharges</th>\n",
       "    </tr>\n",
       "  </thead>\n",
       "  <tbody>\n",
       "    <tr>\n",
       "      <th>0</th>\n",
       "      <td>-1.280248</td>\n",
       "      <td>-1.161694</td>\n",
       "      <td>-0.994194</td>\n",
       "    </tr>\n",
       "    <tr>\n",
       "      <th>1</th>\n",
       "      <td>0.064303</td>\n",
       "      <td>-0.260878</td>\n",
       "      <td>-0.173740</td>\n",
       "    </tr>\n",
       "    <tr>\n",
       "      <th>2</th>\n",
       "      <td>-1.239504</td>\n",
       "      <td>-0.363923</td>\n",
       "      <td>-0.959649</td>\n",
       "    </tr>\n",
       "    <tr>\n",
       "      <th>3</th>\n",
       "      <td>0.512486</td>\n",
       "      <td>-0.747850</td>\n",
       "      <td>-0.195248</td>\n",
       "    </tr>\n",
       "    <tr>\n",
       "      <th>4</th>\n",
       "      <td>-1.239504</td>\n",
       "      <td>0.196178</td>\n",
       "      <td>-0.940457</td>\n",
       "    </tr>\n",
       "    <tr>\n",
       "      <th>...</th>\n",
       "      <td>...</td>\n",
       "      <td>...</td>\n",
       "      <td>...</td>\n",
       "    </tr>\n",
       "    <tr>\n",
       "      <th>7027</th>\n",
       "      <td>-0.343137</td>\n",
       "      <td>0.664868</td>\n",
       "      <td>-0.129180</td>\n",
       "    </tr>\n",
       "    <tr>\n",
       "      <th>7028</th>\n",
       "      <td>1.612573</td>\n",
       "      <td>1.276493</td>\n",
       "      <td>2.241056</td>\n",
       "    </tr>\n",
       "    <tr>\n",
       "      <th>7029</th>\n",
       "      <td>-0.872808</td>\n",
       "      <td>-1.170004</td>\n",
       "      <td>-0.854514</td>\n",
       "    </tr>\n",
       "    <tr>\n",
       "      <th>7030</th>\n",
       "      <td>-1.158016</td>\n",
       "      <td>0.319168</td>\n",
       "      <td>-0.872095</td>\n",
       "    </tr>\n",
       "    <tr>\n",
       "      <th>7031</th>\n",
       "      <td>1.368109</td>\n",
       "      <td>1.357932</td>\n",
       "      <td>2.012344</td>\n",
       "    </tr>\n",
       "  </tbody>\n",
       "</table>\n",
       "<p>7032 rows × 3 columns</p>\n",
       "</div>"
      ],
      "text/plain": [
       "        tenure  MonthlyCharges  TotalCharges\n",
       "0    -1.280248       -1.161694     -0.994194\n",
       "1     0.064303       -0.260878     -0.173740\n",
       "2    -1.239504       -0.363923     -0.959649\n",
       "3     0.512486       -0.747850     -0.195248\n",
       "4    -1.239504        0.196178     -0.940457\n",
       "...        ...             ...           ...\n",
       "7027 -0.343137        0.664868     -0.129180\n",
       "7028  1.612573        1.276493      2.241056\n",
       "7029 -0.872808       -1.170004     -0.854514\n",
       "7030 -1.158016        0.319168     -0.872095\n",
       "7031  1.368109        1.357932      2.012344\n",
       "\n",
       "[7032 rows x 3 columns]"
      ]
     },
     "execution_count": 128,
     "metadata": {},
     "output_type": "execute_result"
    }
   ],
   "source": [
    "scaled"
   ]
  },
  {
   "cell_type": "code",
   "execution_count": 129,
   "metadata": {
    "id": "ndcbi4z3Lnaj"
   },
   "outputs": [],
   "source": [
    "telcom = telcom.drop(columns = num_cols,axis = 1)\n",
    "telcom = telcom.merge(scaled,left_index=True,right_index=True,how = \"left\")"
   ]
  },
  {
   "cell_type": "markdown",
   "metadata": {
    "id": "lP8QuE4pLteS"
   },
   "source": [
    "# What is the purpose of the above code?"
   ]
  },
  {
   "cell_type": "markdown",
   "metadata": {
    "id": "xfnV7sD8LztI"
   },
   "source": [
    "**Answer** The steps that are done in the above code are:\n",
    "1. The data is loaded and the target variable is removed.\n",
    "2. All the colums are segrigated in to number columns, binary colums and multi columns(strung data with more than 2 values as their outcome.)\n",
    "3. All the binary columns are converted into numeric columns and all the multi columns are converted into numerical binary data through one-hot encoding.\n",
    "4. The numeric data is standardized using standard scalar. Then the only numeric colums are removved and replace withthe standardized data."
   ]
  },
  {
   "cell_type": "code",
   "execution_count": 130,
   "metadata": {
    "colab": {
     "base_uri": "https://localhost:8080/",
     "height": 347
    },
    "id": "xC96mHy_Lpnm",
    "outputId": "f9c51c65-2352-432a-9d06-e05a28ba5c9f"
   },
   "outputs": [
    {
     "data": {
      "text/html": [
       "<div>\n",
       "<style scoped>\n",
       "    .dataframe tbody tr th:only-of-type {\n",
       "        vertical-align: middle;\n",
       "    }\n",
       "\n",
       "    .dataframe tbody tr th {\n",
       "        vertical-align: top;\n",
       "    }\n",
       "\n",
       "    .dataframe thead th {\n",
       "        text-align: right;\n",
       "    }\n",
       "</style>\n",
       "<table border=\"1\" class=\"dataframe\">\n",
       "  <thead>\n",
       "    <tr style=\"text-align: right;\">\n",
       "      <th></th>\n",
       "      <th>customerID</th>\n",
       "      <th>gender</th>\n",
       "      <th>SeniorCitizen</th>\n",
       "      <th>Partner</th>\n",
       "      <th>Dependents</th>\n",
       "      <th>PhoneService</th>\n",
       "      <th>OnlineSecurity</th>\n",
       "      <th>OnlineBackup</th>\n",
       "      <th>DeviceProtection</th>\n",
       "      <th>TechSupport</th>\n",
       "      <th>StreamingTV</th>\n",
       "      <th>StreamingMovies</th>\n",
       "      <th>PaperlessBilling</th>\n",
       "      <th>Churn</th>\n",
       "      <th>MultipleLines_No</th>\n",
       "      <th>MultipleLines_No phone service</th>\n",
       "      <th>MultipleLines_Yes</th>\n",
       "      <th>InternetService_DSL</th>\n",
       "      <th>InternetService_Fiber optic</th>\n",
       "      <th>InternetService_No</th>\n",
       "      <th>Contract_Month-to-month</th>\n",
       "      <th>Contract_One year</th>\n",
       "      <th>Contract_Two year</th>\n",
       "      <th>PaymentMethod_Bank transfer (automatic)</th>\n",
       "      <th>PaymentMethod_Credit card (automatic)</th>\n",
       "      <th>PaymentMethod_Electronic check</th>\n",
       "      <th>PaymentMethod_Mailed check</th>\n",
       "      <th>tenure_group_Tenure_0-12</th>\n",
       "      <th>tenure_group_Tenure_12-24</th>\n",
       "      <th>tenure_group_Tenure_24-48</th>\n",
       "      <th>tenure_group_Tenure_48-60</th>\n",
       "      <th>tenure_group_Tenure_gt_60</th>\n",
       "      <th>tenure</th>\n",
       "      <th>MonthlyCharges</th>\n",
       "      <th>TotalCharges</th>\n",
       "    </tr>\n",
       "  </thead>\n",
       "  <tbody>\n",
       "    <tr>\n",
       "      <th>0</th>\n",
       "      <td>7590-VHVEG</td>\n",
       "      <td>0</td>\n",
       "      <td>0</td>\n",
       "      <td>1</td>\n",
       "      <td>0</td>\n",
       "      <td>0</td>\n",
       "      <td>0</td>\n",
       "      <td>1</td>\n",
       "      <td>0</td>\n",
       "      <td>0</td>\n",
       "      <td>0</td>\n",
       "      <td>0</td>\n",
       "      <td>1</td>\n",
       "      <td>0</td>\n",
       "      <td>0</td>\n",
       "      <td>1</td>\n",
       "      <td>0</td>\n",
       "      <td>1</td>\n",
       "      <td>0</td>\n",
       "      <td>0</td>\n",
       "      <td>1</td>\n",
       "      <td>0</td>\n",
       "      <td>0</td>\n",
       "      <td>0</td>\n",
       "      <td>0</td>\n",
       "      <td>1</td>\n",
       "      <td>0</td>\n",
       "      <td>1</td>\n",
       "      <td>0</td>\n",
       "      <td>0</td>\n",
       "      <td>0</td>\n",
       "      <td>0</td>\n",
       "      <td>-1.280248</td>\n",
       "      <td>-1.161694</td>\n",
       "      <td>-0.994194</td>\n",
       "    </tr>\n",
       "    <tr>\n",
       "      <th>1</th>\n",
       "      <td>5575-GNVDE</td>\n",
       "      <td>1</td>\n",
       "      <td>0</td>\n",
       "      <td>0</td>\n",
       "      <td>0</td>\n",
       "      <td>1</td>\n",
       "      <td>1</td>\n",
       "      <td>0</td>\n",
       "      <td>1</td>\n",
       "      <td>0</td>\n",
       "      <td>0</td>\n",
       "      <td>0</td>\n",
       "      <td>0</td>\n",
       "      <td>0</td>\n",
       "      <td>1</td>\n",
       "      <td>0</td>\n",
       "      <td>0</td>\n",
       "      <td>1</td>\n",
       "      <td>0</td>\n",
       "      <td>0</td>\n",
       "      <td>0</td>\n",
       "      <td>1</td>\n",
       "      <td>0</td>\n",
       "      <td>0</td>\n",
       "      <td>0</td>\n",
       "      <td>0</td>\n",
       "      <td>1</td>\n",
       "      <td>0</td>\n",
       "      <td>0</td>\n",
       "      <td>1</td>\n",
       "      <td>0</td>\n",
       "      <td>0</td>\n",
       "      <td>0.064303</td>\n",
       "      <td>-0.260878</td>\n",
       "      <td>-0.173740</td>\n",
       "    </tr>\n",
       "    <tr>\n",
       "      <th>2</th>\n",
       "      <td>3668-QPYBK</td>\n",
       "      <td>1</td>\n",
       "      <td>0</td>\n",
       "      <td>0</td>\n",
       "      <td>0</td>\n",
       "      <td>1</td>\n",
       "      <td>1</td>\n",
       "      <td>1</td>\n",
       "      <td>0</td>\n",
       "      <td>0</td>\n",
       "      <td>0</td>\n",
       "      <td>0</td>\n",
       "      <td>1</td>\n",
       "      <td>1</td>\n",
       "      <td>1</td>\n",
       "      <td>0</td>\n",
       "      <td>0</td>\n",
       "      <td>1</td>\n",
       "      <td>0</td>\n",
       "      <td>0</td>\n",
       "      <td>1</td>\n",
       "      <td>0</td>\n",
       "      <td>0</td>\n",
       "      <td>0</td>\n",
       "      <td>0</td>\n",
       "      <td>0</td>\n",
       "      <td>1</td>\n",
       "      <td>1</td>\n",
       "      <td>0</td>\n",
       "      <td>0</td>\n",
       "      <td>0</td>\n",
       "      <td>0</td>\n",
       "      <td>-1.239504</td>\n",
       "      <td>-0.363923</td>\n",
       "      <td>-0.959649</td>\n",
       "    </tr>\n",
       "    <tr>\n",
       "      <th>3</th>\n",
       "      <td>7795-CFOCW</td>\n",
       "      <td>1</td>\n",
       "      <td>0</td>\n",
       "      <td>0</td>\n",
       "      <td>0</td>\n",
       "      <td>0</td>\n",
       "      <td>1</td>\n",
       "      <td>0</td>\n",
       "      <td>1</td>\n",
       "      <td>1</td>\n",
       "      <td>0</td>\n",
       "      <td>0</td>\n",
       "      <td>0</td>\n",
       "      <td>0</td>\n",
       "      <td>0</td>\n",
       "      <td>1</td>\n",
       "      <td>0</td>\n",
       "      <td>1</td>\n",
       "      <td>0</td>\n",
       "      <td>0</td>\n",
       "      <td>0</td>\n",
       "      <td>1</td>\n",
       "      <td>0</td>\n",
       "      <td>1</td>\n",
       "      <td>0</td>\n",
       "      <td>0</td>\n",
       "      <td>0</td>\n",
       "      <td>0</td>\n",
       "      <td>0</td>\n",
       "      <td>1</td>\n",
       "      <td>0</td>\n",
       "      <td>0</td>\n",
       "      <td>0.512486</td>\n",
       "      <td>-0.747850</td>\n",
       "      <td>-0.195248</td>\n",
       "    </tr>\n",
       "    <tr>\n",
       "      <th>4</th>\n",
       "      <td>9237-HQITU</td>\n",
       "      <td>0</td>\n",
       "      <td>0</td>\n",
       "      <td>0</td>\n",
       "      <td>0</td>\n",
       "      <td>1</td>\n",
       "      <td>0</td>\n",
       "      <td>0</td>\n",
       "      <td>0</td>\n",
       "      <td>0</td>\n",
       "      <td>0</td>\n",
       "      <td>0</td>\n",
       "      <td>1</td>\n",
       "      <td>1</td>\n",
       "      <td>1</td>\n",
       "      <td>0</td>\n",
       "      <td>0</td>\n",
       "      <td>0</td>\n",
       "      <td>1</td>\n",
       "      <td>0</td>\n",
       "      <td>1</td>\n",
       "      <td>0</td>\n",
       "      <td>0</td>\n",
       "      <td>0</td>\n",
       "      <td>0</td>\n",
       "      <td>1</td>\n",
       "      <td>0</td>\n",
       "      <td>1</td>\n",
       "      <td>0</td>\n",
       "      <td>0</td>\n",
       "      <td>0</td>\n",
       "      <td>0</td>\n",
       "      <td>-1.239504</td>\n",
       "      <td>0.196178</td>\n",
       "      <td>-0.940457</td>\n",
       "    </tr>\n",
       "  </tbody>\n",
       "</table>\n",
       "</div>"
      ],
      "text/plain": [
       "   customerID  gender  SeniorCitizen  Partner  Dependents  PhoneService  \\\n",
       "0  7590-VHVEG       0              0        1           0             0   \n",
       "1  5575-GNVDE       1              0        0           0             1   \n",
       "2  3668-QPYBK       1              0        0           0             1   \n",
       "3  7795-CFOCW       1              0        0           0             0   \n",
       "4  9237-HQITU       0              0        0           0             1   \n",
       "\n",
       "   OnlineSecurity  OnlineBackup  DeviceProtection  TechSupport  StreamingTV  \\\n",
       "0               0             1                 0            0            0   \n",
       "1               1             0                 1            0            0   \n",
       "2               1             1                 0            0            0   \n",
       "3               1             0                 1            1            0   \n",
       "4               0             0                 0            0            0   \n",
       "\n",
       "   StreamingMovies  PaperlessBilling  Churn  MultipleLines_No  \\\n",
       "0                0                 1      0                 0   \n",
       "1                0                 0      0                 1   \n",
       "2                0                 1      1                 1   \n",
       "3                0                 0      0                 0   \n",
       "4                0                 1      1                 1   \n",
       "\n",
       "   MultipleLines_No phone service  MultipleLines_Yes  InternetService_DSL  \\\n",
       "0                               1                  0                    1   \n",
       "1                               0                  0                    1   \n",
       "2                               0                  0                    1   \n",
       "3                               1                  0                    1   \n",
       "4                               0                  0                    0   \n",
       "\n",
       "   InternetService_Fiber optic  InternetService_No  Contract_Month-to-month  \\\n",
       "0                            0                   0                        1   \n",
       "1                            0                   0                        0   \n",
       "2                            0                   0                        1   \n",
       "3                            0                   0                        0   \n",
       "4                            1                   0                        1   \n",
       "\n",
       "   Contract_One year  Contract_Two year  \\\n",
       "0                  0                  0   \n",
       "1                  1                  0   \n",
       "2                  0                  0   \n",
       "3                  1                  0   \n",
       "4                  0                  0   \n",
       "\n",
       "   PaymentMethod_Bank transfer (automatic)  \\\n",
       "0                                        0   \n",
       "1                                        0   \n",
       "2                                        0   \n",
       "3                                        1   \n",
       "4                                        0   \n",
       "\n",
       "   PaymentMethod_Credit card (automatic)  PaymentMethod_Electronic check  \\\n",
       "0                                      0                               1   \n",
       "1                                      0                               0   \n",
       "2                                      0                               0   \n",
       "3                                      0                               0   \n",
       "4                                      0                               1   \n",
       "\n",
       "   PaymentMethod_Mailed check  tenure_group_Tenure_0-12  \\\n",
       "0                           0                         1   \n",
       "1                           1                         0   \n",
       "2                           1                         1   \n",
       "3                           0                         0   \n",
       "4                           0                         1   \n",
       "\n",
       "   tenure_group_Tenure_12-24  tenure_group_Tenure_24-48  \\\n",
       "0                          0                          0   \n",
       "1                          0                          1   \n",
       "2                          0                          0   \n",
       "3                          0                          1   \n",
       "4                          0                          0   \n",
       "\n",
       "   tenure_group_Tenure_48-60  tenure_group_Tenure_gt_60    tenure  \\\n",
       "0                          0                          0 -1.280248   \n",
       "1                          0                          0  0.064303   \n",
       "2                          0                          0 -1.239504   \n",
       "3                          0                          0  0.512486   \n",
       "4                          0                          0 -1.239504   \n",
       "\n",
       "   MonthlyCharges  TotalCharges  \n",
       "0       -1.161694     -0.994194  \n",
       "1       -0.260878     -0.173740  \n",
       "2       -0.363923     -0.959649  \n",
       "3       -0.747850     -0.195248  \n",
       "4        0.196178     -0.940457  "
      ]
     },
     "execution_count": 130,
     "metadata": {},
     "output_type": "execute_result"
    }
   ],
   "source": [
    "telcom.head()"
   ]
  },
  {
   "cell_type": "code",
   "execution_count": 131,
   "metadata": {
    "colab": {
     "base_uri": "https://localhost:8080/",
     "height": 355
    },
    "id": "24Z4YoeAL3VM",
    "outputId": "6ddf120c-f613-4e2b-eb9e-0e7bfdf78dc3"
   },
   "outputs": [
    {
     "data": {
      "text/html": [
       "<div>\n",
       "<style scoped>\n",
       "    .dataframe tbody tr th:only-of-type {\n",
       "        vertical-align: middle;\n",
       "    }\n",
       "\n",
       "    .dataframe tbody tr th {\n",
       "        vertical-align: top;\n",
       "    }\n",
       "\n",
       "    .dataframe thead th {\n",
       "        text-align: right;\n",
       "    }\n",
       "</style>\n",
       "<table border=\"1\" class=\"dataframe\">\n",
       "  <thead>\n",
       "    <tr style=\"text-align: right;\">\n",
       "      <th></th>\n",
       "      <th>gender</th>\n",
       "      <th>SeniorCitizen</th>\n",
       "      <th>Partner</th>\n",
       "      <th>Dependents</th>\n",
       "      <th>PhoneService</th>\n",
       "      <th>OnlineSecurity</th>\n",
       "      <th>OnlineBackup</th>\n",
       "      <th>DeviceProtection</th>\n",
       "      <th>TechSupport</th>\n",
       "      <th>StreamingTV</th>\n",
       "      <th>StreamingMovies</th>\n",
       "      <th>PaperlessBilling</th>\n",
       "      <th>Churn</th>\n",
       "      <th>MultipleLines_No</th>\n",
       "      <th>MultipleLines_No phone service</th>\n",
       "      <th>MultipleLines_Yes</th>\n",
       "      <th>InternetService_DSL</th>\n",
       "      <th>InternetService_Fiber optic</th>\n",
       "      <th>InternetService_No</th>\n",
       "      <th>Contract_Month-to-month</th>\n",
       "      <th>Contract_One year</th>\n",
       "      <th>Contract_Two year</th>\n",
       "      <th>PaymentMethod_Bank transfer (automatic)</th>\n",
       "      <th>PaymentMethod_Credit card (automatic)</th>\n",
       "      <th>PaymentMethod_Electronic check</th>\n",
       "      <th>PaymentMethod_Mailed check</th>\n",
       "      <th>tenure_group_Tenure_0-12</th>\n",
       "      <th>tenure_group_Tenure_12-24</th>\n",
       "      <th>tenure_group_Tenure_24-48</th>\n",
       "      <th>tenure_group_Tenure_48-60</th>\n",
       "      <th>tenure_group_Tenure_gt_60</th>\n",
       "      <th>tenure</th>\n",
       "      <th>MonthlyCharges</th>\n",
       "      <th>TotalCharges</th>\n",
       "    </tr>\n",
       "  </thead>\n",
       "  <tbody>\n",
       "    <tr>\n",
       "      <th>count</th>\n",
       "      <td>7032.000000</td>\n",
       "      <td>7032.000000</td>\n",
       "      <td>7032.000000</td>\n",
       "      <td>7032.000000</td>\n",
       "      <td>7032.000000</td>\n",
       "      <td>7032.000000</td>\n",
       "      <td>7032.000000</td>\n",
       "      <td>7032.000000</td>\n",
       "      <td>7032.000000</td>\n",
       "      <td>7032.000000</td>\n",
       "      <td>7032.000000</td>\n",
       "      <td>7032.000000</td>\n",
       "      <td>7032.000000</td>\n",
       "      <td>7032.000000</td>\n",
       "      <td>7032.000000</td>\n",
       "      <td>7032.000000</td>\n",
       "      <td>7032.000000</td>\n",
       "      <td>7032.000000</td>\n",
       "      <td>7032.000000</td>\n",
       "      <td>7032.000000</td>\n",
       "      <td>7032.000000</td>\n",
       "      <td>7032.000000</td>\n",
       "      <td>7032.000000</td>\n",
       "      <td>7032.000000</td>\n",
       "      <td>7032.000000</td>\n",
       "      <td>7032.000000</td>\n",
       "      <td>7032.000000</td>\n",
       "      <td>7032.00000</td>\n",
       "      <td>7032.000000</td>\n",
       "      <td>7032.000000</td>\n",
       "      <td>7032.000000</td>\n",
       "      <td>7.032000e+03</td>\n",
       "      <td>7.032000e+03</td>\n",
       "      <td>7.032000e+03</td>\n",
       "    </tr>\n",
       "    <tr>\n",
       "      <th>mean</th>\n",
       "      <td>0.504693</td>\n",
       "      <td>0.162400</td>\n",
       "      <td>0.482509</td>\n",
       "      <td>0.298493</td>\n",
       "      <td>0.903299</td>\n",
       "      <td>0.286547</td>\n",
       "      <td>0.344852</td>\n",
       "      <td>0.343857</td>\n",
       "      <td>0.290102</td>\n",
       "      <td>0.384386</td>\n",
       "      <td>0.388367</td>\n",
       "      <td>0.592719</td>\n",
       "      <td>0.265785</td>\n",
       "      <td>0.481371</td>\n",
       "      <td>0.096701</td>\n",
       "      <td>0.421928</td>\n",
       "      <td>0.343572</td>\n",
       "      <td>0.440273</td>\n",
       "      <td>0.216155</td>\n",
       "      <td>0.551052</td>\n",
       "      <td>0.209329</td>\n",
       "      <td>0.239619</td>\n",
       "      <td>0.219283</td>\n",
       "      <td>0.216297</td>\n",
       "      <td>0.336320</td>\n",
       "      <td>0.228100</td>\n",
       "      <td>0.309300</td>\n",
       "      <td>0.14562</td>\n",
       "      <td>0.226678</td>\n",
       "      <td>0.118316</td>\n",
       "      <td>0.200085</td>\n",
       "      <td>-1.214741e-16</td>\n",
       "      <td>9.652878e-17</td>\n",
       "      <td>-1.172113e-16</td>\n",
       "    </tr>\n",
       "    <tr>\n",
       "      <th>std</th>\n",
       "      <td>0.500014</td>\n",
       "      <td>0.368844</td>\n",
       "      <td>0.499729</td>\n",
       "      <td>0.457629</td>\n",
       "      <td>0.295571</td>\n",
       "      <td>0.452180</td>\n",
       "      <td>0.475354</td>\n",
       "      <td>0.475028</td>\n",
       "      <td>0.453842</td>\n",
       "      <td>0.486484</td>\n",
       "      <td>0.487414</td>\n",
       "      <td>0.491363</td>\n",
       "      <td>0.441782</td>\n",
       "      <td>0.499688</td>\n",
       "      <td>0.295571</td>\n",
       "      <td>0.493902</td>\n",
       "      <td>0.474934</td>\n",
       "      <td>0.496455</td>\n",
       "      <td>0.411650</td>\n",
       "      <td>0.497422</td>\n",
       "      <td>0.406858</td>\n",
       "      <td>0.426881</td>\n",
       "      <td>0.413790</td>\n",
       "      <td>0.411748</td>\n",
       "      <td>0.472483</td>\n",
       "      <td>0.419637</td>\n",
       "      <td>0.462238</td>\n",
       "      <td>0.35275</td>\n",
       "      <td>0.418712</td>\n",
       "      <td>0.323005</td>\n",
       "      <td>0.400092</td>\n",
       "      <td>1.000071e+00</td>\n",
       "      <td>1.000071e+00</td>\n",
       "      <td>1.000071e+00</td>\n",
       "    </tr>\n",
       "    <tr>\n",
       "      <th>min</th>\n",
       "      <td>0.000000</td>\n",
       "      <td>0.000000</td>\n",
       "      <td>0.000000</td>\n",
       "      <td>0.000000</td>\n",
       "      <td>0.000000</td>\n",
       "      <td>0.000000</td>\n",
       "      <td>0.000000</td>\n",
       "      <td>0.000000</td>\n",
       "      <td>0.000000</td>\n",
       "      <td>0.000000</td>\n",
       "      <td>0.000000</td>\n",
       "      <td>0.000000</td>\n",
       "      <td>0.000000</td>\n",
       "      <td>0.000000</td>\n",
       "      <td>0.000000</td>\n",
       "      <td>0.000000</td>\n",
       "      <td>0.000000</td>\n",
       "      <td>0.000000</td>\n",
       "      <td>0.000000</td>\n",
       "      <td>0.000000</td>\n",
       "      <td>0.000000</td>\n",
       "      <td>0.000000</td>\n",
       "      <td>0.000000</td>\n",
       "      <td>0.000000</td>\n",
       "      <td>0.000000</td>\n",
       "      <td>0.000000</td>\n",
       "      <td>0.000000</td>\n",
       "      <td>0.00000</td>\n",
       "      <td>0.000000</td>\n",
       "      <td>0.000000</td>\n",
       "      <td>0.000000</td>\n",
       "      <td>-1.280248e+00</td>\n",
       "      <td>-1.547283e+00</td>\n",
       "      <td>-9.990692e-01</td>\n",
       "    </tr>\n",
       "    <tr>\n",
       "      <th>25%</th>\n",
       "      <td>0.000000</td>\n",
       "      <td>0.000000</td>\n",
       "      <td>0.000000</td>\n",
       "      <td>0.000000</td>\n",
       "      <td>1.000000</td>\n",
       "      <td>0.000000</td>\n",
       "      <td>0.000000</td>\n",
       "      <td>0.000000</td>\n",
       "      <td>0.000000</td>\n",
       "      <td>0.000000</td>\n",
       "      <td>0.000000</td>\n",
       "      <td>0.000000</td>\n",
       "      <td>0.000000</td>\n",
       "      <td>0.000000</td>\n",
       "      <td>0.000000</td>\n",
       "      <td>0.000000</td>\n",
       "      <td>0.000000</td>\n",
       "      <td>0.000000</td>\n",
       "      <td>0.000000</td>\n",
       "      <td>0.000000</td>\n",
       "      <td>0.000000</td>\n",
       "      <td>0.000000</td>\n",
       "      <td>0.000000</td>\n",
       "      <td>0.000000</td>\n",
       "      <td>0.000000</td>\n",
       "      <td>0.000000</td>\n",
       "      <td>0.000000</td>\n",
       "      <td>0.00000</td>\n",
       "      <td>0.000000</td>\n",
       "      <td>0.000000</td>\n",
       "      <td>0.000000</td>\n",
       "      <td>-9.542963e-01</td>\n",
       "      <td>-9.709769e-01</td>\n",
       "      <td>-8.302488e-01</td>\n",
       "    </tr>\n",
       "    <tr>\n",
       "      <th>50%</th>\n",
       "      <td>1.000000</td>\n",
       "      <td>0.000000</td>\n",
       "      <td>0.000000</td>\n",
       "      <td>0.000000</td>\n",
       "      <td>1.000000</td>\n",
       "      <td>0.000000</td>\n",
       "      <td>0.000000</td>\n",
       "      <td>0.000000</td>\n",
       "      <td>0.000000</td>\n",
       "      <td>0.000000</td>\n",
       "      <td>0.000000</td>\n",
       "      <td>1.000000</td>\n",
       "      <td>0.000000</td>\n",
       "      <td>0.000000</td>\n",
       "      <td>0.000000</td>\n",
       "      <td>0.000000</td>\n",
       "      <td>0.000000</td>\n",
       "      <td>0.000000</td>\n",
       "      <td>0.000000</td>\n",
       "      <td>1.000000</td>\n",
       "      <td>0.000000</td>\n",
       "      <td>0.000000</td>\n",
       "      <td>0.000000</td>\n",
       "      <td>0.000000</td>\n",
       "      <td>0.000000</td>\n",
       "      <td>0.000000</td>\n",
       "      <td>0.000000</td>\n",
       "      <td>0.00000</td>\n",
       "      <td>0.000000</td>\n",
       "      <td>0.000000</td>\n",
       "      <td>0.000000</td>\n",
       "      <td>-1.394171e-01</td>\n",
       "      <td>1.845440e-01</td>\n",
       "      <td>-3.908151e-01</td>\n",
       "    </tr>\n",
       "    <tr>\n",
       "      <th>75%</th>\n",
       "      <td>1.000000</td>\n",
       "      <td>0.000000</td>\n",
       "      <td>1.000000</td>\n",
       "      <td>1.000000</td>\n",
       "      <td>1.000000</td>\n",
       "      <td>1.000000</td>\n",
       "      <td>1.000000</td>\n",
       "      <td>1.000000</td>\n",
       "      <td>1.000000</td>\n",
       "      <td>1.000000</td>\n",
       "      <td>1.000000</td>\n",
       "      <td>1.000000</td>\n",
       "      <td>1.000000</td>\n",
       "      <td>1.000000</td>\n",
       "      <td>0.000000</td>\n",
       "      <td>1.000000</td>\n",
       "      <td>1.000000</td>\n",
       "      <td>1.000000</td>\n",
       "      <td>0.000000</td>\n",
       "      <td>1.000000</td>\n",
       "      <td>0.000000</td>\n",
       "      <td>0.000000</td>\n",
       "      <td>0.000000</td>\n",
       "      <td>0.000000</td>\n",
       "      <td>1.000000</td>\n",
       "      <td>0.000000</td>\n",
       "      <td>1.000000</td>\n",
       "      <td>0.00000</td>\n",
       "      <td>0.000000</td>\n",
       "      <td>0.000000</td>\n",
       "      <td>0.000000</td>\n",
       "      <td>9.199259e-01</td>\n",
       "      <td>8.331482e-01</td>\n",
       "      <td>6.668271e-01</td>\n",
       "    </tr>\n",
       "    <tr>\n",
       "      <th>max</th>\n",
       "      <td>1.000000</td>\n",
       "      <td>1.000000</td>\n",
       "      <td>1.000000</td>\n",
       "      <td>1.000000</td>\n",
       "      <td>1.000000</td>\n",
       "      <td>1.000000</td>\n",
       "      <td>1.000000</td>\n",
       "      <td>1.000000</td>\n",
       "      <td>1.000000</td>\n",
       "      <td>1.000000</td>\n",
       "      <td>1.000000</td>\n",
       "      <td>1.000000</td>\n",
       "      <td>1.000000</td>\n",
       "      <td>1.000000</td>\n",
       "      <td>1.000000</td>\n",
       "      <td>1.000000</td>\n",
       "      <td>1.000000</td>\n",
       "      <td>1.000000</td>\n",
       "      <td>1.000000</td>\n",
       "      <td>1.000000</td>\n",
       "      <td>1.000000</td>\n",
       "      <td>1.000000</td>\n",
       "      <td>1.000000</td>\n",
       "      <td>1.000000</td>\n",
       "      <td>1.000000</td>\n",
       "      <td>1.000000</td>\n",
       "      <td>1.000000</td>\n",
       "      <td>1.00000</td>\n",
       "      <td>1.000000</td>\n",
       "      <td>1.000000</td>\n",
       "      <td>1.000000</td>\n",
       "      <td>1.612573e+00</td>\n",
       "      <td>1.793381e+00</td>\n",
       "      <td>2.824261e+00</td>\n",
       "    </tr>\n",
       "  </tbody>\n",
       "</table>\n",
       "</div>"
      ],
      "text/plain": [
       "            gender  SeniorCitizen      Partner   Dependents  PhoneService  \\\n",
       "count  7032.000000    7032.000000  7032.000000  7032.000000   7032.000000   \n",
       "mean      0.504693       0.162400     0.482509     0.298493      0.903299   \n",
       "std       0.500014       0.368844     0.499729     0.457629      0.295571   \n",
       "min       0.000000       0.000000     0.000000     0.000000      0.000000   \n",
       "25%       0.000000       0.000000     0.000000     0.000000      1.000000   \n",
       "50%       1.000000       0.000000     0.000000     0.000000      1.000000   \n",
       "75%       1.000000       0.000000     1.000000     1.000000      1.000000   \n",
       "max       1.000000       1.000000     1.000000     1.000000      1.000000   \n",
       "\n",
       "       OnlineSecurity  OnlineBackup  DeviceProtection  TechSupport  \\\n",
       "count     7032.000000   7032.000000       7032.000000  7032.000000   \n",
       "mean         0.286547      0.344852          0.343857     0.290102   \n",
       "std          0.452180      0.475354          0.475028     0.453842   \n",
       "min          0.000000      0.000000          0.000000     0.000000   \n",
       "25%          0.000000      0.000000          0.000000     0.000000   \n",
       "50%          0.000000      0.000000          0.000000     0.000000   \n",
       "75%          1.000000      1.000000          1.000000     1.000000   \n",
       "max          1.000000      1.000000          1.000000     1.000000   \n",
       "\n",
       "       StreamingTV  StreamingMovies  PaperlessBilling        Churn  \\\n",
       "count  7032.000000      7032.000000       7032.000000  7032.000000   \n",
       "mean      0.384386         0.388367          0.592719     0.265785   \n",
       "std       0.486484         0.487414          0.491363     0.441782   \n",
       "min       0.000000         0.000000          0.000000     0.000000   \n",
       "25%       0.000000         0.000000          0.000000     0.000000   \n",
       "50%       0.000000         0.000000          1.000000     0.000000   \n",
       "75%       1.000000         1.000000          1.000000     1.000000   \n",
       "max       1.000000         1.000000          1.000000     1.000000   \n",
       "\n",
       "       MultipleLines_No  MultipleLines_No phone service  MultipleLines_Yes  \\\n",
       "count       7032.000000                     7032.000000        7032.000000   \n",
       "mean           0.481371                        0.096701           0.421928   \n",
       "std            0.499688                        0.295571           0.493902   \n",
       "min            0.000000                        0.000000           0.000000   \n",
       "25%            0.000000                        0.000000           0.000000   \n",
       "50%            0.000000                        0.000000           0.000000   \n",
       "75%            1.000000                        0.000000           1.000000   \n",
       "max            1.000000                        1.000000           1.000000   \n",
       "\n",
       "       InternetService_DSL  InternetService_Fiber optic  InternetService_No  \\\n",
       "count          7032.000000                  7032.000000         7032.000000   \n",
       "mean              0.343572                     0.440273            0.216155   \n",
       "std               0.474934                     0.496455            0.411650   \n",
       "min               0.000000                     0.000000            0.000000   \n",
       "25%               0.000000                     0.000000            0.000000   \n",
       "50%               0.000000                     0.000000            0.000000   \n",
       "75%               1.000000                     1.000000            0.000000   \n",
       "max               1.000000                     1.000000            1.000000   \n",
       "\n",
       "       Contract_Month-to-month  Contract_One year  Contract_Two year  \\\n",
       "count              7032.000000        7032.000000        7032.000000   \n",
       "mean                  0.551052           0.209329           0.239619   \n",
       "std                   0.497422           0.406858           0.426881   \n",
       "min                   0.000000           0.000000           0.000000   \n",
       "25%                   0.000000           0.000000           0.000000   \n",
       "50%                   1.000000           0.000000           0.000000   \n",
       "75%                   1.000000           0.000000           0.000000   \n",
       "max                   1.000000           1.000000           1.000000   \n",
       "\n",
       "       PaymentMethod_Bank transfer (automatic)  \\\n",
       "count                              7032.000000   \n",
       "mean                                  0.219283   \n",
       "std                                   0.413790   \n",
       "min                                   0.000000   \n",
       "25%                                   0.000000   \n",
       "50%                                   0.000000   \n",
       "75%                                   0.000000   \n",
       "max                                   1.000000   \n",
       "\n",
       "       PaymentMethod_Credit card (automatic)  PaymentMethod_Electronic check  \\\n",
       "count                            7032.000000                     7032.000000   \n",
       "mean                                0.216297                        0.336320   \n",
       "std                                 0.411748                        0.472483   \n",
       "min                                 0.000000                        0.000000   \n",
       "25%                                 0.000000                        0.000000   \n",
       "50%                                 0.000000                        0.000000   \n",
       "75%                                 0.000000                        1.000000   \n",
       "max                                 1.000000                        1.000000   \n",
       "\n",
       "       PaymentMethod_Mailed check  tenure_group_Tenure_0-12  \\\n",
       "count                 7032.000000               7032.000000   \n",
       "mean                     0.228100                  0.309300   \n",
       "std                      0.419637                  0.462238   \n",
       "min                      0.000000                  0.000000   \n",
       "25%                      0.000000                  0.000000   \n",
       "50%                      0.000000                  0.000000   \n",
       "75%                      0.000000                  1.000000   \n",
       "max                      1.000000                  1.000000   \n",
       "\n",
       "       tenure_group_Tenure_12-24  tenure_group_Tenure_24-48  \\\n",
       "count                 7032.00000                7032.000000   \n",
       "mean                     0.14562                   0.226678   \n",
       "std                      0.35275                   0.418712   \n",
       "min                      0.00000                   0.000000   \n",
       "25%                      0.00000                   0.000000   \n",
       "50%                      0.00000                   0.000000   \n",
       "75%                      0.00000                   0.000000   \n",
       "max                      1.00000                   1.000000   \n",
       "\n",
       "       tenure_group_Tenure_48-60  tenure_group_Tenure_gt_60        tenure  \\\n",
       "count                7032.000000                7032.000000  7.032000e+03   \n",
       "mean                    0.118316                   0.200085 -1.214741e-16   \n",
       "std                     0.323005                   0.400092  1.000071e+00   \n",
       "min                     0.000000                   0.000000 -1.280248e+00   \n",
       "25%                     0.000000                   0.000000 -9.542963e-01   \n",
       "50%                     0.000000                   0.000000 -1.394171e-01   \n",
       "75%                     0.000000                   0.000000  9.199259e-01   \n",
       "max                     1.000000                   1.000000  1.612573e+00   \n",
       "\n",
       "       MonthlyCharges  TotalCharges  \n",
       "count    7.032000e+03  7.032000e+03  \n",
       "mean     9.652878e-17 -1.172113e-16  \n",
       "std      1.000071e+00  1.000071e+00  \n",
       "min     -1.547283e+00 -9.990692e-01  \n",
       "25%     -9.709769e-01 -8.302488e-01  \n",
       "50%      1.845440e-01 -3.908151e-01  \n",
       "75%      8.331482e-01  6.668271e-01  \n",
       "max      1.793381e+00  2.824261e+00  "
      ]
     },
     "execution_count": 131,
     "metadata": {},
     "output_type": "execute_result"
    }
   ],
   "source": [
    "summary = telcom.describe().transpose()\n",
    "summary.T"
   ]
  },
  {
   "cell_type": "markdown",
   "metadata": {
    "id": "fGoz2CQbL7bN"
   },
   "source": [
    "# Variable Summary"
   ]
  },
  {
   "cell_type": "code",
   "execution_count": 132,
   "metadata": {
    "colab": {
     "base_uri": "https://localhost:8080/",
     "height": 542
    },
    "id": "XZAx3n2eL5sF",
    "outputId": "0971bf72-a8dd-4311-be66-47ee6a4dc2d2"
   },
   "outputs": [
    {
     "data": {
      "application/vnd.plotly.v1+json": {
       "config": {
        "linkText": "Export to plot.ly",
        "plotlyServerURL": "https://plot.ly",
        "showLink": false
       },
       "data": [
        {
         "cells": {
          "fill": {
           "color": [
            "lightgrey",
            "#F5F8FF"
           ]
          },
          "line": {
           "color": [
            "#506784"
           ]
          },
          "values": [
           [
            "gender",
            "SeniorCitizen",
            "Partner",
            "Dependents",
            "PhoneService",
            "OnlineSecurity",
            "OnlineBackup",
            "DeviceProtection",
            "TechSupport",
            "StreamingTV",
            "StreamingMovies",
            "PaperlessBilling",
            "Churn",
            "MultipleLines_No",
            "MultipleLines_No phone service",
            "MultipleLines_Yes",
            "InternetService_DSL",
            "InternetService_Fiber optic",
            "InternetService_No",
            "Contract_Month-to-month",
            "Contract_One year",
            "Contract_Two year",
            "PaymentMethod_Bank transfer (automatic)",
            "PaymentMethod_Credit card (automatic)",
            "PaymentMethod_Electronic check",
            "PaymentMethod_Mailed check",
            "tenure_group_Tenure_0-12",
            "tenure_group_Tenure_12-24",
            "tenure_group_Tenure_24-48",
            "tenure_group_Tenure_48-60",
            "tenure_group_Tenure_gt_60",
            "tenure",
            "MonthlyCharges",
            "TotalCharges"
           ],
           [
            7032,
            7032,
            7032,
            7032,
            7032,
            7032,
            7032,
            7032,
            7032,
            7032,
            7032,
            7032,
            7032,
            7032,
            7032,
            7032,
            7032,
            7032,
            7032,
            7032,
            7032,
            7032,
            7032,
            7032,
            7032,
            7032,
            7032,
            7032,
            7032,
            7032,
            7032,
            7032,
            7032,
            7032
           ],
           [
            0.505,
            0.162,
            0.483,
            0.298,
            0.903,
            0.287,
            0.345,
            0.344,
            0.29,
            0.384,
            0.388,
            0.593,
            0.266,
            0.481,
            0.097,
            0.422,
            0.344,
            0.44,
            0.216,
            0.551,
            0.209,
            0.24,
            0.219,
            0.216,
            0.336,
            0.228,
            0.309,
            0.146,
            0.227,
            0.118,
            0.2,
            0,
            0,
            0
           ],
           [
            0.5,
            0.369,
            0.5,
            0.458,
            0.296,
            0.452,
            0.475,
            0.475,
            0.454,
            0.486,
            0.487,
            0.491,
            0.442,
            0.5,
            0.296,
            0.494,
            0.475,
            0.496,
            0.412,
            0.497,
            0.407,
            0.427,
            0.414,
            0.412,
            0.472,
            0.42,
            0.462,
            0.353,
            0.419,
            0.323,
            0.4,
            1,
            1,
            1
           ],
           [
            0,
            0,
            0,
            0,
            0,
            0,
            0,
            0,
            0,
            0,
            0,
            0,
            0,
            0,
            0,
            0,
            0,
            0,
            0,
            0,
            0,
            0,
            0,
            0,
            0,
            0,
            0,
            0,
            0,
            0,
            0,
            -1.28,
            -1.547,
            -0.999
           ],
           [
            0,
            0,
            0,
            0,
            1,
            0,
            0,
            0,
            0,
            0,
            0,
            0,
            0,
            0,
            0,
            0,
            0,
            0,
            0,
            0,
            0,
            0,
            0,
            0,
            0,
            0,
            0,
            0,
            0,
            0,
            0,
            -0.954,
            -0.971,
            -0.83
           ],
           [
            1,
            0,
            0,
            0,
            1,
            0,
            0,
            0,
            0,
            0,
            0,
            1,
            0,
            0,
            0,
            0,
            0,
            0,
            0,
            1,
            0,
            0,
            0,
            0,
            0,
            0,
            0,
            0,
            0,
            0,
            0,
            -0.139,
            0.185,
            -0.391
           ],
           [
            1,
            0,
            1,
            1,
            1,
            1,
            1,
            1,
            1,
            1,
            1,
            1,
            1,
            1,
            0,
            1,
            1,
            1,
            0,
            1,
            0,
            0,
            0,
            0,
            1,
            0,
            1,
            0,
            0,
            0,
            0,
            0.92,
            0.833,
            0.667
           ],
           [
            1,
            1,
            1,
            1,
            1,
            1,
            1,
            1,
            1,
            1,
            1,
            1,
            1,
            1,
            1,
            1,
            1,
            1,
            1,
            1,
            1,
            1,
            1,
            1,
            1,
            1,
            1,
            1,
            1,
            1,
            1,
            1.613,
            1.793,
            2.824
           ]
          ]
         },
         "columnwidth": [
          200,
          60,
          100,
          100,
          60,
          60,
          80,
          80,
          80
         ],
         "header": {
          "fill": {
           "color": [
            "#119DFF"
           ]
          },
          "line": {
           "color": [
            "#506784"
           ]
          },
          "values": [
           "feature",
           "count",
           "mean",
           "std",
           "min",
           "25%",
           "50%",
           "75%",
           "max"
          ]
         },
         "type": "table"
        }
       ],
       "layout": {
        "template": {
         "data": {
          "bar": [
           {
            "error_x": {
             "color": "#2a3f5f"
            },
            "error_y": {
             "color": "#2a3f5f"
            },
            "marker": {
             "line": {
              "color": "#E5ECF6",
              "width": 0.5
             },
             "pattern": {
              "fillmode": "overlay",
              "size": 10,
              "solidity": 0.2
             }
            },
            "type": "bar"
           }
          ],
          "barpolar": [
           {
            "marker": {
             "line": {
              "color": "#E5ECF6",
              "width": 0.5
             },
             "pattern": {
              "fillmode": "overlay",
              "size": 10,
              "solidity": 0.2
             }
            },
            "type": "barpolar"
           }
          ],
          "carpet": [
           {
            "aaxis": {
             "endlinecolor": "#2a3f5f",
             "gridcolor": "white",
             "linecolor": "white",
             "minorgridcolor": "white",
             "startlinecolor": "#2a3f5f"
            },
            "baxis": {
             "endlinecolor": "#2a3f5f",
             "gridcolor": "white",
             "linecolor": "white",
             "minorgridcolor": "white",
             "startlinecolor": "#2a3f5f"
            },
            "type": "carpet"
           }
          ],
          "choropleth": [
           {
            "colorbar": {
             "outlinewidth": 0,
             "ticks": ""
            },
            "type": "choropleth"
           }
          ],
          "contour": [
           {
            "colorbar": {
             "outlinewidth": 0,
             "ticks": ""
            },
            "colorscale": [
             [
              0,
              "#0d0887"
             ],
             [
              0.1111111111111111,
              "#46039f"
             ],
             [
              0.2222222222222222,
              "#7201a8"
             ],
             [
              0.3333333333333333,
              "#9c179e"
             ],
             [
              0.4444444444444444,
              "#bd3786"
             ],
             [
              0.5555555555555556,
              "#d8576b"
             ],
             [
              0.6666666666666666,
              "#ed7953"
             ],
             [
              0.7777777777777778,
              "#fb9f3a"
             ],
             [
              0.8888888888888888,
              "#fdca26"
             ],
             [
              1,
              "#f0f921"
             ]
            ],
            "type": "contour"
           }
          ],
          "contourcarpet": [
           {
            "colorbar": {
             "outlinewidth": 0,
             "ticks": ""
            },
            "type": "contourcarpet"
           }
          ],
          "heatmap": [
           {
            "colorbar": {
             "outlinewidth": 0,
             "ticks": ""
            },
            "colorscale": [
             [
              0,
              "#0d0887"
             ],
             [
              0.1111111111111111,
              "#46039f"
             ],
             [
              0.2222222222222222,
              "#7201a8"
             ],
             [
              0.3333333333333333,
              "#9c179e"
             ],
             [
              0.4444444444444444,
              "#bd3786"
             ],
             [
              0.5555555555555556,
              "#d8576b"
             ],
             [
              0.6666666666666666,
              "#ed7953"
             ],
             [
              0.7777777777777778,
              "#fb9f3a"
             ],
             [
              0.8888888888888888,
              "#fdca26"
             ],
             [
              1,
              "#f0f921"
             ]
            ],
            "type": "heatmap"
           }
          ],
          "heatmapgl": [
           {
            "colorbar": {
             "outlinewidth": 0,
             "ticks": ""
            },
            "colorscale": [
             [
              0,
              "#0d0887"
             ],
             [
              0.1111111111111111,
              "#46039f"
             ],
             [
              0.2222222222222222,
              "#7201a8"
             ],
             [
              0.3333333333333333,
              "#9c179e"
             ],
             [
              0.4444444444444444,
              "#bd3786"
             ],
             [
              0.5555555555555556,
              "#d8576b"
             ],
             [
              0.6666666666666666,
              "#ed7953"
             ],
             [
              0.7777777777777778,
              "#fb9f3a"
             ],
             [
              0.8888888888888888,
              "#fdca26"
             ],
             [
              1,
              "#f0f921"
             ]
            ],
            "type": "heatmapgl"
           }
          ],
          "histogram": [
           {
            "marker": {
             "pattern": {
              "fillmode": "overlay",
              "size": 10,
              "solidity": 0.2
             }
            },
            "type": "histogram"
           }
          ],
          "histogram2d": [
           {
            "colorbar": {
             "outlinewidth": 0,
             "ticks": ""
            },
            "colorscale": [
             [
              0,
              "#0d0887"
             ],
             [
              0.1111111111111111,
              "#46039f"
             ],
             [
              0.2222222222222222,
              "#7201a8"
             ],
             [
              0.3333333333333333,
              "#9c179e"
             ],
             [
              0.4444444444444444,
              "#bd3786"
             ],
             [
              0.5555555555555556,
              "#d8576b"
             ],
             [
              0.6666666666666666,
              "#ed7953"
             ],
             [
              0.7777777777777778,
              "#fb9f3a"
             ],
             [
              0.8888888888888888,
              "#fdca26"
             ],
             [
              1,
              "#f0f921"
             ]
            ],
            "type": "histogram2d"
           }
          ],
          "histogram2dcontour": [
           {
            "colorbar": {
             "outlinewidth": 0,
             "ticks": ""
            },
            "colorscale": [
             [
              0,
              "#0d0887"
             ],
             [
              0.1111111111111111,
              "#46039f"
             ],
             [
              0.2222222222222222,
              "#7201a8"
             ],
             [
              0.3333333333333333,
              "#9c179e"
             ],
             [
              0.4444444444444444,
              "#bd3786"
             ],
             [
              0.5555555555555556,
              "#d8576b"
             ],
             [
              0.6666666666666666,
              "#ed7953"
             ],
             [
              0.7777777777777778,
              "#fb9f3a"
             ],
             [
              0.8888888888888888,
              "#fdca26"
             ],
             [
              1,
              "#f0f921"
             ]
            ],
            "type": "histogram2dcontour"
           }
          ],
          "mesh3d": [
           {
            "colorbar": {
             "outlinewidth": 0,
             "ticks": ""
            },
            "type": "mesh3d"
           }
          ],
          "parcoords": [
           {
            "line": {
             "colorbar": {
              "outlinewidth": 0,
              "ticks": ""
             }
            },
            "type": "parcoords"
           }
          ],
          "pie": [
           {
            "automargin": true,
            "type": "pie"
           }
          ],
          "scatter": [
           {
            "marker": {
             "colorbar": {
              "outlinewidth": 0,
              "ticks": ""
             }
            },
            "type": "scatter"
           }
          ],
          "scatter3d": [
           {
            "line": {
             "colorbar": {
              "outlinewidth": 0,
              "ticks": ""
             }
            },
            "marker": {
             "colorbar": {
              "outlinewidth": 0,
              "ticks": ""
             }
            },
            "type": "scatter3d"
           }
          ],
          "scattercarpet": [
           {
            "marker": {
             "colorbar": {
              "outlinewidth": 0,
              "ticks": ""
             }
            },
            "type": "scattercarpet"
           }
          ],
          "scattergeo": [
           {
            "marker": {
             "colorbar": {
              "outlinewidth": 0,
              "ticks": ""
             }
            },
            "type": "scattergeo"
           }
          ],
          "scattergl": [
           {
            "marker": {
             "colorbar": {
              "outlinewidth": 0,
              "ticks": ""
             }
            },
            "type": "scattergl"
           }
          ],
          "scattermapbox": [
           {
            "marker": {
             "colorbar": {
              "outlinewidth": 0,
              "ticks": ""
             }
            },
            "type": "scattermapbox"
           }
          ],
          "scatterpolar": [
           {
            "marker": {
             "colorbar": {
              "outlinewidth": 0,
              "ticks": ""
             }
            },
            "type": "scatterpolar"
           }
          ],
          "scatterpolargl": [
           {
            "marker": {
             "colorbar": {
              "outlinewidth": 0,
              "ticks": ""
             }
            },
            "type": "scatterpolargl"
           }
          ],
          "scatterternary": [
           {
            "marker": {
             "colorbar": {
              "outlinewidth": 0,
              "ticks": ""
             }
            },
            "type": "scatterternary"
           }
          ],
          "surface": [
           {
            "colorbar": {
             "outlinewidth": 0,
             "ticks": ""
            },
            "colorscale": [
             [
              0,
              "#0d0887"
             ],
             [
              0.1111111111111111,
              "#46039f"
             ],
             [
              0.2222222222222222,
              "#7201a8"
             ],
             [
              0.3333333333333333,
              "#9c179e"
             ],
             [
              0.4444444444444444,
              "#bd3786"
             ],
             [
              0.5555555555555556,
              "#d8576b"
             ],
             [
              0.6666666666666666,
              "#ed7953"
             ],
             [
              0.7777777777777778,
              "#fb9f3a"
             ],
             [
              0.8888888888888888,
              "#fdca26"
             ],
             [
              1,
              "#f0f921"
             ]
            ],
            "type": "surface"
           }
          ],
          "table": [
           {
            "cells": {
             "fill": {
              "color": "#EBF0F8"
             },
             "line": {
              "color": "white"
             }
            },
            "header": {
             "fill": {
              "color": "#C8D4E3"
             },
             "line": {
              "color": "white"
             }
            },
            "type": "table"
           }
          ]
         },
         "layout": {
          "annotationdefaults": {
           "arrowcolor": "#2a3f5f",
           "arrowhead": 0,
           "arrowwidth": 1
          },
          "autotypenumbers": "strict",
          "coloraxis": {
           "colorbar": {
            "outlinewidth": 0,
            "ticks": ""
           }
          },
          "colorscale": {
           "diverging": [
            [
             0,
             "#8e0152"
            ],
            [
             0.1,
             "#c51b7d"
            ],
            [
             0.2,
             "#de77ae"
            ],
            [
             0.3,
             "#f1b6da"
            ],
            [
             0.4,
             "#fde0ef"
            ],
            [
             0.5,
             "#f7f7f7"
            ],
            [
             0.6,
             "#e6f5d0"
            ],
            [
             0.7,
             "#b8e186"
            ],
            [
             0.8,
             "#7fbc41"
            ],
            [
             0.9,
             "#4d9221"
            ],
            [
             1,
             "#276419"
            ]
           ],
           "sequential": [
            [
             0,
             "#0d0887"
            ],
            [
             0.1111111111111111,
             "#46039f"
            ],
            [
             0.2222222222222222,
             "#7201a8"
            ],
            [
             0.3333333333333333,
             "#9c179e"
            ],
            [
             0.4444444444444444,
             "#bd3786"
            ],
            [
             0.5555555555555556,
             "#d8576b"
            ],
            [
             0.6666666666666666,
             "#ed7953"
            ],
            [
             0.7777777777777778,
             "#fb9f3a"
            ],
            [
             0.8888888888888888,
             "#fdca26"
            ],
            [
             1,
             "#f0f921"
            ]
           ],
           "sequentialminus": [
            [
             0,
             "#0d0887"
            ],
            [
             0.1111111111111111,
             "#46039f"
            ],
            [
             0.2222222222222222,
             "#7201a8"
            ],
            [
             0.3333333333333333,
             "#9c179e"
            ],
            [
             0.4444444444444444,
             "#bd3786"
            ],
            [
             0.5555555555555556,
             "#d8576b"
            ],
            [
             0.6666666666666666,
             "#ed7953"
            ],
            [
             0.7777777777777778,
             "#fb9f3a"
            ],
            [
             0.8888888888888888,
             "#fdca26"
            ],
            [
             1,
             "#f0f921"
            ]
           ]
          },
          "colorway": [
           "#636efa",
           "#EF553B",
           "#00cc96",
           "#ab63fa",
           "#FFA15A",
           "#19d3f3",
           "#FF6692",
           "#B6E880",
           "#FF97FF",
           "#FECB52"
          ],
          "font": {
           "color": "#2a3f5f"
          },
          "geo": {
           "bgcolor": "white",
           "lakecolor": "white",
           "landcolor": "#E5ECF6",
           "showlakes": true,
           "showland": true,
           "subunitcolor": "white"
          },
          "hoverlabel": {
           "align": "left"
          },
          "hovermode": "closest",
          "mapbox": {
           "style": "light"
          },
          "paper_bgcolor": "white",
          "plot_bgcolor": "#E5ECF6",
          "polar": {
           "angularaxis": {
            "gridcolor": "white",
            "linecolor": "white",
            "ticks": ""
           },
           "bgcolor": "#E5ECF6",
           "radialaxis": {
            "gridcolor": "white",
            "linecolor": "white",
            "ticks": ""
           }
          },
          "scene": {
           "xaxis": {
            "backgroundcolor": "#E5ECF6",
            "gridcolor": "white",
            "gridwidth": 2,
            "linecolor": "white",
            "showbackground": true,
            "ticks": "",
            "zerolinecolor": "white"
           },
           "yaxis": {
            "backgroundcolor": "#E5ECF6",
            "gridcolor": "white",
            "gridwidth": 2,
            "linecolor": "white",
            "showbackground": true,
            "ticks": "",
            "zerolinecolor": "white"
           },
           "zaxis": {
            "backgroundcolor": "#E5ECF6",
            "gridcolor": "white",
            "gridwidth": 2,
            "linecolor": "white",
            "showbackground": true,
            "ticks": "",
            "zerolinecolor": "white"
           }
          },
          "shapedefaults": {
           "line": {
            "color": "#2a3f5f"
           }
          },
          "ternary": {
           "aaxis": {
            "gridcolor": "white",
            "linecolor": "white",
            "ticks": ""
           },
           "baxis": {
            "gridcolor": "white",
            "linecolor": "white",
            "ticks": ""
           },
           "bgcolor": "#E5ECF6",
           "caxis": {
            "gridcolor": "white",
            "linecolor": "white",
            "ticks": ""
           }
          },
          "title": {
           "x": 0.05
          },
          "xaxis": {
           "automargin": true,
           "gridcolor": "white",
           "linecolor": "white",
           "ticks": "",
           "title": {
            "standoff": 15
           },
           "zerolinecolor": "white",
           "zerolinewidth": 2
          },
          "yaxis": {
           "automargin": true,
           "gridcolor": "white",
           "linecolor": "white",
           "ticks": "",
           "title": {
            "standoff": 15
           },
           "zerolinecolor": "white",
           "zerolinewidth": 2
          }
         }
        },
        "title": {
         "text": "Variable Summary"
        }
       }
      },
      "text/html": [
       "<div>                            <div id=\"6fb1e2ed-6511-4795-ad0d-3f1fd710a2d7\" class=\"plotly-graph-div\" style=\"height:525px; width:100%;\"></div>            <script type=\"text/javascript\">                require([\"plotly\"], function(Plotly) {                    window.PLOTLYENV=window.PLOTLYENV || {};                                    if (document.getElementById(\"6fb1e2ed-6511-4795-ad0d-3f1fd710a2d7\")) {                    Plotly.newPlot(                        \"6fb1e2ed-6511-4795-ad0d-3f1fd710a2d7\",                        [{\"cells\":{\"fill\":{\"color\":[\"lightgrey\",\"#F5F8FF\"]},\"line\":{\"color\":[\"#506784\"]},\"values\":[[\"gender\",\"SeniorCitizen\",\"Partner\",\"Dependents\",\"PhoneService\",\"OnlineSecurity\",\"OnlineBackup\",\"DeviceProtection\",\"TechSupport\",\"StreamingTV\",\"StreamingMovies\",\"PaperlessBilling\",\"Churn\",\"MultipleLines_No\",\"MultipleLines_No phone service\",\"MultipleLines_Yes\",\"InternetService_DSL\",\"InternetService_Fiber optic\",\"InternetService_No\",\"Contract_Month-to-month\",\"Contract_One year\",\"Contract_Two year\",\"PaymentMethod_Bank transfer (automatic)\",\"PaymentMethod_Credit card (automatic)\",\"PaymentMethod_Electronic check\",\"PaymentMethod_Mailed check\",\"tenure_group_Tenure_0-12\",\"tenure_group_Tenure_12-24\",\"tenure_group_Tenure_24-48\",\"tenure_group_Tenure_48-60\",\"tenure_group_Tenure_gt_60\",\"tenure\",\"MonthlyCharges\",\"TotalCharges\"],[7032.0,7032.0,7032.0,7032.0,7032.0,7032.0,7032.0,7032.0,7032.0,7032.0,7032.0,7032.0,7032.0,7032.0,7032.0,7032.0,7032.0,7032.0,7032.0,7032.0,7032.0,7032.0,7032.0,7032.0,7032.0,7032.0,7032.0,7032.0,7032.0,7032.0,7032.0,7032.0,7032.0,7032.0],[0.505,0.162,0.483,0.298,0.903,0.287,0.345,0.344,0.29,0.384,0.388,0.593,0.266,0.481,0.097,0.422,0.344,0.44,0.216,0.551,0.209,0.24,0.219,0.216,0.336,0.228,0.309,0.146,0.227,0.118,0.2,-0.0,0.0,-0.0],[0.5,0.369,0.5,0.458,0.296,0.452,0.475,0.475,0.454,0.486,0.487,0.491,0.442,0.5,0.296,0.494,0.475,0.496,0.412,0.497,0.407,0.427,0.414,0.412,0.472,0.42,0.462,0.353,0.419,0.323,0.4,1.0,1.0,1.0],[0.0,0.0,0.0,0.0,0.0,0.0,0.0,0.0,0.0,0.0,0.0,0.0,0.0,0.0,0.0,0.0,0.0,0.0,0.0,0.0,0.0,0.0,0.0,0.0,0.0,0.0,0.0,0.0,0.0,0.0,0.0,-1.28,-1.547,-0.999],[0.0,0.0,0.0,0.0,1.0,0.0,0.0,0.0,0.0,0.0,0.0,0.0,0.0,0.0,0.0,0.0,0.0,0.0,0.0,0.0,0.0,0.0,0.0,0.0,0.0,0.0,0.0,0.0,0.0,0.0,0.0,-0.954,-0.971,-0.83],[1.0,0.0,0.0,0.0,1.0,0.0,0.0,0.0,0.0,0.0,0.0,1.0,0.0,0.0,0.0,0.0,0.0,0.0,0.0,1.0,0.0,0.0,0.0,0.0,0.0,0.0,0.0,0.0,0.0,0.0,0.0,-0.139,0.185,-0.391],[1.0,0.0,1.0,1.0,1.0,1.0,1.0,1.0,1.0,1.0,1.0,1.0,1.0,1.0,0.0,1.0,1.0,1.0,0.0,1.0,0.0,0.0,0.0,0.0,1.0,0.0,1.0,0.0,0.0,0.0,0.0,0.92,0.833,0.667],[1.0,1.0,1.0,1.0,1.0,1.0,1.0,1.0,1.0,1.0,1.0,1.0,1.0,1.0,1.0,1.0,1.0,1.0,1.0,1.0,1.0,1.0,1.0,1.0,1.0,1.0,1.0,1.0,1.0,1.0,1.0,1.613,1.793,2.824]]},\"columnwidth\":[200,60,100,100,60,60,80,80,80],\"header\":{\"fill\":{\"color\":[\"#119DFF\"]},\"line\":{\"color\":[\"#506784\"]},\"values\":[\"feature\",\"count\",\"mean\",\"std\",\"min\",\"25%\",\"50%\",\"75%\",\"max\"]},\"type\":\"table\"}],                        {\"template\":{\"data\":{\"bar\":[{\"error_x\":{\"color\":\"#2a3f5f\"},\"error_y\":{\"color\":\"#2a3f5f\"},\"marker\":{\"line\":{\"color\":\"#E5ECF6\",\"width\":0.5},\"pattern\":{\"fillmode\":\"overlay\",\"size\":10,\"solidity\":0.2}},\"type\":\"bar\"}],\"barpolar\":[{\"marker\":{\"line\":{\"color\":\"#E5ECF6\",\"width\":0.5},\"pattern\":{\"fillmode\":\"overlay\",\"size\":10,\"solidity\":0.2}},\"type\":\"barpolar\"}],\"carpet\":[{\"aaxis\":{\"endlinecolor\":\"#2a3f5f\",\"gridcolor\":\"white\",\"linecolor\":\"white\",\"minorgridcolor\":\"white\",\"startlinecolor\":\"#2a3f5f\"},\"baxis\":{\"endlinecolor\":\"#2a3f5f\",\"gridcolor\":\"white\",\"linecolor\":\"white\",\"minorgridcolor\":\"white\",\"startlinecolor\":\"#2a3f5f\"},\"type\":\"carpet\"}],\"choropleth\":[{\"colorbar\":{\"outlinewidth\":0,\"ticks\":\"\"},\"type\":\"choropleth\"}],\"contour\":[{\"colorbar\":{\"outlinewidth\":0,\"ticks\":\"\"},\"colorscale\":[[0.0,\"#0d0887\"],[0.1111111111111111,\"#46039f\"],[0.2222222222222222,\"#7201a8\"],[0.3333333333333333,\"#9c179e\"],[0.4444444444444444,\"#bd3786\"],[0.5555555555555556,\"#d8576b\"],[0.6666666666666666,\"#ed7953\"],[0.7777777777777778,\"#fb9f3a\"],[0.8888888888888888,\"#fdca26\"],[1.0,\"#f0f921\"]],\"type\":\"contour\"}],\"contourcarpet\":[{\"colorbar\":{\"outlinewidth\":0,\"ticks\":\"\"},\"type\":\"contourcarpet\"}],\"heatmap\":[{\"colorbar\":{\"outlinewidth\":0,\"ticks\":\"\"},\"colorscale\":[[0.0,\"#0d0887\"],[0.1111111111111111,\"#46039f\"],[0.2222222222222222,\"#7201a8\"],[0.3333333333333333,\"#9c179e\"],[0.4444444444444444,\"#bd3786\"],[0.5555555555555556,\"#d8576b\"],[0.6666666666666666,\"#ed7953\"],[0.7777777777777778,\"#fb9f3a\"],[0.8888888888888888,\"#fdca26\"],[1.0,\"#f0f921\"]],\"type\":\"heatmap\"}],\"heatmapgl\":[{\"colorbar\":{\"outlinewidth\":0,\"ticks\":\"\"},\"colorscale\":[[0.0,\"#0d0887\"],[0.1111111111111111,\"#46039f\"],[0.2222222222222222,\"#7201a8\"],[0.3333333333333333,\"#9c179e\"],[0.4444444444444444,\"#bd3786\"],[0.5555555555555556,\"#d8576b\"],[0.6666666666666666,\"#ed7953\"],[0.7777777777777778,\"#fb9f3a\"],[0.8888888888888888,\"#fdca26\"],[1.0,\"#f0f921\"]],\"type\":\"heatmapgl\"}],\"histogram\":[{\"marker\":{\"pattern\":{\"fillmode\":\"overlay\",\"size\":10,\"solidity\":0.2}},\"type\":\"histogram\"}],\"histogram2d\":[{\"colorbar\":{\"outlinewidth\":0,\"ticks\":\"\"},\"colorscale\":[[0.0,\"#0d0887\"],[0.1111111111111111,\"#46039f\"],[0.2222222222222222,\"#7201a8\"],[0.3333333333333333,\"#9c179e\"],[0.4444444444444444,\"#bd3786\"],[0.5555555555555556,\"#d8576b\"],[0.6666666666666666,\"#ed7953\"],[0.7777777777777778,\"#fb9f3a\"],[0.8888888888888888,\"#fdca26\"],[1.0,\"#f0f921\"]],\"type\":\"histogram2d\"}],\"histogram2dcontour\":[{\"colorbar\":{\"outlinewidth\":0,\"ticks\":\"\"},\"colorscale\":[[0.0,\"#0d0887\"],[0.1111111111111111,\"#46039f\"],[0.2222222222222222,\"#7201a8\"],[0.3333333333333333,\"#9c179e\"],[0.4444444444444444,\"#bd3786\"],[0.5555555555555556,\"#d8576b\"],[0.6666666666666666,\"#ed7953\"],[0.7777777777777778,\"#fb9f3a\"],[0.8888888888888888,\"#fdca26\"],[1.0,\"#f0f921\"]],\"type\":\"histogram2dcontour\"}],\"mesh3d\":[{\"colorbar\":{\"outlinewidth\":0,\"ticks\":\"\"},\"type\":\"mesh3d\"}],\"parcoords\":[{\"line\":{\"colorbar\":{\"outlinewidth\":0,\"ticks\":\"\"}},\"type\":\"parcoords\"}],\"pie\":[{\"automargin\":true,\"type\":\"pie\"}],\"scatter\":[{\"marker\":{\"colorbar\":{\"outlinewidth\":0,\"ticks\":\"\"}},\"type\":\"scatter\"}],\"scatter3d\":[{\"line\":{\"colorbar\":{\"outlinewidth\":0,\"ticks\":\"\"}},\"marker\":{\"colorbar\":{\"outlinewidth\":0,\"ticks\":\"\"}},\"type\":\"scatter3d\"}],\"scattercarpet\":[{\"marker\":{\"colorbar\":{\"outlinewidth\":0,\"ticks\":\"\"}},\"type\":\"scattercarpet\"}],\"scattergeo\":[{\"marker\":{\"colorbar\":{\"outlinewidth\":0,\"ticks\":\"\"}},\"type\":\"scattergeo\"}],\"scattergl\":[{\"marker\":{\"colorbar\":{\"outlinewidth\":0,\"ticks\":\"\"}},\"type\":\"scattergl\"}],\"scattermapbox\":[{\"marker\":{\"colorbar\":{\"outlinewidth\":0,\"ticks\":\"\"}},\"type\":\"scattermapbox\"}],\"scatterpolar\":[{\"marker\":{\"colorbar\":{\"outlinewidth\":0,\"ticks\":\"\"}},\"type\":\"scatterpolar\"}],\"scatterpolargl\":[{\"marker\":{\"colorbar\":{\"outlinewidth\":0,\"ticks\":\"\"}},\"type\":\"scatterpolargl\"}],\"scatterternary\":[{\"marker\":{\"colorbar\":{\"outlinewidth\":0,\"ticks\":\"\"}},\"type\":\"scatterternary\"}],\"surface\":[{\"colorbar\":{\"outlinewidth\":0,\"ticks\":\"\"},\"colorscale\":[[0.0,\"#0d0887\"],[0.1111111111111111,\"#46039f\"],[0.2222222222222222,\"#7201a8\"],[0.3333333333333333,\"#9c179e\"],[0.4444444444444444,\"#bd3786\"],[0.5555555555555556,\"#d8576b\"],[0.6666666666666666,\"#ed7953\"],[0.7777777777777778,\"#fb9f3a\"],[0.8888888888888888,\"#fdca26\"],[1.0,\"#f0f921\"]],\"type\":\"surface\"}],\"table\":[{\"cells\":{\"fill\":{\"color\":\"#EBF0F8\"},\"line\":{\"color\":\"white\"}},\"header\":{\"fill\":{\"color\":\"#C8D4E3\"},\"line\":{\"color\":\"white\"}},\"type\":\"table\"}]},\"layout\":{\"annotationdefaults\":{\"arrowcolor\":\"#2a3f5f\",\"arrowhead\":0,\"arrowwidth\":1},\"autotypenumbers\":\"strict\",\"coloraxis\":{\"colorbar\":{\"outlinewidth\":0,\"ticks\":\"\"}},\"colorscale\":{\"diverging\":[[0,\"#8e0152\"],[0.1,\"#c51b7d\"],[0.2,\"#de77ae\"],[0.3,\"#f1b6da\"],[0.4,\"#fde0ef\"],[0.5,\"#f7f7f7\"],[0.6,\"#e6f5d0\"],[0.7,\"#b8e186\"],[0.8,\"#7fbc41\"],[0.9,\"#4d9221\"],[1,\"#276419\"]],\"sequential\":[[0.0,\"#0d0887\"],[0.1111111111111111,\"#46039f\"],[0.2222222222222222,\"#7201a8\"],[0.3333333333333333,\"#9c179e\"],[0.4444444444444444,\"#bd3786\"],[0.5555555555555556,\"#d8576b\"],[0.6666666666666666,\"#ed7953\"],[0.7777777777777778,\"#fb9f3a\"],[0.8888888888888888,\"#fdca26\"],[1.0,\"#f0f921\"]],\"sequentialminus\":[[0.0,\"#0d0887\"],[0.1111111111111111,\"#46039f\"],[0.2222222222222222,\"#7201a8\"],[0.3333333333333333,\"#9c179e\"],[0.4444444444444444,\"#bd3786\"],[0.5555555555555556,\"#d8576b\"],[0.6666666666666666,\"#ed7953\"],[0.7777777777777778,\"#fb9f3a\"],[0.8888888888888888,\"#fdca26\"],[1.0,\"#f0f921\"]]},\"colorway\":[\"#636efa\",\"#EF553B\",\"#00cc96\",\"#ab63fa\",\"#FFA15A\",\"#19d3f3\",\"#FF6692\",\"#B6E880\",\"#FF97FF\",\"#FECB52\"],\"font\":{\"color\":\"#2a3f5f\"},\"geo\":{\"bgcolor\":\"white\",\"lakecolor\":\"white\",\"landcolor\":\"#E5ECF6\",\"showlakes\":true,\"showland\":true,\"subunitcolor\":\"white\"},\"hoverlabel\":{\"align\":\"left\"},\"hovermode\":\"closest\",\"mapbox\":{\"style\":\"light\"},\"paper_bgcolor\":\"white\",\"plot_bgcolor\":\"#E5ECF6\",\"polar\":{\"angularaxis\":{\"gridcolor\":\"white\",\"linecolor\":\"white\",\"ticks\":\"\"},\"bgcolor\":\"#E5ECF6\",\"radialaxis\":{\"gridcolor\":\"white\",\"linecolor\":\"white\",\"ticks\":\"\"}},\"scene\":{\"xaxis\":{\"backgroundcolor\":\"#E5ECF6\",\"gridcolor\":\"white\",\"gridwidth\":2,\"linecolor\":\"white\",\"showbackground\":true,\"ticks\":\"\",\"zerolinecolor\":\"white\"},\"yaxis\":{\"backgroundcolor\":\"#E5ECF6\",\"gridcolor\":\"white\",\"gridwidth\":2,\"linecolor\":\"white\",\"showbackground\":true,\"ticks\":\"\",\"zerolinecolor\":\"white\"},\"zaxis\":{\"backgroundcolor\":\"#E5ECF6\",\"gridcolor\":\"white\",\"gridwidth\":2,\"linecolor\":\"white\",\"showbackground\":true,\"ticks\":\"\",\"zerolinecolor\":\"white\"}},\"shapedefaults\":{\"line\":{\"color\":\"#2a3f5f\"}},\"ternary\":{\"aaxis\":{\"gridcolor\":\"white\",\"linecolor\":\"white\",\"ticks\":\"\"},\"baxis\":{\"gridcolor\":\"white\",\"linecolor\":\"white\",\"ticks\":\"\"},\"bgcolor\":\"#E5ECF6\",\"caxis\":{\"gridcolor\":\"white\",\"linecolor\":\"white\",\"ticks\":\"\"}},\"title\":{\"x\":0.05},\"xaxis\":{\"automargin\":true,\"gridcolor\":\"white\",\"linecolor\":\"white\",\"ticks\":\"\",\"title\":{\"standoff\":15},\"zerolinecolor\":\"white\",\"zerolinewidth\":2},\"yaxis\":{\"automargin\":true,\"gridcolor\":\"white\",\"linecolor\":\"white\",\"ticks\":\"\",\"title\":{\"standoff\":15},\"zerolinecolor\":\"white\",\"zerolinewidth\":2}}},\"title\":{\"text\":\"Variable Summary\"}},                        {\"responsive\": true}                    ).then(function(){\n",
       "                            \n",
       "var gd = document.getElementById('6fb1e2ed-6511-4795-ad0d-3f1fd710a2d7');\n",
       "var x = new MutationObserver(function (mutations, observer) {{\n",
       "        var display = window.getComputedStyle(gd).display;\n",
       "        if (!display || display === 'none') {{\n",
       "            console.log([gd, 'removed!']);\n",
       "            Plotly.purge(gd);\n",
       "            observer.disconnect();\n",
       "        }}\n",
       "}});\n",
       "\n",
       "// Listen for the removal of the full notebook cells\n",
       "var notebookContainer = gd.closest('#notebook-container');\n",
       "if (notebookContainer) {{\n",
       "    x.observe(notebookContainer, {childList: true});\n",
       "}}\n",
       "\n",
       "// Listen for the clearing of the current output cell\n",
       "var outputEl = gd.closest('.output');\n",
       "if (outputEl) {{\n",
       "    x.observe(outputEl, {childList: true});\n",
       "}}\n",
       "\n",
       "                        })                };                });            </script>        </div>"
      ]
     },
     "metadata": {},
     "output_type": "display_data"
    }
   ],
   "source": [
    "# To make it look nice we can do some additional stuff if needed\n",
    "summary = (telcom[[i for i in telcom.columns if i not in Id_col]].\n",
    "           describe().transpose().reset_index())\n",
    "\n",
    "summary = summary.rename(columns = {\"index\" : \"feature\"})\n",
    "summary = np.around(summary,3)\n",
    "\n",
    "val_lst = [summary['feature'], summary['count'],\n",
    "           summary['mean'],summary['std'],\n",
    "           summary['min'], summary['25%'],\n",
    "           summary['50%'], summary['75%'], summary['max']]\n",
    "\n",
    "trace  = go.Table(header = dict(values = summary.columns.tolist(),\n",
    "                                line = dict(color = ['#506784']),\n",
    "                                fill = dict(color = ['#119DFF']),\n",
    "                               ),\n",
    "                  cells  = dict(values = val_lst,\n",
    "                                line = dict(color = ['#506784']),\n",
    "                                fill = dict(color = [\"lightgrey\",'#F5F8FF'])\n",
    "                               ),\n",
    "                  columnwidth = [200,60,100,100,60,60,80,80,80])\n",
    "layout = go.Layout(dict(title = \"Variable Summary\"))\n",
    "figure = go.Figure(data=[trace],layout=layout)\n",
    "py.iplot(figure)"
   ]
  },
  {
   "cell_type": "code",
   "execution_count": 133,
   "metadata": {
    "id": "2lf6_8HKL-r9"
   },
   "outputs": [],
   "source": [
    "#correlation\n",
    "correlation = telcom.corr()\n",
    "#tick labels\n",
    "matrix_cols = correlation.columns.tolist()"
   ]
  },
  {
   "cell_type": "code",
   "execution_count": 134,
   "metadata": {
    "id": "Z5ds2vkZMChC"
   },
   "outputs": [],
   "source": [
    "#convert to array\n",
    "corr_array  = np.array(correlation)"
   ]
  },
  {
   "cell_type": "code",
   "execution_count": 135,
   "metadata": {
    "colab": {
     "base_uri": "https://localhost:8080/",
     "height": 1000
    },
    "id": "HEVUTWmBMEh2",
    "outputId": "81bbca78-0ecb-4a66-fd9f-55e031d9df38"
   },
   "outputs": [
    {
     "data": {
      "text/html": [
       "<div>\n",
       "<style scoped>\n",
       "    .dataframe tbody tr th:only-of-type {\n",
       "        vertical-align: middle;\n",
       "    }\n",
       "\n",
       "    .dataframe tbody tr th {\n",
       "        vertical-align: top;\n",
       "    }\n",
       "\n",
       "    .dataframe thead th {\n",
       "        text-align: right;\n",
       "    }\n",
       "</style>\n",
       "<table border=\"1\" class=\"dataframe\">\n",
       "  <thead>\n",
       "    <tr style=\"text-align: right;\">\n",
       "      <th></th>\n",
       "      <th>gender</th>\n",
       "      <th>SeniorCitizen</th>\n",
       "      <th>Partner</th>\n",
       "      <th>Dependents</th>\n",
       "      <th>PhoneService</th>\n",
       "      <th>OnlineSecurity</th>\n",
       "      <th>OnlineBackup</th>\n",
       "      <th>DeviceProtection</th>\n",
       "      <th>TechSupport</th>\n",
       "      <th>StreamingTV</th>\n",
       "      <th>StreamingMovies</th>\n",
       "      <th>PaperlessBilling</th>\n",
       "      <th>Churn</th>\n",
       "      <th>MultipleLines_No</th>\n",
       "      <th>MultipleLines_No phone service</th>\n",
       "      <th>MultipleLines_Yes</th>\n",
       "      <th>InternetService_DSL</th>\n",
       "      <th>InternetService_Fiber optic</th>\n",
       "      <th>InternetService_No</th>\n",
       "      <th>Contract_Month-to-month</th>\n",
       "      <th>Contract_One year</th>\n",
       "      <th>Contract_Two year</th>\n",
       "      <th>PaymentMethod_Bank transfer (automatic)</th>\n",
       "      <th>PaymentMethod_Credit card (automatic)</th>\n",
       "      <th>PaymentMethod_Electronic check</th>\n",
       "      <th>PaymentMethod_Mailed check</th>\n",
       "      <th>tenure_group_Tenure_0-12</th>\n",
       "      <th>tenure_group_Tenure_12-24</th>\n",
       "      <th>tenure_group_Tenure_24-48</th>\n",
       "      <th>tenure_group_Tenure_48-60</th>\n",
       "      <th>tenure_group_Tenure_gt_60</th>\n",
       "      <th>tenure</th>\n",
       "      <th>MonthlyCharges</th>\n",
       "      <th>TotalCharges</th>\n",
       "    </tr>\n",
       "  </thead>\n",
       "  <tbody>\n",
       "    <tr>\n",
       "      <th>gender</th>\n",
       "      <td>1.000000</td>\n",
       "      <td>-0.001819</td>\n",
       "      <td>-0.001379</td>\n",
       "      <td>0.010349</td>\n",
       "      <td>-0.007515</td>\n",
       "      <td>-0.016328</td>\n",
       "      <td>-0.013093</td>\n",
       "      <td>-0.000807</td>\n",
       "      <td>-0.008507</td>\n",
       "      <td>-0.007124</td>\n",
       "      <td>-0.010105</td>\n",
       "      <td>-0.011902</td>\n",
       "      <td>-0.008545</td>\n",
       "      <td>0.004335</td>\n",
       "      <td>0.007515</td>\n",
       "      <td>-0.008883</td>\n",
       "      <td>0.007584</td>\n",
       "      <td>-0.011189</td>\n",
       "      <td>0.004745</td>\n",
       "      <td>-0.003251</td>\n",
       "      <td>0.007755</td>\n",
       "      <td>-0.003603</td>\n",
       "      <td>-0.015973</td>\n",
       "      <td>0.001632</td>\n",
       "      <td>0.000844</td>\n",
       "      <td>0.013199</td>\n",
       "      <td>-0.001050</td>\n",
       "      <td>-0.000649</td>\n",
       "      <td>-0.010516</td>\n",
       "      <td>-0.004319</td>\n",
       "      <td>0.016279</td>\n",
       "      <td>0.005285</td>\n",
       "      <td>-0.013779</td>\n",
       "      <td>0.000048</td>\n",
       "    </tr>\n",
       "    <tr>\n",
       "      <th>SeniorCitizen</th>\n",
       "      <td>-0.001819</td>\n",
       "      <td>1.000000</td>\n",
       "      <td>0.016957</td>\n",
       "      <td>-0.210550</td>\n",
       "      <td>0.008392</td>\n",
       "      <td>-0.038576</td>\n",
       "      <td>0.066663</td>\n",
       "      <td>0.059514</td>\n",
       "      <td>-0.060577</td>\n",
       "      <td>0.105445</td>\n",
       "      <td>0.119842</td>\n",
       "      <td>0.156258</td>\n",
       "      <td>0.150541</td>\n",
       "      <td>-0.136377</td>\n",
       "      <td>-0.008392</td>\n",
       "      <td>0.142996</td>\n",
       "      <td>-0.108276</td>\n",
       "      <td>0.254923</td>\n",
       "      <td>-0.182519</td>\n",
       "      <td>0.137752</td>\n",
       "      <td>-0.046491</td>\n",
       "      <td>-0.116205</td>\n",
       "      <td>-0.016235</td>\n",
       "      <td>-0.024359</td>\n",
       "      <td>0.171322</td>\n",
       "      <td>-0.152987</td>\n",
       "      <td>-0.027713</td>\n",
       "      <td>0.001860</td>\n",
       "      <td>0.020383</td>\n",
       "      <td>0.014186</td>\n",
       "      <td>-0.002407</td>\n",
       "      <td>0.015683</td>\n",
       "      <td>0.219874</td>\n",
       "      <td>0.102411</td>\n",
       "    </tr>\n",
       "    <tr>\n",
       "      <th>Partner</th>\n",
       "      <td>-0.001379</td>\n",
       "      <td>0.016957</td>\n",
       "      <td>1.000000</td>\n",
       "      <td>0.452269</td>\n",
       "      <td>0.018397</td>\n",
       "      <td>0.143346</td>\n",
       "      <td>0.141849</td>\n",
       "      <td>0.153556</td>\n",
       "      <td>0.120206</td>\n",
       "      <td>0.124483</td>\n",
       "      <td>0.118108</td>\n",
       "      <td>-0.013957</td>\n",
       "      <td>-0.149982</td>\n",
       "      <td>-0.130028</td>\n",
       "      <td>-0.018397</td>\n",
       "      <td>0.142561</td>\n",
       "      <td>-0.001043</td>\n",
       "      <td>0.001235</td>\n",
       "      <td>-0.000286</td>\n",
       "      <td>-0.280202</td>\n",
       "      <td>0.083067</td>\n",
       "      <td>0.247334</td>\n",
       "      <td>0.111406</td>\n",
       "      <td>0.082327</td>\n",
       "      <td>-0.083207</td>\n",
       "      <td>-0.096948</td>\n",
       "      <td>-0.305061</td>\n",
       "      <td>-0.048481</td>\n",
       "      <td>0.028468</td>\n",
       "      <td>0.105341</td>\n",
       "      <td>0.280353</td>\n",
       "      <td>0.381912</td>\n",
       "      <td>0.097825</td>\n",
       "      <td>0.319072</td>\n",
       "    </tr>\n",
       "    <tr>\n",
       "      <th>Dependents</th>\n",
       "      <td>0.010349</td>\n",
       "      <td>-0.210550</td>\n",
       "      <td>0.452269</td>\n",
       "      <td>1.000000</td>\n",
       "      <td>-0.001078</td>\n",
       "      <td>0.080786</td>\n",
       "      <td>0.023639</td>\n",
       "      <td>0.013900</td>\n",
       "      <td>0.063053</td>\n",
       "      <td>-0.016499</td>\n",
       "      <td>-0.038375</td>\n",
       "      <td>-0.110131</td>\n",
       "      <td>-0.163128</td>\n",
       "      <td>0.023388</td>\n",
       "      <td>0.001078</td>\n",
       "      <td>-0.024307</td>\n",
       "      <td>0.051593</td>\n",
       "      <td>-0.164101</td>\n",
       "      <td>0.138383</td>\n",
       "      <td>-0.229715</td>\n",
       "      <td>0.069222</td>\n",
       "      <td>0.201699</td>\n",
       "      <td>0.052369</td>\n",
       "      <td>0.061134</td>\n",
       "      <td>-0.149274</td>\n",
       "      <td>0.056448</td>\n",
       "      <td>-0.145379</td>\n",
       "      <td>-0.001459</td>\n",
       "      <td>0.024645</td>\n",
       "      <td>0.031419</td>\n",
       "      <td>0.118090</td>\n",
       "      <td>0.163386</td>\n",
       "      <td>-0.112343</td>\n",
       "      <td>0.064653</td>\n",
       "    </tr>\n",
       "    <tr>\n",
       "      <th>PhoneService</th>\n",
       "      <td>-0.007515</td>\n",
       "      <td>0.008392</td>\n",
       "      <td>0.018397</td>\n",
       "      <td>-0.001078</td>\n",
       "      <td>1.000000</td>\n",
       "      <td>-0.091676</td>\n",
       "      <td>-0.052133</td>\n",
       "      <td>-0.070076</td>\n",
       "      <td>-0.095138</td>\n",
       "      <td>-0.021383</td>\n",
       "      <td>-0.033477</td>\n",
       "      <td>0.016696</td>\n",
       "      <td>0.011691</td>\n",
       "      <td>0.315218</td>\n",
       "      <td>-1.000000</td>\n",
       "      <td>0.279530</td>\n",
       "      <td>-0.452255</td>\n",
       "      <td>0.290183</td>\n",
       "      <td>0.171817</td>\n",
       "      <td>-0.001243</td>\n",
       "      <td>-0.003142</td>\n",
       "      <td>0.004442</td>\n",
       "      <td>0.008271</td>\n",
       "      <td>-0.006916</td>\n",
       "      <td>0.002747</td>\n",
       "      <td>-0.004463</td>\n",
       "      <td>-0.006950</td>\n",
       "      <td>0.012307</td>\n",
       "      <td>-0.014778</td>\n",
       "      <td>-0.009750</td>\n",
       "      <td>0.020516</td>\n",
       "      <td>0.007877</td>\n",
       "      <td>0.248033</td>\n",
       "      <td>0.113008</td>\n",
       "    </tr>\n",
       "    <tr>\n",
       "      <th>OnlineSecurity</th>\n",
       "      <td>-0.016328</td>\n",
       "      <td>-0.038576</td>\n",
       "      <td>0.143346</td>\n",
       "      <td>0.080786</td>\n",
       "      <td>-0.091676</td>\n",
       "      <td>1.000000</td>\n",
       "      <td>0.283285</td>\n",
       "      <td>0.274875</td>\n",
       "      <td>0.354458</td>\n",
       "      <td>0.175514</td>\n",
       "      <td>0.187426</td>\n",
       "      <td>-0.004051</td>\n",
       "      <td>-0.171270</td>\n",
       "      <td>-0.151678</td>\n",
       "      <td>0.091676</td>\n",
       "      <td>0.098592</td>\n",
       "      <td>0.320343</td>\n",
       "      <td>-0.030506</td>\n",
       "      <td>-0.332799</td>\n",
       "      <td>-0.246844</td>\n",
       "      <td>0.100658</td>\n",
       "      <td>0.191698</td>\n",
       "      <td>0.094366</td>\n",
       "      <td>0.115473</td>\n",
       "      <td>-0.112295</td>\n",
       "      <td>-0.079918</td>\n",
       "      <td>-0.242409</td>\n",
       "      <td>-0.055662</td>\n",
       "      <td>0.007695</td>\n",
       "      <td>0.071663</td>\n",
       "      <td>0.263228</td>\n",
       "      <td>0.328297</td>\n",
       "      <td>0.296447</td>\n",
       "      <td>0.412619</td>\n",
       "    </tr>\n",
       "    <tr>\n",
       "      <th>OnlineBackup</th>\n",
       "      <td>-0.013093</td>\n",
       "      <td>0.066663</td>\n",
       "      <td>0.141849</td>\n",
       "      <td>0.023639</td>\n",
       "      <td>-0.052133</td>\n",
       "      <td>0.283285</td>\n",
       "      <td>1.000000</td>\n",
       "      <td>0.303058</td>\n",
       "      <td>0.293705</td>\n",
       "      <td>0.281601</td>\n",
       "      <td>0.274523</td>\n",
       "      <td>0.127056</td>\n",
       "      <td>-0.082307</td>\n",
       "      <td>-0.230724</td>\n",
       "      <td>0.052133</td>\n",
       "      <td>0.202228</td>\n",
       "      <td>0.156765</td>\n",
       "      <td>0.165940</td>\n",
       "      <td>-0.380990</td>\n",
       "      <td>-0.164393</td>\n",
       "      <td>0.084113</td>\n",
       "      <td>0.111391</td>\n",
       "      <td>0.086942</td>\n",
       "      <td>0.090455</td>\n",
       "      <td>-0.000364</td>\n",
       "      <td>-0.174075</td>\n",
       "      <td>-0.267366</td>\n",
       "      <td>-0.084081</td>\n",
       "      <td>0.023085</td>\n",
       "      <td>0.099192</td>\n",
       "      <td>0.278788</td>\n",
       "      <td>0.361138</td>\n",
       "      <td>0.441529</td>\n",
       "      <td>0.510100</td>\n",
       "    </tr>\n",
       "    <tr>\n",
       "      <th>DeviceProtection</th>\n",
       "      <td>-0.000807</td>\n",
       "      <td>0.059514</td>\n",
       "      <td>0.153556</td>\n",
       "      <td>0.013900</td>\n",
       "      <td>-0.070076</td>\n",
       "      <td>0.274875</td>\n",
       "      <td>0.303058</td>\n",
       "      <td>1.000000</td>\n",
       "      <td>0.332850</td>\n",
       "      <td>0.389924</td>\n",
       "      <td>0.402309</td>\n",
       "      <td>0.104079</td>\n",
       "      <td>-0.066193</td>\n",
       "      <td>-0.240847</td>\n",
       "      <td>0.070076</td>\n",
       "      <td>0.201733</td>\n",
       "      <td>0.145150</td>\n",
       "      <td>0.176356</td>\n",
       "      <td>-0.380151</td>\n",
       "      <td>-0.225988</td>\n",
       "      <td>0.102911</td>\n",
       "      <td>0.165248</td>\n",
       "      <td>0.083047</td>\n",
       "      <td>0.111252</td>\n",
       "      <td>-0.003308</td>\n",
       "      <td>-0.187325</td>\n",
       "      <td>-0.273920</td>\n",
       "      <td>-0.077332</td>\n",
       "      <td>0.044972</td>\n",
       "      <td>0.076854</td>\n",
       "      <td>0.275537</td>\n",
       "      <td>0.361520</td>\n",
       "      <td>0.482607</td>\n",
       "      <td>0.522881</td>\n",
       "    </tr>\n",
       "    <tr>\n",
       "      <th>TechSupport</th>\n",
       "      <td>-0.008507</td>\n",
       "      <td>-0.060577</td>\n",
       "      <td>0.120206</td>\n",
       "      <td>0.063053</td>\n",
       "      <td>-0.095138</td>\n",
       "      <td>0.354458</td>\n",
       "      <td>0.293705</td>\n",
       "      <td>0.332850</td>\n",
       "      <td>1.000000</td>\n",
       "      <td>0.277549</td>\n",
       "      <td>0.280155</td>\n",
       "      <td>0.037536</td>\n",
       "      <td>-0.164716</td>\n",
       "      <td>-0.155534</td>\n",
       "      <td>0.095138</td>\n",
       "      <td>0.100421</td>\n",
       "      <td>0.312183</td>\n",
       "      <td>-0.020299</td>\n",
       "      <td>-0.335695</td>\n",
       "      <td>-0.285491</td>\n",
       "      <td>0.096258</td>\n",
       "      <td>0.240924</td>\n",
       "      <td>0.100472</td>\n",
       "      <td>0.117024</td>\n",
       "      <td>-0.114807</td>\n",
       "      <td>-0.084631</td>\n",
       "      <td>-0.238628</td>\n",
       "      <td>-0.072019</td>\n",
       "      <td>0.022137</td>\n",
       "      <td>0.062710</td>\n",
       "      <td>0.265396</td>\n",
       "      <td>0.325288</td>\n",
       "      <td>0.338301</td>\n",
       "      <td>0.432868</td>\n",
       "    </tr>\n",
       "    <tr>\n",
       "      <th>StreamingTV</th>\n",
       "      <td>-0.007124</td>\n",
       "      <td>0.105445</td>\n",
       "      <td>0.124483</td>\n",
       "      <td>-0.016499</td>\n",
       "      <td>-0.021383</td>\n",
       "      <td>0.175514</td>\n",
       "      <td>0.281601</td>\n",
       "      <td>0.389924</td>\n",
       "      <td>0.277549</td>\n",
       "      <td>1.000000</td>\n",
       "      <td>0.533380</td>\n",
       "      <td>0.224241</td>\n",
       "      <td>0.063254</td>\n",
       "      <td>-0.267466</td>\n",
       "      <td>0.021383</td>\n",
       "      <td>0.257804</td>\n",
       "      <td>0.014973</td>\n",
       "      <td>0.329744</td>\n",
       "      <td>-0.414951</td>\n",
       "      <td>-0.112550</td>\n",
       "      <td>0.061930</td>\n",
       "      <td>0.072124</td>\n",
       "      <td>0.046121</td>\n",
       "      <td>0.040010</td>\n",
       "      <td>0.144747</td>\n",
       "      <td>-0.247712</td>\n",
       "      <td>-0.220761</td>\n",
       "      <td>-0.050234</td>\n",
       "      <td>0.028829</td>\n",
       "      <td>0.087969</td>\n",
       "      <td>0.198150</td>\n",
       "      <td>0.280264</td>\n",
       "      <td>0.629668</td>\n",
       "      <td>0.515709</td>\n",
       "    </tr>\n",
       "    <tr>\n",
       "      <th>StreamingMovies</th>\n",
       "      <td>-0.010105</td>\n",
       "      <td>0.119842</td>\n",
       "      <td>0.118108</td>\n",
       "      <td>-0.038375</td>\n",
       "      <td>-0.033477</td>\n",
       "      <td>0.187426</td>\n",
       "      <td>0.274523</td>\n",
       "      <td>0.402309</td>\n",
       "      <td>0.280155</td>\n",
       "      <td>0.533380</td>\n",
       "      <td>1.000000</td>\n",
       "      <td>0.211583</td>\n",
       "      <td>0.060860</td>\n",
       "      <td>-0.275995</td>\n",
       "      <td>0.033477</td>\n",
       "      <td>0.259194</td>\n",
       "      <td>0.025623</td>\n",
       "      <td>0.322457</td>\n",
       "      <td>-0.418450</td>\n",
       "      <td>-0.117867</td>\n",
       "      <td>0.064780</td>\n",
       "      <td>0.075603</td>\n",
       "      <td>0.048755</td>\n",
       "      <td>0.048398</td>\n",
       "      <td>0.137420</td>\n",
       "      <td>-0.250290</td>\n",
       "      <td>-0.221388</td>\n",
       "      <td>-0.054338</td>\n",
       "      <td>0.025048</td>\n",
       "      <td>0.086616</td>\n",
       "      <td>0.207544</td>\n",
       "      <td>0.285402</td>\n",
       "      <td>0.627235</td>\n",
       "      <td>0.519867</td>\n",
       "    </tr>\n",
       "    <tr>\n",
       "      <th>PaperlessBilling</th>\n",
       "      <td>-0.011902</td>\n",
       "      <td>0.156258</td>\n",
       "      <td>-0.013957</td>\n",
       "      <td>-0.110131</td>\n",
       "      <td>0.016696</td>\n",
       "      <td>-0.004051</td>\n",
       "      <td>0.127056</td>\n",
       "      <td>0.104079</td>\n",
       "      <td>0.037536</td>\n",
       "      <td>0.224241</td>\n",
       "      <td>0.211583</td>\n",
       "      <td>1.000000</td>\n",
       "      <td>0.191454</td>\n",
       "      <td>-0.151974</td>\n",
       "      <td>-0.016696</td>\n",
       "      <td>0.163746</td>\n",
       "      <td>-0.063390</td>\n",
       "      <td>0.326470</td>\n",
       "      <td>-0.320592</td>\n",
       "      <td>0.168296</td>\n",
       "      <td>-0.052278</td>\n",
       "      <td>-0.146281</td>\n",
       "      <td>-0.017469</td>\n",
       "      <td>-0.013726</td>\n",
       "      <td>0.208427</td>\n",
       "      <td>-0.203981</td>\n",
       "      <td>-0.003860</td>\n",
       "      <td>0.003328</td>\n",
       "      <td>-0.005388</td>\n",
       "      <td>0.010626</td>\n",
       "      <td>-0.001415</td>\n",
       "      <td>0.004823</td>\n",
       "      <td>0.351930</td>\n",
       "      <td>0.157830</td>\n",
       "    </tr>\n",
       "    <tr>\n",
       "      <th>Churn</th>\n",
       "      <td>-0.008545</td>\n",
       "      <td>0.150541</td>\n",
       "      <td>-0.149982</td>\n",
       "      <td>-0.163128</td>\n",
       "      <td>0.011691</td>\n",
       "      <td>-0.171270</td>\n",
       "      <td>-0.082307</td>\n",
       "      <td>-0.066193</td>\n",
       "      <td>-0.164716</td>\n",
       "      <td>0.063254</td>\n",
       "      <td>0.060860</td>\n",
       "      <td>0.191454</td>\n",
       "      <td>1.000000</td>\n",
       "      <td>-0.032654</td>\n",
       "      <td>-0.011691</td>\n",
       "      <td>0.040033</td>\n",
       "      <td>-0.124141</td>\n",
       "      <td>0.307463</td>\n",
       "      <td>-0.227578</td>\n",
       "      <td>0.404565</td>\n",
       "      <td>-0.178225</td>\n",
       "      <td>-0.301552</td>\n",
       "      <td>-0.118136</td>\n",
       "      <td>-0.134687</td>\n",
       "      <td>0.301455</td>\n",
       "      <td>-0.090773</td>\n",
       "      <td>0.319628</td>\n",
       "      <td>0.019929</td>\n",
       "      <td>-0.075859</td>\n",
       "      <td>-0.100800</td>\n",
       "      <td>-0.226078</td>\n",
       "      <td>-0.354049</td>\n",
       "      <td>0.192858</td>\n",
       "      <td>-0.199484</td>\n",
       "    </tr>\n",
       "    <tr>\n",
       "      <th>MultipleLines_No</th>\n",
       "      <td>0.004335</td>\n",
       "      <td>-0.136377</td>\n",
       "      <td>-0.130028</td>\n",
       "      <td>0.023388</td>\n",
       "      <td>0.315218</td>\n",
       "      <td>-0.151678</td>\n",
       "      <td>-0.230724</td>\n",
       "      <td>-0.240847</td>\n",
       "      <td>-0.155534</td>\n",
       "      <td>-0.267466</td>\n",
       "      <td>-0.275995</td>\n",
       "      <td>-0.151974</td>\n",
       "      <td>-0.032654</td>\n",
       "      <td>1.000000</td>\n",
       "      <td>-0.315218</td>\n",
       "      <td>-0.823076</td>\n",
       "      <td>-0.069515</td>\n",
       "      <td>-0.190531</td>\n",
       "      <td>0.309984</td>\n",
       "      <td>0.086798</td>\n",
       "      <td>0.001694</td>\n",
       "      <td>-0.102756</td>\n",
       "      <td>-0.069663</td>\n",
       "      <td>-0.063712</td>\n",
       "      <td>-0.080990</td>\n",
       "      <td>0.222395</td>\n",
       "      <td>0.256171</td>\n",
       "      <td>0.051703</td>\n",
       "      <td>-0.032157</td>\n",
       "      <td>-0.080630</td>\n",
       "      <td>-0.242798</td>\n",
       "      <td>-0.323891</td>\n",
       "      <td>-0.338514</td>\n",
       "      <td>-0.396765</td>\n",
       "    </tr>\n",
       "    <tr>\n",
       "      <th>MultipleLines_No phone service</th>\n",
       "      <td>0.007515</td>\n",
       "      <td>-0.008392</td>\n",
       "      <td>-0.018397</td>\n",
       "      <td>0.001078</td>\n",
       "      <td>-1.000000</td>\n",
       "      <td>0.091676</td>\n",
       "      <td>0.052133</td>\n",
       "      <td>0.070076</td>\n",
       "      <td>0.095138</td>\n",
       "      <td>0.021383</td>\n",
       "      <td>0.033477</td>\n",
       "      <td>-0.016696</td>\n",
       "      <td>-0.011691</td>\n",
       "      <td>-0.315218</td>\n",
       "      <td>1.000000</td>\n",
       "      <td>-0.279530</td>\n",
       "      <td>0.452255</td>\n",
       "      <td>-0.290183</td>\n",
       "      <td>-0.171817</td>\n",
       "      <td>0.001243</td>\n",
       "      <td>0.003142</td>\n",
       "      <td>-0.004442</td>\n",
       "      <td>-0.008271</td>\n",
       "      <td>0.006916</td>\n",
       "      <td>-0.002747</td>\n",
       "      <td>0.004463</td>\n",
       "      <td>0.006950</td>\n",
       "      <td>-0.012307</td>\n",
       "      <td>0.014778</td>\n",
       "      <td>0.009750</td>\n",
       "      <td>-0.020516</td>\n",
       "      <td>-0.007877</td>\n",
       "      <td>-0.248033</td>\n",
       "      <td>-0.113008</td>\n",
       "    </tr>\n",
       "    <tr>\n",
       "      <th>MultipleLines_Yes</th>\n",
       "      <td>-0.008883</td>\n",
       "      <td>0.142996</td>\n",
       "      <td>0.142561</td>\n",
       "      <td>-0.024307</td>\n",
       "      <td>0.279530</td>\n",
       "      <td>0.098592</td>\n",
       "      <td>0.202228</td>\n",
       "      <td>0.201733</td>\n",
       "      <td>0.100421</td>\n",
       "      <td>0.257804</td>\n",
       "      <td>0.259194</td>\n",
       "      <td>0.163746</td>\n",
       "      <td>0.040033</td>\n",
       "      <td>-0.823076</td>\n",
       "      <td>-0.279530</td>\n",
       "      <td>1.000000</td>\n",
       "      <td>-0.200318</td>\n",
       "      <td>0.366420</td>\n",
       "      <td>-0.210794</td>\n",
       "      <td>-0.088558</td>\n",
       "      <td>-0.003594</td>\n",
       "      <td>0.106618</td>\n",
       "      <td>0.075429</td>\n",
       "      <td>0.060319</td>\n",
       "      <td>0.083583</td>\n",
       "      <td>-0.227672</td>\n",
       "      <td>-0.263331</td>\n",
       "      <td>-0.044944</td>\n",
       "      <td>0.023690</td>\n",
       "      <td>0.075740</td>\n",
       "      <td>0.257920</td>\n",
       "      <td>0.332399</td>\n",
       "      <td>0.490912</td>\n",
       "      <td>0.469042</td>\n",
       "    </tr>\n",
       "    <tr>\n",
       "      <th>InternetService_DSL</th>\n",
       "      <td>0.007584</td>\n",
       "      <td>-0.108276</td>\n",
       "      <td>-0.001043</td>\n",
       "      <td>0.051593</td>\n",
       "      <td>-0.452255</td>\n",
       "      <td>0.320343</td>\n",
       "      <td>0.156765</td>\n",
       "      <td>0.145150</td>\n",
       "      <td>0.312183</td>\n",
       "      <td>0.014973</td>\n",
       "      <td>0.025623</td>\n",
       "      <td>-0.063390</td>\n",
       "      <td>-0.124141</td>\n",
       "      <td>-0.069515</td>\n",
       "      <td>0.452255</td>\n",
       "      <td>-0.200318</td>\n",
       "      <td>1.000000</td>\n",
       "      <td>-0.641636</td>\n",
       "      <td>-0.379912</td>\n",
       "      <td>-0.065226</td>\n",
       "      <td>0.047300</td>\n",
       "      <td>0.030924</td>\n",
       "      <td>0.024760</td>\n",
       "      <td>0.051222</td>\n",
       "      <td>-0.104293</td>\n",
       "      <td>0.042754</td>\n",
       "      <td>-0.001470</td>\n",
       "      <td>-0.013429</td>\n",
       "      <td>-0.000468</td>\n",
       "      <td>-0.000790</td>\n",
       "      <td>0.014666</td>\n",
       "      <td>0.013786</td>\n",
       "      <td>-0.161368</td>\n",
       "      <td>-0.052190</td>\n",
       "    </tr>\n",
       "    <tr>\n",
       "      <th>InternetService_Fiber optic</th>\n",
       "      <td>-0.011189</td>\n",
       "      <td>0.254923</td>\n",
       "      <td>0.001235</td>\n",
       "      <td>-0.164101</td>\n",
       "      <td>0.290183</td>\n",
       "      <td>-0.030506</td>\n",
       "      <td>0.165940</td>\n",
       "      <td>0.176356</td>\n",
       "      <td>-0.020299</td>\n",
       "      <td>0.329744</td>\n",
       "      <td>0.322457</td>\n",
       "      <td>0.326470</td>\n",
       "      <td>0.307463</td>\n",
       "      <td>-0.190531</td>\n",
       "      <td>-0.290183</td>\n",
       "      <td>0.366420</td>\n",
       "      <td>-0.641636</td>\n",
       "      <td>1.000000</td>\n",
       "      <td>-0.465736</td>\n",
       "      <td>0.243014</td>\n",
       "      <td>-0.076809</td>\n",
       "      <td>-0.209965</td>\n",
       "      <td>-0.022779</td>\n",
       "      <td>-0.050552</td>\n",
       "      <td>0.335763</td>\n",
       "      <td>-0.305984</td>\n",
       "      <td>-0.021441</td>\n",
       "      <td>-0.001494</td>\n",
       "      <td>0.005614</td>\n",
       "      <td>0.017466</td>\n",
       "      <td>0.006112</td>\n",
       "      <td>0.017930</td>\n",
       "      <td>0.787195</td>\n",
       "      <td>0.360769</td>\n",
       "    </tr>\n",
       "    <tr>\n",
       "      <th>InternetService_No</th>\n",
       "      <td>0.004745</td>\n",
       "      <td>-0.182519</td>\n",
       "      <td>-0.000286</td>\n",
       "      <td>0.138383</td>\n",
       "      <td>0.171817</td>\n",
       "      <td>-0.332799</td>\n",
       "      <td>-0.380990</td>\n",
       "      <td>-0.380151</td>\n",
       "      <td>-0.335695</td>\n",
       "      <td>-0.414951</td>\n",
       "      <td>-0.418450</td>\n",
       "      <td>-0.320592</td>\n",
       "      <td>-0.227578</td>\n",
       "      <td>0.309984</td>\n",
       "      <td>-0.171817</td>\n",
       "      <td>-0.210794</td>\n",
       "      <td>-0.379912</td>\n",
       "      <td>-0.465736</td>\n",
       "      <td>1.000000</td>\n",
       "      <td>-0.217824</td>\n",
       "      <td>0.038061</td>\n",
       "      <td>0.217542</td>\n",
       "      <td>-0.001094</td>\n",
       "      <td>0.001870</td>\n",
       "      <td>-0.284608</td>\n",
       "      <td>0.319694</td>\n",
       "      <td>0.027554</td>\n",
       "      <td>0.017295</td>\n",
       "      <td>-0.006230</td>\n",
       "      <td>-0.020153</td>\n",
       "      <td>-0.024292</td>\n",
       "      <td>-0.037529</td>\n",
       "      <td>-0.763191</td>\n",
       "      <td>-0.374878</td>\n",
       "    </tr>\n",
       "    <tr>\n",
       "      <th>Contract_Month-to-month</th>\n",
       "      <td>-0.003251</td>\n",
       "      <td>0.137752</td>\n",
       "      <td>-0.280202</td>\n",
       "      <td>-0.229715</td>\n",
       "      <td>-0.001243</td>\n",
       "      <td>-0.246844</td>\n",
       "      <td>-0.164393</td>\n",
       "      <td>-0.225988</td>\n",
       "      <td>-0.285491</td>\n",
       "      <td>-0.112550</td>\n",
       "      <td>-0.117867</td>\n",
       "      <td>0.168296</td>\n",
       "      <td>0.404565</td>\n",
       "      <td>0.086798</td>\n",
       "      <td>0.001243</td>\n",
       "      <td>-0.088558</td>\n",
       "      <td>-0.065226</td>\n",
       "      <td>0.243014</td>\n",
       "      <td>-0.217824</td>\n",
       "      <td>1.000000</td>\n",
       "      <td>-0.570053</td>\n",
       "      <td>-0.621933</td>\n",
       "      <td>-0.180159</td>\n",
       "      <td>-0.204960</td>\n",
       "      <td>0.330879</td>\n",
       "      <td>0.006209</td>\n",
       "      <td>0.492052</td>\n",
       "      <td>0.140004</td>\n",
       "      <td>-0.052156</td>\n",
       "      <td>-0.198709</td>\n",
       "      <td>-0.476912</td>\n",
       "      <td>-0.649346</td>\n",
       "      <td>0.058933</td>\n",
       "      <td>-0.446776</td>\n",
       "    </tr>\n",
       "    <tr>\n",
       "      <th>Contract_One year</th>\n",
       "      <td>0.007755</td>\n",
       "      <td>-0.046491</td>\n",
       "      <td>0.083067</td>\n",
       "      <td>0.069222</td>\n",
       "      <td>-0.003142</td>\n",
       "      <td>0.100658</td>\n",
       "      <td>0.084113</td>\n",
       "      <td>0.102911</td>\n",
       "      <td>0.096258</td>\n",
       "      <td>0.061930</td>\n",
       "      <td>0.064780</td>\n",
       "      <td>-0.052278</td>\n",
       "      <td>-0.178225</td>\n",
       "      <td>0.001694</td>\n",
       "      <td>0.003142</td>\n",
       "      <td>-0.003594</td>\n",
       "      <td>0.047300</td>\n",
       "      <td>-0.076809</td>\n",
       "      <td>0.038061</td>\n",
       "      <td>-0.570053</td>\n",
       "      <td>1.000000</td>\n",
       "      <td>-0.288843</td>\n",
       "      <td>0.057629</td>\n",
       "      <td>0.067590</td>\n",
       "      <td>-0.109546</td>\n",
       "      <td>0.000197</td>\n",
       "      <td>-0.251299</td>\n",
       "      <td>-0.017196</td>\n",
       "      <td>0.153893</td>\n",
       "      <td>0.158917</td>\n",
       "      <td>0.016142</td>\n",
       "      <td>0.202338</td>\n",
       "      <td>0.004810</td>\n",
       "      <td>0.170569</td>\n",
       "    </tr>\n",
       "    <tr>\n",
       "      <th>Contract_Two year</th>\n",
       "      <td>-0.003603</td>\n",
       "      <td>-0.116205</td>\n",
       "      <td>0.247334</td>\n",
       "      <td>0.201699</td>\n",
       "      <td>0.004442</td>\n",
       "      <td>0.191698</td>\n",
       "      <td>0.111391</td>\n",
       "      <td>0.165248</td>\n",
       "      <td>0.240924</td>\n",
       "      <td>0.072124</td>\n",
       "      <td>0.075603</td>\n",
       "      <td>-0.146281</td>\n",
       "      <td>-0.301552</td>\n",
       "      <td>-0.102756</td>\n",
       "      <td>-0.004442</td>\n",
       "      <td>0.106618</td>\n",
       "      <td>0.030924</td>\n",
       "      <td>-0.209965</td>\n",
       "      <td>0.217542</td>\n",
       "      <td>-0.621933</td>\n",
       "      <td>-0.288843</td>\n",
       "      <td>1.000000</td>\n",
       "      <td>0.155004</td>\n",
       "      <td>0.174410</td>\n",
       "      <td>-0.281147</td>\n",
       "      <td>-0.007423</td>\n",
       "      <td>-0.333850</td>\n",
       "      <td>-0.146749</td>\n",
       "      <td>-0.085900</td>\n",
       "      <td>0.080082</td>\n",
       "      <td>0.540336</td>\n",
       "      <td>0.563801</td>\n",
       "      <td>-0.073256</td>\n",
       "      <td>0.358036</td>\n",
       "    </tr>\n",
       "    <tr>\n",
       "      <th>PaymentMethod_Bank transfer (automatic)</th>\n",
       "      <td>-0.015973</td>\n",
       "      <td>-0.016235</td>\n",
       "      <td>0.111406</td>\n",
       "      <td>0.052369</td>\n",
       "      <td>0.008271</td>\n",
       "      <td>0.094366</td>\n",
       "      <td>0.086942</td>\n",
       "      <td>0.083047</td>\n",
       "      <td>0.100472</td>\n",
       "      <td>0.046121</td>\n",
       "      <td>0.048755</td>\n",
       "      <td>-0.017469</td>\n",
       "      <td>-0.118136</td>\n",
       "      <td>-0.069663</td>\n",
       "      <td>-0.008271</td>\n",
       "      <td>0.075429</td>\n",
       "      <td>0.024760</td>\n",
       "      <td>-0.022779</td>\n",
       "      <td>-0.001094</td>\n",
       "      <td>-0.180159</td>\n",
       "      <td>0.057629</td>\n",
       "      <td>0.155004</td>\n",
       "      <td>1.000000</td>\n",
       "      <td>-0.278423</td>\n",
       "      <td>-0.377270</td>\n",
       "      <td>-0.288097</td>\n",
       "      <td>-0.185855</td>\n",
       "      <td>-0.046329</td>\n",
       "      <td>0.021723</td>\n",
       "      <td>0.060183</td>\n",
       "      <td>0.184249</td>\n",
       "      <td>0.243822</td>\n",
       "      <td>0.042410</td>\n",
       "      <td>0.186119</td>\n",
       "    </tr>\n",
       "    <tr>\n",
       "      <th>PaymentMethod_Credit card (automatic)</th>\n",
       "      <td>0.001632</td>\n",
       "      <td>-0.024359</td>\n",
       "      <td>0.082327</td>\n",
       "      <td>0.061134</td>\n",
       "      <td>-0.006916</td>\n",
       "      <td>0.115473</td>\n",
       "      <td>0.090455</td>\n",
       "      <td>0.111252</td>\n",
       "      <td>0.117024</td>\n",
       "      <td>0.040010</td>\n",
       "      <td>0.048398</td>\n",
       "      <td>-0.013726</td>\n",
       "      <td>-0.134687</td>\n",
       "      <td>-0.063712</td>\n",
       "      <td>0.006916</td>\n",
       "      <td>0.060319</td>\n",
       "      <td>0.051222</td>\n",
       "      <td>-0.050552</td>\n",
       "      <td>0.001870</td>\n",
       "      <td>-0.204960</td>\n",
       "      <td>0.067590</td>\n",
       "      <td>0.174410</td>\n",
       "      <td>-0.278423</td>\n",
       "      <td>1.000000</td>\n",
       "      <td>-0.373978</td>\n",
       "      <td>-0.285583</td>\n",
       "      <td>-0.184165</td>\n",
       "      <td>-0.039647</td>\n",
       "      <td>0.028233</td>\n",
       "      <td>0.048167</td>\n",
       "      <td>0.179294</td>\n",
       "      <td>0.232800</td>\n",
       "      <td>0.030055</td>\n",
       "      <td>0.182663</td>\n",
       "    </tr>\n",
       "    <tr>\n",
       "      <th>PaymentMethod_Electronic check</th>\n",
       "      <td>0.000844</td>\n",
       "      <td>0.171322</td>\n",
       "      <td>-0.083207</td>\n",
       "      <td>-0.149274</td>\n",
       "      <td>0.002747</td>\n",
       "      <td>-0.112295</td>\n",
       "      <td>-0.000364</td>\n",
       "      <td>-0.003308</td>\n",
       "      <td>-0.114807</td>\n",
       "      <td>0.144747</td>\n",
       "      <td>0.137420</td>\n",
       "      <td>0.208427</td>\n",
       "      <td>0.301455</td>\n",
       "      <td>-0.080990</td>\n",
       "      <td>-0.002747</td>\n",
       "      <td>0.083583</td>\n",
       "      <td>-0.104293</td>\n",
       "      <td>0.335763</td>\n",
       "      <td>-0.284608</td>\n",
       "      <td>0.330879</td>\n",
       "      <td>-0.109546</td>\n",
       "      <td>-0.281147</td>\n",
       "      <td>-0.377270</td>\n",
       "      <td>-0.373978</td>\n",
       "      <td>1.000000</td>\n",
       "      <td>-0.386971</td>\n",
       "      <td>0.160530</td>\n",
       "      <td>0.030387</td>\n",
       "      <td>-0.011570</td>\n",
       "      <td>-0.030584</td>\n",
       "      <td>-0.175456</td>\n",
       "      <td>-0.210197</td>\n",
       "      <td>0.271117</td>\n",
       "      <td>-0.060436</td>\n",
       "    </tr>\n",
       "    <tr>\n",
       "      <th>PaymentMethod_Mailed check</th>\n",
       "      <td>0.013199</td>\n",
       "      <td>-0.152987</td>\n",
       "      <td>-0.096948</td>\n",
       "      <td>0.056448</td>\n",
       "      <td>-0.004463</td>\n",
       "      <td>-0.079918</td>\n",
       "      <td>-0.174075</td>\n",
       "      <td>-0.187325</td>\n",
       "      <td>-0.084631</td>\n",
       "      <td>-0.247712</td>\n",
       "      <td>-0.250290</td>\n",
       "      <td>-0.203981</td>\n",
       "      <td>-0.090773</td>\n",
       "      <td>0.222395</td>\n",
       "      <td>0.004463</td>\n",
       "      <td>-0.227672</td>\n",
       "      <td>0.042754</td>\n",
       "      <td>-0.305984</td>\n",
       "      <td>0.319694</td>\n",
       "      <td>0.006209</td>\n",
       "      <td>0.000197</td>\n",
       "      <td>-0.007423</td>\n",
       "      <td>-0.288097</td>\n",
       "      <td>-0.285583</td>\n",
       "      <td>-0.386971</td>\n",
       "      <td>1.000000</td>\n",
       "      <td>0.183222</td>\n",
       "      <td>0.050371</td>\n",
       "      <td>-0.036095</td>\n",
       "      <td>-0.072170</td>\n",
       "      <td>-0.160053</td>\n",
       "      <td>-0.232181</td>\n",
       "      <td>-0.376568</td>\n",
       "      <td>-0.294708</td>\n",
       "    </tr>\n",
       "    <tr>\n",
       "      <th>tenure_group_Tenure_0-12</th>\n",
       "      <td>-0.001050</td>\n",
       "      <td>-0.027713</td>\n",
       "      <td>-0.305061</td>\n",
       "      <td>-0.145379</td>\n",
       "      <td>-0.006950</td>\n",
       "      <td>-0.242409</td>\n",
       "      <td>-0.267366</td>\n",
       "      <td>-0.273920</td>\n",
       "      <td>-0.238628</td>\n",
       "      <td>-0.220761</td>\n",
       "      <td>-0.221388</td>\n",
       "      <td>-0.003860</td>\n",
       "      <td>0.319628</td>\n",
       "      <td>0.256171</td>\n",
       "      <td>0.006950</td>\n",
       "      <td>-0.263331</td>\n",
       "      <td>-0.001470</td>\n",
       "      <td>-0.021441</td>\n",
       "      <td>0.027554</td>\n",
       "      <td>0.492052</td>\n",
       "      <td>-0.251299</td>\n",
       "      <td>-0.333850</td>\n",
       "      <td>-0.185855</td>\n",
       "      <td>-0.184165</td>\n",
       "      <td>0.160530</td>\n",
       "      <td>0.183222</td>\n",
       "      <td>1.000000</td>\n",
       "      <td>-0.276268</td>\n",
       "      <td>-0.362302</td>\n",
       "      <td>-0.245138</td>\n",
       "      <td>-0.334681</td>\n",
       "      <td>-0.754330</td>\n",
       "      <td>-0.191881</td>\n",
       "      <td>-0.592443</td>\n",
       "    </tr>\n",
       "    <tr>\n",
       "      <th>tenure_group_Tenure_12-24</th>\n",
       "      <td>-0.000649</td>\n",
       "      <td>0.001860</td>\n",
       "      <td>-0.048481</td>\n",
       "      <td>-0.001459</td>\n",
       "      <td>0.012307</td>\n",
       "      <td>-0.055662</td>\n",
       "      <td>-0.084081</td>\n",
       "      <td>-0.077332</td>\n",
       "      <td>-0.072019</td>\n",
       "      <td>-0.050234</td>\n",
       "      <td>-0.054338</td>\n",
       "      <td>0.003328</td>\n",
       "      <td>0.019929</td>\n",
       "      <td>0.051703</td>\n",
       "      <td>-0.012307</td>\n",
       "      <td>-0.044944</td>\n",
       "      <td>-0.013429</td>\n",
       "      <td>-0.001494</td>\n",
       "      <td>0.017295</td>\n",
       "      <td>0.140004</td>\n",
       "      <td>-0.017196</td>\n",
       "      <td>-0.146749</td>\n",
       "      <td>-0.046329</td>\n",
       "      <td>-0.039647</td>\n",
       "      <td>0.030387</td>\n",
       "      <td>0.050371</td>\n",
       "      <td>-0.276268</td>\n",
       "      <td>1.000000</td>\n",
       "      <td>-0.223516</td>\n",
       "      <td>-0.151234</td>\n",
       "      <td>-0.206477</td>\n",
       "      <td>-0.236673</td>\n",
       "      <td>-0.047220</td>\n",
       "      <td>-0.210745</td>\n",
       "    </tr>\n",
       "    <tr>\n",
       "      <th>tenure_group_Tenure_24-48</th>\n",
       "      <td>-0.010516</td>\n",
       "      <td>0.020383</td>\n",
       "      <td>0.028468</td>\n",
       "      <td>0.024645</td>\n",
       "      <td>-0.014778</td>\n",
       "      <td>0.007695</td>\n",
       "      <td>0.023085</td>\n",
       "      <td>0.044972</td>\n",
       "      <td>0.022137</td>\n",
       "      <td>0.028829</td>\n",
       "      <td>0.025048</td>\n",
       "      <td>-0.005388</td>\n",
       "      <td>-0.075859</td>\n",
       "      <td>-0.032157</td>\n",
       "      <td>0.014778</td>\n",
       "      <td>0.023690</td>\n",
       "      <td>-0.000468</td>\n",
       "      <td>0.005614</td>\n",
       "      <td>-0.006230</td>\n",
       "      <td>-0.052156</td>\n",
       "      <td>0.153893</td>\n",
       "      <td>-0.085900</td>\n",
       "      <td>0.021723</td>\n",
       "      <td>0.028233</td>\n",
       "      <td>-0.011570</td>\n",
       "      <td>-0.036095</td>\n",
       "      <td>-0.362302</td>\n",
       "      <td>-0.223516</td>\n",
       "      <td>1.000000</td>\n",
       "      <td>-0.198331</td>\n",
       "      <td>-0.270776</td>\n",
       "      <td>0.083153</td>\n",
       "      <td>0.020378</td>\n",
       "      <td>0.025594</td>\n",
       "    </tr>\n",
       "    <tr>\n",
       "      <th>tenure_group_Tenure_48-60</th>\n",
       "      <td>-0.004319</td>\n",
       "      <td>0.014186</td>\n",
       "      <td>0.105341</td>\n",
       "      <td>0.031419</td>\n",
       "      <td>-0.009750</td>\n",
       "      <td>0.071663</td>\n",
       "      <td>0.099192</td>\n",
       "      <td>0.076854</td>\n",
       "      <td>0.062710</td>\n",
       "      <td>0.087969</td>\n",
       "      <td>0.086616</td>\n",
       "      <td>0.010626</td>\n",
       "      <td>-0.100800</td>\n",
       "      <td>-0.080630</td>\n",
       "      <td>0.009750</td>\n",
       "      <td>0.075740</td>\n",
       "      <td>-0.000790</td>\n",
       "      <td>0.017466</td>\n",
       "      <td>-0.020153</td>\n",
       "      <td>-0.198709</td>\n",
       "      <td>0.158917</td>\n",
       "      <td>0.080082</td>\n",
       "      <td>0.060183</td>\n",
       "      <td>0.048167</td>\n",
       "      <td>-0.030584</td>\n",
       "      <td>-0.072170</td>\n",
       "      <td>-0.245138</td>\n",
       "      <td>-0.151234</td>\n",
       "      <td>-0.198331</td>\n",
       "      <td>1.000000</td>\n",
       "      <td>-0.183211</td>\n",
       "      <td>0.329367</td>\n",
       "      <td>0.070048</td>\n",
       "      <td>0.252905</td>\n",
       "    </tr>\n",
       "    <tr>\n",
       "      <th>tenure_group_Tenure_gt_60</th>\n",
       "      <td>0.016279</td>\n",
       "      <td>-0.002407</td>\n",
       "      <td>0.280353</td>\n",
       "      <td>0.118090</td>\n",
       "      <td>0.020516</td>\n",
       "      <td>0.263228</td>\n",
       "      <td>0.278788</td>\n",
       "      <td>0.275537</td>\n",
       "      <td>0.265396</td>\n",
       "      <td>0.198150</td>\n",
       "      <td>0.207544</td>\n",
       "      <td>-0.001415</td>\n",
       "      <td>-0.226078</td>\n",
       "      <td>-0.242798</td>\n",
       "      <td>-0.020516</td>\n",
       "      <td>0.257920</td>\n",
       "      <td>0.014666</td>\n",
       "      <td>0.006112</td>\n",
       "      <td>-0.024292</td>\n",
       "      <td>-0.476912</td>\n",
       "      <td>0.016142</td>\n",
       "      <td>0.540336</td>\n",
       "      <td>0.184249</td>\n",
       "      <td>0.179294</td>\n",
       "      <td>-0.175456</td>\n",
       "      <td>-0.160053</td>\n",
       "      <td>-0.334681</td>\n",
       "      <td>-0.206477</td>\n",
       "      <td>-0.270776</td>\n",
       "      <td>-0.183211</td>\n",
       "      <td>1.000000</td>\n",
       "      <td>0.727237</td>\n",
       "      <td>0.185440</td>\n",
       "      <td>0.639312</td>\n",
       "    </tr>\n",
       "    <tr>\n",
       "      <th>tenure</th>\n",
       "      <td>0.005285</td>\n",
       "      <td>0.015683</td>\n",
       "      <td>0.381912</td>\n",
       "      <td>0.163386</td>\n",
       "      <td>0.007877</td>\n",
       "      <td>0.328297</td>\n",
       "      <td>0.361138</td>\n",
       "      <td>0.361520</td>\n",
       "      <td>0.325288</td>\n",
       "      <td>0.280264</td>\n",
       "      <td>0.285402</td>\n",
       "      <td>0.004823</td>\n",
       "      <td>-0.354049</td>\n",
       "      <td>-0.323891</td>\n",
       "      <td>-0.007877</td>\n",
       "      <td>0.332399</td>\n",
       "      <td>0.013786</td>\n",
       "      <td>0.017930</td>\n",
       "      <td>-0.037529</td>\n",
       "      <td>-0.649346</td>\n",
       "      <td>0.202338</td>\n",
       "      <td>0.563801</td>\n",
       "      <td>0.243822</td>\n",
       "      <td>0.232800</td>\n",
       "      <td>-0.210197</td>\n",
       "      <td>-0.232181</td>\n",
       "      <td>-0.754330</td>\n",
       "      <td>-0.236673</td>\n",
       "      <td>0.083153</td>\n",
       "      <td>0.329367</td>\n",
       "      <td>0.727237</td>\n",
       "      <td>1.000000</td>\n",
       "      <td>0.246862</td>\n",
       "      <td>0.825880</td>\n",
       "    </tr>\n",
       "    <tr>\n",
       "      <th>MonthlyCharges</th>\n",
       "      <td>-0.013779</td>\n",
       "      <td>0.219874</td>\n",
       "      <td>0.097825</td>\n",
       "      <td>-0.112343</td>\n",
       "      <td>0.248033</td>\n",
       "      <td>0.296447</td>\n",
       "      <td>0.441529</td>\n",
       "      <td>0.482607</td>\n",
       "      <td>0.338301</td>\n",
       "      <td>0.629668</td>\n",
       "      <td>0.627235</td>\n",
       "      <td>0.351930</td>\n",
       "      <td>0.192858</td>\n",
       "      <td>-0.338514</td>\n",
       "      <td>-0.248033</td>\n",
       "      <td>0.490912</td>\n",
       "      <td>-0.161368</td>\n",
       "      <td>0.787195</td>\n",
       "      <td>-0.763191</td>\n",
       "      <td>0.058933</td>\n",
       "      <td>0.004810</td>\n",
       "      <td>-0.073256</td>\n",
       "      <td>0.042410</td>\n",
       "      <td>0.030055</td>\n",
       "      <td>0.271117</td>\n",
       "      <td>-0.376568</td>\n",
       "      <td>-0.191881</td>\n",
       "      <td>-0.047220</td>\n",
       "      <td>0.020378</td>\n",
       "      <td>0.070048</td>\n",
       "      <td>0.185440</td>\n",
       "      <td>0.246862</td>\n",
       "      <td>1.000000</td>\n",
       "      <td>0.651065</td>\n",
       "    </tr>\n",
       "    <tr>\n",
       "      <th>TotalCharges</th>\n",
       "      <td>0.000048</td>\n",
       "      <td>0.102411</td>\n",
       "      <td>0.319072</td>\n",
       "      <td>0.064653</td>\n",
       "      <td>0.113008</td>\n",
       "      <td>0.412619</td>\n",
       "      <td>0.510100</td>\n",
       "      <td>0.522881</td>\n",
       "      <td>0.432868</td>\n",
       "      <td>0.515709</td>\n",
       "      <td>0.519867</td>\n",
       "      <td>0.157830</td>\n",
       "      <td>-0.199484</td>\n",
       "      <td>-0.396765</td>\n",
       "      <td>-0.113008</td>\n",
       "      <td>0.469042</td>\n",
       "      <td>-0.052190</td>\n",
       "      <td>0.360769</td>\n",
       "      <td>-0.374878</td>\n",
       "      <td>-0.446776</td>\n",
       "      <td>0.170569</td>\n",
       "      <td>0.358036</td>\n",
       "      <td>0.186119</td>\n",
       "      <td>0.182663</td>\n",
       "      <td>-0.060436</td>\n",
       "      <td>-0.294708</td>\n",
       "      <td>-0.592443</td>\n",
       "      <td>-0.210745</td>\n",
       "      <td>0.025594</td>\n",
       "      <td>0.252905</td>\n",
       "      <td>0.639312</td>\n",
       "      <td>0.825880</td>\n",
       "      <td>0.651065</td>\n",
       "      <td>1.000000</td>\n",
       "    </tr>\n",
       "  </tbody>\n",
       "</table>\n",
       "</div>"
      ],
      "text/plain": [
       "                                           gender  SeniorCitizen   Partner  \\\n",
       "gender                                   1.000000      -0.001819 -0.001379   \n",
       "SeniorCitizen                           -0.001819       1.000000  0.016957   \n",
       "Partner                                 -0.001379       0.016957  1.000000   \n",
       "Dependents                               0.010349      -0.210550  0.452269   \n",
       "PhoneService                            -0.007515       0.008392  0.018397   \n",
       "OnlineSecurity                          -0.016328      -0.038576  0.143346   \n",
       "OnlineBackup                            -0.013093       0.066663  0.141849   \n",
       "DeviceProtection                        -0.000807       0.059514  0.153556   \n",
       "TechSupport                             -0.008507      -0.060577  0.120206   \n",
       "StreamingTV                             -0.007124       0.105445  0.124483   \n",
       "StreamingMovies                         -0.010105       0.119842  0.118108   \n",
       "PaperlessBilling                        -0.011902       0.156258 -0.013957   \n",
       "Churn                                   -0.008545       0.150541 -0.149982   \n",
       "MultipleLines_No                         0.004335      -0.136377 -0.130028   \n",
       "MultipleLines_No phone service           0.007515      -0.008392 -0.018397   \n",
       "MultipleLines_Yes                       -0.008883       0.142996  0.142561   \n",
       "InternetService_DSL                      0.007584      -0.108276 -0.001043   \n",
       "InternetService_Fiber optic             -0.011189       0.254923  0.001235   \n",
       "InternetService_No                       0.004745      -0.182519 -0.000286   \n",
       "Contract_Month-to-month                 -0.003251       0.137752 -0.280202   \n",
       "Contract_One year                        0.007755      -0.046491  0.083067   \n",
       "Contract_Two year                       -0.003603      -0.116205  0.247334   \n",
       "PaymentMethod_Bank transfer (automatic) -0.015973      -0.016235  0.111406   \n",
       "PaymentMethod_Credit card (automatic)    0.001632      -0.024359  0.082327   \n",
       "PaymentMethod_Electronic check           0.000844       0.171322 -0.083207   \n",
       "PaymentMethod_Mailed check               0.013199      -0.152987 -0.096948   \n",
       "tenure_group_Tenure_0-12                -0.001050      -0.027713 -0.305061   \n",
       "tenure_group_Tenure_12-24               -0.000649       0.001860 -0.048481   \n",
       "tenure_group_Tenure_24-48               -0.010516       0.020383  0.028468   \n",
       "tenure_group_Tenure_48-60               -0.004319       0.014186  0.105341   \n",
       "tenure_group_Tenure_gt_60                0.016279      -0.002407  0.280353   \n",
       "tenure                                   0.005285       0.015683  0.381912   \n",
       "MonthlyCharges                          -0.013779       0.219874  0.097825   \n",
       "TotalCharges                             0.000048       0.102411  0.319072   \n",
       "\n",
       "                                         Dependents  PhoneService  \\\n",
       "gender                                     0.010349     -0.007515   \n",
       "SeniorCitizen                             -0.210550      0.008392   \n",
       "Partner                                    0.452269      0.018397   \n",
       "Dependents                                 1.000000     -0.001078   \n",
       "PhoneService                              -0.001078      1.000000   \n",
       "OnlineSecurity                             0.080786     -0.091676   \n",
       "OnlineBackup                               0.023639     -0.052133   \n",
       "DeviceProtection                           0.013900     -0.070076   \n",
       "TechSupport                                0.063053     -0.095138   \n",
       "StreamingTV                               -0.016499     -0.021383   \n",
       "StreamingMovies                           -0.038375     -0.033477   \n",
       "PaperlessBilling                          -0.110131      0.016696   \n",
       "Churn                                     -0.163128      0.011691   \n",
       "MultipleLines_No                           0.023388      0.315218   \n",
       "MultipleLines_No phone service             0.001078     -1.000000   \n",
       "MultipleLines_Yes                         -0.024307      0.279530   \n",
       "InternetService_DSL                        0.051593     -0.452255   \n",
       "InternetService_Fiber optic               -0.164101      0.290183   \n",
       "InternetService_No                         0.138383      0.171817   \n",
       "Contract_Month-to-month                   -0.229715     -0.001243   \n",
       "Contract_One year                          0.069222     -0.003142   \n",
       "Contract_Two year                          0.201699      0.004442   \n",
       "PaymentMethod_Bank transfer (automatic)    0.052369      0.008271   \n",
       "PaymentMethod_Credit card (automatic)      0.061134     -0.006916   \n",
       "PaymentMethod_Electronic check            -0.149274      0.002747   \n",
       "PaymentMethod_Mailed check                 0.056448     -0.004463   \n",
       "tenure_group_Tenure_0-12                  -0.145379     -0.006950   \n",
       "tenure_group_Tenure_12-24                 -0.001459      0.012307   \n",
       "tenure_group_Tenure_24-48                  0.024645     -0.014778   \n",
       "tenure_group_Tenure_48-60                  0.031419     -0.009750   \n",
       "tenure_group_Tenure_gt_60                  0.118090      0.020516   \n",
       "tenure                                     0.163386      0.007877   \n",
       "MonthlyCharges                            -0.112343      0.248033   \n",
       "TotalCharges                               0.064653      0.113008   \n",
       "\n",
       "                                         OnlineSecurity  OnlineBackup  \\\n",
       "gender                                        -0.016328     -0.013093   \n",
       "SeniorCitizen                                 -0.038576      0.066663   \n",
       "Partner                                        0.143346      0.141849   \n",
       "Dependents                                     0.080786      0.023639   \n",
       "PhoneService                                  -0.091676     -0.052133   \n",
       "OnlineSecurity                                 1.000000      0.283285   \n",
       "OnlineBackup                                   0.283285      1.000000   \n",
       "DeviceProtection                               0.274875      0.303058   \n",
       "TechSupport                                    0.354458      0.293705   \n",
       "StreamingTV                                    0.175514      0.281601   \n",
       "StreamingMovies                                0.187426      0.274523   \n",
       "PaperlessBilling                              -0.004051      0.127056   \n",
       "Churn                                         -0.171270     -0.082307   \n",
       "MultipleLines_No                              -0.151678     -0.230724   \n",
       "MultipleLines_No phone service                 0.091676      0.052133   \n",
       "MultipleLines_Yes                              0.098592      0.202228   \n",
       "InternetService_DSL                            0.320343      0.156765   \n",
       "InternetService_Fiber optic                   -0.030506      0.165940   \n",
       "InternetService_No                            -0.332799     -0.380990   \n",
       "Contract_Month-to-month                       -0.246844     -0.164393   \n",
       "Contract_One year                              0.100658      0.084113   \n",
       "Contract_Two year                              0.191698      0.111391   \n",
       "PaymentMethod_Bank transfer (automatic)        0.094366      0.086942   \n",
       "PaymentMethod_Credit card (automatic)          0.115473      0.090455   \n",
       "PaymentMethod_Electronic check                -0.112295     -0.000364   \n",
       "PaymentMethod_Mailed check                    -0.079918     -0.174075   \n",
       "tenure_group_Tenure_0-12                      -0.242409     -0.267366   \n",
       "tenure_group_Tenure_12-24                     -0.055662     -0.084081   \n",
       "tenure_group_Tenure_24-48                      0.007695      0.023085   \n",
       "tenure_group_Tenure_48-60                      0.071663      0.099192   \n",
       "tenure_group_Tenure_gt_60                      0.263228      0.278788   \n",
       "tenure                                         0.328297      0.361138   \n",
       "MonthlyCharges                                 0.296447      0.441529   \n",
       "TotalCharges                                   0.412619      0.510100   \n",
       "\n",
       "                                         DeviceProtection  TechSupport  \\\n",
       "gender                                          -0.000807    -0.008507   \n",
       "SeniorCitizen                                    0.059514    -0.060577   \n",
       "Partner                                          0.153556     0.120206   \n",
       "Dependents                                       0.013900     0.063053   \n",
       "PhoneService                                    -0.070076    -0.095138   \n",
       "OnlineSecurity                                   0.274875     0.354458   \n",
       "OnlineBackup                                     0.303058     0.293705   \n",
       "DeviceProtection                                 1.000000     0.332850   \n",
       "TechSupport                                      0.332850     1.000000   \n",
       "StreamingTV                                      0.389924     0.277549   \n",
       "StreamingMovies                                  0.402309     0.280155   \n",
       "PaperlessBilling                                 0.104079     0.037536   \n",
       "Churn                                           -0.066193    -0.164716   \n",
       "MultipleLines_No                                -0.240847    -0.155534   \n",
       "MultipleLines_No phone service                   0.070076     0.095138   \n",
       "MultipleLines_Yes                                0.201733     0.100421   \n",
       "InternetService_DSL                              0.145150     0.312183   \n",
       "InternetService_Fiber optic                      0.176356    -0.020299   \n",
       "InternetService_No                              -0.380151    -0.335695   \n",
       "Contract_Month-to-month                         -0.225988    -0.285491   \n",
       "Contract_One year                                0.102911     0.096258   \n",
       "Contract_Two year                                0.165248     0.240924   \n",
       "PaymentMethod_Bank transfer (automatic)          0.083047     0.100472   \n",
       "PaymentMethod_Credit card (automatic)            0.111252     0.117024   \n",
       "PaymentMethod_Electronic check                  -0.003308    -0.114807   \n",
       "PaymentMethod_Mailed check                      -0.187325    -0.084631   \n",
       "tenure_group_Tenure_0-12                        -0.273920    -0.238628   \n",
       "tenure_group_Tenure_12-24                       -0.077332    -0.072019   \n",
       "tenure_group_Tenure_24-48                        0.044972     0.022137   \n",
       "tenure_group_Tenure_48-60                        0.076854     0.062710   \n",
       "tenure_group_Tenure_gt_60                        0.275537     0.265396   \n",
       "tenure                                           0.361520     0.325288   \n",
       "MonthlyCharges                                   0.482607     0.338301   \n",
       "TotalCharges                                     0.522881     0.432868   \n",
       "\n",
       "                                         StreamingTV  StreamingMovies  \\\n",
       "gender                                     -0.007124        -0.010105   \n",
       "SeniorCitizen                               0.105445         0.119842   \n",
       "Partner                                     0.124483         0.118108   \n",
       "Dependents                                 -0.016499        -0.038375   \n",
       "PhoneService                               -0.021383        -0.033477   \n",
       "OnlineSecurity                              0.175514         0.187426   \n",
       "OnlineBackup                                0.281601         0.274523   \n",
       "DeviceProtection                            0.389924         0.402309   \n",
       "TechSupport                                 0.277549         0.280155   \n",
       "StreamingTV                                 1.000000         0.533380   \n",
       "StreamingMovies                             0.533380         1.000000   \n",
       "PaperlessBilling                            0.224241         0.211583   \n",
       "Churn                                       0.063254         0.060860   \n",
       "MultipleLines_No                           -0.267466        -0.275995   \n",
       "MultipleLines_No phone service              0.021383         0.033477   \n",
       "MultipleLines_Yes                           0.257804         0.259194   \n",
       "InternetService_DSL                         0.014973         0.025623   \n",
       "InternetService_Fiber optic                 0.329744         0.322457   \n",
       "InternetService_No                         -0.414951        -0.418450   \n",
       "Contract_Month-to-month                    -0.112550        -0.117867   \n",
       "Contract_One year                           0.061930         0.064780   \n",
       "Contract_Two year                           0.072124         0.075603   \n",
       "PaymentMethod_Bank transfer (automatic)     0.046121         0.048755   \n",
       "PaymentMethod_Credit card (automatic)       0.040010         0.048398   \n",
       "PaymentMethod_Electronic check              0.144747         0.137420   \n",
       "PaymentMethod_Mailed check                 -0.247712        -0.250290   \n",
       "tenure_group_Tenure_0-12                   -0.220761        -0.221388   \n",
       "tenure_group_Tenure_12-24                  -0.050234        -0.054338   \n",
       "tenure_group_Tenure_24-48                   0.028829         0.025048   \n",
       "tenure_group_Tenure_48-60                   0.087969         0.086616   \n",
       "tenure_group_Tenure_gt_60                   0.198150         0.207544   \n",
       "tenure                                      0.280264         0.285402   \n",
       "MonthlyCharges                              0.629668         0.627235   \n",
       "TotalCharges                                0.515709         0.519867   \n",
       "\n",
       "                                         PaperlessBilling     Churn  \\\n",
       "gender                                          -0.011902 -0.008545   \n",
       "SeniorCitizen                                    0.156258  0.150541   \n",
       "Partner                                         -0.013957 -0.149982   \n",
       "Dependents                                      -0.110131 -0.163128   \n",
       "PhoneService                                     0.016696  0.011691   \n",
       "OnlineSecurity                                  -0.004051 -0.171270   \n",
       "OnlineBackup                                     0.127056 -0.082307   \n",
       "DeviceProtection                                 0.104079 -0.066193   \n",
       "TechSupport                                      0.037536 -0.164716   \n",
       "StreamingTV                                      0.224241  0.063254   \n",
       "StreamingMovies                                  0.211583  0.060860   \n",
       "PaperlessBilling                                 1.000000  0.191454   \n",
       "Churn                                            0.191454  1.000000   \n",
       "MultipleLines_No                                -0.151974 -0.032654   \n",
       "MultipleLines_No phone service                  -0.016696 -0.011691   \n",
       "MultipleLines_Yes                                0.163746  0.040033   \n",
       "InternetService_DSL                             -0.063390 -0.124141   \n",
       "InternetService_Fiber optic                      0.326470  0.307463   \n",
       "InternetService_No                              -0.320592 -0.227578   \n",
       "Contract_Month-to-month                          0.168296  0.404565   \n",
       "Contract_One year                               -0.052278 -0.178225   \n",
       "Contract_Two year                               -0.146281 -0.301552   \n",
       "PaymentMethod_Bank transfer (automatic)         -0.017469 -0.118136   \n",
       "PaymentMethod_Credit card (automatic)           -0.013726 -0.134687   \n",
       "PaymentMethod_Electronic check                   0.208427  0.301455   \n",
       "PaymentMethod_Mailed check                      -0.203981 -0.090773   \n",
       "tenure_group_Tenure_0-12                        -0.003860  0.319628   \n",
       "tenure_group_Tenure_12-24                        0.003328  0.019929   \n",
       "tenure_group_Tenure_24-48                       -0.005388 -0.075859   \n",
       "tenure_group_Tenure_48-60                        0.010626 -0.100800   \n",
       "tenure_group_Tenure_gt_60                       -0.001415 -0.226078   \n",
       "tenure                                           0.004823 -0.354049   \n",
       "MonthlyCharges                                   0.351930  0.192858   \n",
       "TotalCharges                                     0.157830 -0.199484   \n",
       "\n",
       "                                         MultipleLines_No  \\\n",
       "gender                                           0.004335   \n",
       "SeniorCitizen                                   -0.136377   \n",
       "Partner                                         -0.130028   \n",
       "Dependents                                       0.023388   \n",
       "PhoneService                                     0.315218   \n",
       "OnlineSecurity                                  -0.151678   \n",
       "OnlineBackup                                    -0.230724   \n",
       "DeviceProtection                                -0.240847   \n",
       "TechSupport                                     -0.155534   \n",
       "StreamingTV                                     -0.267466   \n",
       "StreamingMovies                                 -0.275995   \n",
       "PaperlessBilling                                -0.151974   \n",
       "Churn                                           -0.032654   \n",
       "MultipleLines_No                                 1.000000   \n",
       "MultipleLines_No phone service                  -0.315218   \n",
       "MultipleLines_Yes                               -0.823076   \n",
       "InternetService_DSL                             -0.069515   \n",
       "InternetService_Fiber optic                     -0.190531   \n",
       "InternetService_No                               0.309984   \n",
       "Contract_Month-to-month                          0.086798   \n",
       "Contract_One year                                0.001694   \n",
       "Contract_Two year                               -0.102756   \n",
       "PaymentMethod_Bank transfer (automatic)         -0.069663   \n",
       "PaymentMethod_Credit card (automatic)           -0.063712   \n",
       "PaymentMethod_Electronic check                  -0.080990   \n",
       "PaymentMethod_Mailed check                       0.222395   \n",
       "tenure_group_Tenure_0-12                         0.256171   \n",
       "tenure_group_Tenure_12-24                        0.051703   \n",
       "tenure_group_Tenure_24-48                       -0.032157   \n",
       "tenure_group_Tenure_48-60                       -0.080630   \n",
       "tenure_group_Tenure_gt_60                       -0.242798   \n",
       "tenure                                          -0.323891   \n",
       "MonthlyCharges                                  -0.338514   \n",
       "TotalCharges                                    -0.396765   \n",
       "\n",
       "                                         MultipleLines_No phone service  \\\n",
       "gender                                                         0.007515   \n",
       "SeniorCitizen                                                 -0.008392   \n",
       "Partner                                                       -0.018397   \n",
       "Dependents                                                     0.001078   \n",
       "PhoneService                                                  -1.000000   \n",
       "OnlineSecurity                                                 0.091676   \n",
       "OnlineBackup                                                   0.052133   \n",
       "DeviceProtection                                               0.070076   \n",
       "TechSupport                                                    0.095138   \n",
       "StreamingTV                                                    0.021383   \n",
       "StreamingMovies                                                0.033477   \n",
       "PaperlessBilling                                              -0.016696   \n",
       "Churn                                                         -0.011691   \n",
       "MultipleLines_No                                              -0.315218   \n",
       "MultipleLines_No phone service                                 1.000000   \n",
       "MultipleLines_Yes                                             -0.279530   \n",
       "InternetService_DSL                                            0.452255   \n",
       "InternetService_Fiber optic                                   -0.290183   \n",
       "InternetService_No                                            -0.171817   \n",
       "Contract_Month-to-month                                        0.001243   \n",
       "Contract_One year                                              0.003142   \n",
       "Contract_Two year                                             -0.004442   \n",
       "PaymentMethod_Bank transfer (automatic)                       -0.008271   \n",
       "PaymentMethod_Credit card (automatic)                          0.006916   \n",
       "PaymentMethod_Electronic check                                -0.002747   \n",
       "PaymentMethod_Mailed check                                     0.004463   \n",
       "tenure_group_Tenure_0-12                                       0.006950   \n",
       "tenure_group_Tenure_12-24                                     -0.012307   \n",
       "tenure_group_Tenure_24-48                                      0.014778   \n",
       "tenure_group_Tenure_48-60                                      0.009750   \n",
       "tenure_group_Tenure_gt_60                                     -0.020516   \n",
       "tenure                                                        -0.007877   \n",
       "MonthlyCharges                                                -0.248033   \n",
       "TotalCharges                                                  -0.113008   \n",
       "\n",
       "                                         MultipleLines_Yes  \\\n",
       "gender                                           -0.008883   \n",
       "SeniorCitizen                                     0.142996   \n",
       "Partner                                           0.142561   \n",
       "Dependents                                       -0.024307   \n",
       "PhoneService                                      0.279530   \n",
       "OnlineSecurity                                    0.098592   \n",
       "OnlineBackup                                      0.202228   \n",
       "DeviceProtection                                  0.201733   \n",
       "TechSupport                                       0.100421   \n",
       "StreamingTV                                       0.257804   \n",
       "StreamingMovies                                   0.259194   \n",
       "PaperlessBilling                                  0.163746   \n",
       "Churn                                             0.040033   \n",
       "MultipleLines_No                                 -0.823076   \n",
       "MultipleLines_No phone service                   -0.279530   \n",
       "MultipleLines_Yes                                 1.000000   \n",
       "InternetService_DSL                              -0.200318   \n",
       "InternetService_Fiber optic                       0.366420   \n",
       "InternetService_No                               -0.210794   \n",
       "Contract_Month-to-month                          -0.088558   \n",
       "Contract_One year                                -0.003594   \n",
       "Contract_Two year                                 0.106618   \n",
       "PaymentMethod_Bank transfer (automatic)           0.075429   \n",
       "PaymentMethod_Credit card (automatic)             0.060319   \n",
       "PaymentMethod_Electronic check                    0.083583   \n",
       "PaymentMethod_Mailed check                       -0.227672   \n",
       "tenure_group_Tenure_0-12                         -0.263331   \n",
       "tenure_group_Tenure_12-24                        -0.044944   \n",
       "tenure_group_Tenure_24-48                         0.023690   \n",
       "tenure_group_Tenure_48-60                         0.075740   \n",
       "tenure_group_Tenure_gt_60                         0.257920   \n",
       "tenure                                            0.332399   \n",
       "MonthlyCharges                                    0.490912   \n",
       "TotalCharges                                      0.469042   \n",
       "\n",
       "                                         InternetService_DSL  \\\n",
       "gender                                              0.007584   \n",
       "SeniorCitizen                                      -0.108276   \n",
       "Partner                                            -0.001043   \n",
       "Dependents                                          0.051593   \n",
       "PhoneService                                       -0.452255   \n",
       "OnlineSecurity                                      0.320343   \n",
       "OnlineBackup                                        0.156765   \n",
       "DeviceProtection                                    0.145150   \n",
       "TechSupport                                         0.312183   \n",
       "StreamingTV                                         0.014973   \n",
       "StreamingMovies                                     0.025623   \n",
       "PaperlessBilling                                   -0.063390   \n",
       "Churn                                              -0.124141   \n",
       "MultipleLines_No                                   -0.069515   \n",
       "MultipleLines_No phone service                      0.452255   \n",
       "MultipleLines_Yes                                  -0.200318   \n",
       "InternetService_DSL                                 1.000000   \n",
       "InternetService_Fiber optic                        -0.641636   \n",
       "InternetService_No                                 -0.379912   \n",
       "Contract_Month-to-month                            -0.065226   \n",
       "Contract_One year                                   0.047300   \n",
       "Contract_Two year                                   0.030924   \n",
       "PaymentMethod_Bank transfer (automatic)             0.024760   \n",
       "PaymentMethod_Credit card (automatic)               0.051222   \n",
       "PaymentMethod_Electronic check                     -0.104293   \n",
       "PaymentMethod_Mailed check                          0.042754   \n",
       "tenure_group_Tenure_0-12                           -0.001470   \n",
       "tenure_group_Tenure_12-24                          -0.013429   \n",
       "tenure_group_Tenure_24-48                          -0.000468   \n",
       "tenure_group_Tenure_48-60                          -0.000790   \n",
       "tenure_group_Tenure_gt_60                           0.014666   \n",
       "tenure                                              0.013786   \n",
       "MonthlyCharges                                     -0.161368   \n",
       "TotalCharges                                       -0.052190   \n",
       "\n",
       "                                         InternetService_Fiber optic  \\\n",
       "gender                                                     -0.011189   \n",
       "SeniorCitizen                                               0.254923   \n",
       "Partner                                                     0.001235   \n",
       "Dependents                                                 -0.164101   \n",
       "PhoneService                                                0.290183   \n",
       "OnlineSecurity                                             -0.030506   \n",
       "OnlineBackup                                                0.165940   \n",
       "DeviceProtection                                            0.176356   \n",
       "TechSupport                                                -0.020299   \n",
       "StreamingTV                                                 0.329744   \n",
       "StreamingMovies                                             0.322457   \n",
       "PaperlessBilling                                            0.326470   \n",
       "Churn                                                       0.307463   \n",
       "MultipleLines_No                                           -0.190531   \n",
       "MultipleLines_No phone service                             -0.290183   \n",
       "MultipleLines_Yes                                           0.366420   \n",
       "InternetService_DSL                                        -0.641636   \n",
       "InternetService_Fiber optic                                 1.000000   \n",
       "InternetService_No                                         -0.465736   \n",
       "Contract_Month-to-month                                     0.243014   \n",
       "Contract_One year                                          -0.076809   \n",
       "Contract_Two year                                          -0.209965   \n",
       "PaymentMethod_Bank transfer (automatic)                    -0.022779   \n",
       "PaymentMethod_Credit card (automatic)                      -0.050552   \n",
       "PaymentMethod_Electronic check                              0.335763   \n",
       "PaymentMethod_Mailed check                                 -0.305984   \n",
       "tenure_group_Tenure_0-12                                   -0.021441   \n",
       "tenure_group_Tenure_12-24                                  -0.001494   \n",
       "tenure_group_Tenure_24-48                                   0.005614   \n",
       "tenure_group_Tenure_48-60                                   0.017466   \n",
       "tenure_group_Tenure_gt_60                                   0.006112   \n",
       "tenure                                                      0.017930   \n",
       "MonthlyCharges                                              0.787195   \n",
       "TotalCharges                                                0.360769   \n",
       "\n",
       "                                         InternetService_No  \\\n",
       "gender                                             0.004745   \n",
       "SeniorCitizen                                     -0.182519   \n",
       "Partner                                           -0.000286   \n",
       "Dependents                                         0.138383   \n",
       "PhoneService                                       0.171817   \n",
       "OnlineSecurity                                    -0.332799   \n",
       "OnlineBackup                                      -0.380990   \n",
       "DeviceProtection                                  -0.380151   \n",
       "TechSupport                                       -0.335695   \n",
       "StreamingTV                                       -0.414951   \n",
       "StreamingMovies                                   -0.418450   \n",
       "PaperlessBilling                                  -0.320592   \n",
       "Churn                                             -0.227578   \n",
       "MultipleLines_No                                   0.309984   \n",
       "MultipleLines_No phone service                    -0.171817   \n",
       "MultipleLines_Yes                                 -0.210794   \n",
       "InternetService_DSL                               -0.379912   \n",
       "InternetService_Fiber optic                       -0.465736   \n",
       "InternetService_No                                 1.000000   \n",
       "Contract_Month-to-month                           -0.217824   \n",
       "Contract_One year                                  0.038061   \n",
       "Contract_Two year                                  0.217542   \n",
       "PaymentMethod_Bank transfer (automatic)           -0.001094   \n",
       "PaymentMethod_Credit card (automatic)              0.001870   \n",
       "PaymentMethod_Electronic check                    -0.284608   \n",
       "PaymentMethod_Mailed check                         0.319694   \n",
       "tenure_group_Tenure_0-12                           0.027554   \n",
       "tenure_group_Tenure_12-24                          0.017295   \n",
       "tenure_group_Tenure_24-48                         -0.006230   \n",
       "tenure_group_Tenure_48-60                         -0.020153   \n",
       "tenure_group_Tenure_gt_60                         -0.024292   \n",
       "tenure                                            -0.037529   \n",
       "MonthlyCharges                                    -0.763191   \n",
       "TotalCharges                                      -0.374878   \n",
       "\n",
       "                                         Contract_Month-to-month  \\\n",
       "gender                                                 -0.003251   \n",
       "SeniorCitizen                                           0.137752   \n",
       "Partner                                                -0.280202   \n",
       "Dependents                                             -0.229715   \n",
       "PhoneService                                           -0.001243   \n",
       "OnlineSecurity                                         -0.246844   \n",
       "OnlineBackup                                           -0.164393   \n",
       "DeviceProtection                                       -0.225988   \n",
       "TechSupport                                            -0.285491   \n",
       "StreamingTV                                            -0.112550   \n",
       "StreamingMovies                                        -0.117867   \n",
       "PaperlessBilling                                        0.168296   \n",
       "Churn                                                   0.404565   \n",
       "MultipleLines_No                                        0.086798   \n",
       "MultipleLines_No phone service                          0.001243   \n",
       "MultipleLines_Yes                                      -0.088558   \n",
       "InternetService_DSL                                    -0.065226   \n",
       "InternetService_Fiber optic                             0.243014   \n",
       "InternetService_No                                     -0.217824   \n",
       "Contract_Month-to-month                                 1.000000   \n",
       "Contract_One year                                      -0.570053   \n",
       "Contract_Two year                                      -0.621933   \n",
       "PaymentMethod_Bank transfer (automatic)                -0.180159   \n",
       "PaymentMethod_Credit card (automatic)                  -0.204960   \n",
       "PaymentMethod_Electronic check                          0.330879   \n",
       "PaymentMethod_Mailed check                              0.006209   \n",
       "tenure_group_Tenure_0-12                                0.492052   \n",
       "tenure_group_Tenure_12-24                               0.140004   \n",
       "tenure_group_Tenure_24-48                              -0.052156   \n",
       "tenure_group_Tenure_48-60                              -0.198709   \n",
       "tenure_group_Tenure_gt_60                              -0.476912   \n",
       "tenure                                                 -0.649346   \n",
       "MonthlyCharges                                          0.058933   \n",
       "TotalCharges                                           -0.446776   \n",
       "\n",
       "                                         Contract_One year  Contract_Two year  \\\n",
       "gender                                            0.007755          -0.003603   \n",
       "SeniorCitizen                                    -0.046491          -0.116205   \n",
       "Partner                                           0.083067           0.247334   \n",
       "Dependents                                        0.069222           0.201699   \n",
       "PhoneService                                     -0.003142           0.004442   \n",
       "OnlineSecurity                                    0.100658           0.191698   \n",
       "OnlineBackup                                      0.084113           0.111391   \n",
       "DeviceProtection                                  0.102911           0.165248   \n",
       "TechSupport                                       0.096258           0.240924   \n",
       "StreamingTV                                       0.061930           0.072124   \n",
       "StreamingMovies                                   0.064780           0.075603   \n",
       "PaperlessBilling                                 -0.052278          -0.146281   \n",
       "Churn                                            -0.178225          -0.301552   \n",
       "MultipleLines_No                                  0.001694          -0.102756   \n",
       "MultipleLines_No phone service                    0.003142          -0.004442   \n",
       "MultipleLines_Yes                                -0.003594           0.106618   \n",
       "InternetService_DSL                               0.047300           0.030924   \n",
       "InternetService_Fiber optic                      -0.076809          -0.209965   \n",
       "InternetService_No                                0.038061           0.217542   \n",
       "Contract_Month-to-month                          -0.570053          -0.621933   \n",
       "Contract_One year                                 1.000000          -0.288843   \n",
       "Contract_Two year                                -0.288843           1.000000   \n",
       "PaymentMethod_Bank transfer (automatic)           0.057629           0.155004   \n",
       "PaymentMethod_Credit card (automatic)             0.067590           0.174410   \n",
       "PaymentMethod_Electronic check                   -0.109546          -0.281147   \n",
       "PaymentMethod_Mailed check                        0.000197          -0.007423   \n",
       "tenure_group_Tenure_0-12                         -0.251299          -0.333850   \n",
       "tenure_group_Tenure_12-24                        -0.017196          -0.146749   \n",
       "tenure_group_Tenure_24-48                         0.153893          -0.085900   \n",
       "tenure_group_Tenure_48-60                         0.158917           0.080082   \n",
       "tenure_group_Tenure_gt_60                         0.016142           0.540336   \n",
       "tenure                                            0.202338           0.563801   \n",
       "MonthlyCharges                                    0.004810          -0.073256   \n",
       "TotalCharges                                      0.170569           0.358036   \n",
       "\n",
       "                                         PaymentMethod_Bank transfer (automatic)  \\\n",
       "gender                                                                 -0.015973   \n",
       "SeniorCitizen                                                          -0.016235   \n",
       "Partner                                                                 0.111406   \n",
       "Dependents                                                              0.052369   \n",
       "PhoneService                                                            0.008271   \n",
       "OnlineSecurity                                                          0.094366   \n",
       "OnlineBackup                                                            0.086942   \n",
       "DeviceProtection                                                        0.083047   \n",
       "TechSupport                                                             0.100472   \n",
       "StreamingTV                                                             0.046121   \n",
       "StreamingMovies                                                         0.048755   \n",
       "PaperlessBilling                                                       -0.017469   \n",
       "Churn                                                                  -0.118136   \n",
       "MultipleLines_No                                                       -0.069663   \n",
       "MultipleLines_No phone service                                         -0.008271   \n",
       "MultipleLines_Yes                                                       0.075429   \n",
       "InternetService_DSL                                                     0.024760   \n",
       "InternetService_Fiber optic                                            -0.022779   \n",
       "InternetService_No                                                     -0.001094   \n",
       "Contract_Month-to-month                                                -0.180159   \n",
       "Contract_One year                                                       0.057629   \n",
       "Contract_Two year                                                       0.155004   \n",
       "PaymentMethod_Bank transfer (automatic)                                 1.000000   \n",
       "PaymentMethod_Credit card (automatic)                                  -0.278423   \n",
       "PaymentMethod_Electronic check                                         -0.377270   \n",
       "PaymentMethod_Mailed check                                             -0.288097   \n",
       "tenure_group_Tenure_0-12                                               -0.185855   \n",
       "tenure_group_Tenure_12-24                                              -0.046329   \n",
       "tenure_group_Tenure_24-48                                               0.021723   \n",
       "tenure_group_Tenure_48-60                                               0.060183   \n",
       "tenure_group_Tenure_gt_60                                               0.184249   \n",
       "tenure                                                                  0.243822   \n",
       "MonthlyCharges                                                          0.042410   \n",
       "TotalCharges                                                            0.186119   \n",
       "\n",
       "                                         PaymentMethod_Credit card (automatic)  \\\n",
       "gender                                                                0.001632   \n",
       "SeniorCitizen                                                        -0.024359   \n",
       "Partner                                                               0.082327   \n",
       "Dependents                                                            0.061134   \n",
       "PhoneService                                                         -0.006916   \n",
       "OnlineSecurity                                                        0.115473   \n",
       "OnlineBackup                                                          0.090455   \n",
       "DeviceProtection                                                      0.111252   \n",
       "TechSupport                                                           0.117024   \n",
       "StreamingTV                                                           0.040010   \n",
       "StreamingMovies                                                       0.048398   \n",
       "PaperlessBilling                                                     -0.013726   \n",
       "Churn                                                                -0.134687   \n",
       "MultipleLines_No                                                     -0.063712   \n",
       "MultipleLines_No phone service                                        0.006916   \n",
       "MultipleLines_Yes                                                     0.060319   \n",
       "InternetService_DSL                                                   0.051222   \n",
       "InternetService_Fiber optic                                          -0.050552   \n",
       "InternetService_No                                                    0.001870   \n",
       "Contract_Month-to-month                                              -0.204960   \n",
       "Contract_One year                                                     0.067590   \n",
       "Contract_Two year                                                     0.174410   \n",
       "PaymentMethod_Bank transfer (automatic)                              -0.278423   \n",
       "PaymentMethod_Credit card (automatic)                                 1.000000   \n",
       "PaymentMethod_Electronic check                                       -0.373978   \n",
       "PaymentMethod_Mailed check                                           -0.285583   \n",
       "tenure_group_Tenure_0-12                                             -0.184165   \n",
       "tenure_group_Tenure_12-24                                            -0.039647   \n",
       "tenure_group_Tenure_24-48                                             0.028233   \n",
       "tenure_group_Tenure_48-60                                             0.048167   \n",
       "tenure_group_Tenure_gt_60                                             0.179294   \n",
       "tenure                                                                0.232800   \n",
       "MonthlyCharges                                                        0.030055   \n",
       "TotalCharges                                                          0.182663   \n",
       "\n",
       "                                         PaymentMethod_Electronic check  \\\n",
       "gender                                                         0.000844   \n",
       "SeniorCitizen                                                  0.171322   \n",
       "Partner                                                       -0.083207   \n",
       "Dependents                                                    -0.149274   \n",
       "PhoneService                                                   0.002747   \n",
       "OnlineSecurity                                                -0.112295   \n",
       "OnlineBackup                                                  -0.000364   \n",
       "DeviceProtection                                              -0.003308   \n",
       "TechSupport                                                   -0.114807   \n",
       "StreamingTV                                                    0.144747   \n",
       "StreamingMovies                                                0.137420   \n",
       "PaperlessBilling                                               0.208427   \n",
       "Churn                                                          0.301455   \n",
       "MultipleLines_No                                              -0.080990   \n",
       "MultipleLines_No phone service                                -0.002747   \n",
       "MultipleLines_Yes                                              0.083583   \n",
       "InternetService_DSL                                           -0.104293   \n",
       "InternetService_Fiber optic                                    0.335763   \n",
       "InternetService_No                                            -0.284608   \n",
       "Contract_Month-to-month                                        0.330879   \n",
       "Contract_One year                                             -0.109546   \n",
       "Contract_Two year                                             -0.281147   \n",
       "PaymentMethod_Bank transfer (automatic)                       -0.377270   \n",
       "PaymentMethod_Credit card (automatic)                         -0.373978   \n",
       "PaymentMethod_Electronic check                                 1.000000   \n",
       "PaymentMethod_Mailed check                                    -0.386971   \n",
       "tenure_group_Tenure_0-12                                       0.160530   \n",
       "tenure_group_Tenure_12-24                                      0.030387   \n",
       "tenure_group_Tenure_24-48                                     -0.011570   \n",
       "tenure_group_Tenure_48-60                                     -0.030584   \n",
       "tenure_group_Tenure_gt_60                                     -0.175456   \n",
       "tenure                                                        -0.210197   \n",
       "MonthlyCharges                                                 0.271117   \n",
       "TotalCharges                                                  -0.060436   \n",
       "\n",
       "                                         PaymentMethod_Mailed check  \\\n",
       "gender                                                     0.013199   \n",
       "SeniorCitizen                                             -0.152987   \n",
       "Partner                                                   -0.096948   \n",
       "Dependents                                                 0.056448   \n",
       "PhoneService                                              -0.004463   \n",
       "OnlineSecurity                                            -0.079918   \n",
       "OnlineBackup                                              -0.174075   \n",
       "DeviceProtection                                          -0.187325   \n",
       "TechSupport                                               -0.084631   \n",
       "StreamingTV                                               -0.247712   \n",
       "StreamingMovies                                           -0.250290   \n",
       "PaperlessBilling                                          -0.203981   \n",
       "Churn                                                     -0.090773   \n",
       "MultipleLines_No                                           0.222395   \n",
       "MultipleLines_No phone service                             0.004463   \n",
       "MultipleLines_Yes                                         -0.227672   \n",
       "InternetService_DSL                                        0.042754   \n",
       "InternetService_Fiber optic                               -0.305984   \n",
       "InternetService_No                                         0.319694   \n",
       "Contract_Month-to-month                                    0.006209   \n",
       "Contract_One year                                          0.000197   \n",
       "Contract_Two year                                         -0.007423   \n",
       "PaymentMethod_Bank transfer (automatic)                   -0.288097   \n",
       "PaymentMethod_Credit card (automatic)                     -0.285583   \n",
       "PaymentMethod_Electronic check                            -0.386971   \n",
       "PaymentMethod_Mailed check                                 1.000000   \n",
       "tenure_group_Tenure_0-12                                   0.183222   \n",
       "tenure_group_Tenure_12-24                                  0.050371   \n",
       "tenure_group_Tenure_24-48                                 -0.036095   \n",
       "tenure_group_Tenure_48-60                                 -0.072170   \n",
       "tenure_group_Tenure_gt_60                                 -0.160053   \n",
       "tenure                                                    -0.232181   \n",
       "MonthlyCharges                                            -0.376568   \n",
       "TotalCharges                                              -0.294708   \n",
       "\n",
       "                                         tenure_group_Tenure_0-12  \\\n",
       "gender                                                  -0.001050   \n",
       "SeniorCitizen                                           -0.027713   \n",
       "Partner                                                 -0.305061   \n",
       "Dependents                                              -0.145379   \n",
       "PhoneService                                            -0.006950   \n",
       "OnlineSecurity                                          -0.242409   \n",
       "OnlineBackup                                            -0.267366   \n",
       "DeviceProtection                                        -0.273920   \n",
       "TechSupport                                             -0.238628   \n",
       "StreamingTV                                             -0.220761   \n",
       "StreamingMovies                                         -0.221388   \n",
       "PaperlessBilling                                        -0.003860   \n",
       "Churn                                                    0.319628   \n",
       "MultipleLines_No                                         0.256171   \n",
       "MultipleLines_No phone service                           0.006950   \n",
       "MultipleLines_Yes                                       -0.263331   \n",
       "InternetService_DSL                                     -0.001470   \n",
       "InternetService_Fiber optic                             -0.021441   \n",
       "InternetService_No                                       0.027554   \n",
       "Contract_Month-to-month                                  0.492052   \n",
       "Contract_One year                                       -0.251299   \n",
       "Contract_Two year                                       -0.333850   \n",
       "PaymentMethod_Bank transfer (automatic)                 -0.185855   \n",
       "PaymentMethod_Credit card (automatic)                   -0.184165   \n",
       "PaymentMethod_Electronic check                           0.160530   \n",
       "PaymentMethod_Mailed check                               0.183222   \n",
       "tenure_group_Tenure_0-12                                 1.000000   \n",
       "tenure_group_Tenure_12-24                               -0.276268   \n",
       "tenure_group_Tenure_24-48                               -0.362302   \n",
       "tenure_group_Tenure_48-60                               -0.245138   \n",
       "tenure_group_Tenure_gt_60                               -0.334681   \n",
       "tenure                                                  -0.754330   \n",
       "MonthlyCharges                                          -0.191881   \n",
       "TotalCharges                                            -0.592443   \n",
       "\n",
       "                                         tenure_group_Tenure_12-24  \\\n",
       "gender                                                   -0.000649   \n",
       "SeniorCitizen                                             0.001860   \n",
       "Partner                                                  -0.048481   \n",
       "Dependents                                               -0.001459   \n",
       "PhoneService                                              0.012307   \n",
       "OnlineSecurity                                           -0.055662   \n",
       "OnlineBackup                                             -0.084081   \n",
       "DeviceProtection                                         -0.077332   \n",
       "TechSupport                                              -0.072019   \n",
       "StreamingTV                                              -0.050234   \n",
       "StreamingMovies                                          -0.054338   \n",
       "PaperlessBilling                                          0.003328   \n",
       "Churn                                                     0.019929   \n",
       "MultipleLines_No                                          0.051703   \n",
       "MultipleLines_No phone service                           -0.012307   \n",
       "MultipleLines_Yes                                        -0.044944   \n",
       "InternetService_DSL                                      -0.013429   \n",
       "InternetService_Fiber optic                              -0.001494   \n",
       "InternetService_No                                        0.017295   \n",
       "Contract_Month-to-month                                   0.140004   \n",
       "Contract_One year                                        -0.017196   \n",
       "Contract_Two year                                        -0.146749   \n",
       "PaymentMethod_Bank transfer (automatic)                  -0.046329   \n",
       "PaymentMethod_Credit card (automatic)                    -0.039647   \n",
       "PaymentMethod_Electronic check                            0.030387   \n",
       "PaymentMethod_Mailed check                                0.050371   \n",
       "tenure_group_Tenure_0-12                                 -0.276268   \n",
       "tenure_group_Tenure_12-24                                 1.000000   \n",
       "tenure_group_Tenure_24-48                                -0.223516   \n",
       "tenure_group_Tenure_48-60                                -0.151234   \n",
       "tenure_group_Tenure_gt_60                                -0.206477   \n",
       "tenure                                                   -0.236673   \n",
       "MonthlyCharges                                           -0.047220   \n",
       "TotalCharges                                             -0.210745   \n",
       "\n",
       "                                         tenure_group_Tenure_24-48  \\\n",
       "gender                                                   -0.010516   \n",
       "SeniorCitizen                                             0.020383   \n",
       "Partner                                                   0.028468   \n",
       "Dependents                                                0.024645   \n",
       "PhoneService                                             -0.014778   \n",
       "OnlineSecurity                                            0.007695   \n",
       "OnlineBackup                                              0.023085   \n",
       "DeviceProtection                                          0.044972   \n",
       "TechSupport                                               0.022137   \n",
       "StreamingTV                                               0.028829   \n",
       "StreamingMovies                                           0.025048   \n",
       "PaperlessBilling                                         -0.005388   \n",
       "Churn                                                    -0.075859   \n",
       "MultipleLines_No                                         -0.032157   \n",
       "MultipleLines_No phone service                            0.014778   \n",
       "MultipleLines_Yes                                         0.023690   \n",
       "InternetService_DSL                                      -0.000468   \n",
       "InternetService_Fiber optic                               0.005614   \n",
       "InternetService_No                                       -0.006230   \n",
       "Contract_Month-to-month                                  -0.052156   \n",
       "Contract_One year                                         0.153893   \n",
       "Contract_Two year                                        -0.085900   \n",
       "PaymentMethod_Bank transfer (automatic)                   0.021723   \n",
       "PaymentMethod_Credit card (automatic)                     0.028233   \n",
       "PaymentMethod_Electronic check                           -0.011570   \n",
       "PaymentMethod_Mailed check                               -0.036095   \n",
       "tenure_group_Tenure_0-12                                 -0.362302   \n",
       "tenure_group_Tenure_12-24                                -0.223516   \n",
       "tenure_group_Tenure_24-48                                 1.000000   \n",
       "tenure_group_Tenure_48-60                                -0.198331   \n",
       "tenure_group_Tenure_gt_60                                -0.270776   \n",
       "tenure                                                    0.083153   \n",
       "MonthlyCharges                                            0.020378   \n",
       "TotalCharges                                              0.025594   \n",
       "\n",
       "                                         tenure_group_Tenure_48-60  \\\n",
       "gender                                                   -0.004319   \n",
       "SeniorCitizen                                             0.014186   \n",
       "Partner                                                   0.105341   \n",
       "Dependents                                                0.031419   \n",
       "PhoneService                                             -0.009750   \n",
       "OnlineSecurity                                            0.071663   \n",
       "OnlineBackup                                              0.099192   \n",
       "DeviceProtection                                          0.076854   \n",
       "TechSupport                                               0.062710   \n",
       "StreamingTV                                               0.087969   \n",
       "StreamingMovies                                           0.086616   \n",
       "PaperlessBilling                                          0.010626   \n",
       "Churn                                                    -0.100800   \n",
       "MultipleLines_No                                         -0.080630   \n",
       "MultipleLines_No phone service                            0.009750   \n",
       "MultipleLines_Yes                                         0.075740   \n",
       "InternetService_DSL                                      -0.000790   \n",
       "InternetService_Fiber optic                               0.017466   \n",
       "InternetService_No                                       -0.020153   \n",
       "Contract_Month-to-month                                  -0.198709   \n",
       "Contract_One year                                         0.158917   \n",
       "Contract_Two year                                         0.080082   \n",
       "PaymentMethod_Bank transfer (automatic)                   0.060183   \n",
       "PaymentMethod_Credit card (automatic)                     0.048167   \n",
       "PaymentMethod_Electronic check                           -0.030584   \n",
       "PaymentMethod_Mailed check                               -0.072170   \n",
       "tenure_group_Tenure_0-12                                 -0.245138   \n",
       "tenure_group_Tenure_12-24                                -0.151234   \n",
       "tenure_group_Tenure_24-48                                -0.198331   \n",
       "tenure_group_Tenure_48-60                                 1.000000   \n",
       "tenure_group_Tenure_gt_60                                -0.183211   \n",
       "tenure                                                    0.329367   \n",
       "MonthlyCharges                                            0.070048   \n",
       "TotalCharges                                              0.252905   \n",
       "\n",
       "                                         tenure_group_Tenure_gt_60    tenure  \\\n",
       "gender                                                    0.016279  0.005285   \n",
       "SeniorCitizen                                            -0.002407  0.015683   \n",
       "Partner                                                   0.280353  0.381912   \n",
       "Dependents                                                0.118090  0.163386   \n",
       "PhoneService                                              0.020516  0.007877   \n",
       "OnlineSecurity                                            0.263228  0.328297   \n",
       "OnlineBackup                                              0.278788  0.361138   \n",
       "DeviceProtection                                          0.275537  0.361520   \n",
       "TechSupport                                               0.265396  0.325288   \n",
       "StreamingTV                                               0.198150  0.280264   \n",
       "StreamingMovies                                           0.207544  0.285402   \n",
       "PaperlessBilling                                         -0.001415  0.004823   \n",
       "Churn                                                    -0.226078 -0.354049   \n",
       "MultipleLines_No                                         -0.242798 -0.323891   \n",
       "MultipleLines_No phone service                           -0.020516 -0.007877   \n",
       "MultipleLines_Yes                                         0.257920  0.332399   \n",
       "InternetService_DSL                                       0.014666  0.013786   \n",
       "InternetService_Fiber optic                               0.006112  0.017930   \n",
       "InternetService_No                                       -0.024292 -0.037529   \n",
       "Contract_Month-to-month                                  -0.476912 -0.649346   \n",
       "Contract_One year                                         0.016142  0.202338   \n",
       "Contract_Two year                                         0.540336  0.563801   \n",
       "PaymentMethod_Bank transfer (automatic)                   0.184249  0.243822   \n",
       "PaymentMethod_Credit card (automatic)                     0.179294  0.232800   \n",
       "PaymentMethod_Electronic check                           -0.175456 -0.210197   \n",
       "PaymentMethod_Mailed check                               -0.160053 -0.232181   \n",
       "tenure_group_Tenure_0-12                                 -0.334681 -0.754330   \n",
       "tenure_group_Tenure_12-24                                -0.206477 -0.236673   \n",
       "tenure_group_Tenure_24-48                                -0.270776  0.083153   \n",
       "tenure_group_Tenure_48-60                                -0.183211  0.329367   \n",
       "tenure_group_Tenure_gt_60                                 1.000000  0.727237   \n",
       "tenure                                                    0.727237  1.000000   \n",
       "MonthlyCharges                                            0.185440  0.246862   \n",
       "TotalCharges                                              0.639312  0.825880   \n",
       "\n",
       "                                         MonthlyCharges  TotalCharges  \n",
       "gender                                        -0.013779      0.000048  \n",
       "SeniorCitizen                                  0.219874      0.102411  \n",
       "Partner                                        0.097825      0.319072  \n",
       "Dependents                                    -0.112343      0.064653  \n",
       "PhoneService                                   0.248033      0.113008  \n",
       "OnlineSecurity                                 0.296447      0.412619  \n",
       "OnlineBackup                                   0.441529      0.510100  \n",
       "DeviceProtection                               0.482607      0.522881  \n",
       "TechSupport                                    0.338301      0.432868  \n",
       "StreamingTV                                    0.629668      0.515709  \n",
       "StreamingMovies                                0.627235      0.519867  \n",
       "PaperlessBilling                               0.351930      0.157830  \n",
       "Churn                                          0.192858     -0.199484  \n",
       "MultipleLines_No                              -0.338514     -0.396765  \n",
       "MultipleLines_No phone service                -0.248033     -0.113008  \n",
       "MultipleLines_Yes                              0.490912      0.469042  \n",
       "InternetService_DSL                           -0.161368     -0.052190  \n",
       "InternetService_Fiber optic                    0.787195      0.360769  \n",
       "InternetService_No                            -0.763191     -0.374878  \n",
       "Contract_Month-to-month                        0.058933     -0.446776  \n",
       "Contract_One year                              0.004810      0.170569  \n",
       "Contract_Two year                             -0.073256      0.358036  \n",
       "PaymentMethod_Bank transfer (automatic)        0.042410      0.186119  \n",
       "PaymentMethod_Credit card (automatic)          0.030055      0.182663  \n",
       "PaymentMethod_Electronic check                 0.271117     -0.060436  \n",
       "PaymentMethod_Mailed check                    -0.376568     -0.294708  \n",
       "tenure_group_Tenure_0-12                      -0.191881     -0.592443  \n",
       "tenure_group_Tenure_12-24                     -0.047220     -0.210745  \n",
       "tenure_group_Tenure_24-48                      0.020378      0.025594  \n",
       "tenure_group_Tenure_48-60                      0.070048      0.252905  \n",
       "tenure_group_Tenure_gt_60                      0.185440      0.639312  \n",
       "tenure                                         0.246862      0.825880  \n",
       "MonthlyCharges                                 1.000000      0.651065  \n",
       "TotalCharges                                   0.651065      1.000000  "
      ]
     },
     "execution_count": 135,
     "metadata": {},
     "output_type": "execute_result"
    }
   ],
   "source": [
    "correlation"
   ]
  },
  {
   "cell_type": "code",
   "execution_count": 136,
   "metadata": {
    "colab": {
     "base_uri": "https://localhost:8080/",
     "height": 737
    },
    "id": "3ZsgtN9uMIjz",
    "outputId": "83046138-2017-4b48-af99-021632182220"
   },
   "outputs": [
    {
     "data": {
      "application/vnd.plotly.v1+json": {
       "config": {
        "linkText": "Export to plot.ly",
        "plotlyServerURL": "https://plot.ly",
        "showLink": false
       },
       "data": [
        {
         "colorbar": {
          "title": {
           "side": "right",
           "text": "Pearson Correlation coefficient"
          }
         },
         "colorscale": [
          [
           0,
           "#440154"
          ],
          [
           0.1111111111111111,
           "#482878"
          ],
          [
           0.2222222222222222,
           "#3e4989"
          ],
          [
           0.3333333333333333,
           "#31688e"
          ],
          [
           0.4444444444444444,
           "#26828e"
          ],
          [
           0.5555555555555556,
           "#1f9e89"
          ],
          [
           0.6666666666666666,
           "#35b779"
          ],
          [
           0.7777777777777778,
           "#6ece58"
          ],
          [
           0.8888888888888888,
           "#b5de2b"
          ],
          [
           1,
           "#fde725"
          ]
         ],
         "type": "heatmap",
         "x": [
          "gender",
          "SeniorCitizen",
          "Partner",
          "Dependents",
          "PhoneService",
          "OnlineSecurity",
          "OnlineBackup",
          "DeviceProtection",
          "TechSupport",
          "StreamingTV",
          "StreamingMovies",
          "PaperlessBilling",
          "Churn",
          "MultipleLines_No",
          "MultipleLines_No phone service",
          "MultipleLines_Yes",
          "InternetService_DSL",
          "InternetService_Fiber optic",
          "InternetService_No",
          "Contract_Month-to-month",
          "Contract_One year",
          "Contract_Two year",
          "PaymentMethod_Bank transfer (automatic)",
          "PaymentMethod_Credit card (automatic)",
          "PaymentMethod_Electronic check",
          "PaymentMethod_Mailed check",
          "tenure_group_Tenure_0-12",
          "tenure_group_Tenure_12-24",
          "tenure_group_Tenure_24-48",
          "tenure_group_Tenure_48-60",
          "tenure_group_Tenure_gt_60",
          "tenure",
          "MonthlyCharges",
          "TotalCharges"
         ],
         "y": [
          "gender",
          "SeniorCitizen",
          "Partner",
          "Dependents",
          "PhoneService",
          "OnlineSecurity",
          "OnlineBackup",
          "DeviceProtection",
          "TechSupport",
          "StreamingTV",
          "StreamingMovies",
          "PaperlessBilling",
          "Churn",
          "MultipleLines_No",
          "MultipleLines_No phone service",
          "MultipleLines_Yes",
          "InternetService_DSL",
          "InternetService_Fiber optic",
          "InternetService_No",
          "Contract_Month-to-month",
          "Contract_One year",
          "Contract_Two year",
          "PaymentMethod_Bank transfer (automatic)",
          "PaymentMethod_Credit card (automatic)",
          "PaymentMethod_Electronic check",
          "PaymentMethod_Mailed check",
          "tenure_group_Tenure_0-12",
          "tenure_group_Tenure_12-24",
          "tenure_group_Tenure_24-48",
          "tenure_group_Tenure_48-60",
          "tenure_group_Tenure_gt_60",
          "tenure",
          "MonthlyCharges",
          "TotalCharges"
         ],
         "z": [
          [
           1,
           -0.001819390613419179,
           -0.0013790513218356025,
           0.010348917127614397,
           -0.007514979909200033,
           -0.01632782307070617,
           -0.013092839264555001,
           -0.0008067457759124324,
           -0.008507162405232782,
           -0.0071243969867245535,
           -0.010105418366566195,
           -0.011901894766838502,
           -0.008544643224947218,
           0.0043346914502916285,
           0.0075149799091999425,
           -0.008882737146286056,
           0.00758357610303961,
           -0.011189259276385864,
           0.004744965758849955,
           -0.0032507651194551004,
           0.0077548529142672145,
           -0.003603167413572989,
           -0.015973079031173835,
           0.001631872518613598,
           0.0008437084888753327,
           0.01319936726545174,
           -0.0010503798619876774,
           -0.0006494991207074467,
           -0.010516394125351592,
           -0.004318975744551275,
           0.01627881894278637,
           0.005285371870295646,
           -0.013779327268354416,
           4.783950839776602e-05
          ],
          [
           -0.001819390613419179,
           1,
           0.01695661453202187,
           -0.21055006112684216,
           0.008391611911217043,
           -0.0385763901686064,
           0.06666279065142021,
           0.059513871482029225,
           -0.060576839406188035,
           0.10544501753678828,
           0.11984236746151568,
           0.15625775052783097,
           0.1505410534156757,
           -0.13637672686229402,
           -0.008391611911217034,
           0.14299625086621018,
           -0.10827563872848943,
           0.25492331502717946,
           -0.18251949495535458,
           0.13775207088551514,
           -0.0464907545657889,
           -0.11620511425710835,
           -0.01623474200582214,
           -0.024359419683712323,
           0.17132216591713703,
           -0.15298719260173027,
           -0.02771322371899571,
           0.0018604411671567017,
           0.02038346087056509,
           0.01418568213097567,
           -0.0024069937431968856,
           0.01568347989913396,
           0.21987422950593646,
           0.10241060539532633
          ],
          [
           -0.0013790513218356025,
           0.01695661453202187,
           1,
           0.45226888584550023,
           0.018397189302703662,
           0.14334606167364233,
           0.14184917072520303,
           0.1535564364182745,
           0.12020601780298455,
           0.12448262672518244,
           0.11810820943292764,
           -0.013956696136191696,
           -0.14998192562006138,
           -0.13002839561671578,
           -0.018397189302703666,
           0.1425612874681736,
           -0.0010430787434336079,
           0.0012346095228208073,
           -0.0002855204740384597,
           -0.2802019157901561,
           0.08306706395255747,
           0.24733370647615796,
           0.11140561212215645,
           0.08232738919649572,
           -0.08320661736633733,
           -0.09694798339506473,
           -0.30506147447521575,
           -0.048481275955609554,
           0.028467762106169584,
           0.10534126166196492,
           0.28035324824529767,
           0.38191150910757077,
           0.09782497186892049,
           0.31907236323857324
          ],
          [
           0.010348917127614397,
           -0.21055006112684216,
           0.45226888584550023,
           1,
           -0.001077812708067608,
           0.08078553224088346,
           0.023638813060609963,
           0.013899668260943368,
           0.06305315799997827,
           -0.01649868035801052,
           -0.03837492560091315,
           -0.11013068597336993,
           -0.16312843938822,
           0.023387669506115295,
           0.0010778127080674446,
           -0.024306661314620996,
           0.05159321756471237,
           -0.16410089031864167,
           0.13838288994798562,
           -0.2297147909213749,
           0.06922205672629726,
           0.2016993304297039,
           0.05236890928127545,
           0.06113408322897806,
           -0.1492739811934336,
           0.05644841359590588,
           -0.1453791450700764,
           -0.0014594010172321779,
           0.02464494581436856,
           0.03141940765317757,
           0.1180897178470907,
           0.16338596691556453,
           -0.11234295350128225,
           0.0646532494217739
          ],
          [
           -0.007514979909200033,
           0.008391611911217043,
           0.018397189302703662,
           -0.001077812708067608,
           1,
           -0.09167570469500017,
           -0.05213341919796151,
           -0.07007561533228862,
           -0.09513849428922488,
           -0.021382711870578185,
           -0.03347749718236395,
           0.016696123642784135,
           0.011691398865422323,
           0.31521775126801543,
           -1,
           0.2795295400049995,
           -0.45225528090657086,
           0.29018311793843365,
           0.1718171065699321,
           -0.0012425134067734023,
           -0.0031417807184111624,
           0.0044422513152849235,
           0.008271245210923577,
           -0.006916252198127548,
           0.0027471183312986857,
           -0.004462839400732194,
           -0.00694955039725527,
           0.012306612692869211,
           -0.014777815951004124,
           -0.009750281447949313,
           0.020515848357693,
           0.007877333295041818,
           0.2480330664757158,
           0.11300826095473893
          ],
          [
           -0.01632782307070617,
           -0.0385763901686064,
           0.14334606167364233,
           0.08078553224088346,
           -0.09167570469500017,
           1,
           0.28328454262626757,
           0.274875003842449,
           0.35445796164509147,
           0.1755144708953688,
           0.18742584957299618,
           -0.004051250607988492,
           -0.17126992353351678,
           -0.15167751168612081,
           0.09167570469500017,
           0.0985919934252315,
           0.3203433737595294,
           -0.03050626904076453,
           -0.33279949932167546,
           -0.24684428487400414,
           0.10065777311969464,
           0.19169819815673583,
           0.09436639279979232,
           0.11547320256635303,
           -0.11229466175861408,
           -0.07991768713640306,
           -0.24240887436050382,
           -0.0556619409198579,
           0.0076950987178344265,
           0.0716632710172793,
           0.26322845571231857,
           0.32829748818662485,
           0.2964469592375873,
           0.41261876950713655
          ],
          [
           -0.013092839264555001,
           0.06666279065142021,
           0.14184917072520303,
           0.023638813060609963,
           -0.05213341919796151,
           0.28328454262626757,
           1,
           0.30305766643807824,
           0.29370469187781045,
           0.2816010622259753,
           0.27452301070772545,
           0.12705603268686044,
           -0.08230696876508349,
           -0.2307241996493635,
           0.05213341919796151,
           0.2022283972825372,
           0.15676460995441888,
           0.16594028590307677,
           -0.3809903317320751,
           -0.16439302987919688,
           0.08411316021806066,
           0.11139068731904943,
           0.0869415675760231,
           0.09045518641091457,
           -0.00036426636786500763,
           -0.17407470231312427,
           -0.26736609150996915,
           -0.08408097138202993,
           0.023085000444599418,
           0.09919210454041022,
           0.2787875817043761,
           0.36113847824658735,
           0.4415290881871007,
           0.510100290145439
          ],
          [
           -0.0008067457759124324,
           0.059513871482029225,
           0.1535564364182745,
           0.013899668260943368,
           -0.07007561533228862,
           0.274875003842449,
           0.30305766643807824,
           1,
           0.33285005080469243,
           0.3899237975094597,
           0.4023088228216018,
           0.10407904724402045,
           -0.06619251684228997,
           -0.24084736328107104,
           0.07007561533228862,
           0.201732824517757,
           0.14514955473692903,
           0.17635617323471664,
           -0.3801513548956378,
           -0.22598757731112262,
           0.10291089629343353,
           0.16524753554250074,
           0.08304690185342707,
           0.11125168129784246,
           -0.003308493511411254,
           -0.18732483013668594,
           -0.2739200544387702,
           -0.07733200729381666,
           0.0449724925036831,
           0.07685425917962475,
           0.2755370112516221,
           0.3615199952862194,
           0.48260691224313995,
           0.5228814865154369
          ],
          [
           -0.008507162405232782,
           -0.060576839406188035,
           0.12020601780298455,
           0.06305315799997827,
           -0.09513849428922488,
           0.35445796164509147,
           0.29370469187781045,
           0.33285005080469243,
           1,
           0.277548599200549,
           0.2801552432906342,
           0.03753587307318976,
           -0.16471590834411207,
           -0.15553386914722026,
           0.09513849428922488,
           0.10042125595413272,
           0.3121832985222757,
           -0.020298967520709605,
           -0.33569508671869736,
           -0.28549086901033593,
           0.09625836225380952,
           0.24092408252256528,
           0.10047200087443556,
           0.11702370730984143,
           -0.11480726996437085,
           -0.08463055196615278,
           -0.23862820953475447,
           -0.07201850701116608,
           0.022136746625123563,
           0.06270980841796413,
           0.26539627802277554,
           0.325288454100009,
           0.33830139143424953,
           0.4328683682410939
          ],
          [
           -0.0071243969867245535,
           0.10544501753678828,
           0.12448262672518244,
           -0.01649868035801052,
           -0.021382711870578185,
           0.1755144708953688,
           0.2816010622259753,
           0.3899237975094597,
           0.277548599200549,
           1,
           0.5333800979319763,
           0.22424119793848596,
           0.06325398027519404,
           -0.26746641467807136,
           0.021382711870577976,
           0.25780350066730157,
           0.014973379079172382,
           0.3297441152730512,
           -0.41495062156578044,
           -0.11254989712217289,
           0.061929689963200855,
           0.07212357537070835,
           0.04612070051242859,
           0.040010276337768505,
           0.1447470086556032,
           -0.2477115493728633,
           -0.22076087097198827,
           -0.050234026791169964,
           0.02882937792536747,
           0.08796930347195206,
           0.1981501311372027,
           0.280263628074823,
           0.6296678921767406,
           0.5157090769923935
          ],
          [
           -0.010105418366566195,
           0.11984236746151568,
           0.11810820943292764,
           -0.03837492560091315,
           -0.03347749718236395,
           0.18742584957299618,
           0.27452301070772545,
           0.4023088228216018,
           0.2801552432906342,
           0.5333800979319763,
           1,
           0.21158250423808916,
           0.06085993668146301,
           -0.2759953197780627,
           0.03347749718236395,
           0.2591943175468362,
           0.02562310861129719,
           0.3224574540559222,
           -0.41844975538334045,
           -0.11786687989290552,
           0.06477997824381859,
           0.07560257919382919,
           0.04875484714119087,
           0.048398314068082315,
           0.13742008269944622,
           -0.2502897149395328,
           -0.2213881765552116,
           -0.054338325985925064,
           0.02504810987080452,
           0.08661557153323526,
           0.20754366554274195,
           0.2854022671060787,
           0.6272347301103788,
           0.5198665357835017
          ],
          [
           -0.011901894766838502,
           0.15625775052783097,
           -0.013956696136191696,
           -0.11013068597336993,
           0.016696123642784135,
           -0.004051250607988492,
           0.12705603268686044,
           0.10407904724402045,
           0.03753587307318976,
           0.22424119793848596,
           0.21158250423808916,
           1,
           0.19145432108006671,
           -0.1519737778021082,
           -0.016696123642784142,
           0.1637457730112591,
           -0.06338966821876392,
           0.32647017160380964,
           -0.3205922451174622,
           0.16829626845602835,
           -0.052278164693773076,
           -0.1462807050684952,
           -0.017468900682392235,
           -0.013726285095880284,
           0.20842668228002995,
           -0.20398064814312206,
           -0.003859801258113621,
           0.003328006906514837,
           -0.005388027856510724,
           0.010626123397145876,
           -0.001414839543993747,
           0.004823156615386272,
           0.3519304153712528,
           0.15782978286591698
          ],
          [
           -0.008544643224947218,
           0.1505410534156757,
           -0.14998192562006138,
           -0.16312843938822,
           0.011691398865422323,
           -0.17126992353351678,
           -0.08230696876508349,
           -0.06619251684228997,
           -0.16471590834411207,
           0.06325398027519404,
           0.06085993668146301,
           0.19145432108006671,
           1,
           -0.03265360299730401,
           -0.01169139886542221,
           0.040032739872523634,
           -0.12414142842590645,
           0.30746259069818205,
           -0.22757762044656818,
           0.40456455007784087,
           -0.17822502328994053,
           -0.30155233962397837,
           -0.1181359978280296,
           -0.1346868372340906,
           0.30145463790858057,
           -0.09077284582582087,
           0.3196275743451608,
           0.019928968647699895,
           -0.07585881574899747,
           -0.10079964105628228,
           -0.2260781096915624,
           -0.3540493589532626,
           0.1928582184700881,
           -0.1994840835675715
          ],
          [
           0.0043346914502916285,
           -0.13637672686229402,
           -0.13002839561671578,
           0.023387669506115295,
           0.31521775126801543,
           -0.15167751168612081,
           -0.2307241996493635,
           -0.24084736328107104,
           -0.15553386914722026,
           -0.26746641467807136,
           -0.2759953197780627,
           -0.1519737778021082,
           -0.03265360299730401,
           1,
           -0.3152177512680155,
           -0.8230760279128654,
           -0.06951498798055156,
           -0.19053099387424138,
           0.3099843327828031,
           0.08679791861868207,
           0.0016944436455045328,
           -0.1027560050227385,
           -0.06966277653167001,
           -0.06371157499118037,
           -0.0809902106781048,
           0.22239547449983668,
           0.25617128287621094,
           0.05170274575687212,
           -0.03215707580783382,
           -0.08063023581160907,
           -0.2427981631428492,
           -0.323890766966285,
           -0.3385136039067215,
           -0.39676537714107735
          ],
          [
           0.0075149799091999425,
           -0.008391611911217034,
           -0.018397189302703666,
           0.0010778127080674446,
           -1,
           0.09167570469500017,
           0.05213341919796151,
           0.07007561533228862,
           0.09513849428922488,
           0.021382711870577976,
           0.03347749718236395,
           -0.016696123642784142,
           -0.01169139886542221,
           -0.3152177512680155,
           1,
           -0.2795295400049995,
           0.45225528090657086,
           -0.29018311793843365,
           -0.1718171065699321,
           0.0012425134067734103,
           0.0031417807184113207,
           -0.004442251315284906,
           -0.008271245210923579,
           0.006916252198127564,
           -0.0027471183312986857,
           0.004462839400732508,
           0.006949550397255344,
           -0.012306612692869208,
           0.014777815951004133,
           0.009750281447949528,
           -0.02051584835769357,
           -0.007877333295041807,
           -0.2480330664757158,
           -0.1130082609547389
          ],
          [
           -0.008882737146286056,
           0.14299625086621018,
           0.1425612874681736,
           -0.024306661314620996,
           0.2795295400049995,
           0.0985919934252315,
           0.2022283972825372,
           0.201732824517757,
           0.10042125595413272,
           0.25780350066730157,
           0.2591943175468362,
           0.1637457730112591,
           0.040032739872523634,
           -0.8230760279128654,
           -0.2795295400049995,
           1,
           -0.2003183214156725,
           0.3664202566051166,
           -0.21079354712189471,
           -0.08855832218643561,
           -0.003594461398434266,
           0.10661820819152797,
           0.07542871730303179,
           0.06031899094084278,
           0.08358299305536028,
           -0.22767156949803466,
           -0.26333120743722876,
           -0.04494367118136859,
           0.023690157563696343,
           0.07573985650934924,
           0.25792003827196397,
           0.33239924473562554,
           0.4909121973267493,
           0.4690421356971826
          ],
          [
           0.00758357610303961,
           -0.10827563872848943,
           -0.0010430787434336079,
           0.05159321756471237,
           -0.45225528090657086,
           0.3203433737595294,
           0.15676460995441888,
           0.14514955473692903,
           0.3121832985222757,
           0.014973379079172382,
           0.02562310861129719,
           -0.06338966821876392,
           -0.12414142842590645,
           -0.06951498798055156,
           0.45225528090657086,
           -0.2003183214156725,
           1,
           -0.6416356650534906,
           -0.3799117751052334,
           -0.06522632996531619,
           0.04729967349374622,
           0.030923714855574744,
           0.02475954021490298,
           0.05122176476699011,
           -0.10429333541089097,
           0.04275388869901973,
           -0.0014704079413737543,
           -0.013428683581908657,
           -0.0004678565419111244,
           -0.00079001062411148,
           0.014665913237832425,
           0.013786269825793156,
           -0.16136793538251534,
           -0.052189866637419764
          ],
          [
           -0.011189259276385864,
           0.25492331502717946,
           0.0012346095228208073,
           -0.16410089031864167,
           0.29018311793843365,
           -0.03050626904076453,
           0.16594028590307677,
           0.17635617323471664,
           -0.020298967520709605,
           0.3297441152730512,
           0.3224574540559222,
           0.32647017160380964,
           0.30746259069818205,
           -0.19053099387424138,
           -0.29018311793843365,
           0.3664202566051166,
           -0.6416356650534906,
           1,
           -0.4657363343235562,
           0.24301351814831268,
           -0.07680902975096314,
           -0.20996452908904545,
           -0.022778855291876635,
           -0.050551991558036385,
           0.3357634768102139,
           -0.3059839224841771,
           -0.021440560786684968,
           -0.0014940221824271288,
           0.005613761063888361,
           0.01746632456448475,
           0.0061120739544805805,
           0.017929529906438778,
           0.7871948529419658,
           0.3607687920142481
          ],
          [
           0.004744965758849955,
           -0.18251949495535458,
           -0.0002855204740384597,
           0.13838288994798562,
           0.1718171065699321,
           -0.33279949932167546,
           -0.3809903317320751,
           -0.3801513548956378,
           -0.33569508671869736,
           -0.41495062156578044,
           -0.41844975538334045,
           -0.3205922451174622,
           -0.22757762044656818,
           0.3099843327828031,
           -0.1718171065699321,
           -0.21079354712189471,
           -0.3799117751052334,
           -0.4657363343235562,
           1,
           -0.217823505545489,
           0.038061459724733744,
           0.21754205606911817,
           -0.0010943032992050863,
           0.0018701145623306124,
           -0.2846082097225956,
           0.3196937439459745,
           0.027554030004254233,
           0.01729491162511594,
           -0.006230482005525746,
           -0.020153136101165186,
           -0.024291768931540957,
           -0.037528889581619734,
           -0.7631910615169571,
           -0.37487836259896
          ],
          [
           -0.0032507651194551004,
           0.13775207088551514,
           -0.2802019157901561,
           -0.2297147909213749,
           -0.0012425134067734023,
           -0.24684428487400414,
           -0.16439302987919688,
           -0.22598757731112262,
           -0.28549086901033593,
           -0.11254989712217289,
           -0.11786687989290552,
           0.16829626845602835,
           0.40456455007784087,
           0.08679791861868207,
           0.0012425134067734103,
           -0.08855832218643561,
           -0.06522632996531619,
           0.24301351814831268,
           -0.217823505545489,
           1,
           -0.5700527848944215,
           -0.6219327447713561,
           -0.18015909738683936,
           -0.20496021669474843,
           0.33087881370583405,
           0.006208692442055045,
           0.49205202568054424,
           0.14000368638519403,
           -0.05215631834144274,
           -0.19870886170688193,
           -0.47691223651608966,
           -0.649345648869048,
           0.0589334582292538,
           -0.4467758743246882
          ],
          [
           0.0077548529142672145,
           -0.0464907545657889,
           0.08306706395255747,
           0.06922205672629726,
           -0.0031417807184111624,
           0.10065777311969464,
           0.08411316021806066,
           0.10291089629343353,
           0.09625836225380952,
           0.061929689963200855,
           0.06477997824381859,
           -0.052278164693773076,
           -0.17822502328994053,
           0.0016944436455045328,
           0.0031417807184113207,
           -0.003594461398434266,
           0.04729967349374622,
           -0.07680902975096314,
           0.038061459724733744,
           -0.5700527848944215,
           1,
           -0.28884268256780254,
           0.05762874929825631,
           0.06758968145792751,
           -0.10954646682258033,
           0.0001971241890499786,
           -0.2512993032332009,
           -0.017196458507178478,
           0.15389327309228798,
           0.15891681528381144,
           0.01614171428694319,
           0.2023384083649546,
           0.004809615120440435,
           0.17056928655718714
          ],
          [
           -0.003603167413572989,
           -0.11620511425710835,
           0.24733370647615796,
           0.2016993304297039,
           0.0044422513152849235,
           0.19169819815673583,
           0.11139068731904943,
           0.16524753554250074,
           0.24092408252256528,
           0.07212357537070835,
           0.07560257919382919,
           -0.1462807050684952,
           -0.30155233962397837,
           -0.1027560050227385,
           -0.004442251315284906,
           0.10661820819152797,
           0.030923714855574744,
           -0.20996452908904545,
           0.21754205606911817,
           -0.6219327447713561,
           -0.28884268256780254,
           1,
           0.1550042180767056,
           0.17440993895950943,
           -0.28114743393395547,
           -0.007422540118618717,
           -0.33385014178843664,
           -0.14674905438081498,
           -0.08589992270093438,
           0.08008211690632902,
           0.5403360993105428,
           0.5638005002286687,
           -0.07325607300641665,
           0.35803561609140894
          ],
          [
           -0.015973079031173835,
           -0.01623474200582214,
           0.11140561212215645,
           0.05236890928127545,
           0.008271245210923577,
           0.09436639279979232,
           0.0869415675760231,
           0.08304690185342707,
           0.10047200087443556,
           0.04612070051242859,
           0.04875484714119087,
           -0.017468900682392235,
           -0.1181359978280296,
           -0.06966277653167001,
           -0.008271245210923579,
           0.07542871730303179,
           0.02475954021490298,
           -0.022778855291876635,
           -0.0010943032992050863,
           -0.18015909738683936,
           0.05762874929825631,
           0.1550042180767056,
           1,
           -0.27842319712065355,
           -0.3772703602158491,
           -0.28809669563791657,
           -0.18585512574019983,
           -0.04632871286727803,
           0.02172285552026243,
           0.060183035947993645,
           0.1842491799195877,
           0.24382246495742915,
           0.04240972759459293,
           0.18611944938877964
          ],
          [
           0.001631872518613598,
           -0.024359419683712323,
           0.08232738919649572,
           0.06113408322897806,
           -0.006916252198127548,
           0.11547320256635303,
           0.09045518641091457,
           0.11125168129784246,
           0.11702370730984143,
           0.040010276337768505,
           0.048398314068082315,
           -0.013726285095880284,
           -0.1346868372340906,
           -0.06371157499118037,
           0.006916252198127564,
           0.06031899094084278,
           0.05122176476699011,
           -0.050551991558036385,
           0.0018701145623306124,
           -0.20496021669474843,
           0.06758968145792751,
           0.17440993895950943,
           -0.27842319712065355,
           1,
           -0.37397801626928234,
           -0.28558254792863036,
           -0.18416488323856553,
           -0.03964706284937272,
           0.028232511385228868,
           0.048166948994686994,
           0.17929367300430438,
           0.23280034413314615,
           0.030054608328366407,
           0.1826633671546002
          ],
          [
           0.0008437084888753327,
           0.17132216591713703,
           -0.08320661736633733,
           -0.1492739811934336,
           0.0027471183312986857,
           -0.11229466175861408,
           -0.00036426636786500763,
           -0.003308493511411254,
           -0.11480726996437085,
           0.1447470086556032,
           0.13742008269944622,
           0.20842668228002995,
           0.30145463790858057,
           -0.0809902106781048,
           -0.0027471183312986857,
           0.08358299305536028,
           -0.10429333541089097,
           0.3357634768102139,
           -0.2846082097225956,
           0.33087881370583405,
           -0.10954646682258033,
           -0.28114743393395547,
           -0.3772703602158491,
           -0.37397801626928234,
           1,
           -0.3869714587097063,
           0.1605298863682866,
           0.030386796069204806,
           -0.011569992641797876,
           -0.030584308144429393,
           -0.1754558932547761,
           -0.21019749610817867,
           0.27111737739356384,
           -0.060436278689198375
          ],
          [
           0.01319936726545174,
           -0.15298719260173027,
           -0.09694798339506473,
           0.05644841359590588,
           -0.004462839400732194,
           -0.07991768713640306,
           -0.17407470231312427,
           -0.18732483013668594,
           -0.08463055196615278,
           -0.2477115493728633,
           -0.2502897149395328,
           -0.20398064814312206,
           -0.09077284582582087,
           0.22239547449983668,
           0.004462839400732508,
           -0.22767156949803466,
           0.04275388869901973,
           -0.3059839224841771,
           0.3196937439459745,
           0.006208692442055045,
           0.0001971241890499786,
           -0.007422540118618717,
           -0.28809669563791657,
           -0.28558254792863036,
           -0.3869714587097063,
           1,
           0.18322236745325193,
           0.05037142820607642,
           -0.03609490261093368,
           -0.07217004405828796,
           -0.16005348763614577,
           -0.23218078070201725,
           -0.37656828808083825,
           -0.29470837017550655
          ],
          [
           -0.0010503798619876774,
           -0.02771322371899571,
           -0.30506147447521575,
           -0.1453791450700764,
           -0.00694955039725527,
           -0.24240887436050382,
           -0.26736609150996915,
           -0.2739200544387702,
           -0.23862820953475447,
           -0.22076087097198827,
           -0.2213881765552116,
           -0.003859801258113621,
           0.3196275743451608,
           0.25617128287621094,
           0.006949550397255344,
           -0.26333120743722876,
           -0.0014704079413737543,
           -0.021440560786684968,
           0.027554030004254233,
           0.49205202568054424,
           -0.2512993032332009,
           -0.33385014178843664,
           -0.18585512574019983,
           -0.18416488323856553,
           0.1605298863682866,
           0.18322236745325193,
           1,
           -0.2762680073398803,
           -0.3623015030946614,
           -0.2451384283025972,
           -0.33468123603042815,
           -0.7543297340826929,
           -0.19188064290675352,
           -0.5924430690900127
          ],
          [
           -0.0006494991207074467,
           0.0018604411671567017,
           -0.048481275955609554,
           -0.0014594010172321779,
           0.012306612692869211,
           -0.0556619409198579,
           -0.08408097138202993,
           -0.07733200729381666,
           -0.07201850701116608,
           -0.050234026791169964,
           -0.054338325985925064,
           0.003328006906514837,
           0.019928968647699895,
           0.05170274575687212,
           -0.012306612692869208,
           -0.04494367118136859,
           -0.013428683581908657,
           -0.0014940221824271288,
           0.01729491162511594,
           0.14000368638519403,
           -0.017196458507178478,
           -0.14674905438081498,
           -0.04632871286727803,
           -0.03964706284937272,
           0.030386796069204806,
           0.05037142820607642,
           -0.2762680073398803,
           1,
           -0.2235164922454485,
           -0.15123448603095185,
           -0.20647658168386077,
           -0.23667330012633156,
           -0.04722022100509185,
           -0.21074518016919763
          ],
          [
           -0.010516394125351592,
           0.02038346087056509,
           0.028467762106169584,
           0.02464494581436856,
           -0.014777815951004124,
           0.0076950987178344265,
           0.023085000444599418,
           0.0449724925036831,
           0.022136746625123563,
           0.02882937792536747,
           0.02504810987080452,
           -0.005388027856510724,
           -0.07585881574899747,
           -0.03215707580783382,
           0.014777815951004133,
           0.023690157563696343,
           -0.0004678565419111244,
           0.005613761063888361,
           -0.006230482005525746,
           -0.05215631834144274,
           0.15389327309228798,
           -0.08589992270093438,
           0.02172285552026243,
           0.028232511385228868,
           -0.011569992641797876,
           -0.03609490261093368,
           -0.3623015030946614,
           -0.2235164922454485,
           1,
           -0.19833089664036088,
           -0.270776108381858,
           0.08315302530583908,
           0.020378382125023714,
           0.025594453789595965
          ],
          [
           -0.004318975744551275,
           0.01418568213097567,
           0.10534126166196492,
           0.03141940765317757,
           -0.009750281447949313,
           0.0716632710172793,
           0.09919210454041022,
           0.07685425917962475,
           0.06270980841796413,
           0.08796930347195206,
           0.08661557153323526,
           0.010626123397145876,
           -0.10079964105628228,
           -0.08063023581160907,
           0.009750281447949528,
           0.07573985650934924,
           -0.00079001062411148,
           0.01746632456448475,
           -0.020153136101165186,
           -0.19870886170688193,
           0.15891681528381144,
           0.08008211690632902,
           0.060183035947993645,
           0.048166948994686994,
           -0.030584308144429393,
           -0.07217004405828796,
           -0.2451384283025972,
           -0.15123448603095185,
           -0.19833089664036088,
           1,
           -0.18321102469526726,
           0.3293670640558551,
           0.07004784345008332,
           0.2529046056409522
          ],
          [
           0.01627881894278637,
           -0.0024069937431968856,
           0.28035324824529767,
           0.1180897178470907,
           0.020515848357693,
           0.26322845571231857,
           0.2787875817043761,
           0.2755370112516221,
           0.26539627802277554,
           0.1981501311372027,
           0.20754366554274195,
           -0.001414839543993747,
           -0.2260781096915624,
           -0.2427981631428492,
           -0.02051584835769357,
           0.25792003827196397,
           0.014665913237832425,
           0.0061120739544805805,
           -0.024291768931540957,
           -0.47691223651608966,
           0.01614171428694319,
           0.5403360993105428,
           0.1842491799195877,
           0.17929367300430438,
           -0.1754558932547761,
           -0.16005348763614577,
           -0.33468123603042815,
           -0.20647658168386077,
           -0.270776108381858,
           -0.18321102469526726,
           1,
           0.7272367846079387,
           0.18543957041906836,
           0.6393119430257832
          ],
          [
           0.005285371870295646,
           0.01568347989913396,
           0.38191150910757077,
           0.16338596691556453,
           0.007877333295041818,
           0.32829748818662485,
           0.36113847824658735,
           0.3615199952862194,
           0.325288454100009,
           0.280263628074823,
           0.2854022671060787,
           0.004823156615386272,
           -0.3540493589532626,
           -0.323890766966285,
           -0.007877333295041807,
           0.33239924473562554,
           0.013786269825793156,
           0.017929529906438778,
           -0.037528889581619734,
           -0.649345648869048,
           0.2023384083649546,
           0.5638005002286687,
           0.24382246495742915,
           0.23280034413314615,
           -0.21019749610817867,
           -0.23218078070201725,
           -0.7543297340826929,
           -0.23667330012633156,
           0.08315302530583908,
           0.3293670640558551,
           0.7272367846079387,
           1,
           0.2468617666408947,
           0.8258804609332017
          ],
          [
           -0.013779327268354416,
           0.21987422950593646,
           0.09782497186892049,
           -0.11234295350128225,
           0.2480330664757158,
           0.2964469592375873,
           0.4415290881871007,
           0.48260691224313995,
           0.33830139143424953,
           0.6296678921767406,
           0.6272347301103788,
           0.3519304153712528,
           0.1928582184700881,
           -0.3385136039067215,
           -0.2480330664757158,
           0.4909121973267493,
           -0.16136793538251534,
           0.7871948529419658,
           -0.7631910615169571,
           0.0589334582292538,
           0.004809615120440435,
           -0.07325607300641665,
           0.04240972759459293,
           0.030054608328366407,
           0.27111737739356384,
           -0.37656828808083825,
           -0.19188064290675352,
           -0.04722022100509185,
           0.020378382125023714,
           0.07004784345008332,
           0.18543957041906836,
           0.2468617666408947,
           1,
           0.6510648032262032
          ],
          [
           4.783950839776602e-05,
           0.10241060539532633,
           0.31907236323857324,
           0.0646532494217739,
           0.11300826095473893,
           0.41261876950713655,
           0.510100290145439,
           0.5228814865154369,
           0.4328683682410939,
           0.5157090769923935,
           0.5198665357835017,
           0.15782978286591698,
           -0.1994840835675715,
           -0.39676537714107735,
           -0.1130082609547389,
           0.4690421356971826,
           -0.052189866637419764,
           0.3607687920142481,
           -0.37487836259896,
           -0.4467758743246882,
           0.17056928655718714,
           0.35803561609140894,
           0.18611944938877964,
           0.1826633671546002,
           -0.060436278689198375,
           -0.29470837017550655,
           -0.5924430690900127,
           -0.21074518016919763,
           0.025594453789595965,
           0.2529046056409522,
           0.6393119430257832,
           0.8258804609332017,
           0.6510648032262032,
           1
          ]
         ]
        }
       ],
       "layout": {
        "autosize": false,
        "height": 720,
        "margin": {
         "b": 210,
         "l": 210,
         "r": 0,
         "t": 25
        },
        "template": {
         "data": {
          "bar": [
           {
            "error_x": {
             "color": "#2a3f5f"
            },
            "error_y": {
             "color": "#2a3f5f"
            },
            "marker": {
             "line": {
              "color": "#E5ECF6",
              "width": 0.5
             },
             "pattern": {
              "fillmode": "overlay",
              "size": 10,
              "solidity": 0.2
             }
            },
            "type": "bar"
           }
          ],
          "barpolar": [
           {
            "marker": {
             "line": {
              "color": "#E5ECF6",
              "width": 0.5
             },
             "pattern": {
              "fillmode": "overlay",
              "size": 10,
              "solidity": 0.2
             }
            },
            "type": "barpolar"
           }
          ],
          "carpet": [
           {
            "aaxis": {
             "endlinecolor": "#2a3f5f",
             "gridcolor": "white",
             "linecolor": "white",
             "minorgridcolor": "white",
             "startlinecolor": "#2a3f5f"
            },
            "baxis": {
             "endlinecolor": "#2a3f5f",
             "gridcolor": "white",
             "linecolor": "white",
             "minorgridcolor": "white",
             "startlinecolor": "#2a3f5f"
            },
            "type": "carpet"
           }
          ],
          "choropleth": [
           {
            "colorbar": {
             "outlinewidth": 0,
             "ticks": ""
            },
            "type": "choropleth"
           }
          ],
          "contour": [
           {
            "colorbar": {
             "outlinewidth": 0,
             "ticks": ""
            },
            "colorscale": [
             [
              0,
              "#0d0887"
             ],
             [
              0.1111111111111111,
              "#46039f"
             ],
             [
              0.2222222222222222,
              "#7201a8"
             ],
             [
              0.3333333333333333,
              "#9c179e"
             ],
             [
              0.4444444444444444,
              "#bd3786"
             ],
             [
              0.5555555555555556,
              "#d8576b"
             ],
             [
              0.6666666666666666,
              "#ed7953"
             ],
             [
              0.7777777777777778,
              "#fb9f3a"
             ],
             [
              0.8888888888888888,
              "#fdca26"
             ],
             [
              1,
              "#f0f921"
             ]
            ],
            "type": "contour"
           }
          ],
          "contourcarpet": [
           {
            "colorbar": {
             "outlinewidth": 0,
             "ticks": ""
            },
            "type": "contourcarpet"
           }
          ],
          "heatmap": [
           {
            "colorbar": {
             "outlinewidth": 0,
             "ticks": ""
            },
            "colorscale": [
             [
              0,
              "#0d0887"
             ],
             [
              0.1111111111111111,
              "#46039f"
             ],
             [
              0.2222222222222222,
              "#7201a8"
             ],
             [
              0.3333333333333333,
              "#9c179e"
             ],
             [
              0.4444444444444444,
              "#bd3786"
             ],
             [
              0.5555555555555556,
              "#d8576b"
             ],
             [
              0.6666666666666666,
              "#ed7953"
             ],
             [
              0.7777777777777778,
              "#fb9f3a"
             ],
             [
              0.8888888888888888,
              "#fdca26"
             ],
             [
              1,
              "#f0f921"
             ]
            ],
            "type": "heatmap"
           }
          ],
          "heatmapgl": [
           {
            "colorbar": {
             "outlinewidth": 0,
             "ticks": ""
            },
            "colorscale": [
             [
              0,
              "#0d0887"
             ],
             [
              0.1111111111111111,
              "#46039f"
             ],
             [
              0.2222222222222222,
              "#7201a8"
             ],
             [
              0.3333333333333333,
              "#9c179e"
             ],
             [
              0.4444444444444444,
              "#bd3786"
             ],
             [
              0.5555555555555556,
              "#d8576b"
             ],
             [
              0.6666666666666666,
              "#ed7953"
             ],
             [
              0.7777777777777778,
              "#fb9f3a"
             ],
             [
              0.8888888888888888,
              "#fdca26"
             ],
             [
              1,
              "#f0f921"
             ]
            ],
            "type": "heatmapgl"
           }
          ],
          "histogram": [
           {
            "marker": {
             "pattern": {
              "fillmode": "overlay",
              "size": 10,
              "solidity": 0.2
             }
            },
            "type": "histogram"
           }
          ],
          "histogram2d": [
           {
            "colorbar": {
             "outlinewidth": 0,
             "ticks": ""
            },
            "colorscale": [
             [
              0,
              "#0d0887"
             ],
             [
              0.1111111111111111,
              "#46039f"
             ],
             [
              0.2222222222222222,
              "#7201a8"
             ],
             [
              0.3333333333333333,
              "#9c179e"
             ],
             [
              0.4444444444444444,
              "#bd3786"
             ],
             [
              0.5555555555555556,
              "#d8576b"
             ],
             [
              0.6666666666666666,
              "#ed7953"
             ],
             [
              0.7777777777777778,
              "#fb9f3a"
             ],
             [
              0.8888888888888888,
              "#fdca26"
             ],
             [
              1,
              "#f0f921"
             ]
            ],
            "type": "histogram2d"
           }
          ],
          "histogram2dcontour": [
           {
            "colorbar": {
             "outlinewidth": 0,
             "ticks": ""
            },
            "colorscale": [
             [
              0,
              "#0d0887"
             ],
             [
              0.1111111111111111,
              "#46039f"
             ],
             [
              0.2222222222222222,
              "#7201a8"
             ],
             [
              0.3333333333333333,
              "#9c179e"
             ],
             [
              0.4444444444444444,
              "#bd3786"
             ],
             [
              0.5555555555555556,
              "#d8576b"
             ],
             [
              0.6666666666666666,
              "#ed7953"
             ],
             [
              0.7777777777777778,
              "#fb9f3a"
             ],
             [
              0.8888888888888888,
              "#fdca26"
             ],
             [
              1,
              "#f0f921"
             ]
            ],
            "type": "histogram2dcontour"
           }
          ],
          "mesh3d": [
           {
            "colorbar": {
             "outlinewidth": 0,
             "ticks": ""
            },
            "type": "mesh3d"
           }
          ],
          "parcoords": [
           {
            "line": {
             "colorbar": {
              "outlinewidth": 0,
              "ticks": ""
             }
            },
            "type": "parcoords"
           }
          ],
          "pie": [
           {
            "automargin": true,
            "type": "pie"
           }
          ],
          "scatter": [
           {
            "marker": {
             "colorbar": {
              "outlinewidth": 0,
              "ticks": ""
             }
            },
            "type": "scatter"
           }
          ],
          "scatter3d": [
           {
            "line": {
             "colorbar": {
              "outlinewidth": 0,
              "ticks": ""
             }
            },
            "marker": {
             "colorbar": {
              "outlinewidth": 0,
              "ticks": ""
             }
            },
            "type": "scatter3d"
           }
          ],
          "scattercarpet": [
           {
            "marker": {
             "colorbar": {
              "outlinewidth": 0,
              "ticks": ""
             }
            },
            "type": "scattercarpet"
           }
          ],
          "scattergeo": [
           {
            "marker": {
             "colorbar": {
              "outlinewidth": 0,
              "ticks": ""
             }
            },
            "type": "scattergeo"
           }
          ],
          "scattergl": [
           {
            "marker": {
             "colorbar": {
              "outlinewidth": 0,
              "ticks": ""
             }
            },
            "type": "scattergl"
           }
          ],
          "scattermapbox": [
           {
            "marker": {
             "colorbar": {
              "outlinewidth": 0,
              "ticks": ""
             }
            },
            "type": "scattermapbox"
           }
          ],
          "scatterpolar": [
           {
            "marker": {
             "colorbar": {
              "outlinewidth": 0,
              "ticks": ""
             }
            },
            "type": "scatterpolar"
           }
          ],
          "scatterpolargl": [
           {
            "marker": {
             "colorbar": {
              "outlinewidth": 0,
              "ticks": ""
             }
            },
            "type": "scatterpolargl"
           }
          ],
          "scatterternary": [
           {
            "marker": {
             "colorbar": {
              "outlinewidth": 0,
              "ticks": ""
             }
            },
            "type": "scatterternary"
           }
          ],
          "surface": [
           {
            "colorbar": {
             "outlinewidth": 0,
             "ticks": ""
            },
            "colorscale": [
             [
              0,
              "#0d0887"
             ],
             [
              0.1111111111111111,
              "#46039f"
             ],
             [
              0.2222222222222222,
              "#7201a8"
             ],
             [
              0.3333333333333333,
              "#9c179e"
             ],
             [
              0.4444444444444444,
              "#bd3786"
             ],
             [
              0.5555555555555556,
              "#d8576b"
             ],
             [
              0.6666666666666666,
              "#ed7953"
             ],
             [
              0.7777777777777778,
              "#fb9f3a"
             ],
             [
              0.8888888888888888,
              "#fdca26"
             ],
             [
              1,
              "#f0f921"
             ]
            ],
            "type": "surface"
           }
          ],
          "table": [
           {
            "cells": {
             "fill": {
              "color": "#EBF0F8"
             },
             "line": {
              "color": "white"
             }
            },
            "header": {
             "fill": {
              "color": "#C8D4E3"
             },
             "line": {
              "color": "white"
             }
            },
            "type": "table"
           }
          ]
         },
         "layout": {
          "annotationdefaults": {
           "arrowcolor": "#2a3f5f",
           "arrowhead": 0,
           "arrowwidth": 1
          },
          "autotypenumbers": "strict",
          "coloraxis": {
           "colorbar": {
            "outlinewidth": 0,
            "ticks": ""
           }
          },
          "colorscale": {
           "diverging": [
            [
             0,
             "#8e0152"
            ],
            [
             0.1,
             "#c51b7d"
            ],
            [
             0.2,
             "#de77ae"
            ],
            [
             0.3,
             "#f1b6da"
            ],
            [
             0.4,
             "#fde0ef"
            ],
            [
             0.5,
             "#f7f7f7"
            ],
            [
             0.6,
             "#e6f5d0"
            ],
            [
             0.7,
             "#b8e186"
            ],
            [
             0.8,
             "#7fbc41"
            ],
            [
             0.9,
             "#4d9221"
            ],
            [
             1,
             "#276419"
            ]
           ],
           "sequential": [
            [
             0,
             "#0d0887"
            ],
            [
             0.1111111111111111,
             "#46039f"
            ],
            [
             0.2222222222222222,
             "#7201a8"
            ],
            [
             0.3333333333333333,
             "#9c179e"
            ],
            [
             0.4444444444444444,
             "#bd3786"
            ],
            [
             0.5555555555555556,
             "#d8576b"
            ],
            [
             0.6666666666666666,
             "#ed7953"
            ],
            [
             0.7777777777777778,
             "#fb9f3a"
            ],
            [
             0.8888888888888888,
             "#fdca26"
            ],
            [
             1,
             "#f0f921"
            ]
           ],
           "sequentialminus": [
            [
             0,
             "#0d0887"
            ],
            [
             0.1111111111111111,
             "#46039f"
            ],
            [
             0.2222222222222222,
             "#7201a8"
            ],
            [
             0.3333333333333333,
             "#9c179e"
            ],
            [
             0.4444444444444444,
             "#bd3786"
            ],
            [
             0.5555555555555556,
             "#d8576b"
            ],
            [
             0.6666666666666666,
             "#ed7953"
            ],
            [
             0.7777777777777778,
             "#fb9f3a"
            ],
            [
             0.8888888888888888,
             "#fdca26"
            ],
            [
             1,
             "#f0f921"
            ]
           ]
          },
          "colorway": [
           "#636efa",
           "#EF553B",
           "#00cc96",
           "#ab63fa",
           "#FFA15A",
           "#19d3f3",
           "#FF6692",
           "#B6E880",
           "#FF97FF",
           "#FECB52"
          ],
          "font": {
           "color": "#2a3f5f"
          },
          "geo": {
           "bgcolor": "white",
           "lakecolor": "white",
           "landcolor": "#E5ECF6",
           "showlakes": true,
           "showland": true,
           "subunitcolor": "white"
          },
          "hoverlabel": {
           "align": "left"
          },
          "hovermode": "closest",
          "mapbox": {
           "style": "light"
          },
          "paper_bgcolor": "white",
          "plot_bgcolor": "#E5ECF6",
          "polar": {
           "angularaxis": {
            "gridcolor": "white",
            "linecolor": "white",
            "ticks": ""
           },
           "bgcolor": "#E5ECF6",
           "radialaxis": {
            "gridcolor": "white",
            "linecolor": "white",
            "ticks": ""
           }
          },
          "scene": {
           "xaxis": {
            "backgroundcolor": "#E5ECF6",
            "gridcolor": "white",
            "gridwidth": 2,
            "linecolor": "white",
            "showbackground": true,
            "ticks": "",
            "zerolinecolor": "white"
           },
           "yaxis": {
            "backgroundcolor": "#E5ECF6",
            "gridcolor": "white",
            "gridwidth": 2,
            "linecolor": "white",
            "showbackground": true,
            "ticks": "",
            "zerolinecolor": "white"
           },
           "zaxis": {
            "backgroundcolor": "#E5ECF6",
            "gridcolor": "white",
            "gridwidth": 2,
            "linecolor": "white",
            "showbackground": true,
            "ticks": "",
            "zerolinecolor": "white"
           }
          },
          "shapedefaults": {
           "line": {
            "color": "#2a3f5f"
           }
          },
          "ternary": {
           "aaxis": {
            "gridcolor": "white",
            "linecolor": "white",
            "ticks": ""
           },
           "baxis": {
            "gridcolor": "white",
            "linecolor": "white",
            "ticks": ""
           },
           "bgcolor": "#E5ECF6",
           "caxis": {
            "gridcolor": "white",
            "linecolor": "white",
            "ticks": ""
           }
          },
          "title": {
           "x": 0.05
          },
          "xaxis": {
           "automargin": true,
           "gridcolor": "white",
           "linecolor": "white",
           "ticks": "",
           "title": {
            "standoff": 15
           },
           "zerolinecolor": "white",
           "zerolinewidth": 2
          },
          "yaxis": {
           "automargin": true,
           "gridcolor": "white",
           "linecolor": "white",
           "ticks": "",
           "title": {
            "standoff": 15
           },
           "zerolinecolor": "white",
           "zerolinewidth": 2
          }
         }
        },
        "title": {
         "text": "Correlation Matrix for variables"
        },
        "width": 800,
        "xaxis": {
         "tickfont": {
          "size": 9
         }
        },
        "yaxis": {
         "tickfont": {
          "size": 9
         }
        }
       }
      },
      "text/html": [
       "<div>                            <div id=\"b89a3378-a600-4ea4-8368-d75585a86be2\" class=\"plotly-graph-div\" style=\"height:720px; width:800px;\"></div>            <script type=\"text/javascript\">                require([\"plotly\"], function(Plotly) {                    window.PLOTLYENV=window.PLOTLYENV || {};                                    if (document.getElementById(\"b89a3378-a600-4ea4-8368-d75585a86be2\")) {                    Plotly.newPlot(                        \"b89a3378-a600-4ea4-8368-d75585a86be2\",                        [{\"colorbar\":{\"title\":{\"side\":\"right\",\"text\":\"Pearson Correlation coefficient\"}},\"colorscale\":[[0.0,\"#440154\"],[0.1111111111111111,\"#482878\"],[0.2222222222222222,\"#3e4989\"],[0.3333333333333333,\"#31688e\"],[0.4444444444444444,\"#26828e\"],[0.5555555555555556,\"#1f9e89\"],[0.6666666666666666,\"#35b779\"],[0.7777777777777778,\"#6ece58\"],[0.8888888888888888,\"#b5de2b\"],[1.0,\"#fde725\"]],\"type\":\"heatmap\",\"x\":[\"gender\",\"SeniorCitizen\",\"Partner\",\"Dependents\",\"PhoneService\",\"OnlineSecurity\",\"OnlineBackup\",\"DeviceProtection\",\"TechSupport\",\"StreamingTV\",\"StreamingMovies\",\"PaperlessBilling\",\"Churn\",\"MultipleLines_No\",\"MultipleLines_No phone service\",\"MultipleLines_Yes\",\"InternetService_DSL\",\"InternetService_Fiber optic\",\"InternetService_No\",\"Contract_Month-to-month\",\"Contract_One year\",\"Contract_Two year\",\"PaymentMethod_Bank transfer (automatic)\",\"PaymentMethod_Credit card (automatic)\",\"PaymentMethod_Electronic check\",\"PaymentMethod_Mailed check\",\"tenure_group_Tenure_0-12\",\"tenure_group_Tenure_12-24\",\"tenure_group_Tenure_24-48\",\"tenure_group_Tenure_48-60\",\"tenure_group_Tenure_gt_60\",\"tenure\",\"MonthlyCharges\",\"TotalCharges\"],\"y\":[\"gender\",\"SeniorCitizen\",\"Partner\",\"Dependents\",\"PhoneService\",\"OnlineSecurity\",\"OnlineBackup\",\"DeviceProtection\",\"TechSupport\",\"StreamingTV\",\"StreamingMovies\",\"PaperlessBilling\",\"Churn\",\"MultipleLines_No\",\"MultipleLines_No phone service\",\"MultipleLines_Yes\",\"InternetService_DSL\",\"InternetService_Fiber optic\",\"InternetService_No\",\"Contract_Month-to-month\",\"Contract_One year\",\"Contract_Two year\",\"PaymentMethod_Bank transfer (automatic)\",\"PaymentMethod_Credit card (automatic)\",\"PaymentMethod_Electronic check\",\"PaymentMethod_Mailed check\",\"tenure_group_Tenure_0-12\",\"tenure_group_Tenure_12-24\",\"tenure_group_Tenure_24-48\",\"tenure_group_Tenure_48-60\",\"tenure_group_Tenure_gt_60\",\"tenure\",\"MonthlyCharges\",\"TotalCharges\"],\"z\":[[1.0,-0.001819390613419179,-0.0013790513218356025,0.010348917127614397,-0.007514979909200033,-0.01632782307070617,-0.013092839264555001,-0.0008067457759124324,-0.008507162405232782,-0.0071243969867245535,-0.010105418366566195,-0.011901894766838502,-0.008544643224947218,0.0043346914502916285,0.0075149799091999425,-0.008882737146286056,0.00758357610303961,-0.011189259276385864,0.004744965758849955,-0.0032507651194551004,0.0077548529142672145,-0.003603167413572989,-0.015973079031173835,0.001631872518613598,0.0008437084888753327,0.01319936726545174,-0.0010503798619876774,-0.0006494991207074467,-0.010516394125351592,-0.004318975744551275,0.01627881894278637,0.005285371870295646,-0.013779327268354416,4.783950839776602e-05],[-0.001819390613419179,1.0,0.01695661453202187,-0.21055006112684216,0.008391611911217043,-0.0385763901686064,0.06666279065142021,0.059513871482029225,-0.060576839406188035,0.10544501753678828,0.11984236746151568,0.15625775052783097,0.1505410534156757,-0.13637672686229402,-0.008391611911217034,0.14299625086621018,-0.10827563872848943,0.25492331502717946,-0.18251949495535458,0.13775207088551514,-0.0464907545657889,-0.11620511425710835,-0.01623474200582214,-0.024359419683712323,0.17132216591713703,-0.15298719260173027,-0.02771322371899571,0.0018604411671567017,0.02038346087056509,0.01418568213097567,-0.0024069937431968856,0.01568347989913396,0.21987422950593646,0.10241060539532633],[-0.0013790513218356025,0.01695661453202187,1.0,0.45226888584550023,0.018397189302703662,0.14334606167364233,0.14184917072520303,0.1535564364182745,0.12020601780298455,0.12448262672518244,0.11810820943292764,-0.013956696136191696,-0.14998192562006138,-0.13002839561671578,-0.018397189302703666,0.1425612874681736,-0.0010430787434336079,0.0012346095228208073,-0.0002855204740384597,-0.2802019157901561,0.08306706395255747,0.24733370647615796,0.11140561212215645,0.08232738919649572,-0.08320661736633733,-0.09694798339506473,-0.30506147447521575,-0.048481275955609554,0.028467762106169584,0.10534126166196492,0.28035324824529767,0.38191150910757077,0.09782497186892049,0.31907236323857324],[0.010348917127614397,-0.21055006112684216,0.45226888584550023,1.0,-0.001077812708067608,0.08078553224088346,0.023638813060609963,0.013899668260943368,0.06305315799997827,-0.01649868035801052,-0.03837492560091315,-0.11013068597336993,-0.16312843938822,0.023387669506115295,0.0010778127080674446,-0.024306661314620996,0.05159321756471237,-0.16410089031864167,0.13838288994798562,-0.2297147909213749,0.06922205672629726,0.2016993304297039,0.05236890928127545,0.06113408322897806,-0.1492739811934336,0.05644841359590588,-0.1453791450700764,-0.0014594010172321779,0.02464494581436856,0.03141940765317757,0.1180897178470907,0.16338596691556453,-0.11234295350128225,0.0646532494217739],[-0.007514979909200033,0.008391611911217043,0.018397189302703662,-0.001077812708067608,1.0,-0.09167570469500017,-0.05213341919796151,-0.07007561533228862,-0.09513849428922488,-0.021382711870578185,-0.03347749718236395,0.016696123642784135,0.011691398865422323,0.31521775126801543,-1.0,0.2795295400049995,-0.45225528090657086,0.29018311793843365,0.1718171065699321,-0.0012425134067734023,-0.0031417807184111624,0.0044422513152849235,0.008271245210923577,-0.006916252198127548,0.0027471183312986857,-0.004462839400732194,-0.00694955039725527,0.012306612692869211,-0.014777815951004124,-0.009750281447949313,0.020515848357693,0.007877333295041818,0.2480330664757158,0.11300826095473893],[-0.01632782307070617,-0.0385763901686064,0.14334606167364233,0.08078553224088346,-0.09167570469500017,1.0,0.28328454262626757,0.274875003842449,0.35445796164509147,0.1755144708953688,0.18742584957299618,-0.004051250607988492,-0.17126992353351678,-0.15167751168612081,0.09167570469500017,0.0985919934252315,0.3203433737595294,-0.03050626904076453,-0.33279949932167546,-0.24684428487400414,0.10065777311969464,0.19169819815673583,0.09436639279979232,0.11547320256635303,-0.11229466175861408,-0.07991768713640306,-0.24240887436050382,-0.0556619409198579,0.0076950987178344265,0.0716632710172793,0.26322845571231857,0.32829748818662485,0.2964469592375873,0.41261876950713655],[-0.013092839264555001,0.06666279065142021,0.14184917072520303,0.023638813060609963,-0.05213341919796151,0.28328454262626757,1.0,0.30305766643807824,0.29370469187781045,0.2816010622259753,0.27452301070772545,0.12705603268686044,-0.08230696876508349,-0.2307241996493635,0.05213341919796151,0.2022283972825372,0.15676460995441888,0.16594028590307677,-0.3809903317320751,-0.16439302987919688,0.08411316021806066,0.11139068731904943,0.0869415675760231,0.09045518641091457,-0.00036426636786500763,-0.17407470231312427,-0.26736609150996915,-0.08408097138202993,0.023085000444599418,0.09919210454041022,0.2787875817043761,0.36113847824658735,0.4415290881871007,0.510100290145439],[-0.0008067457759124324,0.059513871482029225,0.1535564364182745,0.013899668260943368,-0.07007561533228862,0.274875003842449,0.30305766643807824,1.0,0.33285005080469243,0.3899237975094597,0.4023088228216018,0.10407904724402045,-0.06619251684228997,-0.24084736328107104,0.07007561533228862,0.201732824517757,0.14514955473692903,0.17635617323471664,-0.3801513548956378,-0.22598757731112262,0.10291089629343353,0.16524753554250074,0.08304690185342707,0.11125168129784246,-0.003308493511411254,-0.18732483013668594,-0.2739200544387702,-0.07733200729381666,0.0449724925036831,0.07685425917962475,0.2755370112516221,0.3615199952862194,0.48260691224313995,0.5228814865154369],[-0.008507162405232782,-0.060576839406188035,0.12020601780298455,0.06305315799997827,-0.09513849428922488,0.35445796164509147,0.29370469187781045,0.33285005080469243,1.0,0.277548599200549,0.2801552432906342,0.03753587307318976,-0.16471590834411207,-0.15553386914722026,0.09513849428922488,0.10042125595413272,0.3121832985222757,-0.020298967520709605,-0.33569508671869736,-0.28549086901033593,0.09625836225380952,0.24092408252256528,0.10047200087443556,0.11702370730984143,-0.11480726996437085,-0.08463055196615278,-0.23862820953475447,-0.07201850701116608,0.022136746625123563,0.06270980841796413,0.26539627802277554,0.325288454100009,0.33830139143424953,0.4328683682410939],[-0.0071243969867245535,0.10544501753678828,0.12448262672518244,-0.01649868035801052,-0.021382711870578185,0.1755144708953688,0.2816010622259753,0.3899237975094597,0.277548599200549,1.0,0.5333800979319763,0.22424119793848596,0.06325398027519404,-0.26746641467807136,0.021382711870577976,0.25780350066730157,0.014973379079172382,0.3297441152730512,-0.41495062156578044,-0.11254989712217289,0.061929689963200855,0.07212357537070835,0.04612070051242859,0.040010276337768505,0.1447470086556032,-0.2477115493728633,-0.22076087097198827,-0.050234026791169964,0.02882937792536747,0.08796930347195206,0.1981501311372027,0.280263628074823,0.6296678921767406,0.5157090769923935],[-0.010105418366566195,0.11984236746151568,0.11810820943292764,-0.03837492560091315,-0.03347749718236395,0.18742584957299618,0.27452301070772545,0.4023088228216018,0.2801552432906342,0.5333800979319763,1.0,0.21158250423808916,0.06085993668146301,-0.2759953197780627,0.03347749718236395,0.2591943175468362,0.02562310861129719,0.3224574540559222,-0.41844975538334045,-0.11786687989290552,0.06477997824381859,0.07560257919382919,0.04875484714119087,0.048398314068082315,0.13742008269944622,-0.2502897149395328,-0.2213881765552116,-0.054338325985925064,0.02504810987080452,0.08661557153323526,0.20754366554274195,0.2854022671060787,0.6272347301103788,0.5198665357835017],[-0.011901894766838502,0.15625775052783097,-0.013956696136191696,-0.11013068597336993,0.016696123642784135,-0.004051250607988492,0.12705603268686044,0.10407904724402045,0.03753587307318976,0.22424119793848596,0.21158250423808916,1.0,0.19145432108006671,-0.1519737778021082,-0.016696123642784142,0.1637457730112591,-0.06338966821876392,0.32647017160380964,-0.3205922451174622,0.16829626845602835,-0.052278164693773076,-0.1462807050684952,-0.017468900682392235,-0.013726285095880284,0.20842668228002995,-0.20398064814312206,-0.003859801258113621,0.003328006906514837,-0.005388027856510724,0.010626123397145876,-0.001414839543993747,0.004823156615386272,0.3519304153712528,0.15782978286591698],[-0.008544643224947218,0.1505410534156757,-0.14998192562006138,-0.16312843938822,0.011691398865422323,-0.17126992353351678,-0.08230696876508349,-0.06619251684228997,-0.16471590834411207,0.06325398027519404,0.06085993668146301,0.19145432108006671,1.0,-0.03265360299730401,-0.01169139886542221,0.040032739872523634,-0.12414142842590645,0.30746259069818205,-0.22757762044656818,0.40456455007784087,-0.17822502328994053,-0.30155233962397837,-0.1181359978280296,-0.1346868372340906,0.30145463790858057,-0.09077284582582087,0.3196275743451608,0.019928968647699895,-0.07585881574899747,-0.10079964105628228,-0.2260781096915624,-0.3540493589532626,0.1928582184700881,-0.1994840835675715],[0.0043346914502916285,-0.13637672686229402,-0.13002839561671578,0.023387669506115295,0.31521775126801543,-0.15167751168612081,-0.2307241996493635,-0.24084736328107104,-0.15553386914722026,-0.26746641467807136,-0.2759953197780627,-0.1519737778021082,-0.03265360299730401,1.0,-0.3152177512680155,-0.8230760279128654,-0.06951498798055156,-0.19053099387424138,0.3099843327828031,0.08679791861868207,0.0016944436455045328,-0.1027560050227385,-0.06966277653167001,-0.06371157499118037,-0.0809902106781048,0.22239547449983668,0.25617128287621094,0.05170274575687212,-0.03215707580783382,-0.08063023581160907,-0.2427981631428492,-0.323890766966285,-0.3385136039067215,-0.39676537714107735],[0.0075149799091999425,-0.008391611911217034,-0.018397189302703666,0.0010778127080674446,-1.0,0.09167570469500017,0.05213341919796151,0.07007561533228862,0.09513849428922488,0.021382711870577976,0.03347749718236395,-0.016696123642784142,-0.01169139886542221,-0.3152177512680155,1.0,-0.2795295400049995,0.45225528090657086,-0.29018311793843365,-0.1718171065699321,0.0012425134067734103,0.0031417807184113207,-0.004442251315284906,-0.008271245210923579,0.006916252198127564,-0.0027471183312986857,0.004462839400732508,0.006949550397255344,-0.012306612692869208,0.014777815951004133,0.009750281447949528,-0.02051584835769357,-0.007877333295041807,-0.2480330664757158,-0.1130082609547389],[-0.008882737146286056,0.14299625086621018,0.1425612874681736,-0.024306661314620996,0.2795295400049995,0.0985919934252315,0.2022283972825372,0.201732824517757,0.10042125595413272,0.25780350066730157,0.2591943175468362,0.1637457730112591,0.040032739872523634,-0.8230760279128654,-0.2795295400049995,1.0,-0.2003183214156725,0.3664202566051166,-0.21079354712189471,-0.08855832218643561,-0.003594461398434266,0.10661820819152797,0.07542871730303179,0.06031899094084278,0.08358299305536028,-0.22767156949803466,-0.26333120743722876,-0.04494367118136859,0.023690157563696343,0.07573985650934924,0.25792003827196397,0.33239924473562554,0.4909121973267493,0.4690421356971826],[0.00758357610303961,-0.10827563872848943,-0.0010430787434336079,0.05159321756471237,-0.45225528090657086,0.3203433737595294,0.15676460995441888,0.14514955473692903,0.3121832985222757,0.014973379079172382,0.02562310861129719,-0.06338966821876392,-0.12414142842590645,-0.06951498798055156,0.45225528090657086,-0.2003183214156725,1.0,-0.6416356650534906,-0.3799117751052334,-0.06522632996531619,0.04729967349374622,0.030923714855574744,0.02475954021490298,0.05122176476699011,-0.10429333541089097,0.04275388869901973,-0.0014704079413737543,-0.013428683581908657,-0.0004678565419111244,-0.00079001062411148,0.014665913237832425,0.013786269825793156,-0.16136793538251534,-0.052189866637419764],[-0.011189259276385864,0.25492331502717946,0.0012346095228208073,-0.16410089031864167,0.29018311793843365,-0.03050626904076453,0.16594028590307677,0.17635617323471664,-0.020298967520709605,0.3297441152730512,0.3224574540559222,0.32647017160380964,0.30746259069818205,-0.19053099387424138,-0.29018311793843365,0.3664202566051166,-0.6416356650534906,1.0,-0.4657363343235562,0.24301351814831268,-0.07680902975096314,-0.20996452908904545,-0.022778855291876635,-0.050551991558036385,0.3357634768102139,-0.3059839224841771,-0.021440560786684968,-0.0014940221824271288,0.005613761063888361,0.01746632456448475,0.0061120739544805805,0.017929529906438778,0.7871948529419658,0.3607687920142481],[0.004744965758849955,-0.18251949495535458,-0.0002855204740384597,0.13838288994798562,0.1718171065699321,-0.33279949932167546,-0.3809903317320751,-0.3801513548956378,-0.33569508671869736,-0.41495062156578044,-0.41844975538334045,-0.3205922451174622,-0.22757762044656818,0.3099843327828031,-0.1718171065699321,-0.21079354712189471,-0.3799117751052334,-0.4657363343235562,1.0,-0.217823505545489,0.038061459724733744,0.21754205606911817,-0.0010943032992050863,0.0018701145623306124,-0.2846082097225956,0.3196937439459745,0.027554030004254233,0.01729491162511594,-0.006230482005525746,-0.020153136101165186,-0.024291768931540957,-0.037528889581619734,-0.7631910615169571,-0.37487836259896],[-0.0032507651194551004,0.13775207088551514,-0.2802019157901561,-0.2297147909213749,-0.0012425134067734023,-0.24684428487400414,-0.16439302987919688,-0.22598757731112262,-0.28549086901033593,-0.11254989712217289,-0.11786687989290552,0.16829626845602835,0.40456455007784087,0.08679791861868207,0.0012425134067734103,-0.08855832218643561,-0.06522632996531619,0.24301351814831268,-0.217823505545489,1.0,-0.5700527848944215,-0.6219327447713561,-0.18015909738683936,-0.20496021669474843,0.33087881370583405,0.006208692442055045,0.49205202568054424,0.14000368638519403,-0.05215631834144274,-0.19870886170688193,-0.47691223651608966,-0.649345648869048,0.0589334582292538,-0.4467758743246882],[0.0077548529142672145,-0.0464907545657889,0.08306706395255747,0.06922205672629726,-0.0031417807184111624,0.10065777311969464,0.08411316021806066,0.10291089629343353,0.09625836225380952,0.061929689963200855,0.06477997824381859,-0.052278164693773076,-0.17822502328994053,0.0016944436455045328,0.0031417807184113207,-0.003594461398434266,0.04729967349374622,-0.07680902975096314,0.038061459724733744,-0.5700527848944215,1.0,-0.28884268256780254,0.05762874929825631,0.06758968145792751,-0.10954646682258033,0.0001971241890499786,-0.2512993032332009,-0.017196458507178478,0.15389327309228798,0.15891681528381144,0.01614171428694319,0.2023384083649546,0.004809615120440435,0.17056928655718714],[-0.003603167413572989,-0.11620511425710835,0.24733370647615796,0.2016993304297039,0.0044422513152849235,0.19169819815673583,0.11139068731904943,0.16524753554250074,0.24092408252256528,0.07212357537070835,0.07560257919382919,-0.1462807050684952,-0.30155233962397837,-0.1027560050227385,-0.004442251315284906,0.10661820819152797,0.030923714855574744,-0.20996452908904545,0.21754205606911817,-0.6219327447713561,-0.28884268256780254,1.0,0.1550042180767056,0.17440993895950943,-0.28114743393395547,-0.007422540118618717,-0.33385014178843664,-0.14674905438081498,-0.08589992270093438,0.08008211690632902,0.5403360993105428,0.5638005002286687,-0.07325607300641665,0.35803561609140894],[-0.015973079031173835,-0.01623474200582214,0.11140561212215645,0.05236890928127545,0.008271245210923577,0.09436639279979232,0.0869415675760231,0.08304690185342707,0.10047200087443556,0.04612070051242859,0.04875484714119087,-0.017468900682392235,-0.1181359978280296,-0.06966277653167001,-0.008271245210923579,0.07542871730303179,0.02475954021490298,-0.022778855291876635,-0.0010943032992050863,-0.18015909738683936,0.05762874929825631,0.1550042180767056,1.0,-0.27842319712065355,-0.3772703602158491,-0.28809669563791657,-0.18585512574019983,-0.04632871286727803,0.02172285552026243,0.060183035947993645,0.1842491799195877,0.24382246495742915,0.04240972759459293,0.18611944938877964],[0.001631872518613598,-0.024359419683712323,0.08232738919649572,0.06113408322897806,-0.006916252198127548,0.11547320256635303,0.09045518641091457,0.11125168129784246,0.11702370730984143,0.040010276337768505,0.048398314068082315,-0.013726285095880284,-0.1346868372340906,-0.06371157499118037,0.006916252198127564,0.06031899094084278,0.05122176476699011,-0.050551991558036385,0.0018701145623306124,-0.20496021669474843,0.06758968145792751,0.17440993895950943,-0.27842319712065355,1.0,-0.37397801626928234,-0.28558254792863036,-0.18416488323856553,-0.03964706284937272,0.028232511385228868,0.048166948994686994,0.17929367300430438,0.23280034413314615,0.030054608328366407,0.1826633671546002],[0.0008437084888753327,0.17132216591713703,-0.08320661736633733,-0.1492739811934336,0.0027471183312986857,-0.11229466175861408,-0.00036426636786500763,-0.003308493511411254,-0.11480726996437085,0.1447470086556032,0.13742008269944622,0.20842668228002995,0.30145463790858057,-0.0809902106781048,-0.0027471183312986857,0.08358299305536028,-0.10429333541089097,0.3357634768102139,-0.2846082097225956,0.33087881370583405,-0.10954646682258033,-0.28114743393395547,-0.3772703602158491,-0.37397801626928234,1.0,-0.3869714587097063,0.1605298863682866,0.030386796069204806,-0.011569992641797876,-0.030584308144429393,-0.1754558932547761,-0.21019749610817867,0.27111737739356384,-0.060436278689198375],[0.01319936726545174,-0.15298719260173027,-0.09694798339506473,0.05644841359590588,-0.004462839400732194,-0.07991768713640306,-0.17407470231312427,-0.18732483013668594,-0.08463055196615278,-0.2477115493728633,-0.2502897149395328,-0.20398064814312206,-0.09077284582582087,0.22239547449983668,0.004462839400732508,-0.22767156949803466,0.04275388869901973,-0.3059839224841771,0.3196937439459745,0.006208692442055045,0.0001971241890499786,-0.007422540118618717,-0.28809669563791657,-0.28558254792863036,-0.3869714587097063,1.0,0.18322236745325193,0.05037142820607642,-0.03609490261093368,-0.07217004405828796,-0.16005348763614577,-0.23218078070201725,-0.37656828808083825,-0.29470837017550655],[-0.0010503798619876774,-0.02771322371899571,-0.30506147447521575,-0.1453791450700764,-0.00694955039725527,-0.24240887436050382,-0.26736609150996915,-0.2739200544387702,-0.23862820953475447,-0.22076087097198827,-0.2213881765552116,-0.003859801258113621,0.3196275743451608,0.25617128287621094,0.006949550397255344,-0.26333120743722876,-0.0014704079413737543,-0.021440560786684968,0.027554030004254233,0.49205202568054424,-0.2512993032332009,-0.33385014178843664,-0.18585512574019983,-0.18416488323856553,0.1605298863682866,0.18322236745325193,1.0,-0.2762680073398803,-0.3623015030946614,-0.2451384283025972,-0.33468123603042815,-0.7543297340826929,-0.19188064290675352,-0.5924430690900127],[-0.0006494991207074467,0.0018604411671567017,-0.048481275955609554,-0.0014594010172321779,0.012306612692869211,-0.0556619409198579,-0.08408097138202993,-0.07733200729381666,-0.07201850701116608,-0.050234026791169964,-0.054338325985925064,0.003328006906514837,0.019928968647699895,0.05170274575687212,-0.012306612692869208,-0.04494367118136859,-0.013428683581908657,-0.0014940221824271288,0.01729491162511594,0.14000368638519403,-0.017196458507178478,-0.14674905438081498,-0.04632871286727803,-0.03964706284937272,0.030386796069204806,0.05037142820607642,-0.2762680073398803,1.0,-0.2235164922454485,-0.15123448603095185,-0.20647658168386077,-0.23667330012633156,-0.04722022100509185,-0.21074518016919763],[-0.010516394125351592,0.02038346087056509,0.028467762106169584,0.02464494581436856,-0.014777815951004124,0.0076950987178344265,0.023085000444599418,0.0449724925036831,0.022136746625123563,0.02882937792536747,0.02504810987080452,-0.005388027856510724,-0.07585881574899747,-0.03215707580783382,0.014777815951004133,0.023690157563696343,-0.0004678565419111244,0.005613761063888361,-0.006230482005525746,-0.05215631834144274,0.15389327309228798,-0.08589992270093438,0.02172285552026243,0.028232511385228868,-0.011569992641797876,-0.03609490261093368,-0.3623015030946614,-0.2235164922454485,1.0,-0.19833089664036088,-0.270776108381858,0.08315302530583908,0.020378382125023714,0.025594453789595965],[-0.004318975744551275,0.01418568213097567,0.10534126166196492,0.03141940765317757,-0.009750281447949313,0.0716632710172793,0.09919210454041022,0.07685425917962475,0.06270980841796413,0.08796930347195206,0.08661557153323526,0.010626123397145876,-0.10079964105628228,-0.08063023581160907,0.009750281447949528,0.07573985650934924,-0.00079001062411148,0.01746632456448475,-0.020153136101165186,-0.19870886170688193,0.15891681528381144,0.08008211690632902,0.060183035947993645,0.048166948994686994,-0.030584308144429393,-0.07217004405828796,-0.2451384283025972,-0.15123448603095185,-0.19833089664036088,1.0,-0.18321102469526726,0.3293670640558551,0.07004784345008332,0.2529046056409522],[0.01627881894278637,-0.0024069937431968856,0.28035324824529767,0.1180897178470907,0.020515848357693,0.26322845571231857,0.2787875817043761,0.2755370112516221,0.26539627802277554,0.1981501311372027,0.20754366554274195,-0.001414839543993747,-0.2260781096915624,-0.2427981631428492,-0.02051584835769357,0.25792003827196397,0.014665913237832425,0.0061120739544805805,-0.024291768931540957,-0.47691223651608966,0.01614171428694319,0.5403360993105428,0.1842491799195877,0.17929367300430438,-0.1754558932547761,-0.16005348763614577,-0.33468123603042815,-0.20647658168386077,-0.270776108381858,-0.18321102469526726,1.0,0.7272367846079387,0.18543957041906836,0.6393119430257832],[0.005285371870295646,0.01568347989913396,0.38191150910757077,0.16338596691556453,0.007877333295041818,0.32829748818662485,0.36113847824658735,0.3615199952862194,0.325288454100009,0.280263628074823,0.2854022671060787,0.004823156615386272,-0.3540493589532626,-0.323890766966285,-0.007877333295041807,0.33239924473562554,0.013786269825793156,0.017929529906438778,-0.037528889581619734,-0.649345648869048,0.2023384083649546,0.5638005002286687,0.24382246495742915,0.23280034413314615,-0.21019749610817867,-0.23218078070201725,-0.7543297340826929,-0.23667330012633156,0.08315302530583908,0.3293670640558551,0.7272367846079387,1.0,0.2468617666408947,0.8258804609332017],[-0.013779327268354416,0.21987422950593646,0.09782497186892049,-0.11234295350128225,0.2480330664757158,0.2964469592375873,0.4415290881871007,0.48260691224313995,0.33830139143424953,0.6296678921767406,0.6272347301103788,0.3519304153712528,0.1928582184700881,-0.3385136039067215,-0.2480330664757158,0.4909121973267493,-0.16136793538251534,0.7871948529419658,-0.7631910615169571,0.0589334582292538,0.004809615120440435,-0.07325607300641665,0.04240972759459293,0.030054608328366407,0.27111737739356384,-0.37656828808083825,-0.19188064290675352,-0.04722022100509185,0.020378382125023714,0.07004784345008332,0.18543957041906836,0.2468617666408947,1.0,0.6510648032262032],[4.783950839776602e-05,0.10241060539532633,0.31907236323857324,0.0646532494217739,0.11300826095473893,0.41261876950713655,0.510100290145439,0.5228814865154369,0.4328683682410939,0.5157090769923935,0.5198665357835017,0.15782978286591698,-0.1994840835675715,-0.39676537714107735,-0.1130082609547389,0.4690421356971826,-0.052189866637419764,0.3607687920142481,-0.37487836259896,-0.4467758743246882,0.17056928655718714,0.35803561609140894,0.18611944938877964,0.1826633671546002,-0.060436278689198375,-0.29470837017550655,-0.5924430690900127,-0.21074518016919763,0.025594453789595965,0.2529046056409522,0.6393119430257832,0.8258804609332017,0.6510648032262032,1.0]]}],                        {\"autosize\":false,\"height\":720,\"margin\":{\"b\":210,\"l\":210,\"r\":0,\"t\":25},\"template\":{\"data\":{\"bar\":[{\"error_x\":{\"color\":\"#2a3f5f\"},\"error_y\":{\"color\":\"#2a3f5f\"},\"marker\":{\"line\":{\"color\":\"#E5ECF6\",\"width\":0.5},\"pattern\":{\"fillmode\":\"overlay\",\"size\":10,\"solidity\":0.2}},\"type\":\"bar\"}],\"barpolar\":[{\"marker\":{\"line\":{\"color\":\"#E5ECF6\",\"width\":0.5},\"pattern\":{\"fillmode\":\"overlay\",\"size\":10,\"solidity\":0.2}},\"type\":\"barpolar\"}],\"carpet\":[{\"aaxis\":{\"endlinecolor\":\"#2a3f5f\",\"gridcolor\":\"white\",\"linecolor\":\"white\",\"minorgridcolor\":\"white\",\"startlinecolor\":\"#2a3f5f\"},\"baxis\":{\"endlinecolor\":\"#2a3f5f\",\"gridcolor\":\"white\",\"linecolor\":\"white\",\"minorgridcolor\":\"white\",\"startlinecolor\":\"#2a3f5f\"},\"type\":\"carpet\"}],\"choropleth\":[{\"colorbar\":{\"outlinewidth\":0,\"ticks\":\"\"},\"type\":\"choropleth\"}],\"contour\":[{\"colorbar\":{\"outlinewidth\":0,\"ticks\":\"\"},\"colorscale\":[[0.0,\"#0d0887\"],[0.1111111111111111,\"#46039f\"],[0.2222222222222222,\"#7201a8\"],[0.3333333333333333,\"#9c179e\"],[0.4444444444444444,\"#bd3786\"],[0.5555555555555556,\"#d8576b\"],[0.6666666666666666,\"#ed7953\"],[0.7777777777777778,\"#fb9f3a\"],[0.8888888888888888,\"#fdca26\"],[1.0,\"#f0f921\"]],\"type\":\"contour\"}],\"contourcarpet\":[{\"colorbar\":{\"outlinewidth\":0,\"ticks\":\"\"},\"type\":\"contourcarpet\"}],\"heatmap\":[{\"colorbar\":{\"outlinewidth\":0,\"ticks\":\"\"},\"colorscale\":[[0.0,\"#0d0887\"],[0.1111111111111111,\"#46039f\"],[0.2222222222222222,\"#7201a8\"],[0.3333333333333333,\"#9c179e\"],[0.4444444444444444,\"#bd3786\"],[0.5555555555555556,\"#d8576b\"],[0.6666666666666666,\"#ed7953\"],[0.7777777777777778,\"#fb9f3a\"],[0.8888888888888888,\"#fdca26\"],[1.0,\"#f0f921\"]],\"type\":\"heatmap\"}],\"heatmapgl\":[{\"colorbar\":{\"outlinewidth\":0,\"ticks\":\"\"},\"colorscale\":[[0.0,\"#0d0887\"],[0.1111111111111111,\"#46039f\"],[0.2222222222222222,\"#7201a8\"],[0.3333333333333333,\"#9c179e\"],[0.4444444444444444,\"#bd3786\"],[0.5555555555555556,\"#d8576b\"],[0.6666666666666666,\"#ed7953\"],[0.7777777777777778,\"#fb9f3a\"],[0.8888888888888888,\"#fdca26\"],[1.0,\"#f0f921\"]],\"type\":\"heatmapgl\"}],\"histogram\":[{\"marker\":{\"pattern\":{\"fillmode\":\"overlay\",\"size\":10,\"solidity\":0.2}},\"type\":\"histogram\"}],\"histogram2d\":[{\"colorbar\":{\"outlinewidth\":0,\"ticks\":\"\"},\"colorscale\":[[0.0,\"#0d0887\"],[0.1111111111111111,\"#46039f\"],[0.2222222222222222,\"#7201a8\"],[0.3333333333333333,\"#9c179e\"],[0.4444444444444444,\"#bd3786\"],[0.5555555555555556,\"#d8576b\"],[0.6666666666666666,\"#ed7953\"],[0.7777777777777778,\"#fb9f3a\"],[0.8888888888888888,\"#fdca26\"],[1.0,\"#f0f921\"]],\"type\":\"histogram2d\"}],\"histogram2dcontour\":[{\"colorbar\":{\"outlinewidth\":0,\"ticks\":\"\"},\"colorscale\":[[0.0,\"#0d0887\"],[0.1111111111111111,\"#46039f\"],[0.2222222222222222,\"#7201a8\"],[0.3333333333333333,\"#9c179e\"],[0.4444444444444444,\"#bd3786\"],[0.5555555555555556,\"#d8576b\"],[0.6666666666666666,\"#ed7953\"],[0.7777777777777778,\"#fb9f3a\"],[0.8888888888888888,\"#fdca26\"],[1.0,\"#f0f921\"]],\"type\":\"histogram2dcontour\"}],\"mesh3d\":[{\"colorbar\":{\"outlinewidth\":0,\"ticks\":\"\"},\"type\":\"mesh3d\"}],\"parcoords\":[{\"line\":{\"colorbar\":{\"outlinewidth\":0,\"ticks\":\"\"}},\"type\":\"parcoords\"}],\"pie\":[{\"automargin\":true,\"type\":\"pie\"}],\"scatter\":[{\"marker\":{\"colorbar\":{\"outlinewidth\":0,\"ticks\":\"\"}},\"type\":\"scatter\"}],\"scatter3d\":[{\"line\":{\"colorbar\":{\"outlinewidth\":0,\"ticks\":\"\"}},\"marker\":{\"colorbar\":{\"outlinewidth\":0,\"ticks\":\"\"}},\"type\":\"scatter3d\"}],\"scattercarpet\":[{\"marker\":{\"colorbar\":{\"outlinewidth\":0,\"ticks\":\"\"}},\"type\":\"scattercarpet\"}],\"scattergeo\":[{\"marker\":{\"colorbar\":{\"outlinewidth\":0,\"ticks\":\"\"}},\"type\":\"scattergeo\"}],\"scattergl\":[{\"marker\":{\"colorbar\":{\"outlinewidth\":0,\"ticks\":\"\"}},\"type\":\"scattergl\"}],\"scattermapbox\":[{\"marker\":{\"colorbar\":{\"outlinewidth\":0,\"ticks\":\"\"}},\"type\":\"scattermapbox\"}],\"scatterpolar\":[{\"marker\":{\"colorbar\":{\"outlinewidth\":0,\"ticks\":\"\"}},\"type\":\"scatterpolar\"}],\"scatterpolargl\":[{\"marker\":{\"colorbar\":{\"outlinewidth\":0,\"ticks\":\"\"}},\"type\":\"scatterpolargl\"}],\"scatterternary\":[{\"marker\":{\"colorbar\":{\"outlinewidth\":0,\"ticks\":\"\"}},\"type\":\"scatterternary\"}],\"surface\":[{\"colorbar\":{\"outlinewidth\":0,\"ticks\":\"\"},\"colorscale\":[[0.0,\"#0d0887\"],[0.1111111111111111,\"#46039f\"],[0.2222222222222222,\"#7201a8\"],[0.3333333333333333,\"#9c179e\"],[0.4444444444444444,\"#bd3786\"],[0.5555555555555556,\"#d8576b\"],[0.6666666666666666,\"#ed7953\"],[0.7777777777777778,\"#fb9f3a\"],[0.8888888888888888,\"#fdca26\"],[1.0,\"#f0f921\"]],\"type\":\"surface\"}],\"table\":[{\"cells\":{\"fill\":{\"color\":\"#EBF0F8\"},\"line\":{\"color\":\"white\"}},\"header\":{\"fill\":{\"color\":\"#C8D4E3\"},\"line\":{\"color\":\"white\"}},\"type\":\"table\"}]},\"layout\":{\"annotationdefaults\":{\"arrowcolor\":\"#2a3f5f\",\"arrowhead\":0,\"arrowwidth\":1},\"autotypenumbers\":\"strict\",\"coloraxis\":{\"colorbar\":{\"outlinewidth\":0,\"ticks\":\"\"}},\"colorscale\":{\"diverging\":[[0,\"#8e0152\"],[0.1,\"#c51b7d\"],[0.2,\"#de77ae\"],[0.3,\"#f1b6da\"],[0.4,\"#fde0ef\"],[0.5,\"#f7f7f7\"],[0.6,\"#e6f5d0\"],[0.7,\"#b8e186\"],[0.8,\"#7fbc41\"],[0.9,\"#4d9221\"],[1,\"#276419\"]],\"sequential\":[[0.0,\"#0d0887\"],[0.1111111111111111,\"#46039f\"],[0.2222222222222222,\"#7201a8\"],[0.3333333333333333,\"#9c179e\"],[0.4444444444444444,\"#bd3786\"],[0.5555555555555556,\"#d8576b\"],[0.6666666666666666,\"#ed7953\"],[0.7777777777777778,\"#fb9f3a\"],[0.8888888888888888,\"#fdca26\"],[1.0,\"#f0f921\"]],\"sequentialminus\":[[0.0,\"#0d0887\"],[0.1111111111111111,\"#46039f\"],[0.2222222222222222,\"#7201a8\"],[0.3333333333333333,\"#9c179e\"],[0.4444444444444444,\"#bd3786\"],[0.5555555555555556,\"#d8576b\"],[0.6666666666666666,\"#ed7953\"],[0.7777777777777778,\"#fb9f3a\"],[0.8888888888888888,\"#fdca26\"],[1.0,\"#f0f921\"]]},\"colorway\":[\"#636efa\",\"#EF553B\",\"#00cc96\",\"#ab63fa\",\"#FFA15A\",\"#19d3f3\",\"#FF6692\",\"#B6E880\",\"#FF97FF\",\"#FECB52\"],\"font\":{\"color\":\"#2a3f5f\"},\"geo\":{\"bgcolor\":\"white\",\"lakecolor\":\"white\",\"landcolor\":\"#E5ECF6\",\"showlakes\":true,\"showland\":true,\"subunitcolor\":\"white\"},\"hoverlabel\":{\"align\":\"left\"},\"hovermode\":\"closest\",\"mapbox\":{\"style\":\"light\"},\"paper_bgcolor\":\"white\",\"plot_bgcolor\":\"#E5ECF6\",\"polar\":{\"angularaxis\":{\"gridcolor\":\"white\",\"linecolor\":\"white\",\"ticks\":\"\"},\"bgcolor\":\"#E5ECF6\",\"radialaxis\":{\"gridcolor\":\"white\",\"linecolor\":\"white\",\"ticks\":\"\"}},\"scene\":{\"xaxis\":{\"backgroundcolor\":\"#E5ECF6\",\"gridcolor\":\"white\",\"gridwidth\":2,\"linecolor\":\"white\",\"showbackground\":true,\"ticks\":\"\",\"zerolinecolor\":\"white\"},\"yaxis\":{\"backgroundcolor\":\"#E5ECF6\",\"gridcolor\":\"white\",\"gridwidth\":2,\"linecolor\":\"white\",\"showbackground\":true,\"ticks\":\"\",\"zerolinecolor\":\"white\"},\"zaxis\":{\"backgroundcolor\":\"#E5ECF6\",\"gridcolor\":\"white\",\"gridwidth\":2,\"linecolor\":\"white\",\"showbackground\":true,\"ticks\":\"\",\"zerolinecolor\":\"white\"}},\"shapedefaults\":{\"line\":{\"color\":\"#2a3f5f\"}},\"ternary\":{\"aaxis\":{\"gridcolor\":\"white\",\"linecolor\":\"white\",\"ticks\":\"\"},\"baxis\":{\"gridcolor\":\"white\",\"linecolor\":\"white\",\"ticks\":\"\"},\"bgcolor\":\"#E5ECF6\",\"caxis\":{\"gridcolor\":\"white\",\"linecolor\":\"white\",\"ticks\":\"\"}},\"title\":{\"x\":0.05},\"xaxis\":{\"automargin\":true,\"gridcolor\":\"white\",\"linecolor\":\"white\",\"ticks\":\"\",\"title\":{\"standoff\":15},\"zerolinecolor\":\"white\",\"zerolinewidth\":2},\"yaxis\":{\"automargin\":true,\"gridcolor\":\"white\",\"linecolor\":\"white\",\"ticks\":\"\",\"title\":{\"standoff\":15},\"zerolinecolor\":\"white\",\"zerolinewidth\":2}}},\"title\":{\"text\":\"Correlation Matrix for variables\"},\"width\":800,\"xaxis\":{\"tickfont\":{\"size\":9}},\"yaxis\":{\"tickfont\":{\"size\":9}}},                        {\"responsive\": true}                    ).then(function(){\n",
       "                            \n",
       "var gd = document.getElementById('b89a3378-a600-4ea4-8368-d75585a86be2');\n",
       "var x = new MutationObserver(function (mutations, observer) {{\n",
       "        var display = window.getComputedStyle(gd).display;\n",
       "        if (!display || display === 'none') {{\n",
       "            console.log([gd, 'removed!']);\n",
       "            Plotly.purge(gd);\n",
       "            observer.disconnect();\n",
       "        }}\n",
       "}});\n",
       "\n",
       "// Listen for the removal of the full notebook cells\n",
       "var notebookContainer = gd.closest('#notebook-container');\n",
       "if (notebookContainer) {{\n",
       "    x.observe(notebookContainer, {childList: true});\n",
       "}}\n",
       "\n",
       "// Listen for the clearing of the current output cell\n",
       "var outputEl = gd.closest('.output');\n",
       "if (outputEl) {{\n",
       "    x.observe(outputEl, {childList: true});\n",
       "}}\n",
       "\n",
       "                        })                };                });            </script>        </div>"
      ]
     },
     "metadata": {},
     "output_type": "display_data"
    }
   ],
   "source": [
    "#Plotting\n",
    "trace = go.Heatmap(z = corr_array,\n",
    "                   x = matrix_cols,\n",
    "                   y = matrix_cols,\n",
    "                   colorscale = \"Viridis\",\n",
    "                   colorbar   = dict(title = \"Pearson Correlation coefficient\",\n",
    "                                     titleside = \"right\"\n",
    "                                    ) ,\n",
    "                  )\n",
    "\n",
    "layout = go.Layout(dict(title = \"Correlation Matrix for variables\",\n",
    "                        autosize = False,\n",
    "                        height  = 720,\n",
    "                        width   = 800,\n",
    "                        margin  = dict(r = 0 ,l = 210,\n",
    "                                       t = 25,b = 210,\n",
    "                                      ),\n",
    "                        yaxis   = dict(tickfont = dict(size = 9)),\n",
    "                        xaxis   = dict(tickfont = dict(size = 9))\n",
    "                       )\n",
    "                  )\n",
    "\n",
    "data = [trace]\n",
    "fig = go.Figure(data=data,layout=layout)\n",
    "py.iplot(fig)"
   ]
  },
  {
   "cell_type": "markdown",
   "metadata": {
    "id": "YNqiv2RoMQkr"
   },
   "source": [
    "# Q. What do you observe?"
   ]
  },
  {
   "cell_type": "markdown",
   "metadata": {
    "id": "6rkpWky6Mf_j"
   },
   "source": [
    "**Answer**: In this plot we can see that there is a strong corelation between the tenure and total price as well as the monthly payment as well as the total price. There is also a corelation with the number of services taken and the monthly cost that a customer has."
   ]
  },
  {
   "cell_type": "markdown",
   "metadata": {
    "id": "-FDMh6M9MjnI"
   },
   "source": [
    "# Model Building (We will build Decision Tree and Logistics Regression models)"
   ]
  },
  {
   "cell_type": "markdown",
   "metadata": {
    "id": "V7bi3izSMnI_"
   },
   "source": [
    "### Separate the features from the class label and split the dataset into training and testing sets"
   ]
  },
  {
   "cell_type": "code",
   "execution_count": 137,
   "metadata": {
    "id": "4J1hCiOlMNL9"
   },
   "outputs": [],
   "source": [
    "# Import all the modules\n",
    "\n",
    "from sklearn.model_selection import train_test_split\n",
    "from sklearn.linear_model import LogisticRegression\n",
    "from sklearn.tree import DecisionTreeClassifier\n",
    "from sklearn.metrics import confusion_matrix,accuracy_score,classification_report\n",
    "from sklearn.metrics import f1_score\n",
    "import statsmodels.api as sm\n",
    "from sklearn.metrics import precision_score,recall_score\n",
    "from sklearn import metrics"
   ]
  },
  {
   "cell_type": "code",
   "execution_count": 138,
   "metadata": {
    "id": "mF72gSWwMqpc"
   },
   "outputs": [],
   "source": [
    "#splitting train and test data \n",
    "train,test = train_test_split(telcom,test_size = .25 ,random_state = 111)"
   ]
  },
  {
   "cell_type": "markdown",
   "metadata": {
    "id": "fZkYmlTUMvRg"
   },
   "source": [
    "# Q. What is the purpose of random_state parameter?"
   ]
  },
  {
   "cell_type": "markdown",
   "metadata": {
    "id": "29q_-_FSMw8u"
   },
   "source": [
    "**Answer**: The random_state parameter is used for initializing the internal random number generator. By dont this when the code is run again the number generator ensure the same numbers are generated again. Thus, ensuring that an experiment or a model could be run again with the same randomly generated numbers."
   ]
  },
  {
   "cell_type": "code",
   "execution_count": 139,
   "metadata": {
    "id": "yTGnsGR3MsUa"
   },
   "outputs": [],
   "source": [
    "##seperating dependent and independent variables\n",
    "cols    = [i for i in telcom.columns if i not in Id_col + target_col]\n",
    "X_train = train[cols]\n",
    "Y_train = train[target_col]\n",
    "X_test  = test[cols]\n",
    "Y_test  = test[target_col]"
   ]
  },
  {
   "cell_type": "code",
   "execution_count": 140,
   "metadata": {
    "colab": {
     "base_uri": "https://localhost:8080/"
    },
    "id": "DEHAqGFgM5uJ",
    "outputId": "e3bbdc2e-8e66-45b6-d9f8-d59e9cde98e8"
   },
   "outputs": [
    {
     "data": {
      "text/plain": [
       "['gender',\n",
       " 'SeniorCitizen',\n",
       " 'Partner',\n",
       " 'Dependents',\n",
       " 'PhoneService',\n",
       " 'OnlineSecurity',\n",
       " 'OnlineBackup',\n",
       " 'DeviceProtection',\n",
       " 'TechSupport',\n",
       " 'StreamingTV',\n",
       " 'StreamingMovies',\n",
       " 'PaperlessBilling',\n",
       " 'MultipleLines_No',\n",
       " 'MultipleLines_No phone service',\n",
       " 'MultipleLines_Yes',\n",
       " 'InternetService_DSL',\n",
       " 'InternetService_Fiber optic',\n",
       " 'InternetService_No',\n",
       " 'Contract_Month-to-month',\n",
       " 'Contract_One year',\n",
       " 'Contract_Two year',\n",
       " 'PaymentMethod_Bank transfer (automatic)',\n",
       " 'PaymentMethod_Credit card (automatic)',\n",
       " 'PaymentMethod_Electronic check',\n",
       " 'PaymentMethod_Mailed check',\n",
       " 'tenure_group_Tenure_0-12',\n",
       " 'tenure_group_Tenure_12-24',\n",
       " 'tenure_group_Tenure_24-48',\n",
       " 'tenure_group_Tenure_48-60',\n",
       " 'tenure_group_Tenure_gt_60',\n",
       " 'tenure',\n",
       " 'MonthlyCharges',\n",
       " 'TotalCharges']"
      ]
     },
     "execution_count": 140,
     "metadata": {},
     "output_type": "execute_result"
    }
   ],
   "source": [
    "cols"
   ]
  },
  {
   "cell_type": "markdown",
   "metadata": {
    "id": "lVkDASV7M9it"
   },
   "source": [
    "# Logistic Regression"
   ]
  },
  {
   "cell_type": "code",
   "execution_count": 141,
   "metadata": {
    "colab": {
     "base_uri": "https://localhost:8080/"
    },
    "id": "WG7pT8TeM7aM",
    "outputId": "80906f87-89f0-4c66-b99a-c640f2532960"
   },
   "outputs": [
    {
     "data": {
      "text/plain": [
       "LogisticRegression(random_state=0)"
      ]
     },
     "execution_count": 141,
     "metadata": {},
     "output_type": "execute_result"
    }
   ],
   "source": [
    "classifier = LogisticRegression(random_state = 0)\n",
    "classifier.fit(X_train, Y_train)"
   ]
  },
  {
   "cell_type": "code",
   "execution_count": 142,
   "metadata": {
    "id": "-XluUVcnNBYn"
   },
   "outputs": [],
   "source": [
    "# Predicting test set\n",
    "y_pred = classifier.predict(X_test)"
   ]
  },
  {
   "cell_type": "code",
   "execution_count": 143,
   "metadata": {
    "colab": {
     "base_uri": "https://localhost:8080/"
    },
    "id": "KZGEPfD_NDB5",
    "outputId": "956e22b1-b52e-4b5a-a10b-e478f238b5ac"
   },
   "outputs": [
    {
     "data": {
      "text/plain": [
       "array([[-0.08956523,  0.2155802 ,  0.00261881, -0.13203242, -0.17862605,\n",
       "        -0.42725045, -0.18892667, -0.00870742, -0.3112667 ,  0.17963567,\n",
       "         0.25754609,  0.367999  , -0.27665409,  0.18276858,  0.09802804,\n",
       "        -0.04404561,  0.65238953, -0.60420139,  0.72158819,  0.02814405,\n",
       "        -0.74558972, -0.00908784, -0.13951925,  0.22585762, -0.07310801,\n",
       "        -0.2514493 , -0.65053012, -0.18548984,  0.5485507 ,  0.54306109,\n",
       "        -1.37383639,  0.18818296,  0.24841288]])"
      ]
     },
     "execution_count": 143,
     "metadata": {},
     "output_type": "execute_result"
    }
   ],
   "source": [
    "classifier.coef_"
   ]
  },
  {
   "cell_type": "code",
   "execution_count": 144,
   "metadata": {
    "colab": {
     "base_uri": "https://localhost:8080/"
    },
    "id": "QYtOCXBVNEbS",
    "outputId": "456134ee-2f2e-4280-c856-510f7882fa88"
   },
   "outputs": [
    {
     "name": "stdout",
     "output_type": "stream",
     "text": [
      "0.8020477815699659\n",
      "0.6888297872340425\n",
      "0.5285714285714286\n",
      "0.5981524249422633\n"
     ]
    }
   ],
   "source": [
    "#Evaluating the Results\n",
    "cm = confusion_matrix(Y_test, y_pred)\n",
    "print(accuracy_score(Y_test, y_pred))\n",
    "print(precision_score(Y_test, y_pred))\n",
    "print(recall_score(Y_test, y_pred))\n",
    "print(f1_score(Y_test, y_pred))"
   ]
  },
  {
   "cell_type": "markdown",
   "metadata": {
    "id": "aZVJHcx9NJJ0"
   },
   "source": [
    "# Q. What do the scores mean? Is this a good model fit based on the scores. Make sure you print all the scores."
   ]
  },
  {
   "cell_type": "markdown",
   "metadata": {
    "id": "utga8qAINKdi"
   },
   "source": [
    "**Answer**: The scores mean:\n",
    "\n",
    "Accuracy score: Accuracy score is the total number of preditions which the model predicted correctly against all the predictions made by model. This could be written as (True positive + True Negative)/(True positive + True Negative + Flase positive + False Negative)\n",
    "\n",
    "Precition score: It is the score of number of correctly predicted positive score to the total number of positive score. This shows us how often the model predics the negatve scoere as positive. This could be written as True positive / (True positive + Flase positive)\n",
    "\n",
    "Recall score: This is the score of number of correctly predicted positive score to the total number of possible positive score. This is to iidentify the number of positive scores that the moedl is predicting correctly and incorrectly. This could be written as True positive / (True positive + Flase negative)\n",
    "\n",
    "F1 score: F1 score is a measure of a models accuracy by combining the recall and the precition score.\n",
    "\n",
    "Thiis model is not a good model as it has low precition, recall and f1 scores. Thouh the accuracy score is not bad overall this model is poor."
   ]
  },
  {
   "cell_type": "code",
   "execution_count": 145,
   "metadata": {
    "colab": {
     "base_uri": "https://localhost:8080/",
     "height": 446
    },
    "id": "Y0yrrXofNGZM",
    "outputId": "5c6622cf-906f-4421-9b5a-4d29e6734853"
   },
   "outputs": [
    {
     "name": "stdout",
     "output_type": "stream",
     "text": [
      "Test Data Accuracy: 0.8020\n"
     ]
    },
    {
     "data": {
      "image/png": "[encoded data removed]",
      "text/plain": [
       "<Figure size 720x504 with 2 Axes>"
      ]
     },
     "metadata": {
      "needs_background": "light"
     },
     "output_type": "display_data"
    }
   ],
   "source": [
    "# Build the confusion matrix\n",
    "df_cm = pd.DataFrame(cm, index = (0, 1), columns = (0, 1))\n",
    "plt.figure(figsize = (10, 7))\n",
    "sns.heatmap(df_cm, annot = True, fmt ='g')\n",
    "print(\"Test Data Accuracy: %.4f\" %accuracy_score(Y_test, y_pred))"
   ]
  },
  {
   "cell_type": "markdown",
   "metadata": {
    "id": "3xcDXZMONQIL"
   },
   "source": [
    "# Decison Tree"
   ]
  },
  {
   "cell_type": "code",
   "execution_count": 146,
   "metadata": {
    "colab": {
     "base_uri": "https://localhost:8080/"
    },
    "id": "sWheVNtWNOLM",
    "outputId": "d1a7f9a1-9b2f-415d-dce2-bd1f12aaf17c"
   },
   "outputs": [
    {
     "data": {
      "text/plain": [
       "DecisionTreeClassifier(random_state=2)"
      ]
     },
     "execution_count": 146,
     "metadata": {},
     "output_type": "execute_result"
    }
   ],
   "source": [
    "model_tree = DecisionTreeClassifier(random_state = 2)\n",
    "model_tree.fit(X_train, Y_train)"
   ]
  },
  {
   "cell_type": "code",
   "execution_count": 147,
   "metadata": {
    "id": "Xwf2fQeGNTKr"
   },
   "outputs": [],
   "source": [
    "# Predicting test set\n",
    "y_pred = model_tree.predict(X_test)"
   ]
  },
  {
   "cell_type": "code",
   "execution_count": 148,
   "metadata": {
    "colab": {
     "base_uri": "https://localhost:8080/"
    },
    "id": "TPkZBRarNU64",
    "outputId": "58938a3b-202f-4fde-db42-ebebe2c3a209"
   },
   "outputs": [
    {
     "name": "stdout",
     "output_type": "stream",
     "text": [
      "0.732650739476678\n",
      "0.521551724137931\n",
      "0.49387755102040815\n",
      "0.5073375262054507\n"
     ]
    }
   ],
   "source": [
    "#Evaluating the Results\n",
    "cm = confusion_matrix(Y_test, y_pred)\n",
    "print(accuracy_score(Y_test, y_pred))\n",
    "print(precision_score(Y_test, y_pred))\n",
    "print(recall_score(Y_test, y_pred))\n",
    "print(f1_score(Y_test, y_pred))"
   ]
  },
  {
   "cell_type": "markdown",
   "metadata": {
    "id": "6k0QyoCsNacx"
   },
   "source": [
    "# Q. What do the scores mean? Is this a good model fit based on the scores. Make sure you print all the scores."
   ]
  },
  {
   "cell_type": "markdown",
   "metadata": {
    "id": "w2JMTXNgNeXr"
   },
   "source": [
    "**Answer**:  The scores mean that the model is not a good one as it has low precition, recall and f1 scores. Furthermore, the f1 and the recall score are just about 50%. The accuracy score is also poor as it only has an accuracy of about 73%.The scores that the model got are:\n",
    "\n",
    "Accuracy score: 0.732650739476678 means the model predits the true values about 73% of the time.\n",
    "\n",
    "Precition score: 0.521551724137931 means that only about 52% of the potive predictions made by the model are true.\n",
    "\n",
    "Recall Score: 0.49387755102040815 mean that only about 50% of all the positive values are predicted right\n",
    "\n",
    "F1 score: 0.5073375262054507 means that the model only has about a 50% accuracy level using this model."
   ]
  },
  {
   "cell_type": "code",
   "execution_count": 149,
   "metadata": {
    "colab": {
     "base_uri": "https://localhost:8080/",
     "height": 446
    },
    "id": "W-u6C5ApNWof",
    "outputId": "725c6646-b2af-4af3-97ba-e62e63a79299"
   },
   "outputs": [
    {
     "name": "stdout",
     "output_type": "stream",
     "text": [
      "Test Data Accuracy: 0.7327\n"
     ]
    },
    {
     "data": {
      "image/png": "[encoded data removed]",
      "text/plain": [
       "<Figure size 720x504 with 2 Axes>"
      ]
     },
     "metadata": {
      "needs_background": "light"
     },
     "output_type": "display_data"
    }
   ],
   "source": [
    "# Build Confusion Matrix\n",
    "\n",
    "df_cm = pd.DataFrame(cm, index = (0, 1), columns = (0, 1))\n",
    "plt.figure(figsize = (10, 7))\n",
    "sns.heatmap(df_cm, annot = True, fmt ='g')\n",
    "print(\"Test Data Accuracy: %.4f\" %accuracy_score(Y_test, y_pred))"
   ]
  },
  {
   "cell_type": "markdown",
   "metadata": {
    "id": "l_Btx_8cNiZN"
   },
   "source": [
    "# Q Which model performs better? (Hint: compare the metrics)"
   ]
  },
  {
   "cell_type": "markdown",
   "metadata": {
    "id": "03Ei-xVONlNm"
   },
   "source": [
    "**Answer**: Model 1 is better as it has better Accuracy score, Precition score, Recall score as well as f1 score. So by comparing all the metrics we can see that the 1st model is the better model."
   ]
  },
  {
   "cell_type": "markdown",
   "metadata": {
    "id": "El6EyaJTNqR5"
   },
   "source": [
    "# K- fold Cross Validation"
   ]
  },
  {
   "cell_type": "markdown",
   "metadata": {
    "id": "kPGNDwYcNr0R"
   },
   "source": [
    "### Q. What is K-fold cross validation?"
   ]
  },
  {
   "cell_type": "markdown",
   "metadata": {
    "id": "OcabcUWpNwHa"
   },
   "source": [
    "**Answer**: K-fold cross validation is an evaluation tool which checks the ability of a model to work on new data. The procedure has a single parameter called k that refers to the number of groups that a given data sample is to be split into."
   ]
  },
  {
   "cell_type": "code",
   "execution_count": 150,
   "metadata": {
    "id": "P5h3zwH-Np8l"
   },
   "outputs": [],
   "source": [
    "from sklearn.model_selection import cross_val_score\n",
    "accuracies = cross_val_score(estimator = classifier, X= X_train, y =Y_train, cv =10)"
   ]
  },
  {
   "cell_type": "code",
   "execution_count": 151,
   "metadata": {
    "colab": {
     "base_uri": "https://localhost:8080/"
    },
    "id": "c-yRG9oaNdSN",
    "outputId": "9bbcdfe8-2e61-44e5-8221-6dda851b2ece"
   },
   "outputs": [
    {
     "data": {
      "text/plain": [
       "array([0.80681818, 0.78219697, 0.82386364, 0.8219697 , 0.83301708,\n",
       "       0.79316888, 0.78937381, 0.80075901, 0.80265655, 0.78937381])"
      ]
     },
     "execution_count": 151,
     "metadata": {},
     "output_type": "execute_result"
    }
   ],
   "source": [
    "# Check for accuracies\n",
    "accuracies"
   ]
  },
  {
   "cell_type": "markdown",
   "metadata": {
    "id": "S1yLqx5ON4P_"
   },
   "source": [
    "# Q. What do accuracies tell?"
   ]
  },
  {
   "cell_type": "markdown",
   "metadata": {
    "id": "Dgp679JYN8Su"
   },
   "source": [
    "**Answer**: This tells us there is no overfitting on the training data set. Thu, thi also means that the model will perform fairly on the testindata set."
   ]
  },
  {
   "cell_type": "code",
   "execution_count": 152,
   "metadata": {
    "colab": {
     "base_uri": "https://localhost:8080/",
     "height": 1000
    },
    "id": "7oY4NgRpN0-3",
    "outputId": "8855b732-2ec9-458a-d2b5-9ea2a06e8d60"
   },
   "outputs": [
    {
     "data": {
      "text/html": [
       "<div>\n",
       "<style scoped>\n",
       "    .dataframe tbody tr th:only-of-type {\n",
       "        vertical-align: middle;\n",
       "    }\n",
       "\n",
       "    .dataframe tbody tr th {\n",
       "        vertical-align: top;\n",
       "    }\n",
       "\n",
       "    .dataframe thead th {\n",
       "        text-align: right;\n",
       "    }\n",
       "</style>\n",
       "<table border=\"1\" class=\"dataframe\">\n",
       "  <thead>\n",
       "    <tr style=\"text-align: right;\">\n",
       "      <th></th>\n",
       "      <th>features</th>\n",
       "      <th>Coef</th>\n",
       "    </tr>\n",
       "  </thead>\n",
       "  <tbody>\n",
       "    <tr>\n",
       "      <th>0</th>\n",
       "      <td>gender</td>\n",
       "      <td>-0.089565</td>\n",
       "    </tr>\n",
       "    <tr>\n",
       "      <th>1</th>\n",
       "      <td>SeniorCitizen</td>\n",
       "      <td>0.215580</td>\n",
       "    </tr>\n",
       "    <tr>\n",
       "      <th>2</th>\n",
       "      <td>Partner</td>\n",
       "      <td>0.002619</td>\n",
       "    </tr>\n",
       "    <tr>\n",
       "      <th>3</th>\n",
       "      <td>Dependents</td>\n",
       "      <td>-0.132032</td>\n",
       "    </tr>\n",
       "    <tr>\n",
       "      <th>4</th>\n",
       "      <td>PhoneService</td>\n",
       "      <td>-0.178626</td>\n",
       "    </tr>\n",
       "    <tr>\n",
       "      <th>5</th>\n",
       "      <td>OnlineSecurity</td>\n",
       "      <td>-0.427250</td>\n",
       "    </tr>\n",
       "    <tr>\n",
       "      <th>6</th>\n",
       "      <td>OnlineBackup</td>\n",
       "      <td>-0.188927</td>\n",
       "    </tr>\n",
       "    <tr>\n",
       "      <th>7</th>\n",
       "      <td>DeviceProtection</td>\n",
       "      <td>-0.008707</td>\n",
       "    </tr>\n",
       "    <tr>\n",
       "      <th>8</th>\n",
       "      <td>TechSupport</td>\n",
       "      <td>-0.311267</td>\n",
       "    </tr>\n",
       "    <tr>\n",
       "      <th>9</th>\n",
       "      <td>StreamingTV</td>\n",
       "      <td>0.179636</td>\n",
       "    </tr>\n",
       "    <tr>\n",
       "      <th>10</th>\n",
       "      <td>StreamingMovies</td>\n",
       "      <td>0.257546</td>\n",
       "    </tr>\n",
       "    <tr>\n",
       "      <th>11</th>\n",
       "      <td>PaperlessBilling</td>\n",
       "      <td>0.367999</td>\n",
       "    </tr>\n",
       "    <tr>\n",
       "      <th>12</th>\n",
       "      <td>MultipleLines_No</td>\n",
       "      <td>-0.276654</td>\n",
       "    </tr>\n",
       "    <tr>\n",
       "      <th>13</th>\n",
       "      <td>MultipleLines_No phone service</td>\n",
       "      <td>0.182769</td>\n",
       "    </tr>\n",
       "    <tr>\n",
       "      <th>14</th>\n",
       "      <td>MultipleLines_Yes</td>\n",
       "      <td>0.098028</td>\n",
       "    </tr>\n",
       "    <tr>\n",
       "      <th>15</th>\n",
       "      <td>InternetService_DSL</td>\n",
       "      <td>-0.044046</td>\n",
       "    </tr>\n",
       "    <tr>\n",
       "      <th>16</th>\n",
       "      <td>InternetService_Fiber optic</td>\n",
       "      <td>0.652390</td>\n",
       "    </tr>\n",
       "    <tr>\n",
       "      <th>17</th>\n",
       "      <td>InternetService_No</td>\n",
       "      <td>-0.604201</td>\n",
       "    </tr>\n",
       "    <tr>\n",
       "      <th>18</th>\n",
       "      <td>Contract_Month-to-month</td>\n",
       "      <td>0.721588</td>\n",
       "    </tr>\n",
       "    <tr>\n",
       "      <th>19</th>\n",
       "      <td>Contract_One year</td>\n",
       "      <td>0.028144</td>\n",
       "    </tr>\n",
       "    <tr>\n",
       "      <th>20</th>\n",
       "      <td>Contract_Two year</td>\n",
       "      <td>-0.745590</td>\n",
       "    </tr>\n",
       "    <tr>\n",
       "      <th>21</th>\n",
       "      <td>PaymentMethod_Bank transfer (automatic)</td>\n",
       "      <td>-0.009088</td>\n",
       "    </tr>\n",
       "    <tr>\n",
       "      <th>22</th>\n",
       "      <td>PaymentMethod_Credit card (automatic)</td>\n",
       "      <td>-0.139519</td>\n",
       "    </tr>\n",
       "    <tr>\n",
       "      <th>23</th>\n",
       "      <td>PaymentMethod_Electronic check</td>\n",
       "      <td>0.225858</td>\n",
       "    </tr>\n",
       "    <tr>\n",
       "      <th>24</th>\n",
       "      <td>PaymentMethod_Mailed check</td>\n",
       "      <td>-0.073108</td>\n",
       "    </tr>\n",
       "    <tr>\n",
       "      <th>25</th>\n",
       "      <td>tenure_group_Tenure_0-12</td>\n",
       "      <td>-0.251449</td>\n",
       "    </tr>\n",
       "    <tr>\n",
       "      <th>26</th>\n",
       "      <td>tenure_group_Tenure_12-24</td>\n",
       "      <td>-0.650530</td>\n",
       "    </tr>\n",
       "    <tr>\n",
       "      <th>27</th>\n",
       "      <td>tenure_group_Tenure_24-48</td>\n",
       "      <td>-0.185490</td>\n",
       "    </tr>\n",
       "    <tr>\n",
       "      <th>28</th>\n",
       "      <td>tenure_group_Tenure_48-60</td>\n",
       "      <td>0.548551</td>\n",
       "    </tr>\n",
       "    <tr>\n",
       "      <th>29</th>\n",
       "      <td>tenure_group_Tenure_gt_60</td>\n",
       "      <td>0.543061</td>\n",
       "    </tr>\n",
       "    <tr>\n",
       "      <th>30</th>\n",
       "      <td>tenure</td>\n",
       "      <td>-1.373836</td>\n",
       "    </tr>\n",
       "    <tr>\n",
       "      <th>31</th>\n",
       "      <td>MonthlyCharges</td>\n",
       "      <td>0.188183</td>\n",
       "    </tr>\n",
       "    <tr>\n",
       "      <th>32</th>\n",
       "      <td>TotalCharges</td>\n",
       "      <td>0.248413</td>\n",
       "    </tr>\n",
       "  </tbody>\n",
       "</table>\n",
       "</div>"
      ],
      "text/plain": [
       "                                   features      Coef\n",
       "0                                    gender -0.089565\n",
       "1                             SeniorCitizen  0.215580\n",
       "2                                   Partner  0.002619\n",
       "3                                Dependents -0.132032\n",
       "4                              PhoneService -0.178626\n",
       "5                            OnlineSecurity -0.427250\n",
       "6                              OnlineBackup -0.188927\n",
       "7                          DeviceProtection -0.008707\n",
       "8                               TechSupport -0.311267\n",
       "9                               StreamingTV  0.179636\n",
       "10                          StreamingMovies  0.257546\n",
       "11                         PaperlessBilling  0.367999\n",
       "12                         MultipleLines_No -0.276654\n",
       "13           MultipleLines_No phone service  0.182769\n",
       "14                        MultipleLines_Yes  0.098028\n",
       "15                      InternetService_DSL -0.044046\n",
       "16              InternetService_Fiber optic  0.652390\n",
       "17                       InternetService_No -0.604201\n",
       "18                  Contract_Month-to-month  0.721588\n",
       "19                        Contract_One year  0.028144\n",
       "20                        Contract_Two year -0.745590\n",
       "21  PaymentMethod_Bank transfer (automatic) -0.009088\n",
       "22    PaymentMethod_Credit card (automatic) -0.139519\n",
       "23           PaymentMethod_Electronic check  0.225858\n",
       "24               PaymentMethod_Mailed check -0.073108\n",
       "25                 tenure_group_Tenure_0-12 -0.251449\n",
       "26                tenure_group_Tenure_12-24 -0.650530\n",
       "27                tenure_group_Tenure_24-48 -0.185490\n",
       "28                tenure_group_Tenure_48-60  0.548551\n",
       "29                tenure_group_Tenure_gt_60  0.543061\n",
       "30                                   tenure -1.373836\n",
       "31                           MonthlyCharges  0.188183\n",
       "32                             TotalCharges  0.248413"
      ]
     },
     "execution_count": 152,
     "metadata": {},
     "output_type": "execute_result"
    }
   ],
   "source": [
    "# Analyzing Coefficients\n",
    "pd.concat([pd.DataFrame(X_train.columns, columns =[\"features\"]), pd.DataFrame(np.transpose(classifier.coef_), \n",
    "                                                                              columns =[\"Coef\"])], \n",
    "                                                                              axis = 1)"
   ]
  },
  {
   "cell_type": "code",
   "execution_count": 153,
   "metadata": {
    "id": "iuRJPaUBN7DS"
   },
   "outputs": [],
   "source": [
    "df=pd.concat([pd.DataFrame(X_train.columns, columns =[\"features\"]), pd.DataFrame(np.transpose(classifier.coef_), \n",
    "                                                                              columns =[\"Coef\"])], \n",
    "                                                                              axis = 1)"
   ]
  },
  {
   "cell_type": "code",
   "execution_count": 154,
   "metadata": {
    "colab": {
     "base_uri": "https://localhost:8080/",
     "height": 206
    },
    "id": "2ow08tcLODuK",
    "outputId": "c1fecb15-edae-4cf7-ccde-5a4ea7eb33e0"
   },
   "outputs": [
    {
     "data": {
      "text/html": [
       "<div>\n",
       "<style scoped>\n",
       "    .dataframe tbody tr th:only-of-type {\n",
       "        vertical-align: middle;\n",
       "    }\n",
       "\n",
       "    .dataframe tbody tr th {\n",
       "        vertical-align: top;\n",
       "    }\n",
       "\n",
       "    .dataframe thead th {\n",
       "        text-align: right;\n",
       "    }\n",
       "</style>\n",
       "<table border=\"1\" class=\"dataframe\">\n",
       "  <thead>\n",
       "    <tr style=\"text-align: right;\">\n",
       "      <th></th>\n",
       "      <th>features</th>\n",
       "      <th>Coef</th>\n",
       "    </tr>\n",
       "  </thead>\n",
       "  <tbody>\n",
       "    <tr>\n",
       "      <th>18</th>\n",
       "      <td>Contract_Month-to-month</td>\n",
       "      <td>0.721588</td>\n",
       "    </tr>\n",
       "    <tr>\n",
       "      <th>16</th>\n",
       "      <td>InternetService_Fiber optic</td>\n",
       "      <td>0.652390</td>\n",
       "    </tr>\n",
       "    <tr>\n",
       "      <th>28</th>\n",
       "      <td>tenure_group_Tenure_48-60</td>\n",
       "      <td>0.548551</td>\n",
       "    </tr>\n",
       "    <tr>\n",
       "      <th>29</th>\n",
       "      <td>tenure_group_Tenure_gt_60</td>\n",
       "      <td>0.543061</td>\n",
       "    </tr>\n",
       "    <tr>\n",
       "      <th>11</th>\n",
       "      <td>PaperlessBilling</td>\n",
       "      <td>0.367999</td>\n",
       "    </tr>\n",
       "  </tbody>\n",
       "</table>\n",
       "</div>"
      ],
      "text/plain": [
       "                       features      Coef\n",
       "18      Contract_Month-to-month  0.721588\n",
       "16  InternetService_Fiber optic  0.652390\n",
       "28    tenure_group_Tenure_48-60  0.548551\n",
       "29    tenure_group_Tenure_gt_60  0.543061\n",
       "11             PaperlessBilling  0.367999"
      ]
     },
     "execution_count": 154,
     "metadata": {},
     "output_type": "execute_result"
    }
   ],
   "source": [
    "df = df.sort_values('Coef', ascending=False)\n",
    "df.head()"
   ]
  },
  {
   "cell_type": "code",
   "execution_count": 155,
   "metadata": {
    "colab": {
     "base_uri": "https://localhost:8080/",
     "height": 811
    },
    "id": "1KElrqw4OFU8",
    "outputId": "0af575e0-515f-4f14-a98e-8c22adf9c8c2"
   },
   "outputs": [
    {
     "data": {
      "image/png": "[encoded data removed]",
      "text/plain": [
       "<Figure size 720x720 with 1 Axes>"
      ]
     },
     "metadata": {
      "needs_background": "light"
     },
     "output_type": "display_data"
    }
   ],
   "source": [
    "ax = df.plot.bar(x='features', y='Coef', figsize=(10,10))"
   ]
  },
  {
   "cell_type": "markdown",
   "metadata": {
    "id": "umcaftE1OIwn"
   },
   "source": [
    "# What do you observe?"
   ]
  },
  {
   "cell_type": "markdown",
   "metadata": {
    "id": "JlhRzeD2OM1G"
   },
   "source": [
    "**Answer**: This shows us the longes the tenure the less likely it is fir the customer to churn. on the other hand if a customer has a lower contract they are more likely to churn. Furthermore the more services the customer uses the more likely he is to stay with the company and not churn The vice-versa is also true as people who take less sevices are more likely to churn."
   ]
  },
  {
   "cell_type": "markdown",
   "metadata": {
    "id": "uYUsEY5WOj38"
   },
   "source": [
    "# Feature Seclection/Feature Engineering"
   ]
  },
  {
   "cell_type": "code",
   "execution_count": 156,
   "metadata": {
    "id": "qLHMl1XzOHGh"
   },
   "outputs": [],
   "source": [
    "from sklearn.feature_selection import RFE \n",
    "classifier = LogisticRegression()\n",
    "rfe = RFE(classifier, 10)\n",
    "rfe = rfe.fit(X_train, Y_train)"
   ]
  },
  {
   "cell_type": "code",
   "execution_count": 157,
   "metadata": {
    "colab": {
     "base_uri": "https://localhost:8080/"
    },
    "id": "bhhFWgdLOl2d",
    "outputId": "82698f8b-d2cd-40d9-9e2a-91bf2c24558c"
   },
   "outputs": [
    {
     "name": "stdout",
     "output_type": "stream",
     "text": [
      "[False False False False False  True False False False False  True False\n",
      "  True False False False  True  True  True False  True False False False\n",
      " False False False False  True  True  True False False]\n"
     ]
    }
   ],
   "source": [
    "print(rfe.support_)"
   ]
  },
  {
   "cell_type": "code",
   "execution_count": 158,
   "metadata": {
    "colab": {
     "base_uri": "https://localhost:8080/"
    },
    "id": "UtZEHX6NOnMQ",
    "outputId": "4fd072de-2c13-4bad-e05b-24a280760eac"
   },
   "outputs": [
    {
     "data": {
      "text/plain": [
       "Index(['OnlineSecurity', 'StreamingMovies', 'MultipleLines_No',\n",
       "       'InternetService_Fiber optic', 'InternetService_No',\n",
       "       'Contract_Month-to-month', 'Contract_Two year',\n",
       "       'tenure_group_Tenure_48-60', 'tenure_group_Tenure_gt_60', 'tenure'],\n",
       "      dtype='object')"
      ]
     },
     "execution_count": 158,
     "metadata": {},
     "output_type": "execute_result"
    }
   ],
   "source": [
    "X_train.columns[rfe.support_]"
   ]
  },
  {
   "cell_type": "code",
   "execution_count": 159,
   "metadata": {
    "colab": {
     "base_uri": "https://localhost:8080/"
    },
    "id": "AounMnKCOo1p",
    "outputId": "b94929fa-dc52-46cc-af72-46313bc21efa"
   },
   "outputs": [
    {
     "data": {
      "text/plain": [
       "array([18,  7, 24, 14, 15,  1, 11, 23,  5,  6,  1,  3,  1, 12, 16, 20,  1,\n",
       "        1,  1, 21,  1, 22, 17,  4, 19,  8,  2,  9,  1,  1,  1, 13, 10])"
      ]
     },
     "execution_count": 159,
     "metadata": {},
     "output_type": "execute_result"
    }
   ],
   "source": [
    "rfe.ranking_"
   ]
  },
  {
   "cell_type": "code",
   "execution_count": 160,
   "metadata": {
    "colab": {
     "base_uri": "https://localhost:8080/"
    },
    "id": "sjdG2VeQOqKA",
    "outputId": "87e82736-3905-4ce2-8d34-5a0f028ee5d1"
   },
   "outputs": [],
   "source": [
    "# Build the model again after Feature Selection\n",
    "classifier1 = LogisticRegression(random_state = 2)\n",
    "classifier1.fit(X_train[X_train.columns[rfe.support_]], Y_train)\n",
    "\n",
    "y_pred = classifier1.predict(X_test[X_test.columns[rfe.support_]])"
   ]
  },
  {
   "cell_type": "code",
   "execution_count": 161,
   "metadata": {
    "colab": {
     "base_uri": "https://localhost:8080/"
    },
    "id": "bvJBtyMhOrZo",
    "outputId": "3abf06f2-fe0f-4d8a-b7d4-38a60b9deb4f"
   },
   "outputs": [
    {
     "name": "stdout",
     "output_type": "stream",
     "text": [
      "0.7901023890784983\n",
      "0.6657534246575343\n",
      "0.4959183673469388\n",
      "0.568421052631579\n"
     ]
    }
   ],
   "source": [
    "#Evaluating the Results\n",
    "cm1 = confusion_matrix(Y_test, y_pred)\n",
    "print(accuracy_score(Y_test, y_pred))\n",
    "print(precision_score(Y_test, y_pred))\n",
    "print(recall_score(Y_test, y_pred))\n",
    "print(f1_score(Y_test, y_pred))"
   ]
  },
  {
   "cell_type": "code",
   "execution_count": 162,
   "metadata": {
    "colab": {
     "base_uri": "https://localhost:8080/",
     "height": 446
    },
    "id": "c6f75yeaOtR4",
    "outputId": "1132cfaa-162b-4b56-90c4-6a5232c3d1e3"
   },
   "outputs": [
    {
     "name": "stdout",
     "output_type": "stream",
     "text": [
      "Test Data Accuracy: 0.7901\n"
     ]
    },
    {
     "data": {
      "image/png": "[encoded data removed]",
      "text/plain": [
       "<Figure size 720x504 with 2 Axes>"
      ]
     },
     "metadata": {
      "needs_background": "light"
     },
     "output_type": "display_data"
    }
   ],
   "source": [
    "df_cm = pd.DataFrame(cm, index = (0, 1), columns = (0, 1))\n",
    "plt.figure(figsize = (10, 7))\n",
    "sns.heatmap(df_cm, annot = True, fmt ='g')\n",
    "print(\"Test Data Accuracy: %.4f\" %accuracy_score(Y_test, y_pred))"
   ]
  },
  {
   "cell_type": "markdown",
   "metadata": {
    "id": "tHkmfy0MOxo6"
   },
   "source": [
    "# Q. Has the model improved after feature selection?"
   ]
  },
  {
   "cell_type": "markdown",
   "metadata": {
    "id": "EpsmVDdZOyu1"
   },
   "source": [
    "**Answer**: \n",
    "1. Comered to model 1: Model 1 is better than after feature selection on all parameters. This shows the comparition between the logistic regression and shows that no feature selection was required as the accuracy reduses with the feature selection\n",
    "1. Compared to model 2: On the other hand there is an improvement on the 2nd model on all measuews but this is a comparition between 2 diffrent models so it does not tell us as much as comparing it with the first model."
   ]
  },
  {
   "cell_type": "markdown",
   "metadata": {
    "id": "WqWLnpbOO2kR"
   },
   "source": [
    "# Q. Build a bar plot similar to the one with all the features"
   ]
  },
  {
   "cell_type": "code",
   "execution_count": 163,
   "metadata": {
    "id": "o_ayzbZMO3uD"
   },
   "outputs": [
    {
     "ename": "AttributeError",
     "evalue": "'LogisticRegression' object has no attribute 'coef_'",
     "output_type": "error",
     "traceback": [
      "\u001b[1;31m---------------------------------------------------------------------------\u001b[0m",
      "\u001b[1;31mAttributeError\u001b[0m                            Traceback (most recent call last)",
      "\u001b[1;32m<ipython-input-163-77603c6e791b>\u001b[0m in \u001b[0;36m<module>\u001b[1;34m\u001b[0m\n\u001b[1;32m----> 1\u001b[1;33m \u001b[0mdf1\u001b[0m\u001b[1;33m=\u001b[0m\u001b[0mpd\u001b[0m\u001b[1;33m.\u001b[0m\u001b[0mconcat\u001b[0m\u001b[1;33m(\u001b[0m\u001b[1;33m[\u001b[0m\u001b[0mpd\u001b[0m\u001b[1;33m.\u001b[0m\u001b[0mDataFrame\u001b[0m\u001b[1;33m(\u001b[0m\u001b[0mX_train\u001b[0m\u001b[1;33m.\u001b[0m\u001b[0mcolumns\u001b[0m\u001b[1;33m[\u001b[0m\u001b[0mrfe\u001b[0m\u001b[1;33m.\u001b[0m\u001b[0msupport_\u001b[0m\u001b[1;33m]\u001b[0m\u001b[1;33m,\u001b[0m \u001b[0mcolumns\u001b[0m \u001b[1;33m=\u001b[0m\u001b[1;33m[\u001b[0m\u001b[1;34m\"feature2\"\u001b[0m\u001b[1;33m]\u001b[0m\u001b[1;33m)\u001b[0m\u001b[1;33m,\u001b[0m \u001b[0mpd\u001b[0m\u001b[1;33m.\u001b[0m\u001b[0mDataFrame\u001b[0m\u001b[1;33m(\u001b[0m\u001b[0mnp\u001b[0m\u001b[1;33m.\u001b[0m\u001b[0mtranspose\u001b[0m\u001b[1;33m(\u001b[0m\u001b[0mclassifier\u001b[0m\u001b[1;33m.\u001b[0m\u001b[0mcoef_\u001b[0m\u001b[1;33m)\u001b[0m\u001b[1;33m,\u001b[0m \u001b[0mcolumns\u001b[0m \u001b[1;33m=\u001b[0m\u001b[1;33m[\u001b[0m\u001b[1;34m\"Coef1\"\u001b[0m\u001b[1;33m]\u001b[0m\u001b[1;33m)\u001b[0m\u001b[1;33m]\u001b[0m\u001b[1;33m,\u001b[0m \u001b[0maxis\u001b[0m \u001b[1;33m=\u001b[0m \u001b[1;36m1\u001b[0m\u001b[1;33m)\u001b[0m\u001b[1;33m\u001b[0m\u001b[1;33m\u001b[0m\u001b[0m\n\u001b[0m\u001b[0;32m      2\u001b[0m \u001b[0max1\u001b[0m \u001b[1;33m=\u001b[0m \u001b[0mdf1\u001b[0m\u001b[1;33m.\u001b[0m\u001b[0mplot\u001b[0m\u001b[1;33m.\u001b[0m\u001b[0mbar\u001b[0m\u001b[1;33m(\u001b[0m\u001b[0mx\u001b[0m\u001b[1;33m=\u001b[0m\u001b[1;34m'feature2'\u001b[0m\u001b[1;33m,\u001b[0m \u001b[0my\u001b[0m\u001b[1;33m=\u001b[0m\u001b[1;34m'Coef1'\u001b[0m\u001b[1;33m,\u001b[0m \u001b[0mfigsize\u001b[0m\u001b[1;33m=\u001b[0m\u001b[1;33m(\u001b[0m\u001b[1;36m10\u001b[0m\u001b[1;33m,\u001b[0m\u001b[1;36m10\u001b[0m\u001b[1;33m)\u001b[0m\u001b[1;33m)\u001b[0m\u001b[1;33m\u001b[0m\u001b[1;33m\u001b[0m\u001b[0m\n",
      "\u001b[1;31mAttributeError\u001b[0m: 'LogisticRegression' object has no attribute 'coef_'"
     ]
    }
   ],
   "source": [
    "df1=pd.concat([pd.DataFrame(X_train.columns[rfe.support_], columns =[\"feature2\"]), pd.DataFrame(np.transpose(classifier1.coef_), columns =[\"Coef1\"])], axis = 1)\n",
    "ax1 = df1.plot.bar(x='feature2', y='Coef1', figsize=(10,10))"
   ]
  },
  {
   "cell_type": "markdown",
   "metadata": {
    "id": "oLsBdninO8Hx"
   },
   "source": [
    "# Q. Share your observations. Do you find them different?"
   ]
  },
  {
   "cell_type": "markdown",
   "metadata": {},
   "source": [
    "**Answer**: This new plot shows only the feature which have at least 0.5 corelation to the churn rate. Thus there are a lot fewer feature in this bar plot."
   ]
  },
  {
   "cell_type": "code",
   "execution_count": null,
   "metadata": {
    "id": "C46RDHWoOul9"
   },
   "outputs": [],
   "source": [
    "final_results = pd.concat([Y_test, telcom.customerID], axis =1).dropna()\n",
    "final_results['predicted_churn'] = y_pred\n",
    "final_results = final_results[['customerID', 'Churn', 'predicted_churn']].reset_index(drop = True)\n",
    "print(final_results)"
   ]
  },
  {
   "cell_type": "markdown",
   "metadata": {
    "id": "aWzeto9EPCn0"
   },
   "source": [
    "# Q. Provide recommendations based on the feature selection. What should company target for to reduce churn?"
   ]
  },
  {
   "cell_type": "markdown",
   "metadata": {
    "id": "g7Cca632PEoY"
   },
   "source": [
    "**Answer**: My recomendation will be to try and convince customers to take longer tern contracts as well as try to upsell and cross-sell products to the customers so that they take as many products from your company as possible. This will reduce the overall churn rate for the company."
   ]
  },
  {
   "cell_type": "markdown",
   "metadata": {
    "id": "fB2n9T7_PI8T"
   },
   "source": [
    "# Practice Q. Can you Add SVM model to this dataset and perform the same steps and check test data accuracy?"
   ]
  },
  {
   "cell_type": "code",
   "execution_count": 164,
   "metadata": {
    "id": "Z_4shAWsO_AG"
   },
   "outputs": [
    {
     "name": "stdout",
     "output_type": "stream",
     "text": [
      "0.7957906712172924\n"
     ]
    }
   ],
   "source": [
    "from sklearn.svm import SVC\n",
    "from sklearn.metrics import accuracy_score\n",
    "svc=SVC()\n",
    "svc.fit(X_train,Y_train)\n",
    "y_pred=svc.predict(X_test)\n",
    "print((accuracy_score(Y_test, y_pred)))"
   ]
  }
 ],
 "metadata": {
  "colab": {
   "collapsed_sections": [],
   "name": "Churn_Prediction_Part2.ipynb",
   "provenance": []
  },
  "kernelspec": {
   "display_name": "Python 3",
   "language": "python",
   "name": "python3"
  },
  "language_info": {
   "codemirror_mode": {
    "name": "ipython",
    "version": 3
   },
   "file_extension": ".py",
   "mimetype": "text/x-python",
   "name": "python",
   "nbconvert_exporter": "python",
   "pygments_lexer": "ipython3",
   "version": "3.8.5"
  }
 },
 "nbformat": 4,
 "nbformat_minor": 4
}
