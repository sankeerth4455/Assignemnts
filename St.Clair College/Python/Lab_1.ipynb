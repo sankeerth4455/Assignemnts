{
 "cells": [
  {
   "cell_type": "markdown",
   "metadata": {},
   "source": [
    "## Group 10\n",
    "\n",
    "\n",
    "Keshav Yadav - 0770087\n",
    "\n",
    "Sri Sankeerth Koduru - 0768993\n",
    "\n",
    "Dilpreet Singh - 0771612\n",
    "\n",
    "Siva Sai Chaitanya Varma Sykam - "
   ]
  },
  {
   "cell_type": "markdown",
   "metadata": {},
   "source": [
    "# Lab 1: Keras and MNIST\n",
    "\n",
    "**This is a modified version of the original notebook by Francois Chollet.** \n",
    "\n",
    "We will now take a look at a first concrete example of a neural network, which makes use of the Python library Keras to learn to classify hand-written digits. Unless you already have experience with Keras or similar libraries, you will not understand everything about this first example right away. Don't worry, that is perfectly fine. We've got to start somewhere.\n",
    "\n",
    "The problem we are trying to solve here is to classify grayscale images of handwritten digits (28 pixels by 28 pixels), into their 10 categories (0 to 9). The dataset we will use is the MNIST dataset, a classic dataset in the machine learning community, which has been around for almost as long as the field itself and has been very intensively studied. It's a set of 60,000 training images, plus 10,000 test images, assembled by the National Institute of Standards and Technology (the NIST in MNIST) in the 1980s. You can think of \"solving\" MNIST as the \"Hello World\" of deep learning -- it's what you do to verify that your algorithms are working as expected. As you become a machine learning practitioner, you will see MNIST come up over and over again, in scientific papers, blog posts, and so on. \n",
    "\n",
    "The MNIST dataset comes pre-loaded in Keras, in the form of a set of four Numpy arrays:"
   ]
  },
  {
   "cell_type": "code",
   "execution_count": 1,
   "metadata": {},
   "outputs": [],
   "source": [
    "from tensorflow.keras.datasets import mnist\n",
    "\n",
    "(train_images, train_labels), (test_images, test_labels) = mnist.load_data()"
   ]
  },
  {
   "cell_type": "markdown",
   "metadata": {},
   "source": [
    "`train_images` and `train_labels` form the \"training set\", the data that the model will learn from. The model will then be tested on the \n",
    "\"test set\", `test_images` and `test_labels`. Our images are encoded as Numpy arrays, and the labels are simply an array of digits, ranging \n",
    "from 0 to 9. There is a one-to-one correspondence between the images and the labels.\n",
    "\n",
    "Let's have a look at the training data:"
   ]
  },
  {
   "cell_type": "code",
   "execution_count": 2,
   "metadata": {},
   "outputs": [
    {
     "data": {
      "text/plain": [
       "<matplotlib.image.AxesImage at 0x285800c1460>"
      ]
     },
     "execution_count": 2,
     "metadata": {},
     "output_type": "execute_result"
    },
    {
     "data": {
      "image/png": "[encoded data removed]",
      "text/plain": [
       "<Figure size 432x288 with 1 Axes>"
      ]
     },
     "metadata": {
      "needs_background": "light"
     },
     "output_type": "display_data"
    }
   ],
   "source": [
    "import matplotlib.pyplot as plt\n",
    "\n",
    "plt.imshow(train_images[0], cmap='gray')"
   ]
  },
  {
   "cell_type": "code",
   "execution_count": 3,
   "metadata": {},
   "outputs": [
    {
     "data": {
      "text/plain": [
       "(60000, 28, 28)"
      ]
     },
     "execution_count": 3,
     "metadata": {},
     "output_type": "execute_result"
    }
   ],
   "source": [
    "train_images.shape"
   ]
  },
  {
   "cell_type": "code",
   "execution_count": 4,
   "metadata": {},
   "outputs": [
    {
     "data": {
      "text/plain": [
       "array([[  0,   0,   0,   0,   0,   0,   0,   0,   0,   0,   0,   0,   0,\n",
       "          0,   0,   0,   0,   0,   0,   0,   0,   0,   0,   0,   0,   0,\n",
       "          0,   0],\n",
       "       [  0,   0,   0,   0,   0,   0,   0,   0,   0,   0,   0,   0,   0,\n",
       "          0,   0,   0,   0,   0,   0,   0,   0,   0,   0,   0,   0,   0,\n",
       "          0,   0],\n",
       "       [  0,   0,   0,   0,   0,   0,   0,   0,   0,   0,   0,   0,   0,\n",
       "          0,   0,   0,   0,   0,   0,   0,   0,   0,   0,   0,   0,   0,\n",
       "          0,   0],\n",
       "       [  0,   0,   0,   0,   0,   0,   0,   0,   0,   0,   0,   0,   0,\n",
       "          0,   0,   0,   0,   0,   0,   0,   0,   0,   0,   0,   0,   0,\n",
       "          0,   0],\n",
       "       [  0,   0,   0,   0,   0,   0,   0,   0,   0,   0,   0,   0,   0,\n",
       "          0,   0,   0,   0,   0,   0,   0,   0,   0,   0,   0,   0,   0,\n",
       "          0,   0],\n",
       "       [  0,   0,   0,   0,   0,   0,   0,   0,   0,   0,   0,   0,   3,\n",
       "         18,  18,  18, 126, 136, 175,  26, 166, 255, 247, 127,   0,   0,\n",
       "          0,   0],\n",
       "       [  0,   0,   0,   0,   0,   0,   0,   0,  30,  36,  94, 154, 170,\n",
       "        253, 253, 253, 253, 253, 225, 172, 253, 242, 195,  64,   0,   0,\n",
       "          0,   0],\n",
       "       [  0,   0,   0,   0,   0,   0,   0,  49, 238, 253, 253, 253, 253,\n",
       "        253, 253, 253, 253, 251,  93,  82,  82,  56,  39,   0,   0,   0,\n",
       "          0,   0],\n",
       "       [  0,   0,   0,   0,   0,   0,   0,  18, 219, 253, 253, 253, 253,\n",
       "        253, 198, 182, 247, 241,   0,   0,   0,   0,   0,   0,   0,   0,\n",
       "          0,   0],\n",
       "       [  0,   0,   0,   0,   0,   0,   0,   0,  80, 156, 107, 253, 253,\n",
       "        205,  11,   0,  43, 154,   0,   0,   0,   0,   0,   0,   0,   0,\n",
       "          0,   0],\n",
       "       [  0,   0,   0,   0,   0,   0,   0,   0,   0,  14,   1, 154, 253,\n",
       "         90,   0,   0,   0,   0,   0,   0,   0,   0,   0,   0,   0,   0,\n",
       "          0,   0],\n",
       "       [  0,   0,   0,   0,   0,   0,   0,   0,   0,   0,   0, 139, 253,\n",
       "        190,   2,   0,   0,   0,   0,   0,   0,   0,   0,   0,   0,   0,\n",
       "          0,   0],\n",
       "       [  0,   0,   0,   0,   0,   0,   0,   0,   0,   0,   0,  11, 190,\n",
       "        253,  70,   0,   0,   0,   0,   0,   0,   0,   0,   0,   0,   0,\n",
       "          0,   0],\n",
       "       [  0,   0,   0,   0,   0,   0,   0,   0,   0,   0,   0,   0,  35,\n",
       "        241, 225, 160, 108,   1,   0,   0,   0,   0,   0,   0,   0,   0,\n",
       "          0,   0],\n",
       "       [  0,   0,   0,   0,   0,   0,   0,   0,   0,   0,   0,   0,   0,\n",
       "         81, 240, 253, 253, 119,  25,   0,   0,   0,   0,   0,   0,   0,\n",
       "          0,   0],\n",
       "       [  0,   0,   0,   0,   0,   0,   0,   0,   0,   0,   0,   0,   0,\n",
       "          0,  45, 186, 253, 253, 150,  27,   0,   0,   0,   0,   0,   0,\n",
       "          0,   0],\n",
       "       [  0,   0,   0,   0,   0,   0,   0,   0,   0,   0,   0,   0,   0,\n",
       "          0,   0,  16,  93, 252, 253, 187,   0,   0,   0,   0,   0,   0,\n",
       "          0,   0],\n",
       "       [  0,   0,   0,   0,   0,   0,   0,   0,   0,   0,   0,   0,   0,\n",
       "          0,   0,   0,   0, 249, 253, 249,  64,   0,   0,   0,   0,   0,\n",
       "          0,   0],\n",
       "       [  0,   0,   0,   0,   0,   0,   0,   0,   0,   0,   0,   0,   0,\n",
       "          0,  46, 130, 183, 253, 253, 207,   2,   0,   0,   0,   0,   0,\n",
       "          0,   0],\n",
       "       [  0,   0,   0,   0,   0,   0,   0,   0,   0,   0,   0,   0,  39,\n",
       "        148, 229, 253, 253, 253, 250, 182,   0,   0,   0,   0,   0,   0,\n",
       "          0,   0],\n",
       "       [  0,   0,   0,   0,   0,   0,   0,   0,   0,   0,  24, 114, 221,\n",
       "        253, 253, 253, 253, 201,  78,   0,   0,   0,   0,   0,   0,   0,\n",
       "          0,   0],\n",
       "       [  0,   0,   0,   0,   0,   0,   0,   0,  23,  66, 213, 253, 253,\n",
       "        253, 253, 198,  81,   2,   0,   0,   0,   0,   0,   0,   0,   0,\n",
       "          0,   0],\n",
       "       [  0,   0,   0,   0,   0,   0,  18, 171, 219, 253, 253, 253, 253,\n",
       "        195,  80,   9,   0,   0,   0,   0,   0,   0,   0,   0,   0,   0,\n",
       "          0,   0],\n",
       "       [  0,   0,   0,   0,  55, 172, 226, 253, 253, 253, 253, 244, 133,\n",
       "         11,   0,   0,   0,   0,   0,   0,   0,   0,   0,   0,   0,   0,\n",
       "          0,   0],\n",
       "       [  0,   0,   0,   0, 136, 253, 253, 253, 212, 135, 132,  16,   0,\n",
       "          0,   0,   0,   0,   0,   0,   0,   0,   0,   0,   0,   0,   0,\n",
       "          0,   0],\n",
       "       [  0,   0,   0,   0,   0,   0,   0,   0,   0,   0,   0,   0,   0,\n",
       "          0,   0,   0,   0,   0,   0,   0,   0,   0,   0,   0,   0,   0,\n",
       "          0,   0],\n",
       "       [  0,   0,   0,   0,   0,   0,   0,   0,   0,   0,   0,   0,   0,\n",
       "          0,   0,   0,   0,   0,   0,   0,   0,   0,   0,   0,   0,   0,\n",
       "          0,   0],\n",
       "       [  0,   0,   0,   0,   0,   0,   0,   0,   0,   0,   0,   0,   0,\n",
       "          0,   0,   0,   0,   0,   0,   0,   0,   0,   0,   0,   0,   0,\n",
       "          0,   0]], dtype=uint8)"
      ]
     },
     "execution_count": 4,
     "metadata": {},
     "output_type": "execute_result"
    }
   ],
   "source": [
    "train_images[0] # the first image"
   ]
  },
  {
   "cell_type": "code",
   "execution_count": 5,
   "metadata": {},
   "outputs": [
    {
     "data": {
      "text/plain": [
       "(28, 28)"
      ]
     },
     "execution_count": 5,
     "metadata": {},
     "output_type": "execute_result"
    }
   ],
   "source": [
    "train_images[0].shape  # the shape of the first image"
   ]
  },
  {
   "cell_type": "code",
   "execution_count": 6,
   "metadata": {},
   "outputs": [
    {
     "data": {
      "text/plain": [
       "60000"
      ]
     },
     "execution_count": 6,
     "metadata": {},
     "output_type": "execute_result"
    }
   ],
   "source": [
    "len(train_labels)"
   ]
  },
  {
   "cell_type": "code",
   "execution_count": 7,
   "metadata": {},
   "outputs": [
    {
     "data": {
      "text/plain": [
       "array([5, 0, 4, 1, 9, 2], dtype=uint8)"
      ]
     },
     "execution_count": 7,
     "metadata": {},
     "output_type": "execute_result"
    }
   ],
   "source": [
    "train_labels[:6] # first 5 labels"
   ]
  },
  {
   "cell_type": "markdown",
   "metadata": {},
   "source": [
    "Let's have a look at the test data:"
   ]
  },
  {
   "cell_type": "code",
   "execution_count": 8,
   "metadata": {},
   "outputs": [
    {
     "data": {
      "text/plain": [
       "(10000, 28, 28)"
      ]
     },
     "execution_count": 8,
     "metadata": {},
     "output_type": "execute_result"
    }
   ],
   "source": [
    "test_images.shape"
   ]
  },
  {
   "cell_type": "code",
   "execution_count": 9,
   "metadata": {},
   "outputs": [
    {
     "data": {
      "text/plain": [
       "10000"
      ]
     },
     "execution_count": 9,
     "metadata": {},
     "output_type": "execute_result"
    }
   ],
   "source": [
    "len(test_labels)"
   ]
  },
  {
   "cell_type": "code",
   "execution_count": 10,
   "metadata": {},
   "outputs": [
    {
     "data": {
      "text/plain": [
       "array([7, 2, 1, ..., 4, 5, 6], dtype=uint8)"
      ]
     },
     "execution_count": 10,
     "metadata": {},
     "output_type": "execute_result"
    }
   ],
   "source": [
    "test_labels"
   ]
  },
  {
   "cell_type": "markdown",
   "metadata": {},
   "source": [
    "\n",
    "Before training, we will preprocess our data by reshaping it into the shape that the network expects, and scaling it so that all values are in \n",
    "the `[0, 1]` interval. Previously, our training images for instance were stored in an array of shape `(60000, 28, 28)` of type `uint8` with \n",
    "values in the `[0, 255]` interval. We transform it into a `float32` array of shape `(60000, 28 * 28)` with values between 0 and 1."
   ]
  },
  {
   "cell_type": "code",
   "execution_count": 11,
   "metadata": {},
   "outputs": [],
   "source": [
    "train_images = train_images.astype('float32') / 255\n",
    "train_images = train_images.reshape((60000, 28 * 28))\n",
    "\n",
    "test_images = test_images.astype('float32') / 255\n",
    "test_images = test_images.reshape((10000, 28 * 28))"
   ]
  },
  {
   "cell_type": "markdown",
   "metadata": {},
   "source": [
    "### Reshaping an image for the network\n",
    "\n",
    "The picture below shows the steps involved in converting a 10x10 pixel image into a 1 dimensional array that can be fed into a fully-connected neural network (assuming we do not scale the pixel values). \n",
    "\n",
    "<img src=\"Lab 1 - Pictures-2.jpg\" width=600 align=\"center\">\n",
    "\n",
    "And the picture below should help you visualize what things look like when we consider more than a single sample in our data:\n",
    "\n",
    "<img src=\"Lab 1 - Pictures-3.jpg\" width=600 align=\"center\">"
   ]
  },
  {
   "cell_type": "markdown",
   "metadata": {},
   "source": [
    "We also need to categorically encode the labels:"
   ]
  },
  {
   "cell_type": "code",
   "execution_count": 12,
   "metadata": {},
   "outputs": [],
   "source": [
    "from tensorflow.keras.utils import to_categorical\n",
    "\n",
    "train_labels = to_categorical(train_labels)\n",
    "test_labels = to_categorical(test_labels)"
   ]
  },
  {
   "cell_type": "code",
   "execution_count": 13,
   "metadata": {},
   "outputs": [
    {
     "data": {
      "text/plain": [
       "array([[0., 0., 0., 0., 0., 1., 0., 0., 0., 0.],\n",
       "       [1., 0., 0., 0., 0., 0., 0., 0., 0., 0.],\n",
       "       [0., 0., 0., 0., 1., 0., 0., 0., 0., 0.],\n",
       "       [0., 1., 0., 0., 0., 0., 0., 0., 0., 0.],\n",
       "       [0., 0., 0., 0., 0., 0., 0., 0., 0., 1.]], dtype=float32)"
      ]
     },
     "execution_count": 13,
     "metadata": {},
     "output_type": "execute_result"
    }
   ],
   "source": [
    "train_labels[:5]"
   ]
  },
  {
   "cell_type": "markdown",
   "metadata": {},
   "source": [
    "<img src=\"Lab 1 - Pictures-5.jpg\" width=600 align=\"center\">"
   ]
  },
  {
   "cell_type": "markdown",
   "metadata": {},
   "source": [
    "Our workflow will be as follow: first we will present our neural network with the training data: `train_images` and `train_labels`. The \n",
    "network will then learn to associate images and labels. Finally, we will ask the network to produce predictions for `test_images`, and we \n",
    "will verify if these predictions match the labels from `test_labels`.\n",
    "\n",
    "## Build the network\n",
    "\n",
    "Let's build our network!"
   ]
  },
  {
   "cell_type": "code",
   "execution_count": 14,
   "metadata": {},
   "outputs": [],
   "source": [
    "from tensorflow.keras.models import Sequential\n",
    "from tensorflow.keras.layers import Dense\n",
    "from tensorflow.keras.layers import Dropout\n",
    "\n",
    "network = Sequential()\n",
    "network.add(Dense(512, activation='relu', input_shape=(28 * 28,)))\n",
    "network.add(Dense(10, activation='softmax'))"
   ]
  },
  {
   "cell_type": "markdown",
   "metadata": {},
   "source": [
    "The core building block of neural networks is the \"layer\", a data-processing module which you can conceive as a \"filter\" for data. Some data comes in, and comes out in a more useful form. Precisely, layers extract _representations_ out of the data fed into them -- hopefully representations that are more meaningful for the problem at hand. Most of deep learning really consists of chaining together simple layers which will implement a form of progressive \"data distillation\". A deep learning model is like a sieve for data processing, made of a \n",
    "succession of increasingly refined data filters -- the \"layers\".\n",
    "\n",
    "Here our network consists of a sequence of two `Dense` layers, which are densely-connected (also called \"fully-connected\") neural layers. The second (and last) layer is a 10-way \"softmax\" layer, which means it will return an array of 10 probability scores (summing to 1). Each score will be the probability that the current digit image belongs to one of our 10 digit classes. See this [blog post](https://victorzhou.com/blog/softmax/) for more details on the softmax function. The following picture may help you see what is happening:\n",
    "\n",
    "<img src=\"Lab 1 - Pictures-4.jpg\" width=600 align=\"center\">"
   ]
  },
  {
   "cell_type": "markdown",
   "metadata": {},
   "source": [
    "## Network architecture and parameters\n",
    "It is often helpful to review the architecture of the network and see how many parameters will need to be learned through the training process. To do this, Keras provides the `.summary()` function:"
   ]
  },
  {
   "cell_type": "code",
   "execution_count": 15,
   "metadata": {},
   "outputs": [
    {
     "name": "stdout",
     "output_type": "stream",
     "text": [
      "Model: \"sequential\"\n",
      "_________________________________________________________________\n",
      "Layer (type)                 Output Shape              Param #   \n",
      "=================================================================\n",
      "dense (Dense)                (None, 512)               401920    \n",
      "_________________________________________________________________\n",
      "dense_1 (Dense)              (None, 10)                5130      \n",
      "=================================================================\n",
      "Total params: 407,050\n",
      "Trainable params: 407,050\n",
      "Non-trainable params: 0\n",
      "_________________________________________________________________\n"
     ]
    }
   ],
   "source": [
    "network.summary()"
   ]
  },
  {
   "cell_type": "markdown",
   "metadata": {},
   "source": [
    "## Compile the network\n",
    "To make our network ready for training, we need to pick three more things, as part of \"compilation\" step:\n",
    "\n",
    "* A loss function: this is how the network will be able to measure how good a job it is doing on its training data, and thus how it will be able to steer itself in the right direction.\n",
    "* An optimizer: this is the mechanism through which the network will update its parameters (weights and biases) based on the data it sees and its loss function. This is like the *gradient descent* recipe for updating the network's parameters.\n",
    "* Metrics: what to monitor during training and testing. Here we will only care about accuracy (the fraction of the images that were correctly classified)."
   ]
  },
  {
   "cell_type": "code",
   "execution_count": 16,
   "metadata": {},
   "outputs": [],
   "source": [
    "network.compile(optimizer='rmsprop',\n",
    "                loss='categorical_crossentropy',\n",
    "                metrics=['accuracy'])"
   ]
  },
  {
   "cell_type": "markdown",
   "metadata": {},
   "source": [
    "We are now ready to train our network, which in Keras is done via a call to the `fit` method of the network: \n",
    "we \"fit\" the model to its training data."
   ]
  },
  {
   "cell_type": "markdown",
   "metadata": {},
   "source": [
    "## Train the network"
   ]
  },
  {
   "cell_type": "code",
   "execution_count": 17,
   "metadata": {},
   "outputs": [
    {
     "name": "stdout",
     "output_type": "stream",
     "text": [
      "Epoch 1/5\n",
      "469/469 [==============================] - 3s 5ms/step - loss: 0.2532 - accuracy: 0.9273\n",
      "Epoch 2/5\n",
      "469/469 [==============================] - 2s 5ms/step - loss: 0.1047 - accuracy: 0.9694\n",
      "Epoch 3/5\n",
      "469/469 [==============================] - 3s 6ms/step - loss: 0.0677 - accuracy: 0.9797\n",
      "Epoch 4/5\n",
      "469/469 [==============================] - 3s 6ms/step - loss: 0.0499 - accuracy: 0.9852\n",
      "Epoch 5/5\n",
      "469/469 [==============================] - 2s 5ms/step - loss: 0.0377 - accuracy: 0.9884\n"
     ]
    }
   ],
   "source": [
    "history = network.fit(train_images, train_labels, epochs=5, batch_size=128, verbose=1)"
   ]
  },
  {
   "cell_type": "markdown",
   "metadata": {},
   "source": [
    "Two quantities are being displayed during training: the \"loss\" of the network over the training data, and the accuracy of the network over \n",
    "the training data.\n",
    "\n",
    "We quickly reach an accuracy of around 0.98 (i.e. 98%) on the training data. "
   ]
  },
  {
   "cell_type": "markdown",
   "metadata": {},
   "source": [
    "## Check test accuracy\n",
    "\n",
    "Now let's check that our model performs well on the test set too:"
   ]
  },
  {
   "cell_type": "code",
   "execution_count": 18,
   "metadata": {},
   "outputs": [
    {
     "name": "stdout",
     "output_type": "stream",
     "text": [
      "313/313 [==============================] - 0s 2ms/step - loss: 0.0687 - accuracy: 0.9786\n"
     ]
    }
   ],
   "source": [
    "test_loss, test_acc = network.evaluate(test_images, test_labels)"
   ]
  },
  {
   "cell_type": "code",
   "execution_count": 19,
   "metadata": {},
   "outputs": [
    {
     "name": "stdout",
     "output_type": "stream",
     "text": [
      "test_acc: 0.978600025177002\n"
     ]
    }
   ],
   "source": [
    "print('test_acc:', test_acc)"
   ]
  },
  {
   "cell_type": "markdown",
   "metadata": {},
   "source": [
    "\n",
    "Our test set accuracy turns out to be around 98%, which is lower than the training set accuracy. This gap between training accuracy and test accuracy is an example of \"overfitting\", the fact that machine learning models tend to perform worse on new data than on their training data. In this instance, there does not yet seem to be much overfitting. \n",
    "\n",
    "This concludes our very first example -- you just saw how we could build and train a neural network to classify handwritten digits, in less than 20 lines of Python code. "
   ]
  },
  {
   "cell_type": "markdown",
   "metadata": {},
   "source": [
    "**epoch** \n",
    "  - one epoch is reached when all training examples have been sent through the network\n",
    "  \n",
    "**batch size**\n",
    "  - the training data is not sent through the network one sample at time but in batches; this is another hyperparamter to be set. The weights and biases are updated after each batch is processed by the network. In this example the batch size was set to 128\n"
   ]
  },
  {
   "cell_type": "markdown",
   "metadata": {},
   "source": [
    "## Your turn\n",
    "\n",
    "Rerunning the network means executing the following steps:\n",
    "- Build the network\n",
    "- Network architecure and parameters\n",
    "- Compile the network\n",
    "- Train the network\n",
    "- Check test accuracy\n",
    "\n",
    "**Each exercise will thus have all the necessary code to build, compile, fit, and test.**\n",
    "\n",
    "## Starting Code\n",
    "\n",
    "Begin with the following code for Exercises 1 to 5, that is, the code below is what you are being asked to modify in the first five exercises:\n",
    "\n",
    "```\n",
    "network = Sequential()\n",
    "network.add(Dense(512, activation='relu', input_shape=(28 * 28,)))\n",
    "network.add(Dense(10, activation='softmax'))\n",
    "\n",
    "network.summary()\n",
    "\n",
    "network.compile(optimizer='rmsprop',\n",
    "                loss='categorical_crossentropy',\n",
    "                metrics=['accuracy'])\n",
    "                \n",
    "history = network.fit(train_images, train_labels, epochs=5, batch_size=128, verbose=1)\n",
    "\n",
    "test_loss, test_acc = network.evaluate(test_images, test_labels)\n",
    "print('test_acc:', test_acc)\n",
    "```\n",
    "\n",
    "Be sure to rename the `network` for each Exercise. "
   ]
  },
  {
   "cell_type": "markdown",
   "metadata": {},
   "source": [
    "### Exercise 1 (5 marks)\n",
    "\n",
    "- change the activation in the hidden layer to 'sigmoid'\n",
    "- run the modified code\n",
    "- record the results in the **Aggregated Results** section below"
   ]
  },
  {
   "cell_type": "code",
   "execution_count": 20,
   "metadata": {},
   "outputs": [
    {
     "name": "stdout",
     "output_type": "stream",
     "text": [
      "Model: \"sequential_1\"\n",
      "_________________________________________________________________\n",
      "Layer (type)                 Output Shape              Param #   \n",
      "=================================================================\n",
      "dense_2 (Dense)              (None, 512)               401920    \n",
      "_________________________________________________________________\n",
      "dense_3 (Dense)              (None, 10)                5130      \n",
      "=================================================================\n",
      "Total params: 407,050\n",
      "Trainable params: 407,050\n",
      "Non-trainable params: 0\n",
      "_________________________________________________________________\n",
      "Epoch 1/5\n",
      "469/469 [==============================] - 2s 5ms/step - loss: 0.4254 - accuracy: 0.8842\n",
      "Epoch 2/5\n",
      "469/469 [==============================] - 2s 5ms/step - loss: 0.2343 - accuracy: 0.9316\n",
      "Epoch 3/5\n",
      "469/469 [==============================] - 2s 5ms/step - loss: 0.1773 - accuracy: 0.9484\n",
      "Epoch 4/5\n",
      "469/469 [==============================] - 2s 5ms/step - loss: 0.1391 - accuracy: 0.9588\n",
      "Epoch 5/5\n",
      "469/469 [==============================] - 2s 5ms/step - loss: 0.1129 - accuracy: 0.9674\n",
      "313/313 [==============================] - 1s 2ms/step - loss: 0.1123 - accuracy: 0.9664\n",
      "test_acc: 0.9664000272750854\n"
     ]
    }
   ],
   "source": [
    "# Changing the activation function to sigmoid, the test accuracy is changed to 96.64% and importing Tensorflow.\n",
    "import tensorflow as tf\n",
    "tf.compat.v1.set_random_seed(411)\n",
    "\n",
    "network1 = Sequential()\n",
    "network1.add(Dense(512, activation='sigmoid', input_shape=(28 * 28,)))\n",
    "network1.add(Dense(10, activation='softmax'))\n",
    "\n",
    "network1.summary()\n",
    "\n",
    "network1.compile(optimizer='rmsprop',\n",
    "                loss='categorical_crossentropy',\n",
    "                metrics=['accuracy'])\n",
    "\n",
    "history = network1.fit(train_images, train_labels, epochs=5, batch_size=128, verbose=1)\n",
    "\n",
    "test_loss, test_acc = network1.evaluate(test_images, test_labels)\n",
    "print('test_acc:', test_acc)"
   ]
  },
  {
   "cell_type": "markdown",
   "metadata": {},
   "source": [
    "### Exercise 2 (5 marks)\n",
    "\n",
    "- change the batch size to 32\n",
    "- run the modified code\n",
    "- record the results in the **Aggregated Results** section below"
   ]
  },
  {
   "cell_type": "code",
   "execution_count": 21,
   "metadata": {},
   "outputs": [
    {
     "name": "stdout",
     "output_type": "stream",
     "text": [
      "Model: \"sequential_2\"\n",
      "_________________________________________________________________\n",
      "Layer (type)                 Output Shape              Param #   \n",
      "=================================================================\n",
      "dense_4 (Dense)              (None, 512)               401920    \n",
      "_________________________________________________________________\n",
      "dense_5 (Dense)              (None, 10)                5130      \n",
      "=================================================================\n",
      "Total params: 407,050\n",
      "Trainable params: 407,050\n",
      "Non-trainable params: 0\n",
      "_________________________________________________________________\n",
      "Epoch 1/5\n",
      "1875/1875 [==============================] - 16s 9ms/step - loss: 0.2024 - accuracy: 0.9411\n",
      "Epoch 2/5\n",
      "1875/1875 [==============================] - 17s 9ms/step - loss: 0.0897 - accuracy: 0.9736\n",
      "Epoch 3/5\n",
      "1875/1875 [==============================] - 17s 9ms/step - loss: 0.0654 - accuracy: 0.9818\n",
      "Epoch 4/5\n",
      "1875/1875 [==============================] - 17s 9ms/step - loss: 0.0514 - accuracy: 0.9862\n",
      "Epoch 5/5\n",
      "1875/1875 [==============================] - 17s 9ms/step - loss: 0.0409 - accuracy: 0.9890\n",
      "313/313 [==============================] - 1s 3ms/step - loss: 0.0900 - accuracy: 0.9772\n",
      "test_acc: 0.9771999716758728\n"
     ]
    }
   ],
   "source": [
    "# Changing the activation function to relu and batch size to 32, the test accuracy is changed to 97.71%\n",
    "tf.compat.v1.set_random_seed(411)\n",
    "\n",
    "network2 = Sequential()\n",
    "network2.add(Dense(512, activation='relu', input_shape=(28 * 28,)))\n",
    "network2.add(Dense(10, activation='softmax'))\n",
    "\n",
    "network2.summary()\n",
    "\n",
    "network2.compile(optimizer='rmsprop',\n",
    "                loss='categorical_crossentropy',\n",
    "                metrics=['accuracy'])\n",
    "\n",
    "history = network2.fit(train_images, train_labels, epochs=5, batch_size=32, verbose=1)\n",
    "\n",
    "test_loss, test_acc = network2.evaluate(test_images, test_labels)\n",
    "print('test_acc:', test_acc)"
   ]
  },
  {
   "cell_type": "markdown",
   "metadata": {},
   "source": [
    "### Exercise 3 (5 marks)\n",
    "\n",
    "- change the number of epochs to 10\n",
    "- run the modified code\n",
    "- record the results in the **Aggregated Results** section below"
   ]
  },
  {
   "cell_type": "code",
   "execution_count": 22,
   "metadata": {},
   "outputs": [
    {
     "name": "stdout",
     "output_type": "stream",
     "text": [
      "Model: \"sequential_3\"\n",
      "_________________________________________________________________\n",
      "Layer (type)                 Output Shape              Param #   \n",
      "=================================================================\n",
      "dense_6 (Dense)              (None, 512)               401920    \n",
      "_________________________________________________________________\n",
      "dense_7 (Dense)              (None, 10)                5130      \n",
      "=================================================================\n",
      "Total params: 407,050\n",
      "Trainable params: 407,050\n",
      "Non-trainable params: 0\n",
      "_________________________________________________________________\n",
      "Epoch 1/10\n",
      "469/469 [==============================] - 5s 10ms/step - loss: 0.2534 - accuracy: 0.9269\n",
      "Epoch 2/10\n",
      "469/469 [==============================] - 4s 8ms/step - loss: 0.1034 - accuracy: 0.9694: 0s - loss: 0.1047 - accu\n",
      "Epoch 3/10\n",
      "469/469 [==============================] - 4s 9ms/step - loss: 0.0686 - accuracy: 0.9793\n",
      "Epoch 4/10\n",
      "469/469 [==============================] - 5s 11ms/step - loss: 0.0494 - accuracy: 0.9852\n",
      "Epoch 5/10\n",
      "469/469 [==============================] - 5s 11ms/step - loss: 0.0367 - accuracy: 0.9892\n",
      "Epoch 6/10\n",
      "469/469 [==============================] - 5s 11ms/step - loss: 0.0283 - accuracy: 0.9915\n",
      "Epoch 7/10\n",
      "469/469 [==============================] - 5s 11ms/step - loss: 0.0210 - accuracy: 0.9937\n",
      "Epoch 8/10\n",
      "469/469 [==============================] - 5s 11ms/step - loss: 0.0168 - accuracy: 0.9947\n",
      "Epoch 9/10\n",
      "469/469 [==============================] - 5s 11ms/step - loss: 0.0131 - accuracy: 0.9963\n",
      "Epoch 10/10\n",
      "469/469 [==============================] - 5s 11ms/step - loss: 0.0101 - accuracy: 0.9973\n",
      "313/313 [==============================] - 1s 3ms/step - loss: 0.0679 - accuracy: 0.9817\n",
      "test_acc: 0.9817000031471252\n"
     ]
    }
   ],
   "source": [
    "# Changing the activation function to relu and batch size to 32, the test accuracy is changed to 98.17%\n",
    "tf.compat.v1.set_random_seed(411)\n",
    "\n",
    "network3 = Sequential()\n",
    "network3.add(Dense(512, activation='relu', input_shape=(28 * 28,)))\n",
    "network3.add(Dense(10, activation='softmax'))\n",
    "\n",
    "network3.summary()\n",
    "\n",
    "network3.compile(optimizer='rmsprop',\n",
    "                loss='categorical_crossentropy',\n",
    "                metrics=['accuracy'])\n",
    "\n",
    "history = network3.fit(train_images, train_labels, epochs=10, batch_size=128, verbose=1)\n",
    "\n",
    "test_loss, test_acc = network3.evaluate(test_images, test_labels)\n",
    "print('test_acc:', test_acc)"
   ]
  },
  {
   "cell_type": "markdown",
   "metadata": {},
   "source": [
    "### Exercise 4 (5 marks)\n",
    "\n",
    "- change the number of neurons in the hidden layer to 128\n",
    "- run the modified code\n",
    "- record the results in the **Aggregated Results** section below"
   ]
  },
  {
   "cell_type": "code",
   "execution_count": 23,
   "metadata": {},
   "outputs": [
    {
     "name": "stdout",
     "output_type": "stream",
     "text": [
      "Model: \"sequential_4\"\n",
      "_________________________________________________________________\n",
      "Layer (type)                 Output Shape              Param #   \n",
      "=================================================================\n",
      "dense_8 (Dense)              (None, 128)               100480    \n",
      "_________________________________________________________________\n",
      "dense_9 (Dense)              (None, 10)                1290      \n",
      "=================================================================\n",
      "Total params: 101,770\n",
      "Trainable params: 101,770\n",
      "Non-trainable params: 0\n",
      "_________________________________________________________________\n",
      "Epoch 1/5\n",
      "469/469 [==============================] - 2s 3ms/step - loss: 0.3325 - accuracy: 0.9076\n",
      "Epoch 2/5\n",
      "469/469 [==============================] - 2s 3ms/step - loss: 0.1580 - accuracy: 0.9545\n",
      "Epoch 3/5\n",
      "469/469 [==============================] - 2s 3ms/step - loss: 0.1125 - accuracy: 0.9674\n",
      "Epoch 4/5\n",
      "469/469 [==============================] - 2s 3ms/step - loss: 0.0877 - accuracy: 0.9738\n",
      "Epoch 5/5\n",
      "469/469 [==============================] - 2s 3ms/step - loss: 0.0711 - accuracy: 0.9791\n",
      "313/313 [==============================] - 1s 2ms/step - loss: 0.0855 - accuracy: 0.9748\n",
      "test_acc: 0.9747999906539917\n"
     ]
    }
   ],
   "source": [
    "# Changing the number of neurons in hidden layer to 128, the test accuracy changed to 97.47%\n",
    "tf.compat.v1.set_random_seed(411)\n",
    "\n",
    "network4 = Sequential()\n",
    "network4.add(Dense(128, activation='relu', input_shape=(28 * 28,)))\n",
    "network4.add(Dense(10, activation='softmax'))\n",
    "\n",
    "network4.summary()\n",
    "\n",
    "network4.compile(optimizer='rmsprop',\n",
    "                loss='categorical_crossentropy',\n",
    "                metrics=['accuracy'])\n",
    "\n",
    "history = network4.fit(train_images, train_labels, epochs=5, batch_size=128, verbose=1)\n",
    "\n",
    "test_loss, test_acc = network4.evaluate(test_images, test_labels)\n",
    "print('test_acc:', test_acc)"
   ]
  },
  {
   "cell_type": "markdown",
   "metadata": {},
   "source": [
    "### Exercise 5 (10 marks)\n",
    "\n",
    "- add a second hidden layer of 128 neurons (note that `input_shape` does not need to be set for a second *Dense* layer)\n",
    "- run the modified code\n",
    "- record the results in the **Aggregated Results** section below"
   ]
  },
  {
   "cell_type": "code",
   "execution_count": 24,
   "metadata": {},
   "outputs": [
    {
     "name": "stdout",
     "output_type": "stream",
     "text": [
      "Model: \"sequential_5\"\n",
      "_________________________________________________________________\n",
      "Layer (type)                 Output Shape              Param #   \n",
      "=================================================================\n",
      "dense_10 (Dense)             (None, 512)               401920    \n",
      "_________________________________________________________________\n",
      "dense_11 (Dense)             (None, 128)               65664     \n",
      "_________________________________________________________________\n",
      "dense_12 (Dense)             (None, 10)                1290      \n",
      "=================================================================\n",
      "Total params: 468,874\n",
      "Trainable params: 468,874\n",
      "Non-trainable params: 0\n",
      "_________________________________________________________________\n",
      "Epoch 1/5\n",
      "469/469 [==============================] - 5s 11ms/step - loss: 0.2354 - accuracy: 0.9298\n",
      "Epoch 2/5\n",
      "469/469 [==============================] - 5s 11ms/step - loss: 0.0864 - accuracy: 0.9733\n",
      "Epoch 3/5\n",
      "469/469 [==============================] - 5s 11ms/step - loss: 0.0569 - accuracy: 0.9823\n",
      "Epoch 4/5\n",
      "469/469 [==============================] - 5s 11ms/step - loss: 0.0401 - accuracy: 0.9877\n",
      "Epoch 5/5\n",
      "469/469 [==============================] - 5s 11ms/step - loss: 0.0306 - accuracy: 0.9902\n",
      "313/313 [==============================] - 1s 4ms/step - loss: 0.0839 - accuracy: 0.9762\n",
      "test_acc: 0.9761999845504761\n"
     ]
    }
   ],
   "source": [
    "# Adding a new hidden layer with 128 neurons while keeping number of neurons of the first hidden layer at 512 . The test accuracy is changed to 97.61.\n",
    "tf.compat.v1.set_random_seed(411)\n",
    "network5 = Sequential()\n",
    "network5.add(Dense(512, activation='relu', input_shape=(28 * 28,)))\n",
    "network5.add(Dense(128, activation='relu'))\n",
    "network5.add(Dense(10, activation='softmax'))\n",
    "\n",
    "network5.summary()\n",
    "\n",
    "network5.compile(optimizer='rmsprop',\n",
    "                loss='categorical_crossentropy',\n",
    "                metrics=['accuracy'])\n",
    "\n",
    "history = network5.fit(train_images, train_labels, epochs=5, batch_size=128, verbose=1)\n",
    "\n",
    "test_loss, test_acc = network5.evaluate(test_images, test_labels)\n",
    "print('test_acc:', test_acc)"
   ]
  },
  {
   "cell_type": "markdown",
   "metadata": {},
   "source": [
    "### Exercise 6 (10 marks)\n",
    "\n",
    "There is a good chance that the network from the previous exercise is overfitting. One way to manage overfitting in a network is to add a **dropout** layer. A dropout layer will randomly \"turn off\" (or *drop*) a fraction of the neurons in a layer. This makes it harder for the network to 'memorize' the training data. \n",
    "\n",
    "- start with the code from Exercise 5\n",
    "- add a dropout layer after the first hidden layer (see the [keras documentation](https://keras.io/layers/core/))\n",
    "- run the modified code\n",
    "- record the results in the **Aggregated Results** section below"
   ]
  },
  {
   "cell_type": "code",
   "execution_count": 25,
   "metadata": {},
   "outputs": [
    {
     "name": "stdout",
     "output_type": "stream",
     "text": [
      "Model: \"sequential_6\"\n",
      "_________________________________________________________________\n",
      "Layer (type)                 Output Shape              Param #   \n",
      "=================================================================\n",
      "dense_13 (Dense)             (None, 512)               401920    \n",
      "_________________________________________________________________\n",
      "dropout (Dropout)            (None, 512)               0         \n",
      "_________________________________________________________________\n",
      "dense_14 (Dense)             (None, 128)               65664     \n",
      "_________________________________________________________________\n",
      "dense_15 (Dense)             (None, 10)                1290      \n",
      "=================================================================\n",
      "Total params: 468,874\n",
      "Trainable params: 468,874\n",
      "Non-trainable params: 0\n",
      "_________________________________________________________________\n",
      "Epoch 1/5\n",
      "469/469 [==============================] - 6s 13ms/step - loss: 0.2558 - accuracy: 0.9239 0s - loss: 0.2650 - \n",
      "Epoch 2/5\n",
      "469/469 [==============================] - 6s 13ms/step - loss: 0.1051 - accuracy: 0.9682\n",
      "Epoch 3/5\n",
      "469/469 [==============================] - 6s 13ms/step - loss: 0.0744 - accuracy: 0.9768\n",
      "Epoch 4/5\n",
      "469/469 [==============================] - 6s 13ms/step - loss: 0.0574 - accuracy: 0.9821\n",
      "Epoch 5/5\n",
      "469/469 [==============================] - 6s 13ms/step - loss: 0.0460 - accuracy: 0.9854\n",
      "313/313 [==============================] - 1s 4ms/step - loss: 0.0805 - accuracy: 0.9763\n",
      "test_acc: 0.9763000011444092\n"
     ]
    }
   ],
   "source": [
    "# Adding a new droput layer after the first hidden layer, The test accuracy is changed to 97.63\n",
    "tf.compat.v1.set_random_seed(411)\n",
    "\n",
    "network6 = Sequential()\n",
    "network6.add(Dense(512, activation='relu', input_shape=(28 * 28,)))\n",
    "network6.add(Dropout(0.2))\n",
    "network6.add(Dense(128, activation='relu'))\n",
    "network6.add(Dense(10, activation='softmax'))\n",
    "\n",
    "network6.summary()\n",
    "\n",
    "network6.compile(optimizer='rmsprop',\n",
    "                loss='categorical_crossentropy',\n",
    "                metrics=['accuracy'])\n",
    "\n",
    "history = network6.fit(train_images, train_labels, epochs=5, batch_size=128, verbose=1)\n",
    "\n",
    "test_loss, test_acc = network6.evaluate(test_images, test_labels)\n",
    "print('test_acc:', test_acc)"
   ]
  },
  {
   "cell_type": "markdown",
   "metadata": {},
   "source": [
    "## Aggregated Results (10 marks)\n",
    "\n",
    "Record the results for Exercises 1 to 6 in the table below. It has been partially filled out for Exercise 1.  \n",
    "\n",
    "|Exercise | Activation Function | No. Layers (excl. input) | No. Neurons/Layer | Batch Size | No. Epochs | Dropout (Y/N) | No. Parameters | Training Accuracy | Test Accuracy |\n",
    "|:-:|:-:|:-:|:-:|:-:|:-:|:-:|:-:|:-:|:-:|\n",
    "| 1 | sigmoid | 2 | 512/10 | 128 | 5 | N | 407,050 | 0.9674 | 0.9664000272750854 |\n",
    "| 2 | relu | 2 | 512/10 | 32 | 5 | N | 407,050 | 0.9890 | 0.9771999716758728 |\n",
    "| 3 | relu | 2 | 512/10 | 128 | 10 | N | 407,050 |0.9973 | 0.9817000031471252 |\n",
    "| 4 | relu | 2 | 128/10 | 128 | 5 | N | 101,770 | 0.9791 | 0.9747999906539917 |\n",
    "| 5 | relu | 3 | 512/128/10 | 128 | 5 | N | 468,874 | 0.9902 | 0.9761999845504761 |\n",
    "| 6 | relu | 3 | 512/128/10 | 128 | 5 | Y | 468,874 | 0.9854 | 0.9763000011444092 |"
   ]
  },
  {
   "cell_type": "markdown",
   "metadata": {},
   "source": [
    "## Exercise 7 - CHALLENGE! (20 marks)\n",
    "\n",
    "State of the art accuracy for the MNIST dataset is 99.84%. \n",
    "\n",
    "**How close can you get to this accuracy?**\n",
    "\n",
    "- Create a new fully-connected network. You can find information in the [keras documentation](https://keras.io/). Things to try:\n",
    "     - additional layers\n",
    "     - number of neurons per layer\n",
    "     - batch size\n",
    "     - learning rate\n",
    "     - activation functions\n",
    "     - weight initializations\n",
    "     - different optimizers\n",
    "     - dropout layers\n",
    "- This network should have at least 3 characteristics that are different from every other network submitted in this lab \n"
   ]
  },
  {
   "cell_type": "code",
   "execution_count": 26,
   "metadata": {},
   "outputs": [
    {
     "name": "stdout",
     "output_type": "stream",
     "text": [
      "Model: \"sequential\"\n",
      "_________________________________________________________________\n",
      "Layer (type)                 Output Shape              Param #   \n",
      "=================================================================\n",
      "dense (Dense)                (None, 512)               401920    \n",
      "_________________________________________________________________\n",
      "dense_1 (Dense)              (None, 10)                5130      \n",
      "=================================================================\n",
      "Total params: 407,050\n",
      "Trainable params: 407,050\n",
      "Non-trainable params: 0\n",
      "_________________________________________________________________\n",
      "Epoch 1/250\n",
      "469/469 [==============================] - 3s 6ms/step - loss: 1.1614 - accuracy: 0.6037\n",
      "Epoch 2/250\n",
      "469/469 [==============================] - 3s 6ms/step - loss: 0.5121 - accuracy: 0.8345\n",
      "Epoch 3/250\n",
      "469/469 [==============================] - 3s 6ms/step - loss: 0.3206 - accuracy: 0.9210\n",
      "Epoch 4/250\n",
      "469/469 [==============================] - 3s 6ms/step - loss: 0.2318 - accuracy: 0.9419\n",
      "Epoch 5/250\n",
      "469/469 [==============================] - 3s 6ms/step - loss: 0.1879 - accuracy: 0.9520\n",
      "Epoch 6/250\n",
      "469/469 [==============================] - 3s 6ms/step - loss: 0.1636 - accuracy: 0.9580\n",
      "Epoch 7/250\n",
      "469/469 [==============================] - 3s 6ms/step - loss: 0.1411 - accuracy: 0.9636\n",
      "Epoch 8/250\n",
      "469/469 [==============================] - 3s 7ms/step - loss: 0.1280 - accuracy: 0.9665\n",
      "Epoch 9/250\n",
      "469/469 [==============================] - 3s 6ms/step - loss: 0.1127 - accuracy: 0.9707\n",
      "Epoch 10/250\n",
      "469/469 [==============================] - 3s 6ms/step - loss: 0.1017 - accuracy: 0.9741\n",
      "Epoch 11/250\n",
      "469/469 [==============================] - 3s 6ms/step - loss: 0.0953 - accuracy: 0.9748\n",
      "Epoch 12/250\n",
      "469/469 [==============================] - 3s 6ms/step - loss: 0.0894 - accuracy: 0.9760\n",
      "Epoch 13/250\n",
      "469/469 [==============================] - 3s 7ms/step - loss: 0.0805 - accuracy: 0.9786\n",
      "Epoch 14/250\n",
      "469/469 [==============================] - 3s 6ms/step - loss: 0.0742 - accuracy: 0.9811\n",
      "Epoch 15/250\n",
      "469/469 [==============================] - 3s 7ms/step - loss: 0.0687 - accuracy: 0.9824\n",
      "Epoch 16/250\n",
      "469/469 [==============================] - 3s 6ms/step - loss: 0.0642 - accuracy: 0.9822\n",
      "Epoch 17/250\n",
      "469/469 [==============================] - 3s 6ms/step - loss: 0.0582 - accuracy: 0.9849\n",
      "Epoch 18/250\n",
      "469/469 [==============================] - 3s 7ms/step - loss: 0.0547 - accuracy: 0.9849\n",
      "Epoch 19/250\n",
      "469/469 [==============================] - 3s 7ms/step - loss: 0.0526 - accuracy: 0.9859\n",
      "Epoch 20/250\n",
      "469/469 [==============================] - 3s 7ms/step - loss: 0.0498 - accuracy: 0.9864\n",
      "Epoch 21/250\n",
      "469/469 [==============================] - 3s 6ms/step - loss: 0.0456 - accuracy: 0.9878\n",
      "Epoch 22/250\n",
      "469/469 [==============================] - 3s 6ms/step - loss: 0.0410 - accuracy: 0.9888\n",
      "Epoch 23/250\n",
      "469/469 [==============================] - 3s 6ms/step - loss: 0.0417 - accuracy: 0.9887\n",
      "Epoch 24/250\n",
      "469/469 [==============================] - 3s 7ms/step - loss: 0.0370 - accuracy: 0.9897\n",
      "Epoch 25/250\n",
      "469/469 [==============================] - 3s 6ms/step - loss: 0.0356 - accuracy: 0.9905\n",
      "Epoch 26/250\n",
      "469/469 [==============================] - 3s 6ms/step - loss: 0.0339 - accuracy: 0.9906\n",
      "Epoch 27/250\n",
      "469/469 [==============================] - 3s 6ms/step - loss: 0.0335 - accuracy: 0.9906\n",
      "Epoch 28/250\n",
      "469/469 [==============================] - 3s 6ms/step - loss: 0.0311 - accuracy: 0.9913\n",
      "Epoch 29/250\n",
      "469/469 [==============================] - 3s 7ms/step - loss: 0.0301 - accuracy: 0.9918\n",
      "Epoch 30/250\n",
      "469/469 [==============================] - 3s 6ms/step - loss: 0.0287 - accuracy: 0.9920\n",
      "Epoch 31/250\n",
      "469/469 [==============================] - 3s 7ms/step - loss: 0.0259 - accuracy: 0.9927\n",
      "Epoch 32/250\n",
      "469/469 [==============================] - 3s 6ms/step - loss: 0.0241 - accuracy: 0.9933\n",
      "Epoch 33/250\n",
      "469/469 [==============================] - 3s 6ms/step - loss: 0.0252 - accuracy: 0.9928\n",
      "Epoch 34/250\n",
      "469/469 [==============================] - 3s 7ms/step - loss: 0.0241 - accuracy: 0.9931\n",
      "Epoch 35/250\n",
      "469/469 [==============================] - 3s 6ms/step - loss: 0.0229 - accuracy: 0.9937\n",
      "Epoch 36/250\n",
      "469/469 [==============================] - 3s 6ms/step - loss: 0.0216 - accuracy: 0.9939\n",
      "Epoch 37/250\n",
      "469/469 [==============================] - 3s 7ms/step - loss: 0.0207 - accuracy: 0.9942\n",
      "Epoch 38/250\n",
      "469/469 [==============================] - 3s 7ms/step - loss: 0.0209 - accuracy: 0.9941\n",
      "Epoch 39/250\n",
      "469/469 [==============================] - 3s 7ms/step - loss: 0.0193 - accuracy: 0.9947\n",
      "Epoch 40/250\n",
      "469/469 [==============================] - 3s 6ms/step - loss: 0.0186 - accuracy: 0.9947\n",
      "Epoch 41/250\n",
      "469/469 [==============================] - 3s 6ms/step - loss: 0.0179 - accuracy: 0.9945\n",
      "Epoch 42/250\n",
      "469/469 [==============================] - 3s 6ms/step - loss: 0.0182 - accuracy: 0.9948\n",
      "Epoch 43/250\n",
      "469/469 [==============================] - 3s 6ms/step - loss: 0.0163 - accuracy: 0.9953\n",
      "Epoch 44/250\n",
      "469/469 [==============================] - 3s 6ms/step - loss: 0.0173 - accuracy: 0.9950\n",
      "Epoch 45/250\n",
      "469/469 [==============================] - 3s 7ms/step - loss: 0.0163 - accuracy: 0.9952\n",
      "Epoch 46/250\n",
      "469/469 [==============================] - 3s 6ms/step - loss: 0.0131 - accuracy: 0.9962\n",
      "Epoch 47/250\n",
      "469/469 [==============================] - 3s 6ms/step - loss: 0.0160 - accuracy: 0.9959\n",
      "Epoch 48/250\n",
      "469/469 [==============================] - 3s 6ms/step - loss: 0.0140 - accuracy: 0.9959\n",
      "Epoch 49/250\n",
      "469/469 [==============================] - 3s 6ms/step - loss: 0.0143 - accuracy: 0.9955\n",
      "Epoch 50/250\n",
      "469/469 [==============================] - 3s 7ms/step - loss: 0.0140 - accuracy: 0.9959\n",
      "Epoch 51/250\n",
      "469/469 [==============================] - 3s 6ms/step - loss: 0.0138 - accuracy: 0.9963\n",
      "Epoch 52/250\n",
      "469/469 [==============================] - 3s 6ms/step - loss: 0.0131 - accuracy: 0.9964\n",
      "Epoch 53/250\n",
      "469/469 [==============================] - 3s 6ms/step - loss: 0.0131 - accuracy: 0.9962\n",
      "Epoch 54/250\n",
      "469/469 [==============================] - 3s 6ms/step - loss: 0.0126 - accuracy: 0.9967\n",
      "Epoch 55/250\n",
      "469/469 [==============================] - 3s 7ms/step - loss: 0.0115 - accuracy: 0.9967\n",
      "Epoch 56/250\n",
      "469/469 [==============================] - 3s 6ms/step - loss: 0.0103 - accuracy: 0.9971\n",
      "Epoch 57/250\n",
      "469/469 [==============================] - 3s 6ms/step - loss: 0.0107 - accuracy: 0.9966\n",
      "Epoch 58/250\n",
      "469/469 [==============================] - 3s 6ms/step - loss: 0.0106 - accuracy: 0.9966\n",
      "Epoch 59/250\n",
      "469/469 [==============================] - 3s 7ms/step - loss: 0.0103 - accuracy: 0.9971\n",
      "Epoch 60/250\n",
      "469/469 [==============================] - 3s 7ms/step - loss: 0.0112 - accuracy: 0.9968\n",
      "Epoch 61/250\n",
      "469/469 [==============================] - 3s 7ms/step - loss: 0.0109 - accuracy: 0.9972\n",
      "Epoch 62/250\n",
      "469/469 [==============================] - 3s 7ms/step - loss: 0.0096 - accuracy: 0.9973\n",
      "Epoch 63/250\n",
      "469/469 [==============================] - 3s 6ms/step - loss: 0.0098 - accuracy: 0.9973\n",
      "Epoch 64/250\n",
      "469/469 [==============================] - 3s 6ms/step - loss: 0.0096 - accuracy: 0.9972\n",
      "Epoch 65/250\n",
      "469/469 [==============================] - 3s 6ms/step - loss: 0.0087 - accuracy: 0.9976\n",
      "Epoch 66/250\n",
      "469/469 [==============================] - 3s 7ms/step - loss: 0.0088 - accuracy: 0.9978\n",
      "Epoch 67/250\n",
      "469/469 [==============================] - 3s 6ms/step - loss: 0.0091 - accuracy: 0.9975\n",
      "Epoch 68/250\n",
      "469/469 [==============================] - 3s 6ms/step - loss: 0.0086 - accuracy: 0.9974\n",
      "Epoch 69/250\n",
      "469/469 [==============================] - 3s 7ms/step - loss: 0.0093 - accuracy: 0.9974\n",
      "Epoch 70/250\n",
      "469/469 [==============================] - 3s 6ms/step - loss: 0.0083 - accuracy: 0.9976\n",
      "Epoch 71/250\n",
      "469/469 [==============================] - 3s 7ms/step - loss: 0.0083 - accuracy: 0.9980\n",
      "Epoch 72/250\n",
      "469/469 [==============================] - 3s 6ms/step - loss: 0.0086 - accuracy: 0.9977\n",
      "Epoch 73/250\n",
      "469/469 [==============================] - 3s 6ms/step - loss: 0.0091 - accuracy: 0.9972\n",
      "Epoch 74/250\n",
      "469/469 [==============================] - 3s 6ms/step - loss: 0.0085 - accuracy: 0.9976\n",
      "Epoch 75/250\n",
      "469/469 [==============================] - 3s 6ms/step - loss: 0.0076 - accuracy: 0.9978\n",
      "Epoch 76/250\n",
      "469/469 [==============================] - 3s 7ms/step - loss: 0.0081 - accuracy: 0.9977\n",
      "Epoch 77/250\n",
      "469/469 [==============================] - 3s 6ms/step - loss: 0.0070 - accuracy: 0.9979\n",
      "Epoch 78/250\n",
      "469/469 [==============================] - 3s 6ms/step - loss: 0.0085 - accuracy: 0.9976\n",
      "Epoch 79/250\n",
      "469/469 [==============================] - 3s 7ms/step - loss: 0.0072 - accuracy: 0.9978\n",
      "Epoch 80/250\n",
      "469/469 [==============================] - 3s 6ms/step - loss: 0.0065 - accuracy: 0.9982\n",
      "Epoch 81/250\n",
      "469/469 [==============================] - 3s 7ms/step - loss: 0.0078 - accuracy: 0.9979\n",
      "Epoch 82/250\n",
      "469/469 [==============================] - 3s 6ms/step - loss: 0.0078 - accuracy: 0.9978\n",
      "Epoch 83/250\n",
      "469/469 [==============================] - 3s 7ms/step - loss: 0.0077 - accuracy: 0.9979\n",
      "Epoch 84/250\n",
      "469/469 [==============================] - 3s 6ms/step - loss: 0.0078 - accuracy: 0.9979\n",
      "Epoch 85/250\n",
      "469/469 [==============================] - 3s 6ms/step - loss: 0.0065 - accuracy: 0.9981\n",
      "Epoch 86/250\n",
      "469/469 [==============================] - 3s 7ms/step - loss: 0.0068 - accuracy: 0.9981\n",
      "Epoch 87/250\n",
      "469/469 [==============================] - 3s 7ms/step - loss: 0.0062 - accuracy: 0.9983\n",
      "Epoch 88/250\n",
      "469/469 [==============================] - 3s 6ms/step - loss: 0.0059 - accuracy: 0.9984\n",
      "Epoch 89/250\n",
      "469/469 [==============================] - 3s 6ms/step - loss: 0.0067 - accuracy: 0.9980\n",
      "Epoch 90/250\n",
      "469/469 [==============================] - 3s 6ms/step - loss: 0.0064 - accuracy: 0.9982\n",
      "Epoch 91/250\n",
      "469/469 [==============================] - 3s 6ms/step - loss: 0.0071 - accuracy: 0.9980\n",
      "Epoch 92/250\n",
      "469/469 [==============================] - 3s 7ms/step - loss: 0.0057 - accuracy: 0.9983\n",
      "Epoch 93/250\n",
      "469/469 [==============================] - 3s 6ms/step - loss: 0.0058 - accuracy: 0.9984\n",
      "Epoch 94/250\n",
      "469/469 [==============================] - 3s 6ms/step - loss: 0.0064 - accuracy: 0.9983\n",
      "Epoch 95/250\n",
      "469/469 [==============================] - 3s 6ms/step - loss: 0.0066 - accuracy: 0.9982\n",
      "Epoch 96/250\n",
      "469/469 [==============================] - 3s 6ms/step - loss: 0.0054 - accuracy: 0.9985\n",
      "Epoch 97/250\n",
      "469/469 [==============================] - 3s 7ms/step - loss: 0.0057 - accuracy: 0.9983\n",
      "Epoch 98/250\n",
      "469/469 [==============================] - 3s 6ms/step - loss: 0.0063 - accuracy: 0.9984\n",
      "Epoch 99/250\n",
      "469/469 [==============================] - 3s 6ms/step - loss: 0.0056 - accuracy: 0.9984\n",
      "Epoch 100/250\n",
      "469/469 [==============================] - 3s 6ms/step - loss: 0.0062 - accuracy: 0.9984\n",
      "Epoch 101/250\n",
      "469/469 [==============================] - 3s 6ms/step - loss: 0.0051 - accuracy: 0.9986\n",
      "Epoch 102/250\n",
      "469/469 [==============================] - 3s 6ms/step - loss: 0.0057 - accuracy: 0.9982\n",
      "Epoch 103/250\n",
      "469/469 [==============================] - 3s 7ms/step - loss: 0.0053 - accuracy: 0.9985\n",
      "Epoch 104/250\n",
      "469/469 [==============================] - 3s 7ms/step - loss: 0.0054 - accuracy: 0.9984\n",
      "Epoch 105/250\n",
      "469/469 [==============================] - 3s 7ms/step - loss: 0.0051 - accuracy: 0.9985\n",
      "Epoch 106/250\n",
      "469/469 [==============================] - 3s 7ms/step - loss: 0.0054 - accuracy: 0.9987\n",
      "Epoch 107/250\n",
      "469/469 [==============================] - 3s 6ms/step - loss: 0.0045 - accuracy: 0.9987\n",
      "Epoch 108/250\n",
      "469/469 [==============================] - 3s 7ms/step - loss: 0.0062 - accuracy: 0.9982\n",
      "Epoch 109/250\n",
      "469/469 [==============================] - 3s 6ms/step - loss: 0.0058 - accuracy: 0.9984\n",
      "Epoch 110/250\n",
      "469/469 [==============================] - 3s 7ms/step - loss: 0.0046 - accuracy: 0.9988\n",
      "Epoch 111/250\n",
      "469/469 [==============================] - 3s 6ms/step - loss: 0.0054 - accuracy: 0.9985\n",
      "Epoch 112/250\n",
      "469/469 [==============================] - 3s 6ms/step - loss: 0.0049 - accuracy: 0.9985\n",
      "Epoch 113/250\n",
      "469/469 [==============================] - 3s 7ms/step - loss: 0.0047 - accuracy: 0.9988\n",
      "Epoch 114/250\n",
      "469/469 [==============================] - 3s 7ms/step - loss: 0.0051 - accuracy: 0.9986\n",
      "Epoch 115/250\n",
      "469/469 [==============================] - 3s 6ms/step - loss: 0.0042 - accuracy: 0.9988\n",
      "Epoch 116/250\n",
      "469/469 [==============================] - 3s 7ms/step - loss: 0.0047 - accuracy: 0.9988\n",
      "Epoch 117/250\n",
      "469/469 [==============================] - 3s 6ms/step - loss: 0.0058 - accuracy: 0.9986\n",
      "Epoch 118/250\n",
      "469/469 [==============================] - 3s 7ms/step - loss: 0.0050 - accuracy: 0.9986\n",
      "Epoch 119/250\n",
      "469/469 [==============================] - 3s 7ms/step - loss: 0.0057 - accuracy: 0.9986\n",
      "Epoch 120/250\n",
      "469/469 [==============================] - 3s 6ms/step - loss: 0.0052 - accuracy: 0.9986\n",
      "Epoch 121/250\n",
      "469/469 [==============================] - 3s 7ms/step - loss: 0.0044 - accuracy: 0.9988\n",
      "Epoch 122/250\n",
      "469/469 [==============================] - 3s 6ms/step - loss: 0.0050 - accuracy: 0.9987\n",
      "Epoch 123/250\n",
      "469/469 [==============================] - 3s 7ms/step - loss: 0.0045 - accuracy: 0.9988\n",
      "Epoch 124/250\n",
      "469/469 [==============================] - 3s 7ms/step - loss: 0.0052 - accuracy: 0.9987\n",
      "Epoch 125/250\n",
      "469/469 [==============================] - 3s 6ms/step - loss: 0.0041 - accuracy: 0.9989\n",
      "Epoch 126/250\n",
      "469/469 [==============================] - 3s 7ms/step - loss: 0.0047 - accuracy: 0.9987\n",
      "Epoch 127/250\n",
      "469/469 [==============================] - 3s 7ms/step - loss: 0.0045 - accuracy: 0.9988\n",
      "Epoch 128/250\n",
      "469/469 [==============================] - 3s 7ms/step - loss: 0.0044 - accuracy: 0.9987\n",
      "Epoch 129/250\n",
      "469/469 [==============================] - 3s 6ms/step - loss: 0.0043 - accuracy: 0.9989\n",
      "Epoch 130/250\n",
      "469/469 [==============================] - 3s 7ms/step - loss: 0.0038 - accuracy: 0.9989\n",
      "Epoch 131/250\n",
      "469/469 [==============================] - 3s 7ms/step - loss: 0.0052 - accuracy: 0.9986\n",
      "Epoch 132/250\n",
      "469/469 [==============================] - 3s 6ms/step - loss: 0.0037 - accuracy: 0.9991\n",
      "Epoch 133/250\n",
      "469/469 [==============================] - 3s 7ms/step - loss: 0.0037 - accuracy: 0.9988\n",
      "Epoch 134/250\n",
      "469/469 [==============================] - 3s 6ms/step - loss: 0.0042 - accuracy: 0.9988\n",
      "Epoch 135/250\n",
      "469/469 [==============================] - 3s 6ms/step - loss: 0.0050 - accuracy: 0.9987\n",
      "Epoch 136/250\n",
      "469/469 [==============================] - 3s 6ms/step - loss: 0.0042 - accuracy: 0.9990\n",
      "Epoch 137/250\n",
      "469/469 [==============================] - 3s 6ms/step - loss: 0.0042 - accuracy: 0.9988\n",
      "Epoch 138/250\n",
      "469/469 [==============================] - 3s 6ms/step - loss: 0.0044 - accuracy: 0.9986\n",
      "Epoch 139/250\n",
      "469/469 [==============================] - 3s 7ms/step - loss: 0.0029 - accuracy: 0.9991\n",
      "Epoch 140/250\n",
      "469/469 [==============================] - 3s 7ms/step - loss: 0.0044 - accuracy: 0.9987\n",
      "Epoch 141/250\n",
      "469/469 [==============================] - 3s 7ms/step - loss: 0.0041 - accuracy: 0.9988\n",
      "Epoch 142/250\n",
      "469/469 [==============================] - 3s 6ms/step - loss: 0.0034 - accuracy: 0.9989\n",
      "Epoch 143/250\n",
      "469/469 [==============================] - 3s 6ms/step - loss: 0.0034 - accuracy: 0.9991\n",
      "Epoch 144/250\n",
      "469/469 [==============================] - 3s 7ms/step - loss: 0.0038 - accuracy: 0.9991\n",
      "Epoch 145/250\n",
      "469/469 [==============================] - 3s 7ms/step - loss: 0.0040 - accuracy: 0.9990\n",
      "Epoch 146/250\n",
      "469/469 [==============================] - 3s 7ms/step - loss: 0.0040 - accuracy: 0.9991\n",
      "Epoch 147/250\n",
      "469/469 [==============================] - 3s 7ms/step - loss: 0.0038 - accuracy: 0.9990\n",
      "Epoch 148/250\n",
      "469/469 [==============================] - 3s 7ms/step - loss: 0.0033 - accuracy: 0.9991\n",
      "Epoch 149/250\n",
      "469/469 [==============================] - 3s 7ms/step - loss: 0.0036 - accuracy: 0.9989\n",
      "Epoch 150/250\n",
      "469/469 [==============================] - 3s 6ms/step - loss: 0.0051 - accuracy: 0.9986\n",
      "Epoch 151/250\n",
      "469/469 [==============================] - 3s 6ms/step - loss: 0.0033 - accuracy: 0.9991\n",
      "Epoch 152/250\n",
      "469/469 [==============================] - 3s 6ms/step - loss: 0.0040 - accuracy: 0.9989\n",
      "Epoch 153/250\n",
      "469/469 [==============================] - 3s 6ms/step - loss: 0.0044 - accuracy: 0.9988\n",
      "Epoch 154/250\n",
      "469/469 [==============================] - 3s 7ms/step - loss: 0.0042 - accuracy: 0.9986\n",
      "Epoch 155/250\n",
      "469/469 [==============================] - 3s 6ms/step - loss: 0.0035 - accuracy: 0.9990\n",
      "Epoch 156/250\n",
      "469/469 [==============================] - 3s 6ms/step - loss: 0.0032 - accuracy: 0.9993\n",
      "Epoch 157/250\n",
      "469/469 [==============================] - 3s 7ms/step - loss: 0.0032 - accuracy: 0.9991\n",
      "Epoch 158/250\n",
      "469/469 [==============================] - 3s 7ms/step - loss: 0.0038 - accuracy: 0.9990\n",
      "Epoch 159/250\n",
      "469/469 [==============================] - 3s 7ms/step - loss: 0.0034 - accuracy: 0.9991\n",
      "Epoch 160/250\n",
      "469/469 [==============================] - 3s 7ms/step - loss: 0.0035 - accuracy: 0.9992\n",
      "Epoch 161/250\n",
      "469/469 [==============================] - 3s 6ms/step - loss: 0.0031 - accuracy: 0.9991\n",
      "Epoch 162/250\n",
      "469/469 [==============================] - 3s 6ms/step - loss: 0.0032 - accuracy: 0.9991\n",
      "Epoch 163/250\n",
      "469/469 [==============================] - 3s 7ms/step - loss: 0.0037 - accuracy: 0.9991\n",
      "Epoch 164/250\n",
      "469/469 [==============================] - 3s 7ms/step - loss: 0.0041 - accuracy: 0.9989\n",
      "Epoch 165/250\n",
      "469/469 [==============================] - 3s 7ms/step - loss: 0.0034 - accuracy: 0.9991\n",
      "Epoch 166/250\n",
      "469/469 [==============================] - 3s 7ms/step - loss: 0.0038 - accuracy: 0.9991\n",
      "Epoch 167/250\n",
      "469/469 [==============================] - 3s 7ms/step - loss: 0.0031 - accuracy: 0.9991\n",
      "Epoch 168/250\n",
      "469/469 [==============================] - 3s 7ms/step - loss: 0.0034 - accuracy: 0.9991\n",
      "Epoch 169/250\n",
      "469/469 [==============================] - 3s 7ms/step - loss: 0.0040 - accuracy: 0.9991\n",
      "Epoch 170/250\n",
      "469/469 [==============================] - 3s 7ms/step - loss: 0.0030 - accuracy: 0.9991\n",
      "Epoch 171/250\n",
      "469/469 [==============================] - 3s 7ms/step - loss: 0.0037 - accuracy: 0.9989\n",
      "Epoch 172/250\n",
      "469/469 [==============================] - 3s 6ms/step - loss: 0.0033 - accuracy: 0.9993\n",
      "Epoch 173/250\n",
      "469/469 [==============================] - 3s 7ms/step - loss: 0.0033 - accuracy: 0.9992\n",
      "Epoch 174/250\n",
      "469/469 [==============================] - 3s 7ms/step - loss: 0.0026 - accuracy: 0.9993\n",
      "Epoch 175/250\n",
      "469/469 [==============================] - 3s 7ms/step - loss: 0.0032 - accuracy: 0.9991\n",
      "Epoch 176/250\n",
      "469/469 [==============================] - 3s 6ms/step - loss: 0.0038 - accuracy: 0.9990\n",
      "Epoch 177/250\n",
      "469/469 [==============================] - 3s 6ms/step - loss: 0.0035 - accuracy: 0.9990\n",
      "Epoch 178/250\n",
      "469/469 [==============================] - 3s 6ms/step - loss: 0.0032 - accuracy: 0.9991\n",
      "Epoch 179/250\n",
      "469/469 [==============================] - 3s 6ms/step - loss: 0.0033 - accuracy: 0.9991\n",
      "Epoch 180/250\n",
      "469/469 [==============================] - 3s 7ms/step - loss: 0.0036 - accuracy: 0.9992\n",
      "Epoch 181/250\n",
      "469/469 [==============================] - 3s 6ms/step - loss: 0.0025 - accuracy: 0.9994\n",
      "Epoch 182/250\n",
      "469/469 [==============================] - 3s 6ms/step - loss: 0.0033 - accuracy: 0.9993\n",
      "Epoch 183/250\n",
      "469/469 [==============================] - 3s 6ms/step - loss: 0.0036 - accuracy: 0.9988\n",
      "Epoch 184/250\n",
      "469/469 [==============================] - 3s 6ms/step - loss: 0.0029 - accuracy: 0.9991\n",
      "Epoch 185/250\n",
      "469/469 [==============================] - 3s 7ms/step - loss: 0.0033 - accuracy: 0.9991\n",
      "Epoch 186/250\n",
      "469/469 [==============================] - 3s 7ms/step - loss: 0.0029 - accuracy: 0.9992\n",
      "Epoch 187/250\n",
      "469/469 [==============================] - 3s 7ms/step - loss: 0.0029 - accuracy: 0.9992\n",
      "Epoch 188/250\n",
      "469/469 [==============================] - 3s 7ms/step - loss: 0.0031 - accuracy: 0.9992\n",
      "Epoch 189/250\n",
      "469/469 [==============================] - 4s 7ms/step - loss: 0.0032 - accuracy: 0.9992\n",
      "Epoch 190/250\n",
      "469/469 [==============================] - 3s 7ms/step - loss: 0.0033 - accuracy: 0.9991\n",
      "Epoch 191/250\n",
      "469/469 [==============================] - 3s 7ms/step - loss: 0.0035 - accuracy: 0.9990\n",
      "Epoch 192/250\n",
      "469/469 [==============================] - 3s 6ms/step - loss: 0.0028 - accuracy: 0.9993\n",
      "Epoch 193/250\n",
      "469/469 [==============================] - 3s 6ms/step - loss: 0.0025 - accuracy: 0.9992\n",
      "Epoch 194/250\n",
      "469/469 [==============================] - 3s 6ms/step - loss: 0.0035 - accuracy: 0.9990\n",
      "Epoch 195/250\n",
      "469/469 [==============================] - 3s 7ms/step - loss: 0.0034 - accuracy: 0.9992\n",
      "Epoch 196/250\n",
      "469/469 [==============================] - 3s 6ms/step - loss: 0.0029 - accuracy: 0.9993\n",
      "Epoch 197/250\n",
      "469/469 [==============================] - 3s 6ms/step - loss: 0.0033 - accuracy: 0.9992\n",
      "Epoch 198/250\n",
      "469/469 [==============================] - 3s 6ms/step - loss: 0.0034 - accuracy: 0.9991\n",
      "Epoch 199/250\n",
      "469/469 [==============================] - 3s 6ms/step - loss: 0.0025 - accuracy: 0.9993\n",
      "Epoch 200/250\n",
      "469/469 [==============================] - 3s 7ms/step - loss: 0.0025 - accuracy: 0.9993\n",
      "Epoch 201/250\n",
      "469/469 [==============================] - 3s 7ms/step - loss: 0.0035 - accuracy: 0.9991\n",
      "Epoch 202/250\n",
      "469/469 [==============================] - 3s 7ms/step - loss: 0.0033 - accuracy: 0.9991\n",
      "Epoch 203/250\n",
      "469/469 [==============================] - 3s 7ms/step - loss: 0.0025 - accuracy: 0.9994\n",
      "Epoch 204/250\n",
      "469/469 [==============================] - 3s 7ms/step - loss: 0.0037 - accuracy: 0.9992\n",
      "Epoch 205/250\n",
      "469/469 [==============================] - 3s 7ms/step - loss: 0.0020 - accuracy: 0.9995\n",
      "Epoch 206/250\n",
      "469/469 [==============================] - 3s 7ms/step - loss: 0.0030 - accuracy: 0.9992\n",
      "Epoch 207/250\n",
      "469/469 [==============================] - 5s 10ms/step - loss: 0.0024 - accuracy: 0.9993\n",
      "Epoch 208/250\n",
      "469/469 [==============================] - 5s 11ms/step - loss: 0.0028 - accuracy: 0.9992\n",
      "Epoch 209/250\n",
      "469/469 [==============================] - 5s 11ms/step - loss: 0.0027 - accuracy: 0.9993\n",
      "Epoch 210/250\n",
      "469/469 [==============================] - 5s 11ms/step - loss: 0.0031 - accuracy: 0.9992\n",
      "Epoch 211/250\n",
      "469/469 [==============================] - 5s 11ms/step - loss: 0.0021 - accuracy: 0.9994\n",
      "Epoch 212/250\n",
      "469/469 [==============================] - 5s 11ms/step - loss: 0.0029 - accuracy: 0.9992\n",
      "Epoch 213/250\n",
      "469/469 [==============================] - 5s 11ms/step - loss: 0.0035 - accuracy: 0.9990\n",
      "Epoch 214/250\n",
      "469/469 [==============================] - 5s 11ms/step - loss: 0.0026 - accuracy: 0.9993\n",
      "Epoch 215/250\n",
      "469/469 [==============================] - 5s 11ms/step - loss: 0.0023 - accuracy: 0.9993\n",
      "Epoch 216/250\n",
      "469/469 [==============================] - 5s 11ms/step - loss: 0.0027 - accuracy: 0.9993\n",
      "Epoch 217/250\n",
      "469/469 [==============================] - 5s 11ms/step - loss: 0.0024 - accuracy: 0.9992\n",
      "Epoch 218/250\n",
      "469/469 [==============================] - 4s 9ms/step - loss: 0.0022 - accuracy: 0.9994\n",
      "Epoch 219/250\n",
      "469/469 [==============================] - 3s 5ms/step - loss: 0.0029 - accuracy: 0.9993\n",
      "Epoch 220/250\n",
      "469/469 [==============================] - 2s 5ms/step - loss: 0.0024 - accuracy: 0.9995\n",
      "Epoch 221/250\n",
      "469/469 [==============================] - 3s 7ms/step - loss: 0.0031 - accuracy: 0.9992\n",
      "Epoch 222/250\n",
      "469/469 [==============================] - 4s 9ms/step - loss: 0.0022 - accuracy: 0.9995\n",
      "Epoch 223/250\n",
      "469/469 [==============================] - 5s 11ms/step - loss: 0.0024 - accuracy: 0.9992\n",
      "Epoch 224/250\n",
      "469/469 [==============================] - 5s 11ms/step - loss: 0.0028 - accuracy: 0.9992\n",
      "Epoch 225/250\n",
      "469/469 [==============================] - 5s 11ms/step - loss: 0.0025 - accuracy: 0.9993\n",
      "Epoch 226/250\n",
      "469/469 [==============================] - 5s 11ms/step - loss: 0.0028 - accuracy: 0.9993\n",
      "Epoch 227/250\n",
      "469/469 [==============================] - 5s 12ms/step - loss: 0.0026 - accuracy: 0.9992\n",
      "Epoch 228/250\n",
      "469/469 [==============================] - 5s 12ms/step - loss: 0.0026 - accuracy: 0.9992\n",
      "Epoch 229/250\n",
      "469/469 [==============================] - 5s 11ms/step - loss: 0.0024 - accuracy: 0.9994\n",
      "Epoch 230/250\n",
      "469/469 [==============================] - 5s 11ms/step - loss: 0.0030 - accuracy: 0.9992\n",
      "Epoch 231/250\n",
      "469/469 [==============================] - 5s 11ms/step - loss: 0.0026 - accuracy: 0.9994\n",
      "Epoch 232/250\n",
      "469/469 [==============================] - 5s 11ms/step - loss: 0.0019 - accuracy: 0.9996\n",
      "Epoch 233/250\n",
      "469/469 [==============================] - 5s 11ms/step - loss: 0.0028 - accuracy: 0.9992\n",
      "Epoch 234/250\n",
      "469/469 [==============================] - 5s 11ms/step - loss: 0.0020 - accuracy: 0.9995\n",
      "Epoch 235/250\n",
      "469/469 [==============================] - 5s 11ms/step - loss: 0.0022 - accuracy: 0.9994\n",
      "Epoch 236/250\n",
      "469/469 [==============================] - 5s 11ms/step - loss: 0.0019 - accuracy: 0.9994\n",
      "Epoch 237/250\n",
      "469/469 [==============================] - 5s 11ms/step - loss: 0.0023 - accuracy: 0.9993\n",
      "Epoch 238/250\n",
      "469/469 [==============================] - 5s 11ms/step - loss: 0.0029 - accuracy: 0.9994\n",
      "Epoch 239/250\n",
      "469/469 [==============================] - 5s 11ms/step - loss: 0.0023 - accuracy: 0.9994\n",
      "Epoch 240/250\n",
      "469/469 [==============================] - 5s 11ms/step - loss: 0.0027 - accuracy: 0.9991\n",
      "Epoch 241/250\n",
      "469/469 [==============================] - 6s 12ms/step - loss: 0.0028 - accuracy: 0.9994\n",
      "Epoch 242/250\n",
      "469/469 [==============================] - 5s 12ms/step - loss: 0.0018 - accuracy: 0.9995\n",
      "Epoch 243/250\n",
      "469/469 [==============================] - 6s 12ms/step - loss: 0.0023 - accuracy: 0.9994\n",
      "Epoch 244/250\n",
      "469/469 [==============================] - 6s 12ms/step - loss: 0.0021 - accuracy: 0.9995\n",
      "Epoch 245/250\n",
      "469/469 [==============================] - 6s 12ms/step - loss: 0.0026 - accuracy: 0.9992\n",
      "Epoch 246/250\n",
      "469/469 [==============================] - 6s 12ms/step - loss: 0.0021 - accuracy: 0.9994\n",
      "Epoch 247/250\n",
      "469/469 [==============================] - 6s 12ms/step - loss: 0.0026 - accuracy: 0.9991\n",
      "Epoch 248/250\n",
      "469/469 [==============================] - 6s 12ms/step - loss: 0.0023 - accuracy: 0.9994\n",
      "Epoch 249/250\n",
      "469/469 [==============================] - 6s 12ms/step - loss: 0.0019 - accuracy: 0.9995\n",
      "Epoch 250/250\n",
      "469/469 [==============================] - 6s 12ms/step - loss: 0.0022 - accuracy: 0.9995\n",
      "313/313 [==============================] - 1s 4ms/step - loss: 0.1562 - accuracy: 0.9858\n",
      "test_acc: 0.98580002784729\n"
     ]
    }
   ],
   "source": [
    "# Using 4 hidden layer with 512,128,32 and 8 neurons with the relu activation function. \n",
    "# The output layer has 10 neurons and uses the softmax activation function. We used the adamax optimizer and categorical_crossentropy for the loss function. \n",
    "# We ran the network with a batch size of 128 and epoch's of 250 to get an accuracy of 98.58% \n",
    "tf.compat.v1.set_random_seed(411)\n",
    "\n",
    "network7 = Sequential()\n",
    "network7.add(Dense(512, activation='relu', input_shape=(28 * 28,)))\n",
    "network7.add(Dropout(0.25))\n",
    "network7.add(Dense(128, activation='relu'))\n",
    "network7.add(Dropout(0.25))\n",
    "network7.add(Dense(32, activation='relu'))\n",
    "network7.add(Dropout(0.25))\n",
    "network7.add(Dense(8, activation='relu'))\n",
    "network7.add(Dense(10, activation='softmax'))\n",
    "\n",
    "network.summary()\n",
    "\n",
    "network7.compile(optimizer='adamax',\n",
    "                loss='categorical_crossentropy',\n",
    "                metrics=['accuracy'])\n",
    "\n",
    "history = network7.fit(train_images, train_labels, epochs=250, batch_size=128, verbose=1)\n",
    "\n",
    "test_loss, test_acc = network7.evaluate(test_images, test_labels)\n",
    "print('test_acc:', test_acc)"
   ]
  },
  {
   "cell_type": "code",
   "execution_count": null,
   "metadata": {},
   "outputs": [],
   "source": []
  }
 ],
 "metadata": {
  "kernelspec": {
   "display_name": "Python 3",
   "language": "python",
   "name": "python3"
  },
  "language_info": {
   "codemirror_mode": {
    "name": "ipython",
    "version": 3
   },
   "file_extension": ".py",
   "mimetype": "text/x-python",
   "name": "python",
   "nbconvert_exporter": "python",
   "pygments_lexer": "ipython3",
   "version": "3.8.5"
  }
 },
 "nbformat": 4,
 "nbformat_minor": 4
}
